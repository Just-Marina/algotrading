{
 "cells": [
  {
   "cell_type": "code",
   "execution_count": 1,
   "metadata": {},
   "outputs": [
    {
     "data": {
      "text/plain": [
       "True"
      ]
     },
     "execution_count": 1,
     "metadata": {},
     "output_type": "execute_result"
    }
   ],
   "source": [
    "import numpy as np\n",
    "import pandas as pd\n",
    "import MetaTrader5 as mt5\n",
    "import matplotlib.pyplot as plt\n",
    "import plotly.graph_objects as go\n",
    "from datetime import datetime, timedelta\n",
    "from statsmodels.tsa.stattools import adfuller, kpss\n",
    "import seaborn as sns\n",
    "from sklearn.ensemble import RandomForestRegressor\n",
    "from sklearn.model_selection import GridSearchCV\n",
    "from sklearn.tree import DecisionTreeClassifier\n",
    "from sklearn.decomposition import PCA \n",
    "from sklearn.metrics import make_scorer\n",
    "from sklearn.preprocessing import StandardScaler\n",
    "import pandas_datareader as pdr\n",
    "import ta\n",
    "\n",
    "import warnings\n",
    "warnings.filterwarnings(\"ignore\")\n",
    "\n",
    "import estimation\n",
    "\n",
    "pd.set_option('display.max_rows', 30)\n",
    "pd.set_option('display.max_columns', None)\n",
    "pd.options.display.float_format = '{:.5f}'.format\n",
    "\n",
    "mt5.initialize()\n"
   ]
  },
  {
   "cell_type": "markdown",
   "metadata": {},
   "source": [
    "# Импорт списка доступных инструментов          \n",
    "Выбираю активы с низким спредом"
   ]
  },
  {
   "cell_type": "code",
   "execution_count": 2,
   "metadata": {},
   "outputs": [
    {
     "name": "stdout",
     "output_type": "stream",
     "text": [
      "Извлечено 94 символов\n",
      "Найдено 71 активов с низким спредом ниже 0.0007\n"
     ]
    }
   ],
   "source": [
    "def extract_symbols_info():\n",
    "    \"\"\"Извлечение информации о символах и создание df\"\"\"\n",
    "    symbols = []\n",
    "    sectors = []\n",
    "    descriptions = []\n",
    "    symbols_info = mt5.symbols_get()\n",
    "    symbols_info_list = list(symbols_info)\n",
    "    \n",
    "    for element in symbols_info_list:\n",
    "        symbols.append(list(element)[-3])\n",
    "        sectors.append(list(element)[-1].split(\"\\\\\")[0])\n",
    "        descriptions.append(list(element)[-7])\n",
    "    \n",
    "    info_df = pd.DataFrame({\n",
    "        \"Symbol\": symbols,\n",
    "        \"Sector\": sectors,\n",
    "        \"Description\": descriptions\n",
    "    })\n",
    "    \n",
    "    print(f\"Извлечено {len(symbols)} символов\")\n",
    "    return info_df\n",
    "\n",
    "def calculate_spread(info_df):\n",
    "    \"\"\"Расчет спреда для каждого символа\"\"\"\n",
    "    spreads = []\n",
    "    \n",
    "    for symbol in info_df[\"Symbol\"]:\n",
    "        try:\n",
    "            tick_info = mt5.symbol_info_tick(symbol)\n",
    "            if tick_info is not None:\n",
    "                ask = tick_info.ask\n",
    "                bid = tick_info.bid\n",
    "                spread = (ask - bid) / bid\n",
    "                spreads.append(spread)\n",
    "            else:\n",
    "                spreads.append(None)\n",
    "                print(f\"Нет спреда по символу: {symbol}\")\n",
    "        except Exception as e:\n",
    "            print(f\"Ошибка получения информации по символу {symbol}: {e}\")\n",
    "            spreads.append(None)\n",
    "    \n",
    "    info_df[\"Spread\"] = spreads\n",
    "    return info_df\n",
    "\n",
    "def filter_low_spread(info_df, threshold=0.0007):\n",
    "    \"\"\"Фильтрация активов со спредом ниже указанного порога\"\"\"\n",
    "    low_spread_assets = info_df.dropna().loc[info_df[\"Spread\"] < threshold]\n",
    "    low_spread_assets = low_spread_assets.sort_values(by=\"Spread\")\n",
    "    print(f\"Найдено {len(low_spread_assets)} активов с низким спредом ниже {threshold}\")\n",
    "    return low_spread_assets\n",
    "\n",
    "# Основной блок выполнения кода\n",
    "informations = extract_symbols_info()\n",
    "informations_with_spread = calculate_spread(informations)\n",
    "low_spread = filter_low_spread(informations_with_spread)"
   ]
  },
  {
   "cell_type": "markdown",
   "metadata": {},
   "source": [
    "# Функция загрузки данных"
   ]
  },
  {
   "cell_type": "code",
   "execution_count": 3,
   "metadata": {},
   "outputs": [],
   "source": [
    "def get_rates(symbol, n, timeframe=mt5.TIMEFRAME_D1):\n",
    "    \"\"\"Функция, которая возвращает данные по символу\"\"\"\n",
    "    \n",
    "    # Инициализация устройства MetaTrader\n",
    "    mt5.initialize()\n",
    "    \n",
    "    # Получение данных в df\n",
    "    utc_from = datetime.now() + timedelta(hours=3)  # Текущее время терминала\n",
    "    data = mt5.copy_rates_from(symbol, timeframe, utc_from, n)  \n",
    "    rates_frame = pd.DataFrame(data)  \n",
    "    \n",
    "    # Преобразование времени из секунд в формат datetime\n",
    "    rates_frame['time'] = pd.to_datetime(rates_frame['time'], unit='s')  \n",
    "    rates_frame['time'] = pd.to_datetime(rates_frame['time'], format='%Y-%m-%d')  \n",
    "    rates_frame['month'] = rates_frame['time'].dt.month  \n",
    "    rates_frame['year'] = rates_frame['time'].dt.year  \n",
    "    rates_frame = rates_frame.set_index('time')  \n",
    "    rates_frame.dropna(inplace=True)  \n",
    "\n",
    "    # Вычисление первой цены открытия каждого месяца и года\n",
    "    rates_frame['first_open_month'] = rates_frame.groupby(['year', 'month'])['open'].transform('first')\n",
    "    rates_frame['first_open_year'] = rates_frame.groupby(['year'])['open'].transform('first')\n",
    "    # Вычисление сезонных отклонений\n",
    "    rates_frame['seasons_month'] = ((rates_frame [\"open\"] - rates_frame[\"first_open_year\"]) / rates_frame[\"first_open_year\"] * 100)\n",
    "    rates_frame['seasons_year'] = ((rates_frame [\"open\"] - rates_frame[\"first_open_month\"]) / rates_frame[\"first_open_month\"] * 100)\n",
    "\n",
    "    # Вставка символа в df\n",
    "    rates_frame.insert(0, 'symbol', symbol)\n",
    " \n",
    "    # Удаление ненужных столбцов\n",
    "    rates_frame.drop(['spread', 'real_volume', 'month', 'first_open_month', 'first_open_year'], axis=1, inplace=True)\n",
    "\n",
    "    # Подсчет количества записей для каждого года\n",
    "    year_counts = rates_frame['year'].value_counts()\n",
    "    # Отбор годов, в которых количество записей меньше 250 или больше 270, за исключением текущего года\n",
    "    years_to_remove = year_counts[((year_counts < 250) | (year_counts > 270)) & (year_counts.index != datetime.now().year)].index\n",
    "    # Удаление строк с этими годами из df\n",
    "    rates_frame = rates_frame[~rates_frame['year'].isin(years_to_remove)]\n",
    "\n",
    "    return rates_frame\n"
   ]
  },
  {
   "cell_type": "markdown",
   "metadata": {},
   "source": [
    "Для теста загружу данные по EURUSD"
   ]
  },
  {
   "cell_type": "code",
   "execution_count": 4,
   "metadata": {},
   "outputs": [],
   "source": [
    "eur = get_rates('EURUSD', 4000)"
   ]
  },
  {
   "cell_type": "code",
   "execution_count": 5,
   "metadata": {},
   "outputs": [
    {
     "data": {
      "text/html": [
       "<div>\n",
       "<style scoped>\n",
       "    .dataframe tbody tr th:only-of-type {\n",
       "        vertical-align: middle;\n",
       "    }\n",
       "\n",
       "    .dataframe tbody tr th {\n",
       "        vertical-align: top;\n",
       "    }\n",
       "\n",
       "    .dataframe thead th {\n",
       "        text-align: right;\n",
       "    }\n",
       "</style>\n",
       "<table border=\"1\" class=\"dataframe\">\n",
       "  <thead>\n",
       "    <tr style=\"text-align: right;\">\n",
       "      <th></th>\n",
       "      <th>symbol</th>\n",
       "      <th>open</th>\n",
       "      <th>high</th>\n",
       "      <th>low</th>\n",
       "      <th>close</th>\n",
       "      <th>tick_volume</th>\n",
       "      <th>year</th>\n",
       "      <th>seasons_month</th>\n",
       "      <th>seasons_year</th>\n",
       "    </tr>\n",
       "    <tr>\n",
       "      <th>time</th>\n",
       "      <th></th>\n",
       "      <th></th>\n",
       "      <th></th>\n",
       "      <th></th>\n",
       "      <th></th>\n",
       "      <th></th>\n",
       "      <th></th>\n",
       "      <th></th>\n",
       "      <th></th>\n",
       "    </tr>\n",
       "  </thead>\n",
       "  <tbody>\n",
       "    <tr>\n",
       "      <th>2013-01-02</th>\n",
       "      <td>EURUSD</td>\n",
       "      <td>1.32660</td>\n",
       "      <td>1.32930</td>\n",
       "      <td>1.31560</td>\n",
       "      <td>1.31860</td>\n",
       "      <td>87728</td>\n",
       "      <td>2013</td>\n",
       "      <td>0.00000</td>\n",
       "      <td>0.00000</td>\n",
       "    </tr>\n",
       "    <tr>\n",
       "      <th>2013-01-03</th>\n",
       "      <td>EURUSD</td>\n",
       "      <td>1.31860</td>\n",
       "      <td>1.31900</td>\n",
       "      <td>1.30470</td>\n",
       "      <td>1.30490</td>\n",
       "      <td>101869</td>\n",
       "      <td>2013</td>\n",
       "      <td>-0.60305</td>\n",
       "      <td>-0.60305</td>\n",
       "    </tr>\n",
       "    <tr>\n",
       "      <th>2013-01-04</th>\n",
       "      <td>EURUSD</td>\n",
       "      <td>1.30480</td>\n",
       "      <td>1.30890</td>\n",
       "      <td>1.29970</td>\n",
       "      <td>1.30650</td>\n",
       "      <td>103903</td>\n",
       "      <td>2013</td>\n",
       "      <td>-1.64330</td>\n",
       "      <td>-1.64330</td>\n",
       "    </tr>\n",
       "    <tr>\n",
       "      <th>2013-01-07</th>\n",
       "      <td>EURUSD</td>\n",
       "      <td>1.30750</td>\n",
       "      <td>1.31190</td>\n",
       "      <td>1.30170</td>\n",
       "      <td>1.31160</td>\n",
       "      <td>101842</td>\n",
       "      <td>2013</td>\n",
       "      <td>-1.43977</td>\n",
       "      <td>-1.43977</td>\n",
       "    </tr>\n",
       "    <tr>\n",
       "      <th>2013-01-08</th>\n",
       "      <td>EURUSD</td>\n",
       "      <td>1.31160</td>\n",
       "      <td>1.31400</td>\n",
       "      <td>1.30560</td>\n",
       "      <td>1.30810</td>\n",
       "      <td>103145</td>\n",
       "      <td>2013</td>\n",
       "      <td>-1.13071</td>\n",
       "      <td>-1.13071</td>\n",
       "    </tr>\n",
       "    <tr>\n",
       "      <th>...</th>\n",
       "      <td>...</td>\n",
       "      <td>...</td>\n",
       "      <td>...</td>\n",
       "      <td>...</td>\n",
       "      <td>...</td>\n",
       "      <td>...</td>\n",
       "      <td>...</td>\n",
       "      <td>...</td>\n",
       "      <td>...</td>\n",
       "    </tr>\n",
       "    <tr>\n",
       "      <th>2024-08-21</th>\n",
       "      <td>EURUSD</td>\n",
       "      <td>1.11279</td>\n",
       "      <td>1.11735</td>\n",
       "      <td>1.10976</td>\n",
       "      <td>1.11506</td>\n",
       "      <td>73796</td>\n",
       "      <td>2024</td>\n",
       "      <td>1.00296</td>\n",
       "      <td>2.79815</td>\n",
       "    </tr>\n",
       "    <tr>\n",
       "      <th>2024-08-22</th>\n",
       "      <td>EURUSD</td>\n",
       "      <td>1.11496</td>\n",
       "      <td>1.11642</td>\n",
       "      <td>1.10976</td>\n",
       "      <td>1.11107</td>\n",
       "      <td>70520</td>\n",
       "      <td>2024</td>\n",
       "      <td>1.19992</td>\n",
       "      <td>2.99861</td>\n",
       "    </tr>\n",
       "    <tr>\n",
       "      <th>2024-08-23</th>\n",
       "      <td>EURUSD</td>\n",
       "      <td>1.11097</td>\n",
       "      <td>1.12003</td>\n",
       "      <td>1.11050</td>\n",
       "      <td>1.11928</td>\n",
       "      <td>75128</td>\n",
       "      <td>2024</td>\n",
       "      <td>0.83777</td>\n",
       "      <td>2.63002</td>\n",
       "    </tr>\n",
       "    <tr>\n",
       "      <th>2024-08-26</th>\n",
       "      <td>EURUSD</td>\n",
       "      <td>1.11877</td>\n",
       "      <td>1.12011</td>\n",
       "      <td>1.11494</td>\n",
       "      <td>1.11606</td>\n",
       "      <td>78067</td>\n",
       "      <td>2024</td>\n",
       "      <td>1.54574</td>\n",
       "      <td>3.35058</td>\n",
       "    </tr>\n",
       "    <tr>\n",
       "      <th>2024-08-27</th>\n",
       "      <td>EURUSD</td>\n",
       "      <td>1.11602</td>\n",
       "      <td>1.11781</td>\n",
       "      <td>1.11496</td>\n",
       "      <td>1.11546</td>\n",
       "      <td>35668</td>\n",
       "      <td>2024</td>\n",
       "      <td>1.29613</td>\n",
       "      <td>3.09654</td>\n",
       "    </tr>\n",
       "  </tbody>\n",
       "</table>\n",
       "<p>3025 rows × 9 columns</p>\n",
       "</div>"
      ],
      "text/plain": [
       "            symbol    open    high     low   close  tick_volume  year  \\\n",
       "time                                                                    \n",
       "2013-01-02  EURUSD 1.32660 1.32930 1.31560 1.31860        87728  2013   \n",
       "2013-01-03  EURUSD 1.31860 1.31900 1.30470 1.30490       101869  2013   \n",
       "2013-01-04  EURUSD 1.30480 1.30890 1.29970 1.30650       103903  2013   \n",
       "2013-01-07  EURUSD 1.30750 1.31190 1.30170 1.31160       101842  2013   \n",
       "2013-01-08  EURUSD 1.31160 1.31400 1.30560 1.30810       103145  2013   \n",
       "...            ...     ...     ...     ...     ...          ...   ...   \n",
       "2024-08-21  EURUSD 1.11279 1.11735 1.10976 1.11506        73796  2024   \n",
       "2024-08-22  EURUSD 1.11496 1.11642 1.10976 1.11107        70520  2024   \n",
       "2024-08-23  EURUSD 1.11097 1.12003 1.11050 1.11928        75128  2024   \n",
       "2024-08-26  EURUSD 1.11877 1.12011 1.11494 1.11606        78067  2024   \n",
       "2024-08-27  EURUSD 1.11602 1.11781 1.11496 1.11546        35668  2024   \n",
       "\n",
       "            seasons_month  seasons_year  \n",
       "time                                     \n",
       "2013-01-02        0.00000       0.00000  \n",
       "2013-01-03       -0.60305      -0.60305  \n",
       "2013-01-04       -1.64330      -1.64330  \n",
       "2013-01-07       -1.43977      -1.43977  \n",
       "2013-01-08       -1.13071      -1.13071  \n",
       "...                   ...           ...  \n",
       "2024-08-21        1.00296       2.79815  \n",
       "2024-08-22        1.19992       2.99861  \n",
       "2024-08-23        0.83777       2.63002  \n",
       "2024-08-26        1.54574       3.35058  \n",
       "2024-08-27        1.29613       3.09654  \n",
       "\n",
       "[3025 rows x 9 columns]"
      ]
     },
     "execution_count": 5,
     "metadata": {},
     "output_type": "execute_result"
    }
   ],
   "source": [
    "eur"
   ]
  },
  {
   "cell_type": "markdown",
   "metadata": {},
   "source": [
    "# Проверка ряда на стационарность\n",
    "\n",
    "Различные модели обучения опираются на стационарность данных, поскольку это одна из основ статистического моделирования, обеспечения стабильности статистических свойств временного ряда. В финансовой сфере временные ряды цен не являются стационарными, поскольку они демонстрируют тенденции с изменяющейся дисперсией (волатильностью). \n",
    "\n",
    "\n",
    "**Проведу проверку стационарности ряда EURUSD по тестам ADF и KPSS.**\n",
    "Тест ADF имеет нулевую гипотезу, утверждающую нестационарность, и альтернативную гипотезу, утверждающую стационарность. Данный тест проверяет наличие единичного корня во временном ряде.\n",
    "\n",
    "Тест KPSS имеет нулевую гипотезу, утверждающую стационарность, и альтернативную гипотезу, утверждающую нестационарность. Данный тест проверяет стационарность относительно детерминированного тренда, то есть будет ли ряд стацонарен, если убрать компоненту тренда."
   ]
  },
  {
   "cell_type": "code",
   "execution_count": 6,
   "metadata": {},
   "outputs": [
    {
     "name": "stdout",
     "output_type": "stream",
     "text": [
      "ADF-test p-value: 0.259790 > 0.05, Есть единичные корни - ряд нестационарный\n",
      "KPSS-test p-value: 0.010000 < 0.05, Есть единичные корни - ряд нестационарный\n"
     ]
    }
   ],
   "source": [
    "def stationarity(ts):\n",
    "\n",
    "    adf_test = adfuller(ts)\n",
    "    kpss_test = kpss(ts, regression = 'ct')\n",
    "\n",
    "    if adf_test[0] > adf_test[4]['5%']:\n",
    "        print('ADF-test p-value: %f' % adf_test[1], '> 0.05, Есть единичные корни - ряд нестационарный') # 100% верно\n",
    "    else:\n",
    "        print('ADF-test p-value: %f' % adf_test[1], '< 0.05, Единичных корней нет, ряд стационарен') # не всегда верно\n",
    "\n",
    "    if kpss_test[0] > kpss_test[3]['5%']:\n",
    "        print('KPSS-test p-value: %f' % kpss_test[1], '< 0.05, Есть единичные корни - ряд нестационарный') # 100% верно\n",
    "    else:\n",
    "        print('KPSS-test p-value: %f' % kpss_test[1], '> 0.05, Единичных корней нет, ряд стационарен') # не всегда верно\n",
    "\n",
    "\n",
    "stationarity(eur['close'])\n"
   ]
  },
  {
   "cell_type": "markdown",
   "metadata": {},
   "source": [
    "Так как ряд нестационарен, то его необходимо привести к стационарному. Для этого добавлю новую переменную **returns**, рассчитанную как процентное отклонение текущей цены закрытия от предыдущей цены закрытия      "
   ]
  },
  {
   "cell_type": "code",
   "execution_count": 7,
   "metadata": {},
   "outputs": [],
   "source": [
    "eur['returns'] = eur['close'].pct_change()"
   ]
  },
  {
   "cell_type": "markdown",
   "metadata": {},
   "source": [
    "Также дополнительно проверю полученный ряд на стационарность"
   ]
  },
  {
   "cell_type": "code",
   "execution_count": 8,
   "metadata": {},
   "outputs": [
    {
     "name": "stdout",
     "output_type": "stream",
     "text": [
      "ADF-test p-value: 0.000000 < 0.05, Единичных корней нет, ряд стационарен\n",
      "KPSS-test p-value: 0.100000 > 0.05, Единичных корней нет, ряд стационарен\n"
     ]
    }
   ],
   "source": [
    "stationarity(eur['returns'].dropna())"
   ]
  },
  {
   "cell_type": "markdown",
   "metadata": {},
   "source": [
    "# Функция расчёта сезонности            \n",
    "\n",
    "На годовых отрезках рассчитаю сезонные колебания цен. За точку отсчёта возьму начало каждого года, а также начало каждого месяца. Сезонность рассчитаю как относительное отклонение от цены открытия на начало месяца/года."
   ]
  },
  {
   "cell_type": "code",
   "execution_count": 9,
   "metadata": {},
   "outputs": [],
   "source": [
    "def calculate_seasonal_averages(dataframe, periods=[2, 5], seas_col_names=['seasons_year', 'seasons_month']):\n",
    "  \"\"\"\n",
    "  Эта функция рассчитывает среднее значение указанного столбца (seas_col_names) за \n",
    "  указанное количество предыдущих лет (periods) для колонок с рассчитанным отклонением цен (seas_col_names) \n",
    "  для каждого года в данных (dataframe).\n",
    "\n",
    "  Args:\n",
    "      df (pandas.DataFrame): Исходные данные.\n",
    "      periods (list, optional): Список периодов, за которые нужно считать среднее. \n",
    "          По умолчанию [2, 5].\n",
    "      seas_col_names (list, optional): Список названий столбцов с рассчитанными \n",
    "      ранее отклонениями цен. \n",
    "          По умолчанию ['seasons_year', 'seasons_month'].\n",
    "\n",
    "  Returns:\n",
    "      pandas.DataFrame: Исходные данные с добавленными столбцами для среднего значения \n",
    "          за каждый период по сезонам.\n",
    "  \"\"\"\n",
    "  df= dataframe.copy()\n",
    "  for p in periods:\n",
    "    cnt_iter = len(df.year.unique()) - p  # Число итераций по годам\n",
    "\n",
    "    for s_col_name in seas_col_names:\n",
    "      years = np.sort(df.year.unique())[::-1]\n",
    "      new_col_name = f'avg_{p}Y_{s_col_name}_predict'\n",
    "      df[new_col_name] = np.nan  # Добавляем новый столбец с пустыми значениями\n",
    "\n",
    "      for i in years[:cnt_iter]:\n",
    "        # Фильтруем данные по текущему году\n",
    "        df_y = pd.DataFrame(df[df.year == i].index)\n",
    "        years = years[1:]\n",
    "\n",
    "        # Используем срез years[1:] для выбора предыдущих p лет \n",
    "        # (кроме текущего года для избежания утечки данных)\n",
    "        for j in range(p):\n",
    "          df_y[f'{years[j]}_dates'] = pd.Series(\n",
    "              df[df.year == years[j]].index[:len(df_y)], index=df_y.index[:len(df[df.year == years[j]])]\n",
    "          ).reindex(df_y.index)\n",
    "\n",
    "          # Объединяем даты по текущему году и данныe из предыдущих p лет\n",
    "          df_y = pd.merge(\n",
    "              left=df_y,\n",
    "              right=df[s_col_name],\n",
    "              how='left',\n",
    "              left_on=df_y[f'{years[j]}_dates'],\n",
    "              right_index=True,\n",
    "              suffixes=(None, f'_{years[j]}')\n",
    "          )\n",
    "\n",
    "        # Удаляем строки с пустыми значениями\n",
    "        df_y.dropna(inplace=True)\n",
    "\n",
    "        # Рассчитываем усреднённое отклонение цен за последние p лет\n",
    "        df_y[new_col_name] = df_y.filter(like=s_col_name).sum(axis=1) / p\n",
    "        df_y.index = df_y.time\n",
    "        df_y.drop('time', axis=1, inplace=True)\n",
    "\n",
    "        # Обновляем исходные данные, добавляя среднее значение для текущего года\n",
    "        df.loc[df_y.index, new_col_name] = df_y[new_col_name]\n",
    "\n",
    "  return df\n"
   ]
  },
  {
   "cell_type": "markdown",
   "metadata": {},
   "source": [
    "Рассчитаю сезонное усреднение от 2 до 5 лет"
   ]
  },
  {
   "cell_type": "code",
   "execution_count": 10,
   "metadata": {},
   "outputs": [
    {
     "name": "stdout",
     "output_type": "stream",
     "text": [
      "<class 'pandas.core.frame.DataFrame'>\n",
      "DatetimeIndex: 3025 entries, 2013-01-02 to 2024-08-27\n",
      "Data columns (total 18 columns):\n",
      " #   Column                        Non-Null Count  Dtype  \n",
      "---  ------                        --------------  -----  \n",
      " 0   symbol                        3025 non-null   object \n",
      " 1   open                          3025 non-null   float64\n",
      " 2   high                          3025 non-null   float64\n",
      " 3   low                           3025 non-null   float64\n",
      " 4   close                         3025 non-null   float64\n",
      " 5   tick_volume                   3025 non-null   uint64 \n",
      " 6   year                          3025 non-null   int64  \n",
      " 7   seasons_month                 3025 non-null   float64\n",
      " 8   seasons_year                  3025 non-null   float64\n",
      " 9   returns                       3024 non-null   float64\n",
      " 10  avg_2Y_seasons_year_predict   2503 non-null   float64\n",
      " 11  avg_2Y_seasons_month_predict  2503 non-null   float64\n",
      " 12  avg_3Y_seasons_year_predict   2243 non-null   float64\n",
      " 13  avg_3Y_seasons_month_predict  2243 non-null   float64\n",
      " 14  avg_4Y_seasons_year_predict   1984 non-null   float64\n",
      " 15  avg_4Y_seasons_month_predict  1984 non-null   float64\n",
      " 16  avg_5Y_seasons_year_predict   1725 non-null   float64\n",
      " 17  avg_5Y_seasons_month_predict  1725 non-null   float64\n",
      "dtypes: float64(15), int64(1), object(1), uint64(1)\n",
      "memory usage: 513.6+ KB\n"
     ]
    }
   ],
   "source": [
    "eur_seas = calculate_seasonal_averages(eur, periods=[2, 3, 4, 5])\n",
    "eur_seas.info()"
   ]
  },
  {
   "cell_type": "code",
   "execution_count": 11,
   "metadata": {},
   "outputs": [
    {
     "data": {
      "text/plain": [
       "<Axes: >"
      ]
     },
     "execution_count": 11,
     "metadata": {},
     "output_type": "execute_result"
    },
    {
     "data": {
      "image/png": "[encoded data removed]",
      "text/plain": [
       "<Figure size 640x480 with 2 Axes>"
      ]
     },
     "metadata": {},
     "output_type": "display_data"
    }
   ],
   "source": [
    "corr = eur_seas.dropna().iloc[:, 10:].corr()\n",
    "\n",
    "sns.heatmap(corr, annot=True,cmap='viridis')\n"
   ]
  },
  {
   "cell_type": "markdown",
   "metadata": {},
   "source": [
    "В итоговом датасете оставлю значения для 2 и 5 лет (наименьшая корреляция), рассчитанные для месячной и годовой точек отсчёта."
   ]
  },
  {
   "cell_type": "code",
   "execution_count": 12,
   "metadata": {},
   "outputs": [
    {
     "data": {
      "text/html": [
       "<div>\n",
       "<style scoped>\n",
       "    .dataframe tbody tr th:only-of-type {\n",
       "        vertical-align: middle;\n",
       "    }\n",
       "\n",
       "    .dataframe tbody tr th {\n",
       "        vertical-align: top;\n",
       "    }\n",
       "\n",
       "    .dataframe thead th {\n",
       "        text-align: right;\n",
       "    }\n",
       "</style>\n",
       "<table border=\"1\" class=\"dataframe\">\n",
       "  <thead>\n",
       "    <tr style=\"text-align: right;\">\n",
       "      <th></th>\n",
       "      <th>symbol</th>\n",
       "      <th>open</th>\n",
       "      <th>high</th>\n",
       "      <th>low</th>\n",
       "      <th>close</th>\n",
       "      <th>tick_volume</th>\n",
       "      <th>year</th>\n",
       "      <th>seasons_month</th>\n",
       "      <th>seasons_year</th>\n",
       "      <th>returns</th>\n",
       "      <th>avg_2Y_seasons_year_predict</th>\n",
       "      <th>avg_2Y_seasons_month_predict</th>\n",
       "      <th>avg_5Y_seasons_year_predict</th>\n",
       "      <th>avg_5Y_seasons_month_predict</th>\n",
       "    </tr>\n",
       "    <tr>\n",
       "      <th>time</th>\n",
       "      <th></th>\n",
       "      <th></th>\n",
       "      <th></th>\n",
       "      <th></th>\n",
       "      <th></th>\n",
       "      <th></th>\n",
       "      <th></th>\n",
       "      <th></th>\n",
       "      <th></th>\n",
       "      <th></th>\n",
       "      <th></th>\n",
       "      <th></th>\n",
       "      <th></th>\n",
       "      <th></th>\n",
       "    </tr>\n",
       "  </thead>\n",
       "  <tbody>\n",
       "    <tr>\n",
       "      <th>2013-01-02</th>\n",
       "      <td>EURUSD</td>\n",
       "      <td>1.32660</td>\n",
       "      <td>1.32930</td>\n",
       "      <td>1.31560</td>\n",
       "      <td>1.31860</td>\n",
       "      <td>87728</td>\n",
       "      <td>2013</td>\n",
       "      <td>0.00000</td>\n",
       "      <td>0.00000</td>\n",
       "      <td>NaN</td>\n",
       "      <td>NaN</td>\n",
       "      <td>NaN</td>\n",
       "      <td>NaN</td>\n",
       "      <td>NaN</td>\n",
       "    </tr>\n",
       "    <tr>\n",
       "      <th>2013-01-03</th>\n",
       "      <td>EURUSD</td>\n",
       "      <td>1.31860</td>\n",
       "      <td>1.31900</td>\n",
       "      <td>1.30470</td>\n",
       "      <td>1.30490</td>\n",
       "      <td>101869</td>\n",
       "      <td>2013</td>\n",
       "      <td>-0.60305</td>\n",
       "      <td>-0.60305</td>\n",
       "      <td>-0.01039</td>\n",
       "      <td>NaN</td>\n",
       "      <td>NaN</td>\n",
       "      <td>NaN</td>\n",
       "      <td>NaN</td>\n",
       "    </tr>\n",
       "    <tr>\n",
       "      <th>2013-01-04</th>\n",
       "      <td>EURUSD</td>\n",
       "      <td>1.30480</td>\n",
       "      <td>1.30890</td>\n",
       "      <td>1.29970</td>\n",
       "      <td>1.30650</td>\n",
       "      <td>103903</td>\n",
       "      <td>2013</td>\n",
       "      <td>-1.64330</td>\n",
       "      <td>-1.64330</td>\n",
       "      <td>0.00123</td>\n",
       "      <td>NaN</td>\n",
       "      <td>NaN</td>\n",
       "      <td>NaN</td>\n",
       "      <td>NaN</td>\n",
       "    </tr>\n",
       "    <tr>\n",
       "      <th>2013-01-07</th>\n",
       "      <td>EURUSD</td>\n",
       "      <td>1.30750</td>\n",
       "      <td>1.31190</td>\n",
       "      <td>1.30170</td>\n",
       "      <td>1.31160</td>\n",
       "      <td>101842</td>\n",
       "      <td>2013</td>\n",
       "      <td>-1.43977</td>\n",
       "      <td>-1.43977</td>\n",
       "      <td>0.00390</td>\n",
       "      <td>NaN</td>\n",
       "      <td>NaN</td>\n",
       "      <td>NaN</td>\n",
       "      <td>NaN</td>\n",
       "    </tr>\n",
       "    <tr>\n",
       "      <th>2013-01-08</th>\n",
       "      <td>EURUSD</td>\n",
       "      <td>1.31160</td>\n",
       "      <td>1.31400</td>\n",
       "      <td>1.30560</td>\n",
       "      <td>1.30810</td>\n",
       "      <td>103145</td>\n",
       "      <td>2013</td>\n",
       "      <td>-1.13071</td>\n",
       "      <td>-1.13071</td>\n",
       "      <td>-0.00267</td>\n",
       "      <td>NaN</td>\n",
       "      <td>NaN</td>\n",
       "      <td>NaN</td>\n",
       "      <td>NaN</td>\n",
       "    </tr>\n",
       "  </tbody>\n",
       "</table>\n",
       "</div>"
      ],
      "text/plain": [
       "            symbol    open    high     low   close  tick_volume  year  \\\n",
       "time                                                                    \n",
       "2013-01-02  EURUSD 1.32660 1.32930 1.31560 1.31860        87728  2013   \n",
       "2013-01-03  EURUSD 1.31860 1.31900 1.30470 1.30490       101869  2013   \n",
       "2013-01-04  EURUSD 1.30480 1.30890 1.29970 1.30650       103903  2013   \n",
       "2013-01-07  EURUSD 1.30750 1.31190 1.30170 1.31160       101842  2013   \n",
       "2013-01-08  EURUSD 1.31160 1.31400 1.30560 1.30810       103145  2013   \n",
       "\n",
       "            seasons_month  seasons_year  returns  avg_2Y_seasons_year_predict  \\\n",
       "time                                                                            \n",
       "2013-01-02        0.00000       0.00000      NaN                          NaN   \n",
       "2013-01-03       -0.60305      -0.60305 -0.01039                          NaN   \n",
       "2013-01-04       -1.64330      -1.64330  0.00123                          NaN   \n",
       "2013-01-07       -1.43977      -1.43977  0.00390                          NaN   \n",
       "2013-01-08       -1.13071      -1.13071 -0.00267                          NaN   \n",
       "\n",
       "            avg_2Y_seasons_month_predict  avg_5Y_seasons_year_predict  \\\n",
       "time                                                                    \n",
       "2013-01-02                           NaN                          NaN   \n",
       "2013-01-03                           NaN                          NaN   \n",
       "2013-01-04                           NaN                          NaN   \n",
       "2013-01-07                           NaN                          NaN   \n",
       "2013-01-08                           NaN                          NaN   \n",
       "\n",
       "            avg_5Y_seasons_month_predict  \n",
       "time                                      \n",
       "2013-01-02                           NaN  \n",
       "2013-01-03                           NaN  \n",
       "2013-01-04                           NaN  \n",
       "2013-01-07                           NaN  \n",
       "2013-01-08                           NaN  "
      ]
     },
     "execution_count": 12,
     "metadata": {},
     "output_type": "execute_result"
    }
   ],
   "source": [
    "del eur_seas\n",
    "df = calculate_seasonal_averages(eur)\n",
    "df.head()"
   ]
  },
  {
   "cell_type": "markdown",
   "metadata": {},
   "source": [
    "\n",
    "Графики сезонных колебаний цен\n"
   ]
  },
  {
   "cell_type": "code",
   "execution_count": 13,
   "metadata": {},
   "outputs": [
    {
     "data": {
      "application/vnd.plotly.v1+json": {
       "config": {
        "plotlyServerURL": "https://plot.ly"
       },
       "data": [
        {
         "line": {
          "color": "FireBrick",
          "width": 2
         },
         "marker": {
          "size": 3
         },
         "mode": "lines+markers",
         "name": "avg_2Y_seasons_year",
         "type": "scatter",
         "x": [
          "2023-01-02T00:00:00",
          "2023-01-03T00:00:00",
          "2023-01-04T00:00:00",
          "2023-01-05T00:00:00",
          "2023-01-06T00:00:00",
          "2023-01-09T00:00:00",
          "2023-01-10T00:00:00",
          "2023-01-11T00:00:00",
          "2023-01-12T00:00:00",
          "2023-01-13T00:00:00",
          "2023-01-16T00:00:00",
          "2023-01-17T00:00:00",
          "2023-01-18T00:00:00",
          "2023-01-19T00:00:00",
          "2023-01-20T00:00:00",
          "2023-01-23T00:00:00",
          "2023-01-24T00:00:00",
          "2023-01-25T00:00:00",
          "2023-01-26T00:00:00",
          "2023-01-27T00:00:00",
          "2023-01-30T00:00:00",
          "2023-01-31T00:00:00",
          "2023-02-01T00:00:00",
          "2023-02-02T00:00:00",
          "2023-02-03T00:00:00",
          "2023-02-06T00:00:00",
          "2023-02-07T00:00:00",
          "2023-02-08T00:00:00",
          "2023-02-09T00:00:00",
          "2023-02-10T00:00:00",
          "2023-02-13T00:00:00",
          "2023-02-14T00:00:00",
          "2023-02-15T00:00:00",
          "2023-02-16T00:00:00",
          "2023-02-17T00:00:00",
          "2023-02-20T00:00:00",
          "2023-02-21T00:00:00",
          "2023-02-22T00:00:00",
          "2023-02-23T00:00:00",
          "2023-02-24T00:00:00",
          "2023-02-27T00:00:00",
          "2023-02-28T00:00:00",
          "2023-03-01T00:00:00",
          "2023-03-02T00:00:00",
          "2023-03-03T00:00:00",
          "2023-03-06T00:00:00",
          "2023-03-07T00:00:00",
          "2023-03-08T00:00:00",
          "2023-03-09T00:00:00",
          "2023-03-10T00:00:00",
          "2023-03-13T00:00:00",
          "2023-03-14T00:00:00",
          "2023-03-15T00:00:00",
          "2023-03-16T00:00:00",
          "2023-03-17T00:00:00",
          "2023-03-20T00:00:00",
          "2023-03-21T00:00:00",
          "2023-03-22T00:00:00",
          "2023-03-23T00:00:00",
          "2023-03-24T00:00:00",
          "2023-03-27T00:00:00",
          "2023-03-28T00:00:00",
          "2023-03-29T00:00:00",
          "2023-03-30T00:00:00",
          "2023-03-31T00:00:00",
          "2023-04-03T00:00:00",
          "2023-04-04T00:00:00",
          "2023-04-05T00:00:00",
          "2023-04-06T00:00:00",
          "2023-04-07T00:00:00",
          "2023-04-10T00:00:00",
          "2023-04-11T00:00:00",
          "2023-04-12T00:00:00",
          "2023-04-13T00:00:00",
          "2023-04-14T00:00:00",
          "2023-04-17T00:00:00",
          "2023-04-18T00:00:00",
          "2023-04-19T00:00:00",
          "2023-04-20T00:00:00",
          "2023-04-21T00:00:00",
          "2023-04-24T00:00:00",
          "2023-04-25T00:00:00",
          "2023-04-26T00:00:00",
          "2023-04-27T00:00:00",
          "2023-04-28T00:00:00",
          "2023-05-01T00:00:00",
          "2023-05-02T00:00:00",
          "2023-05-03T00:00:00",
          "2023-05-04T00:00:00",
          "2023-05-05T00:00:00",
          "2023-05-08T00:00:00",
          "2023-05-09T00:00:00",
          "2023-05-10T00:00:00",
          "2023-05-11T00:00:00",
          "2023-05-12T00:00:00",
          "2023-05-15T00:00:00",
          "2023-05-16T00:00:00",
          "2023-05-17T00:00:00",
          "2023-05-18T00:00:00",
          "2023-05-19T00:00:00",
          "2023-05-22T00:00:00",
          "2023-05-23T00:00:00",
          "2023-05-24T00:00:00",
          "2023-05-25T00:00:00",
          "2023-05-26T00:00:00",
          "2023-05-29T00:00:00",
          "2023-05-30T00:00:00",
          "2023-05-31T00:00:00",
          "2023-06-01T00:00:00",
          "2023-06-02T00:00:00",
          "2023-06-05T00:00:00",
          "2023-06-06T00:00:00",
          "2023-06-07T00:00:00",
          "2023-06-08T00:00:00",
          "2023-06-09T00:00:00",
          "2023-06-12T00:00:00",
          "2023-06-13T00:00:00",
          "2023-06-14T00:00:00",
          "2023-06-15T00:00:00",
          "2023-06-16T00:00:00",
          "2023-06-19T00:00:00",
          "2023-06-20T00:00:00",
          "2023-06-21T00:00:00",
          "2023-06-22T00:00:00",
          "2023-06-23T00:00:00",
          "2023-06-26T00:00:00",
          "2023-06-27T00:00:00",
          "2023-06-28T00:00:00",
          "2023-06-29T00:00:00",
          "2023-06-30T00:00:00",
          "2023-07-03T00:00:00",
          "2023-07-04T00:00:00",
          "2023-07-05T00:00:00",
          "2023-07-06T00:00:00",
          "2023-07-07T00:00:00",
          "2023-07-10T00:00:00",
          "2023-07-11T00:00:00",
          "2023-07-12T00:00:00",
          "2023-07-13T00:00:00",
          "2023-07-14T00:00:00",
          "2023-07-17T00:00:00",
          "2023-07-18T00:00:00",
          "2023-07-19T00:00:00",
          "2023-07-20T00:00:00",
          "2023-07-21T00:00:00",
          "2023-07-24T00:00:00",
          "2023-07-25T00:00:00",
          "2023-07-26T00:00:00",
          "2023-07-27T00:00:00",
          "2023-07-28T00:00:00",
          "2023-07-31T00:00:00",
          "2023-08-01T00:00:00",
          "2023-08-02T00:00:00",
          "2023-08-03T00:00:00",
          "2023-08-04T00:00:00",
          "2023-08-07T00:00:00",
          "2023-08-08T00:00:00",
          "2023-08-09T00:00:00",
          "2023-08-10T00:00:00",
          "2023-08-11T00:00:00",
          "2023-08-14T00:00:00",
          "2023-08-15T00:00:00",
          "2023-08-16T00:00:00",
          "2023-08-17T00:00:00",
          "2023-08-18T00:00:00",
          "2023-08-21T00:00:00",
          "2023-08-22T00:00:00",
          "2023-08-23T00:00:00",
          "2023-08-24T00:00:00",
          "2023-08-25T00:00:00",
          "2023-08-28T00:00:00",
          "2023-08-29T00:00:00",
          "2023-08-30T00:00:00",
          "2023-08-31T00:00:00",
          "2023-09-01T00:00:00",
          "2023-09-04T00:00:00",
          "2023-09-05T00:00:00",
          "2023-09-06T00:00:00",
          "2023-09-07T00:00:00",
          "2023-09-08T00:00:00",
          "2023-09-11T00:00:00",
          "2023-09-12T00:00:00",
          "2023-09-13T00:00:00",
          "2023-09-14T00:00:00",
          "2023-09-15T00:00:00",
          "2023-09-18T00:00:00",
          "2023-09-19T00:00:00",
          "2023-09-20T00:00:00",
          "2023-09-21T00:00:00",
          "2023-09-22T00:00:00",
          "2023-09-25T00:00:00",
          "2023-09-26T00:00:00",
          "2023-09-27T00:00:00",
          "2023-09-28T00:00:00",
          "2023-09-29T00:00:00",
          "2023-10-02T00:00:00",
          "2023-10-03T00:00:00",
          "2023-10-04T00:00:00",
          "2023-10-05T00:00:00",
          "2023-10-06T00:00:00",
          "2023-10-09T00:00:00",
          "2023-10-10T00:00:00",
          "2023-10-11T00:00:00",
          "2023-10-12T00:00:00",
          "2023-10-13T00:00:00",
          "2023-10-16T00:00:00",
          "2023-10-17T00:00:00",
          "2023-10-18T00:00:00",
          "2023-10-19T00:00:00",
          "2023-10-20T00:00:00",
          "2023-10-23T00:00:00",
          "2023-10-24T00:00:00",
          "2023-10-25T00:00:00",
          "2023-10-26T00:00:00",
          "2023-10-27T00:00:00",
          "2023-10-30T00:00:00",
          "2023-10-31T00:00:00",
          "2023-11-01T00:00:00",
          "2023-11-02T00:00:00",
          "2023-11-03T00:00:00",
          "2023-11-06T00:00:00",
          "2023-11-07T00:00:00",
          "2023-11-08T00:00:00",
          "2023-11-09T00:00:00",
          "2023-11-10T00:00:00",
          "2023-11-13T00:00:00",
          "2023-11-14T00:00:00",
          "2023-11-15T00:00:00",
          "2023-11-16T00:00:00",
          "2023-11-17T00:00:00",
          "2023-11-20T00:00:00",
          "2023-11-21T00:00:00",
          "2023-11-22T00:00:00",
          "2023-11-23T00:00:00",
          "2023-11-24T00:00:00",
          "2023-11-27T00:00:00",
          "2023-11-28T00:00:00",
          "2023-11-29T00:00:00",
          "2023-11-30T00:00:00",
          "2023-12-01T00:00:00",
          "2023-12-04T00:00:00",
          "2023-12-05T00:00:00",
          "2023-12-06T00:00:00",
          "2023-12-07T00:00:00",
          "2023-12-08T00:00:00",
          "2023-12-11T00:00:00",
          "2023-12-12T00:00:00",
          "2023-12-13T00:00:00",
          "2023-12-14T00:00:00",
          "2023-12-15T00:00:00",
          "2023-12-18T00:00:00",
          "2023-12-19T00:00:00",
          "2023-12-20T00:00:00",
          "2023-12-21T00:00:00",
          "2023-12-22T00:00:00",
          "2023-12-26T00:00:00",
          "2023-12-27T00:00:00",
          "2023-12-28T00:00:00",
          "2023-12-29T00:00:00"
         ],
         "y": [
          0,
          -0.23415386675139238,
          -0.09863307140169336,
          0.14771647779059527,
          -0.16031399508604305,
          -0.11812569069704304,
          -0.506397940970155,
          -0.10312292583731203,
          0.01701717920571938,
          0.06069094905145167,
          -0.4223757941951356,
          -0.4653069014438966,
          -0.6166916139228713,
          -0.6233817092962664,
          -0.5386158353658193,
          -0.4116840559318341,
          -0.5647028224920423,
          -0.5828464412167342,
          -1.061899698360522,
          -1.4575529927995263,
          -1.0124768093132086,
          -0.2774616995662817,
          -0.181708084482949,
          -0.07338076199771992,
          0.21993141677731665,
          0.6181530455449626,
          0.5811330735758884,
          0.7693047675119128,
          0.8008445844095557,
          0.8665553594923918,
          0.44215602618342553,
          0.33236176602931033,
          0.45936895176712644,
          0.24858094898655703,
          0.4210245596211055,
          0.35002530205957827,
          0.454276289526311,
          0.4780404169558969,
          0.44683064249781856,
          0.02220797501463842,
          -0.42333647905129485,
          -0.09238621581088392,
          -0.34370043617392976,
          -0.45399534302008804,
          -1.1055545101248776,
          -1.929417942027873,
          -2.559832653198843,
          -2.12395806633557,
          -1.2397175881182547,
          -1.3929533720033649,
          -1.8537783597722584,
          -1.8175018547377406,
          -1.8918761038988756,
          -1.2047376455658538,
          -1.2223905185756738,
          -1.534500815237803,
          -1.4570457145998217,
          -1.7619751577765734,
          -2.0084753104213178,
          -2.239445874496998,
          -2.1979092673504166,
          -2.308104248281088,
          -2.053089522754329,
          -0.26476015582516177,
          0.1978256235344267,
          -0.006460416834808899,
          -0.07312647280868934,
          -0.10890592259395682,
          -0.18235066844514247,
          -0.048619178829926835,
          -0.020174457589457795,
          -0.05254381429328692,
          -0.15170356170960042,
          0.2616201712249677,
          -0.04868402400037075,
          -0.14442252404123335,
          0.010488041686552485,
          0.04589302313454091,
          0.3088288038471353,
          0.18066215106553973,
          0.38237998747810464,
          -0.08678759327717533,
          -0.3972081668966654,
          -0.6093608550030225,
          -0.9142828240218099,
          0,
          -0.018686662810373622,
          -0.1611168046606927,
          0.27599002450357085,
          0.13637098402428105,
          0.5463258999144991,
          0.5043684504656963,
          0.4298960053999329,
          0.03756944071737808,
          -0.57224947600885,
          -0.21963080525532713,
          -0.022078300363266967,
          0.8439714680753887,
          0.21402297837105588,
          1.0135320481529575,
          0.7295474494175793,
          1.4845282759278864,
          1.8426546750005526,
          1.3169506768224886,
          1.563408429974599,
          1.6285580425434678,
          1.1134822402428115,
          -0.043356620474143945,
          -0.4488552444027305,
          -0.34215566971408173,
          -0.3420081058692006,
          -0.32810917707896303,
          -0.3489543766046631,
          -0.27220078053330055,
          -0.7464665723776234,
          -1.5060637201908242,
          -1.9512691832605915,
          -1.8869248681119921,
          -2.288235521889294,
          -2.1570473536613135,
          -2.688873815032108,
          -2.30661789913713,
          -2.105016326715335,
          -1.9968513957900844,
          -2.1912232315988076,
          -2.04894134918672,
          -1.9356283151119111,
          -2.3398128967216865,
          -1.3608072601233707,
          -0.029946181229226983,
          -0.2931724134717527,
          -0.2800375446151543,
          -1.1797578099241388,
          -1.7067570831359913,
          -1.5950824034063993,
          -1.4035374526224602,
          -2.0914446473179655,
          -2.4715103181600395,
          -2.1322744459042773,
          -2.438341410508892,
          -2.1134007933459515,
          -1.85491373638102,
          -1.5576020366152228,
          -1.708141966024906,
          -1.6220035974598426,
          -1.649190353743558,
          -1.4743201278251379,
          -1.9207503713760614,
          -1.4066406277567194,
          -1.2469020572464076,
          0,
          0.2545923205918593,
          -0.22587482048311197,
          -0.32881420150226637,
          0.02312614125067175,
          -0.6366354518708404,
          -0.6238748886330654,
          -0.602689297841077,
          -0.10197483297056165,
          -0.009979960225103057,
          -0.05384719699795071,
          -0.6299970818166947,
          -0.8593033689635767,
          -0.8162020595468661,
          -1.3941543531606175,
          -1.5763091759806127,
          -1.8271193695939436,
          -1.6422961428440206,
          -1.6018673650550899,
          -1.6437172307847083,
          -1.503844724341837,
          -1.3321890724753813,
          -0.9660676688047801,
          0.12660907859078793,
          -0.24582795772370675,
          -0.3269362213894642,
          -0.3685610266462035,
          -0.5968002414161319,
          -0.19493940089523326,
          -0.20827838422984804,
          0.22686295962524147,
          0.3571830489204184,
          -0.44114535486666584,
          -0.3451203558251211,
          -0.45336452905656077,
          -0.5671368752949213,
          -0.49147499287025986,
          -0.7673891771113477,
          -1.5708482954636416,
          -1.3832996753645421,
          -2.250450567483202,
          -2.6937908028687816,
          -2.8262552215297143,
          -2.4844565061517963,
          -1.2032670765435014,
          0.09417090723733966,
          0.3375682217204361,
          1.069601181054662,
          0.3595953606915528,
          -0.1180078748805316,
          -0.35453103102346994,
          -0.5540631711918698,
          -0.6629604456870238,
          -0.39222886012283203,
          -0.004043659653803475,
          -0.2999440581321463,
          0.3976903096140303,
          0.5651784905581393,
          0.2049547103948371,
          0.159714083402413,
          0.6741533824442507,
          0.5560666199256531,
          0.9581131758358283,
          1.5785028246000212,
          1.3283565990236603,
          0.8275390285988476,
          0.17167567567567693,
          0.03196689922868983,
          -0.1320960191497839,
          -0.7263063139644639,
          0.12775574834070816,
          0.7964136950940484,
          1.0961537431052526,
          0.2821359909349273,
          1.1353718117765685,
          1.7677514094439837,
          1.4208226060238573,
          1.3004494805987319,
          1.5328731892887393,
          1.6017739807873084,
          1.026972890374212,
          0.38812918993859413,
          0.7626840353818083,
          1.0121218731102426,
          1.129707028744648,
          1.359395145107157,
          1.136147833190979,
          2.2516368641023297,
          -0.08687599223849124,
          0.40352108497053846,
          0.4416095629873358,
          0.15938437402345634,
          -0.031149914365968978,
          0.4953073170036102,
          0.5079531714650372,
          0.4614717782923467,
          0.375154321931107,
          0.7289255416957252,
          1.128561280582352,
          1.0218205977777965,
          0.4215985353263198,
          0.6955041175510115,
          0.8078868866863891,
          0.9123607304959388,
          0.8689523824094403,
          0.9319309497647636,
          1.0436655734862736,
          0.9831131434338165,
          1.0288729895298199
         ]
        },
        {
         "line": {
          "color": "DarkOliveGreen",
          "width": 2
         },
         "marker": {
          "size": 3
         },
         "mode": "lines+markers",
         "name": "avg_2Y_seasons_month",
         "type": "scatter",
         "x": [
          "2023-01-02T00:00:00",
          "2023-01-03T00:00:00",
          "2023-01-04T00:00:00",
          "2023-01-05T00:00:00",
          "2023-01-06T00:00:00",
          "2023-01-09T00:00:00",
          "2023-01-10T00:00:00",
          "2023-01-11T00:00:00",
          "2023-01-12T00:00:00",
          "2023-01-13T00:00:00",
          "2023-01-16T00:00:00",
          "2023-01-17T00:00:00",
          "2023-01-18T00:00:00",
          "2023-01-19T00:00:00",
          "2023-01-20T00:00:00",
          "2023-01-23T00:00:00",
          "2023-01-24T00:00:00",
          "2023-01-25T00:00:00",
          "2023-01-26T00:00:00",
          "2023-01-27T00:00:00",
          "2023-01-30T00:00:00",
          "2023-01-31T00:00:00",
          "2023-02-01T00:00:00",
          "2023-02-02T00:00:00",
          "2023-02-03T00:00:00",
          "2023-02-06T00:00:00",
          "2023-02-07T00:00:00",
          "2023-02-08T00:00:00",
          "2023-02-09T00:00:00",
          "2023-02-10T00:00:00",
          "2023-02-13T00:00:00",
          "2023-02-14T00:00:00",
          "2023-02-15T00:00:00",
          "2023-02-16T00:00:00",
          "2023-02-17T00:00:00",
          "2023-02-20T00:00:00",
          "2023-02-21T00:00:00",
          "2023-02-22T00:00:00",
          "2023-02-23T00:00:00",
          "2023-02-24T00:00:00",
          "2023-02-27T00:00:00",
          "2023-02-28T00:00:00",
          "2023-03-01T00:00:00",
          "2023-03-02T00:00:00",
          "2023-03-03T00:00:00",
          "2023-03-06T00:00:00",
          "2023-03-07T00:00:00",
          "2023-03-08T00:00:00",
          "2023-03-09T00:00:00",
          "2023-03-10T00:00:00",
          "2023-03-13T00:00:00",
          "2023-03-14T00:00:00",
          "2023-03-15T00:00:00",
          "2023-03-16T00:00:00",
          "2023-03-17T00:00:00",
          "2023-03-20T00:00:00",
          "2023-03-21T00:00:00",
          "2023-03-22T00:00:00",
          "2023-03-23T00:00:00",
          "2023-03-24T00:00:00",
          "2023-03-27T00:00:00",
          "2023-03-28T00:00:00",
          "2023-03-29T00:00:00",
          "2023-03-30T00:00:00",
          "2023-03-31T00:00:00",
          "2023-04-03T00:00:00",
          "2023-04-04T00:00:00",
          "2023-04-05T00:00:00",
          "2023-04-06T00:00:00",
          "2023-04-07T00:00:00",
          "2023-04-10T00:00:00",
          "2023-04-11T00:00:00",
          "2023-04-12T00:00:00",
          "2023-04-13T00:00:00",
          "2023-04-14T00:00:00",
          "2023-04-17T00:00:00",
          "2023-04-18T00:00:00",
          "2023-04-19T00:00:00",
          "2023-04-20T00:00:00",
          "2023-04-21T00:00:00",
          "2023-04-24T00:00:00",
          "2023-04-25T00:00:00",
          "2023-04-26T00:00:00",
          "2023-04-27T00:00:00",
          "2023-04-28T00:00:00",
          "2023-05-01T00:00:00",
          "2023-05-02T00:00:00",
          "2023-05-03T00:00:00",
          "2023-05-04T00:00:00",
          "2023-05-05T00:00:00",
          "2023-05-08T00:00:00",
          "2023-05-09T00:00:00",
          "2023-05-10T00:00:00",
          "2023-05-11T00:00:00",
          "2023-05-12T00:00:00",
          "2023-05-15T00:00:00",
          "2023-05-16T00:00:00",
          "2023-05-17T00:00:00",
          "2023-05-18T00:00:00",
          "2023-05-19T00:00:00",
          "2023-05-22T00:00:00",
          "2023-05-23T00:00:00",
          "2023-05-24T00:00:00",
          "2023-05-25T00:00:00",
          "2023-05-26T00:00:00",
          "2023-05-29T00:00:00",
          "2023-05-30T00:00:00",
          "2023-05-31T00:00:00",
          "2023-06-01T00:00:00",
          "2023-06-02T00:00:00",
          "2023-06-05T00:00:00",
          "2023-06-06T00:00:00",
          "2023-06-07T00:00:00",
          "2023-06-08T00:00:00",
          "2023-06-09T00:00:00",
          "2023-06-12T00:00:00",
          "2023-06-13T00:00:00",
          "2023-06-14T00:00:00",
          "2023-06-15T00:00:00",
          "2023-06-16T00:00:00",
          "2023-06-19T00:00:00",
          "2023-06-20T00:00:00",
          "2023-06-21T00:00:00",
          "2023-06-22T00:00:00",
          "2023-06-23T00:00:00",
          "2023-06-26T00:00:00",
          "2023-06-27T00:00:00",
          "2023-06-28T00:00:00",
          "2023-06-29T00:00:00",
          "2023-06-30T00:00:00",
          "2023-07-03T00:00:00",
          "2023-07-04T00:00:00",
          "2023-07-05T00:00:00",
          "2023-07-06T00:00:00",
          "2023-07-07T00:00:00",
          "2023-07-10T00:00:00",
          "2023-07-11T00:00:00",
          "2023-07-12T00:00:00",
          "2023-07-13T00:00:00",
          "2023-07-14T00:00:00",
          "2023-07-17T00:00:00",
          "2023-07-18T00:00:00",
          "2023-07-19T00:00:00",
          "2023-07-20T00:00:00",
          "2023-07-21T00:00:00",
          "2023-07-24T00:00:00",
          "2023-07-25T00:00:00",
          "2023-07-26T00:00:00",
          "2023-07-27T00:00:00",
          "2023-07-28T00:00:00",
          "2023-07-31T00:00:00",
          "2023-08-01T00:00:00",
          "2023-08-02T00:00:00",
          "2023-08-03T00:00:00",
          "2023-08-04T00:00:00",
          "2023-08-07T00:00:00",
          "2023-08-08T00:00:00",
          "2023-08-09T00:00:00",
          "2023-08-10T00:00:00",
          "2023-08-11T00:00:00",
          "2023-08-14T00:00:00",
          "2023-08-15T00:00:00",
          "2023-08-16T00:00:00",
          "2023-08-17T00:00:00",
          "2023-08-18T00:00:00",
          "2023-08-21T00:00:00",
          "2023-08-22T00:00:00",
          "2023-08-23T00:00:00",
          "2023-08-24T00:00:00",
          "2023-08-25T00:00:00",
          "2023-08-28T00:00:00",
          "2023-08-29T00:00:00",
          "2023-08-30T00:00:00",
          "2023-08-31T00:00:00",
          "2023-09-01T00:00:00",
          "2023-09-04T00:00:00",
          "2023-09-05T00:00:00",
          "2023-09-06T00:00:00",
          "2023-09-07T00:00:00",
          "2023-09-08T00:00:00",
          "2023-09-11T00:00:00",
          "2023-09-12T00:00:00",
          "2023-09-13T00:00:00",
          "2023-09-14T00:00:00",
          "2023-09-15T00:00:00",
          "2023-09-18T00:00:00",
          "2023-09-19T00:00:00",
          "2023-09-20T00:00:00",
          "2023-09-21T00:00:00",
          "2023-09-22T00:00:00",
          "2023-09-25T00:00:00",
          "2023-09-26T00:00:00",
          "2023-09-27T00:00:00",
          "2023-09-28T00:00:00",
          "2023-09-29T00:00:00",
          "2023-10-02T00:00:00",
          "2023-10-03T00:00:00",
          "2023-10-04T00:00:00",
          "2023-10-05T00:00:00",
          "2023-10-06T00:00:00",
          "2023-10-09T00:00:00",
          "2023-10-10T00:00:00",
          "2023-10-11T00:00:00",
          "2023-10-12T00:00:00",
          "2023-10-13T00:00:00",
          "2023-10-16T00:00:00",
          "2023-10-17T00:00:00",
          "2023-10-18T00:00:00",
          "2023-10-19T00:00:00",
          "2023-10-20T00:00:00",
          "2023-10-23T00:00:00",
          "2023-10-24T00:00:00",
          "2023-10-25T00:00:00",
          "2023-10-26T00:00:00",
          "2023-10-27T00:00:00",
          "2023-10-30T00:00:00",
          "2023-10-31T00:00:00",
          "2023-11-01T00:00:00",
          "2023-11-02T00:00:00",
          "2023-11-03T00:00:00",
          "2023-11-06T00:00:00",
          "2023-11-07T00:00:00",
          "2023-11-08T00:00:00",
          "2023-11-09T00:00:00",
          "2023-11-10T00:00:00",
          "2023-11-13T00:00:00",
          "2023-11-14T00:00:00",
          "2023-11-15T00:00:00",
          "2023-11-16T00:00:00",
          "2023-11-17T00:00:00",
          "2023-11-20T00:00:00",
          "2023-11-21T00:00:00",
          "2023-11-22T00:00:00",
          "2023-11-23T00:00:00",
          "2023-11-24T00:00:00",
          "2023-11-27T00:00:00",
          "2023-11-28T00:00:00",
          "2023-11-29T00:00:00",
          "2023-11-30T00:00:00",
          "2023-12-01T00:00:00",
          "2023-12-04T00:00:00",
          "2023-12-05T00:00:00",
          "2023-12-06T00:00:00",
          "2023-12-07T00:00:00",
          "2023-12-08T00:00:00",
          "2023-12-11T00:00:00",
          "2023-12-12T00:00:00",
          "2023-12-13T00:00:00",
          "2023-12-14T00:00:00",
          "2023-12-15T00:00:00",
          "2023-12-18T00:00:00",
          "2023-12-19T00:00:00",
          "2023-12-20T00:00:00",
          "2023-12-21T00:00:00",
          "2023-12-22T00:00:00",
          "2023-12-26T00:00:00",
          "2023-12-27T00:00:00",
          "2023-12-28T00:00:00",
          "2023-12-29T00:00:00"
         ],
         "y": [
          0,
          -0.23415386675139238,
          -0.09863307140169336,
          0.14771647779059527,
          -0.16031399508604305,
          -0.11812569069704304,
          -0.506397940970155,
          -0.10312292583731203,
          0.01701717920571938,
          0.06069094905145167,
          -0.4223757941951356,
          -0.4653069014438966,
          -0.6166916139228713,
          -0.6233817092962664,
          -0.5386158353658193,
          -0.4116840559318341,
          -0.5647028224920423,
          -0.5828464412167342,
          -1.061899698360522,
          -1.4575529927995263,
          -1.405965029208495,
          -1.2882104881876377,
          -1.1939990100066635,
          -1.0871739706272079,
          -0.7988556822286721,
          -0.4041441479943957,
          -0.44052476088750253,
          -0.2533652124379936,
          -0.2222124123799346,
          -0.15712940800858607,
          -0.576412505223245,
          -0.6846788560586141,
          -0.5597072020855529,
          -0.7691320698881108,
          -0.5978001248963044,
          -0.6674279163584789,
          -0.563792168254003,
          -0.5405087641703106,
          -0.5710263321240125,
          -0.990088436352825,
          -1.6719436625821986,
          -1.4088127662518253,
          -1.6565220946691879,
          -1.7654162580680288,
          -2.4084635054800643,
          -3.2212682806554507,
          -3.8433593386935225,
          -3.4132278512800154,
          -2.5409538733263304,
          -2.6918735571780164,
          -3.1465401536375333,
          -3.1108417824557155,
          -3.1842980174618347,
          -2.506236852415279,
          -2.5239201467101955,
          -2.831902041914044,
          -2.7552861937965494,
          -3.0563923072980046,
          -3.299667415248832,
          -3.527664336206245,
          -3.4866103943844933,
          -3.595401550962709,
          -3.34406693703651,
          -2.9751745275984387,
          -3.193364185743291,
          -3.391008394256385,
          -3.4590014878671838,
          -3.4975219208124133,
          -3.5685231833039355,
          -3.441180020357583,
          -3.4123821818624007,
          -3.444761292128373,
          -3.543437733497951,
          -3.143063316490446,
          -3.4443327174354277,
          -3.53777692229796,
          -3.390660650480433,
          -3.3560743832431625,
          -3.100157463733308,
          -3.2240013906471017,
          -3.0322058914990055,
          -3.4882040168230595,
          -3.790535516236734,
          -3.9988479995692017,
          -4.295094817287472,
          -4.465265436891807,
          -4.473530312738268,
          -4.61773557102064,
          -4.214371884641588,
          -4.330159664693542,
          -3.9268852933308613,
          -3.9733350396287386,
          -4.038163452686029,
          -4.419777778110891,
          -4.984172867681343,
          -4.642287590721676,
          -4.456580693433582,
          -3.6365513857650895,
          -4.23308989379665,
          -3.478700426504699,
          -3.75251107762272,
          -3.0443899537088477,
          -2.703822150564844,
          -3.2059789769383733,
          -2.9764870994101056,
          -2.9144427261160066,
          -2.6141242132452556,
          -2.85839422300835,
          -3.242300596748893,
          -3.1606886247175274,
          -3.152300414738161,
          -3.132732535475342,
          -3.1562287289710547,
          -3.082806876326071,
          -3.5314924416809523,
          -4.263703189292856,
          -4.681070958817543,
          -4.618483944829906,
          -5.027516926508309,
          -4.92422407771949,
          -5.437320961407001,
          -5.062905773720861,
          -4.867888169002488,
          -4.768303285230861,
          -4.950553532421347,
          -4.815040296875313,
          -4.711173280637954,
          -5.099093140481296,
          -5.610987540649449,
          -5.455822178266377,
          -5.696181708747308,
          -5.683994370143,
          -6.520920015245858,
          -7.013158508675117,
          -6.900086647434255,
          -6.7168077598405365,
          -7.353437197881185,
          -7.721122840390661,
          -7.396222068604196,
          -7.684161424541034,
          -7.384709552170293,
          -7.148028308542967,
          -6.878261102216901,
          -7.013400332480597,
          -6.940945915320259,
          -6.964076307107462,
          -6.796348816804839,
          -7.205199331004988,
          -6.725713215759046,
          -6.570228277241492,
          -6.585844659353032,
          -6.355267500437677,
          -6.78880249634125,
          -6.889087597037667,
          -6.57501959233533,
          -7.189934695553085,
          -7.185083099836346,
          -7.170954395017519,
          -6.715142096285252,
          -6.63471449229699,
          -6.65529354025695,
          -7.178163807903296,
          -7.404417172713642,
          -7.3655039752396805,
          -7.894457496778353,
          -8.053389957524002,
          -8.262711537980383,
          -8.092912068052238,
          -8.051902924001435,
          -8.095747681357143,
          -7.957561476179602,
          -7.802245313336033,
          -7.675755379610957,
          -7.388152650726397,
          -7.704520263548075,
          -7.775022899084092,
          -7.815394599194546,
          -8.026509237766474,
          -7.6799621118464465,
          -7.689455649999596,
          -7.307859440050992,
          -7.194314486871766,
          -7.902016807732359,
          -7.81318237478111,
          -7.9255473835892065,
          -8.04043299350249,
          -7.97335262570294,
          -8.218220489340354,
          -8.940440499646654,
          -8.757149628577281,
          -9.52863545520704,
          -9.930696003344853,
          -10.051910330595005,
          -9.780257111497965,
          -9.52819766992551,
          -9.508490973677851,
          -9.290887829701813,
          -8.668411847464213,
          -9.295061887904783,
          -9.707430257121132,
          -9.906227587447894,
          -10.082908187046117,
          -10.185277250843717,
          -9.92861974031011,
          -9.593217901312416,
          -9.84885119511476,
          -9.242186268924454,
          -9.090027367093501,
          -9.393832992258393,
          -9.44275333418559,
          -8.993886365910907,
          -9.106094582520676,
          -8.765532127344349,
          -8.228201735531819,
          -8.413773315211362,
          -8.93491514631798,
          -9.100056910432215,
          -9.229438454675885,
          -9.361162836744008,
          -9.897302084742668,
          -9.152239088258503,
          -8.562672089471842,
          -8.299806843635494,
          -9.046080023705468,
          -8.314191204326809,
          -7.765837151396241,
          -8.092783864283687,
          -8.213891545074137,
          -8.010880706741148,
          -7.934329059411153,
          -8.4621638414973,
          -9.034285870418216,
          -8.704551478128492,
          -8.504542816938391,
          -8.399945765349859,
          -8.167371746513693,
          -8.366106444118778,
          -8.22434717074427,
          -7.962451572228559,
          -7.514866267605324,
          -7.47997097990616,
          -7.739297539906669,
          -7.91445622011382,
          -7.428587461890531,
          -7.419891939777889,
          -7.461347353209591,
          -7.5419019309697966,
          -7.219626475437738,
          -6.852026788831099,
          -6.947564588171698,
          -7.501833399846182,
          -7.24907816502092,
          -7.146120234955763,
          -7.0478541125400955,
          -7.0875435709392605,
          -7.031018195991402,
          -6.927814662218937,
          -6.984160986345756,
          -6.940140033775157
         ]
        },
        {
         "line": {
          "color": "Crimson",
          "width": 2
         },
         "marker": {
          "size": 3
         },
         "mode": "lines+markers",
         "name": "avg_5Y_seasons_year",
         "type": "scatter",
         "x": [
          "2023-01-02T00:00:00",
          "2023-01-03T00:00:00",
          "2023-01-04T00:00:00",
          "2023-01-05T00:00:00",
          "2023-01-06T00:00:00",
          "2023-01-09T00:00:00",
          "2023-01-10T00:00:00",
          "2023-01-11T00:00:00",
          "2023-01-12T00:00:00",
          "2023-01-13T00:00:00",
          "2023-01-16T00:00:00",
          "2023-01-17T00:00:00",
          "2023-01-18T00:00:00",
          "2023-01-19T00:00:00",
          "2023-01-20T00:00:00",
          "2023-01-23T00:00:00",
          "2023-01-24T00:00:00",
          "2023-01-25T00:00:00",
          "2023-01-26T00:00:00",
          "2023-01-27T00:00:00",
          "2023-01-30T00:00:00",
          "2023-01-31T00:00:00",
          "2023-02-01T00:00:00",
          "2023-02-02T00:00:00",
          "2023-02-03T00:00:00",
          "2023-02-06T00:00:00",
          "2023-02-07T00:00:00",
          "2023-02-08T00:00:00",
          "2023-02-09T00:00:00",
          "2023-02-10T00:00:00",
          "2023-02-13T00:00:00",
          "2023-02-14T00:00:00",
          "2023-02-15T00:00:00",
          "2023-02-16T00:00:00",
          "2023-02-17T00:00:00",
          "2023-02-20T00:00:00",
          "2023-02-21T00:00:00",
          "2023-02-22T00:00:00",
          "2023-02-23T00:00:00",
          "2023-02-24T00:00:00",
          "2023-02-27T00:00:00",
          "2023-02-28T00:00:00",
          "2023-03-01T00:00:00",
          "2023-03-02T00:00:00",
          "2023-03-03T00:00:00",
          "2023-03-06T00:00:00",
          "2023-03-07T00:00:00",
          "2023-03-08T00:00:00",
          "2023-03-09T00:00:00",
          "2023-03-10T00:00:00",
          "2023-03-13T00:00:00",
          "2023-03-14T00:00:00",
          "2023-03-15T00:00:00",
          "2023-03-16T00:00:00",
          "2023-03-17T00:00:00",
          "2023-03-20T00:00:00",
          "2023-03-21T00:00:00",
          "2023-03-22T00:00:00",
          "2023-03-23T00:00:00",
          "2023-03-24T00:00:00",
          "2023-03-27T00:00:00",
          "2023-03-28T00:00:00",
          "2023-03-29T00:00:00",
          "2023-03-30T00:00:00",
          "2023-03-31T00:00:00",
          "2023-04-03T00:00:00",
          "2023-04-04T00:00:00",
          "2023-04-05T00:00:00",
          "2023-04-06T00:00:00",
          "2023-04-07T00:00:00",
          "2023-04-10T00:00:00",
          "2023-04-11T00:00:00",
          "2023-04-12T00:00:00",
          "2023-04-13T00:00:00",
          "2023-04-14T00:00:00",
          "2023-04-17T00:00:00",
          "2023-04-18T00:00:00",
          "2023-04-19T00:00:00",
          "2023-04-20T00:00:00",
          "2023-04-21T00:00:00",
          "2023-04-24T00:00:00",
          "2023-04-25T00:00:00",
          "2023-04-26T00:00:00",
          "2023-04-27T00:00:00",
          "2023-04-28T00:00:00",
          "2023-05-01T00:00:00",
          "2023-05-02T00:00:00",
          "2023-05-03T00:00:00",
          "2023-05-04T00:00:00",
          "2023-05-05T00:00:00",
          "2023-05-08T00:00:00",
          "2023-05-09T00:00:00",
          "2023-05-10T00:00:00",
          "2023-05-11T00:00:00",
          "2023-05-12T00:00:00",
          "2023-05-15T00:00:00",
          "2023-05-16T00:00:00",
          "2023-05-17T00:00:00",
          "2023-05-18T00:00:00",
          "2023-05-19T00:00:00",
          "2023-05-22T00:00:00",
          "2023-05-23T00:00:00",
          "2023-05-24T00:00:00",
          "2023-05-25T00:00:00",
          "2023-05-26T00:00:00",
          "2023-05-29T00:00:00",
          "2023-05-30T00:00:00",
          "2023-05-31T00:00:00",
          "2023-06-01T00:00:00",
          "2023-06-02T00:00:00",
          "2023-06-05T00:00:00",
          "2023-06-06T00:00:00",
          "2023-06-07T00:00:00",
          "2023-06-08T00:00:00",
          "2023-06-09T00:00:00",
          "2023-06-12T00:00:00",
          "2023-06-13T00:00:00",
          "2023-06-14T00:00:00",
          "2023-06-15T00:00:00",
          "2023-06-16T00:00:00",
          "2023-06-19T00:00:00",
          "2023-06-20T00:00:00",
          "2023-06-21T00:00:00",
          "2023-06-22T00:00:00",
          "2023-06-23T00:00:00",
          "2023-06-26T00:00:00",
          "2023-06-27T00:00:00",
          "2023-06-28T00:00:00",
          "2023-06-29T00:00:00",
          "2023-06-30T00:00:00",
          "2023-07-03T00:00:00",
          "2023-07-04T00:00:00",
          "2023-07-05T00:00:00",
          "2023-07-06T00:00:00",
          "2023-07-07T00:00:00",
          "2023-07-10T00:00:00",
          "2023-07-11T00:00:00",
          "2023-07-12T00:00:00",
          "2023-07-13T00:00:00",
          "2023-07-14T00:00:00",
          "2023-07-17T00:00:00",
          "2023-07-18T00:00:00",
          "2023-07-19T00:00:00",
          "2023-07-20T00:00:00",
          "2023-07-21T00:00:00",
          "2023-07-24T00:00:00",
          "2023-07-25T00:00:00",
          "2023-07-26T00:00:00",
          "2023-07-27T00:00:00",
          "2023-07-28T00:00:00",
          "2023-07-31T00:00:00",
          "2023-08-01T00:00:00",
          "2023-08-02T00:00:00",
          "2023-08-03T00:00:00",
          "2023-08-04T00:00:00",
          "2023-08-07T00:00:00",
          "2023-08-08T00:00:00",
          "2023-08-09T00:00:00",
          "2023-08-10T00:00:00",
          "2023-08-11T00:00:00",
          "2023-08-14T00:00:00",
          "2023-08-15T00:00:00",
          "2023-08-16T00:00:00",
          "2023-08-17T00:00:00",
          "2023-08-18T00:00:00",
          "2023-08-21T00:00:00",
          "2023-08-22T00:00:00",
          "2023-08-23T00:00:00",
          "2023-08-24T00:00:00",
          "2023-08-25T00:00:00",
          "2023-08-28T00:00:00",
          "2023-08-29T00:00:00",
          "2023-08-30T00:00:00",
          "2023-08-31T00:00:00",
          "2023-09-01T00:00:00",
          "2023-09-04T00:00:00",
          "2023-09-05T00:00:00",
          "2023-09-06T00:00:00",
          "2023-09-07T00:00:00",
          "2023-09-08T00:00:00",
          "2023-09-11T00:00:00",
          "2023-09-12T00:00:00",
          "2023-09-13T00:00:00",
          "2023-09-14T00:00:00",
          "2023-09-15T00:00:00",
          "2023-09-18T00:00:00",
          "2023-09-19T00:00:00",
          "2023-09-20T00:00:00",
          "2023-09-21T00:00:00",
          "2023-09-22T00:00:00",
          "2023-09-25T00:00:00",
          "2023-09-26T00:00:00",
          "2023-09-27T00:00:00",
          "2023-09-28T00:00:00",
          "2023-09-29T00:00:00",
          "2023-10-02T00:00:00",
          "2023-10-03T00:00:00",
          "2023-10-04T00:00:00",
          "2023-10-05T00:00:00",
          "2023-10-06T00:00:00",
          "2023-10-09T00:00:00",
          "2023-10-10T00:00:00",
          "2023-10-11T00:00:00",
          "2023-10-12T00:00:00",
          "2023-10-13T00:00:00",
          "2023-10-16T00:00:00",
          "2023-10-17T00:00:00",
          "2023-10-18T00:00:00",
          "2023-10-19T00:00:00",
          "2023-10-20T00:00:00",
          "2023-10-23T00:00:00",
          "2023-10-24T00:00:00",
          "2023-10-25T00:00:00",
          "2023-10-26T00:00:00",
          "2023-10-27T00:00:00",
          "2023-10-30T00:00:00",
          "2023-10-31T00:00:00",
          "2023-11-01T00:00:00",
          "2023-11-02T00:00:00",
          "2023-11-03T00:00:00",
          "2023-11-06T00:00:00",
          "2023-11-07T00:00:00",
          "2023-11-08T00:00:00",
          "2023-11-09T00:00:00",
          "2023-11-10T00:00:00",
          "2023-11-13T00:00:00",
          "2023-11-14T00:00:00",
          "2023-11-15T00:00:00",
          "2023-11-16T00:00:00",
          "2023-11-17T00:00:00",
          "2023-11-20T00:00:00",
          "2023-11-21T00:00:00",
          "2023-11-22T00:00:00",
          "2023-11-23T00:00:00",
          "2023-11-24T00:00:00",
          "2023-11-27T00:00:00",
          "2023-11-28T00:00:00",
          "2023-11-29T00:00:00",
          "2023-11-30T00:00:00",
          "2023-12-01T00:00:00",
          "2023-12-04T00:00:00",
          "2023-12-05T00:00:00",
          "2023-12-06T00:00:00",
          "2023-12-07T00:00:00",
          "2023-12-08T00:00:00",
          "2023-12-11T00:00:00",
          "2023-12-12T00:00:00",
          "2023-12-13T00:00:00",
          "2023-12-14T00:00:00",
          "2023-12-15T00:00:00",
          "2023-12-18T00:00:00",
          "2023-12-19T00:00:00",
          "2023-12-20T00:00:00",
          "2023-12-21T00:00:00",
          "2023-12-22T00:00:00",
          "2023-12-26T00:00:00",
          "2023-12-27T00:00:00",
          "2023-12-28T00:00:00",
          "2023-12-29T00:00:00"
         ],
         "y": [
          0,
          -0.36404837619251856,
          -0.3049380076116118,
          -0.055048517427431595,
          -0.19544470611398163,
          -0.41656416897042164,
          -0.44703998072551465,
          -0.3168663405540215,
          -0.1761782068566203,
          0.11827449873450042,
          -0.0134757189382833,
          -0.09934932078731169,
          -0.3712388871748488,
          -0.3280204162265409,
          -0.24980681948108704,
          -0.20677791246418842,
          -0.24306828315321222,
          -0.24900488203167273,
          -0.3087974560020367,
          -0.36149453034285484,
          -0.27579771678235715,
          0.1787010424297474,
          -0.0726832337931796,
          0.06961913242367737,
          0.021448326438055713,
          -0.06392425918709334,
          -0.17070579313526163,
          -0.39068616280938717,
          -0.4980390826976663,
          -0.5351895211291051,
          -0.6257576633874569,
          -0.7500684498700168,
          -0.47341364068287906,
          -0.48750523665514767,
          -0.6307224471361778,
          -0.5660281739385027,
          -0.6834234192707502,
          -0.6998506937857398,
          -0.5839086423731212,
          -0.7254137398730374,
          -0.8029555531232351,
          -0.6160864085227846,
          -0.1374801744695719,
          0.11331290187311487,
          -0.030801551962165517,
          -0.48168467231627804,
          -0.4356958350380336,
          -0.24880388964985936,
          0.18555113807138887,
          -0.1287289488420988,
          -0.2558398708980641,
          -0.24214194164873293,
          -0.31611136755264935,
          -0.14013476357592336,
          -0.4578388354862229,
          -0.6514859895897309,
          -1.0975156247769435,
          -1.0879816791560022,
          -1.3268827012847129,
          -1.2114370062710074,
          -0.9262006099914336,
          -0.8099692525517337,
          -0.7511354805070224,
          0.07479479621208339,
          0.05685813766122323,
          -0.18261126653822307,
          -0.41152728025672297,
          -0.5146650412724844,
          -0.6522493878707472,
          -0.26539056499057434,
          -0.26177979076065505,
          -0.05335702855101867,
          -0.0788679864485642,
          0.034945440443018956,
          0.04875911388350743,
          -0.07815854039683426,
          -0.14125199095668986,
          -0.1646705728962044,
          -0.11062426968722656,
          -0.26058141212319014,
          -0.40032034397944544,
          -0.7733113823261567,
          -0.9611274447505785,
          -1.0997064104352872,
          -1.1343606116624505,
          -0.27962643938707027,
          -0.18217791993235982,
          -0.2992461392001239,
          -0.20913666785933444,
          -0.386165090622738,
          -0.3756364839806806,
          -0.41038965304082586,
          -0.43596030535973396,
          -0.4907066590565338,
          -0.6283774508998132,
          -0.6026310845250316,
          -0.70123984314566,
          -0.43169589715419415,
          -0.5454799617914229,
          -0.24544097650110458,
          -0.2222482143743701,
          -0.027113172197475867,
          -0.06340954405198955,
          -0.17602709255094276,
          -0.014283766202971648,
          -0.10214975342038075,
          -0.3789593124252507,
          -0.8545905316328035,
          -0.14481331515787327,
          0.04208835807072416,
          0.24534561385653011,
          0.4217406122936908,
          0.540143523928021,
          0.6843207433106022,
          0.511849805700352,
          0.3188449348554269,
          -0.14656075893131978,
          -0.1525396962099407,
          -0.6730868983208331,
          -0.6757125315892687,
          -0.9045349213218981,
          -0.8220479174422696,
          -0.6802847413534495,
          -0.3136564114409171,
          -0.15173783248738473,
          -0.1842649488004811,
          -0.3015140864743416,
          -0.6138095471119674,
          -0.5367340954809213,
          -0.15311477813450186,
          -0.2947350228142457,
          -0.3017209048825156,
          -0.6381031623312721,
          -0.7711747681648025,
          -0.7268423899980612,
          -0.5429415970655497,
          -0.8356993475730382,
          -1.0665089868732358,
          -0.837400096221329,
          -0.8455348361669449,
          -0.7461151666769411,
          -0.747951550472771,
          -0.5155004693684562,
          -0.6281114301855778,
          -0.31481868936464685,
          -0.4159738042687834,
          -0.3392588682870264,
          -0.34122045308568594,
          -0.13001510663240023,
          -0.06660486846721579,
          0.6596648364044695,
          1.1925096729926117,
          -0.1267435216002753,
          -0.28107448006350644,
          0.06541953771612494,
          -0.1230508446957446,
          -0.021490194923657602,
          -0.16666228800809096,
          -0.16295691336579907,
          -0.35891916277862407,
          -0.3118162292184826,
          -0.6651663968208823,
          -0.7657434724284926,
          -0.6723820440431958,
          -0.724658109941271,
          -0.8400149407324667,
          -0.7744554732856572,
          -0.7825008089381968,
          -0.7392137529485066,
          -0.6392945018483308,
          -0.5049090650792278,
          -0.4414196231961732,
          -0.17605502783402044,
          0.0066830761991084455,
          -0.17811329287537586,
          -0.2596503439858558,
          -0.22861389195795354,
          -0.24399597787307722,
          -0.16836283928340628,
          -0.32971644294583635,
          -0.035111918288764074,
          -0.009798255860736588,
          -0.1516488224536972,
          0.05347778137125545,
          -0.2541537343970752,
          -0.13077850503012883,
          -0.15029644326125974,
          -0.2329747877952093,
          -0.5504238599734866,
          -0.6700388009327992,
          -1.0405021876413971,
          -1.3054324781742288,
          -1.525188153774932,
          -1.456599926881999,
          -0.8004379358435104,
          0.03487518857230568,
          0.1708970894808639,
          0.2940040159802293,
          0.22415472985544366,
          -0.05494886603862159,
          -0.1801945006135222,
          -0.23086511060487797,
          -0.07145784017514449,
          0.21041961638361983,
          0.14132794027546958,
          0.10089729117671001,
          0.3858905493075034,
          0.43822524429935755,
          0.36081576033891377,
          0.5282416907111308,
          0.656010947645423,
          0.5650627243575944,
          0.6085654176640566,
          0.6993864775370316,
          0.6423912882771889,
          0.35011243917651014,
          -0.011978509848366504,
          0.012786759691475932,
          0.11403443638058555,
          -0.0936331609101213,
          0.20545135163145023,
          0.6722110714219622,
          0.8675271184801032,
          0.2552181040928917,
          0.5434023889405315,
          0.4958474772268926,
          0.5206604648984416,
          0.6015568957193771,
          0.8039378019586602,
          1.0417277663446411,
          0.8752554020264401,
          0.5042804809854204,
          0.6092353291655099,
          0.6456194838691448,
          0.6690752217596,
          0.7948517478276279,
          0.58574537523181,
          1.2729543984718825,
          0.1020736586827445,
          0.5010977960022146,
          0.5980983782187124,
          0.5083600775114852,
          0.44561436719020475,
          0.6071355379730834,
          0.6434339968126961,
          0.57633205122775,
          0.6415262955365294,
          0.9293712918907545,
          1.014381130818104,
          0.9170244931606705,
          0.848143334396023,
          1.0268793098898306,
          1.039828100088861,
          1.1515548787024448,
          0.8923770315630865,
          1.0208925765435926,
          0.9784899274562736,
          1.2707305183322959,
          1.4207161073690628
         ]
        },
        {
         "line": {
          "color": "OliveDrab",
          "width": 2
         },
         "marker": {
          "size": 3
         },
         "mode": "lines+markers",
         "name": "avg_5Y_seasons_month",
         "type": "scatter",
         "x": [
          "2023-01-02T00:00:00",
          "2023-01-03T00:00:00",
          "2023-01-04T00:00:00",
          "2023-01-05T00:00:00",
          "2023-01-06T00:00:00",
          "2023-01-09T00:00:00",
          "2023-01-10T00:00:00",
          "2023-01-11T00:00:00",
          "2023-01-12T00:00:00",
          "2023-01-13T00:00:00",
          "2023-01-16T00:00:00",
          "2023-01-17T00:00:00",
          "2023-01-18T00:00:00",
          "2023-01-19T00:00:00",
          "2023-01-20T00:00:00",
          "2023-01-23T00:00:00",
          "2023-01-24T00:00:00",
          "2023-01-25T00:00:00",
          "2023-01-26T00:00:00",
          "2023-01-27T00:00:00",
          "2023-01-30T00:00:00",
          "2023-01-31T00:00:00",
          "2023-02-01T00:00:00",
          "2023-02-02T00:00:00",
          "2023-02-03T00:00:00",
          "2023-02-06T00:00:00",
          "2023-02-07T00:00:00",
          "2023-02-08T00:00:00",
          "2023-02-09T00:00:00",
          "2023-02-10T00:00:00",
          "2023-02-13T00:00:00",
          "2023-02-14T00:00:00",
          "2023-02-15T00:00:00",
          "2023-02-16T00:00:00",
          "2023-02-17T00:00:00",
          "2023-02-20T00:00:00",
          "2023-02-21T00:00:00",
          "2023-02-22T00:00:00",
          "2023-02-23T00:00:00",
          "2023-02-24T00:00:00",
          "2023-02-27T00:00:00",
          "2023-02-28T00:00:00",
          "2023-03-01T00:00:00",
          "2023-03-02T00:00:00",
          "2023-03-03T00:00:00",
          "2023-03-06T00:00:00",
          "2023-03-07T00:00:00",
          "2023-03-08T00:00:00",
          "2023-03-09T00:00:00",
          "2023-03-10T00:00:00",
          "2023-03-13T00:00:00",
          "2023-03-14T00:00:00",
          "2023-03-15T00:00:00",
          "2023-03-16T00:00:00",
          "2023-03-17T00:00:00",
          "2023-03-20T00:00:00",
          "2023-03-21T00:00:00",
          "2023-03-22T00:00:00",
          "2023-03-23T00:00:00",
          "2023-03-24T00:00:00",
          "2023-03-27T00:00:00",
          "2023-03-28T00:00:00",
          "2023-03-29T00:00:00",
          "2023-03-30T00:00:00",
          "2023-03-31T00:00:00",
          "2023-04-03T00:00:00",
          "2023-04-04T00:00:00",
          "2023-04-05T00:00:00",
          "2023-04-06T00:00:00",
          "2023-04-07T00:00:00",
          "2023-04-10T00:00:00",
          "2023-04-11T00:00:00",
          "2023-04-12T00:00:00",
          "2023-04-13T00:00:00",
          "2023-04-14T00:00:00",
          "2023-04-17T00:00:00",
          "2023-04-18T00:00:00",
          "2023-04-19T00:00:00",
          "2023-04-20T00:00:00",
          "2023-04-21T00:00:00",
          "2023-04-24T00:00:00",
          "2023-04-25T00:00:00",
          "2023-04-26T00:00:00",
          "2023-04-27T00:00:00",
          "2023-04-28T00:00:00",
          "2023-05-01T00:00:00",
          "2023-05-02T00:00:00",
          "2023-05-03T00:00:00",
          "2023-05-04T00:00:00",
          "2023-05-05T00:00:00",
          "2023-05-08T00:00:00",
          "2023-05-09T00:00:00",
          "2023-05-10T00:00:00",
          "2023-05-11T00:00:00",
          "2023-05-12T00:00:00",
          "2023-05-15T00:00:00",
          "2023-05-16T00:00:00",
          "2023-05-17T00:00:00",
          "2023-05-18T00:00:00",
          "2023-05-19T00:00:00",
          "2023-05-22T00:00:00",
          "2023-05-23T00:00:00",
          "2023-05-24T00:00:00",
          "2023-05-25T00:00:00",
          "2023-05-26T00:00:00",
          "2023-05-29T00:00:00",
          "2023-05-30T00:00:00",
          "2023-05-31T00:00:00",
          "2023-06-01T00:00:00",
          "2023-06-02T00:00:00",
          "2023-06-05T00:00:00",
          "2023-06-06T00:00:00",
          "2023-06-07T00:00:00",
          "2023-06-08T00:00:00",
          "2023-06-09T00:00:00",
          "2023-06-12T00:00:00",
          "2023-06-13T00:00:00",
          "2023-06-14T00:00:00",
          "2023-06-15T00:00:00",
          "2023-06-16T00:00:00",
          "2023-06-19T00:00:00",
          "2023-06-20T00:00:00",
          "2023-06-21T00:00:00",
          "2023-06-22T00:00:00",
          "2023-06-23T00:00:00",
          "2023-06-26T00:00:00",
          "2023-06-27T00:00:00",
          "2023-06-28T00:00:00",
          "2023-06-29T00:00:00",
          "2023-06-30T00:00:00",
          "2023-07-03T00:00:00",
          "2023-07-04T00:00:00",
          "2023-07-05T00:00:00",
          "2023-07-06T00:00:00",
          "2023-07-07T00:00:00",
          "2023-07-10T00:00:00",
          "2023-07-11T00:00:00",
          "2023-07-12T00:00:00",
          "2023-07-13T00:00:00",
          "2023-07-14T00:00:00",
          "2023-07-17T00:00:00",
          "2023-07-18T00:00:00",
          "2023-07-19T00:00:00",
          "2023-07-20T00:00:00",
          "2023-07-21T00:00:00",
          "2023-07-24T00:00:00",
          "2023-07-25T00:00:00",
          "2023-07-26T00:00:00",
          "2023-07-27T00:00:00",
          "2023-07-28T00:00:00",
          "2023-07-31T00:00:00",
          "2023-08-01T00:00:00",
          "2023-08-02T00:00:00",
          "2023-08-03T00:00:00",
          "2023-08-04T00:00:00",
          "2023-08-07T00:00:00",
          "2023-08-08T00:00:00",
          "2023-08-09T00:00:00",
          "2023-08-10T00:00:00",
          "2023-08-11T00:00:00",
          "2023-08-14T00:00:00",
          "2023-08-15T00:00:00",
          "2023-08-16T00:00:00",
          "2023-08-17T00:00:00",
          "2023-08-18T00:00:00",
          "2023-08-21T00:00:00",
          "2023-08-22T00:00:00",
          "2023-08-23T00:00:00",
          "2023-08-24T00:00:00",
          "2023-08-25T00:00:00",
          "2023-08-28T00:00:00",
          "2023-08-29T00:00:00",
          "2023-08-30T00:00:00",
          "2023-08-31T00:00:00",
          "2023-09-01T00:00:00",
          "2023-09-04T00:00:00",
          "2023-09-05T00:00:00",
          "2023-09-06T00:00:00",
          "2023-09-07T00:00:00",
          "2023-09-08T00:00:00",
          "2023-09-11T00:00:00",
          "2023-09-12T00:00:00",
          "2023-09-13T00:00:00",
          "2023-09-14T00:00:00",
          "2023-09-15T00:00:00",
          "2023-09-18T00:00:00",
          "2023-09-19T00:00:00",
          "2023-09-20T00:00:00",
          "2023-09-21T00:00:00",
          "2023-09-22T00:00:00",
          "2023-09-25T00:00:00",
          "2023-09-26T00:00:00",
          "2023-09-27T00:00:00",
          "2023-09-28T00:00:00",
          "2023-09-29T00:00:00",
          "2023-10-02T00:00:00",
          "2023-10-03T00:00:00",
          "2023-10-04T00:00:00",
          "2023-10-05T00:00:00",
          "2023-10-06T00:00:00",
          "2023-10-09T00:00:00",
          "2023-10-10T00:00:00",
          "2023-10-11T00:00:00",
          "2023-10-12T00:00:00",
          "2023-10-13T00:00:00",
          "2023-10-16T00:00:00",
          "2023-10-17T00:00:00",
          "2023-10-18T00:00:00",
          "2023-10-19T00:00:00",
          "2023-10-20T00:00:00",
          "2023-10-23T00:00:00",
          "2023-10-24T00:00:00",
          "2023-10-25T00:00:00",
          "2023-10-26T00:00:00",
          "2023-10-27T00:00:00",
          "2023-10-30T00:00:00",
          "2023-10-31T00:00:00",
          "2023-11-01T00:00:00",
          "2023-11-02T00:00:00",
          "2023-11-03T00:00:00",
          "2023-11-06T00:00:00",
          "2023-11-07T00:00:00",
          "2023-11-08T00:00:00",
          "2023-11-09T00:00:00",
          "2023-11-10T00:00:00",
          "2023-11-13T00:00:00",
          "2023-11-14T00:00:00",
          "2023-11-15T00:00:00",
          "2023-11-16T00:00:00",
          "2023-11-17T00:00:00",
          "2023-11-20T00:00:00",
          "2023-11-21T00:00:00",
          "2023-11-22T00:00:00",
          "2023-11-23T00:00:00",
          "2023-11-24T00:00:00",
          "2023-11-27T00:00:00",
          "2023-11-28T00:00:00",
          "2023-11-29T00:00:00",
          "2023-11-30T00:00:00",
          "2023-12-01T00:00:00",
          "2023-12-04T00:00:00",
          "2023-12-05T00:00:00",
          "2023-12-06T00:00:00",
          "2023-12-07T00:00:00",
          "2023-12-08T00:00:00",
          "2023-12-11T00:00:00",
          "2023-12-12T00:00:00",
          "2023-12-13T00:00:00",
          "2023-12-14T00:00:00",
          "2023-12-15T00:00:00",
          "2023-12-18T00:00:00",
          "2023-12-19T00:00:00",
          "2023-12-20T00:00:00",
          "2023-12-21T00:00:00",
          "2023-12-22T00:00:00",
          "2023-12-26T00:00:00",
          "2023-12-27T00:00:00",
          "2023-12-28T00:00:00",
          "2023-12-29T00:00:00"
         ],
         "y": [
          0,
          -0.36404837619251856,
          -0.3049380076116118,
          -0.055048517427431595,
          -0.19544470611398163,
          -0.41656416897042164,
          -0.44703998072551465,
          -0.3168663405540215,
          -0.1761782068566203,
          0.11827449873450042,
          -0.0134757189382833,
          -0.09934932078731169,
          -0.3712388871748488,
          -0.3280204162265409,
          -0.24980681948108704,
          -0.20677791246418842,
          -0.24306828315321222,
          -0.24900488203167273,
          -0.3087974560020367,
          -0.36149453034285484,
          -0.43319300474047173,
          -0.22559847301879515,
          -0.11909508096271484,
          0.028013828136074802,
          -0.02552292424740248,
          -0.11474486834190296,
          -0.22022519745848373,
          -0.44550173260127224,
          -0.5531231591185357,
          -0.5903084623307426,
          -0.676096319395014,
          -0.7958445850148044,
          -0.5152104848021857,
          -0.525709298740354,
          -0.6738872761211121,
          -0.6088765869854751,
          -0.7295445114214928,
          -0.7496291310228084,
          -0.6316295479515536,
          -0.7733216284526431,
          -0.9444394848780402,
          -0.7912152815338342,
          -0.8897844414637902,
          -0.6394693590266257,
          -0.7791970710285722,
          -1.2240971591461403,
          -1.1761552615557904,
          -0.99260420835828,
          -0.5684895091307661,
          -0.8777462049510387,
          -1.0018354000436642,
          -0.9852619343643096,
          -1.0595625210731652,
          -0.8884796244317699,
          -1.2020854737333913,
          -1.3907513736557995,
          -1.8332900125600973,
          -1.8203522359410216,
          -2.0581552897363657,
          -1.9425059843761474,
          -1.657498753975417,
          -1.5453630921113337,
          -1.4920351794926512,
          -1.488103695791396,
          -1.5950686009581918,
          -1.8301475985922617,
          -2.0586723866666423,
          -2.160837721157955,
          -2.298123927481307,
          -1.9169957032086522,
          -1.9107205075674343,
          -1.7036500358957727,
          -1.7282702532328647,
          -1.6218431388750685,
          -1.606482905929036,
          -1.7275957546536653,
          -1.7927524415171878,
          -1.8147764990778654,
          -1.7646758239488147,
          -1.9161673157302264,
          -2.0601079349675144,
          -2.4225852783339126,
          -2.610441294465242,
          -2.7504536105785298,
          -2.7821163414382384,
          -2.773628128159361,
          -2.8155456322654464,
          -2.933804273850145,
          -2.853596695497586,
          -3.019851923526063,
          -3.0097741320036047,
          -3.048438911661306,
          -3.0708362551089445,
          -3.120826365444158,
          -3.241563119906097,
          -3.2181779025132267,
          -3.3213129280012224,
          -3.069767173443973,
          -3.173976183872891,
          -2.8925173437982075,
          -2.8675086935093637,
          -2.689241231838216,
          -2.7320283040434266,
          -2.8364101637781256,
          -2.684497699500573,
          -2.7735738177304206,
          -2.7265272489382992,
          -2.538946164650485,
          -2.557969811478947,
          -2.383906539509641,
          -2.1807467976234465,
          -2.003257654614311,
          -1.8908761193842394,
          -1.7514600953137045,
          -1.9125082796488582,
          -2.0963869720517243,
          -2.545498196834223,
          -2.5532583677420986,
          -3.063784417987717,
          -3.078001038052835,
          -3.2996549275857796,
          -3.219559205592072,
          -3.0828108659639843,
          -2.7258986110677013,
          -2.5642217270068564,
          -2.599026557112162,
          -2.7166631902830725,
          -3.0180321811409607,
          -3.1751342370541713,
          -3.073717633198241,
          -3.204124314216281,
          -3.212441327146428,
          -3.5236902659200844,
          -3.6434053514389846,
          -3.6008834290567995,
          -3.4205589573371413,
          -3.6934019075269746,
          -3.9156379256782534,
          -3.69220387117932,
          -3.6936937862752695,
          -3.6047175233663893,
          -3.6131037792799985,
          -3.3912862555077767,
          -3.496787734876816,
          -3.1928350191309653,
          -3.289474679709638,
          -3.2148476302381988,
          -3.20404650348856,
          -3.0015825143785357,
          -2.941047732441438,
          -2.7221383465431144,
          -2.680874008173908,
          -3.0223131779076375,
          -3.1736899273542796,
          -2.84497497392931,
          -3.0089380415303153,
          -2.9119734461085924,
          -3.066545271263031,
          -3.082285237507739,
          -3.276066618343551,
          -3.2147408038501917,
          -3.5389627489393596,
          -3.6343488641505877,
          -3.5406945974980237,
          -3.5703994434296265,
          -3.6876088498281128,
          -3.6070429727962092,
          -3.6279183382530134,
          -3.5861380093947814,
          -3.483869508609446,
          -3.3530917094643287,
          -3.29708913986837,
          -3.1197305723891064,
          -3.1288907195929876,
          -3.454971030202274,
          -3.540569227568151,
          -3.512015124732148,
          -3.5238407553368676,
          -3.4728300686242997,
          -3.6337554082322443,
          -3.36028474110988,
          -3.338647371933816,
          -3.4471061139146206,
          -3.246834221169343,
          -3.5478004657705675,
          -3.4377041264945047,
          -3.4530899601274108,
          -3.524784570198201,
          -3.8224987799931895,
          -3.9466014835759062,
          -4.285953885414457,
          -4.528015932341687,
          -4.745485641100496,
          -4.696127671133487,
          -4.570921671543223,
          -4.608116006658175,
          -4.4816620040984265,
          -4.400595975424287,
          -4.435876111896738,
          -4.691831099779595,
          -4.796720083358688,
          -4.839846290334462,
          -4.678051924797151,
          -4.409324148305209,
          -4.500916239400048,
          -4.527764562566874,
          -4.285745176940487,
          -4.239274052930716,
          -4.2908211605972495,
          -4.123352523154803,
          -4.013796210842742,
          -4.10635988888884,
          -4.077069123994152,
          -4.019823097524339,
          -4.055933596217949,
          -4.359261037095135,
          -4.532878592642668,
          -4.681727590095445,
          -4.578567983858337,
          -4.754013330513005,
          -4.49726030983541,
          -4.056938792515813,
          -3.87123018230319,
          -4.453379480889696,
          -4.209429707867801,
          -4.2811806175713425,
          -4.254258306383262,
          -4.173931781711267,
          -3.9856990065949462,
          -3.754420883490036,
          -3.907446860861744,
          -4.241252313229902,
          -4.1561034728547455,
          -4.14026320592439,
          -4.111759333286437,
          -3.982582534178346,
          -4.176690760634196,
          -3.8847649579063948,
          -3.7713793346986675,
          -3.310674710803051,
          -3.210565799307811,
          -3.2871999958203255,
          -3.3482948688125838,
          -3.2037813054559443,
          -3.1716093158950316,
          -3.2371807080322683,
          -3.162620264622093,
          -2.8961116226970205,
          -2.818835691082301,
          -2.905719227237236,
          -2.956794513859618,
          -2.7776853614918506,
          -2.7751973713939577,
          -2.668625306070895,
          -2.927427886727247,
          -2.8026001818990736,
          -2.84386573469064,
          -2.5596802551590443,
          -2.409889064709072
         ]
        }
       ],
       "layout": {
        "annotations": [
         {
          "font": {
           "size": 14
          },
          "showarrow": false,
          "text": "Коррелирующие линии выделены схожим цветом",
          "x": 0.5,
          "xanchor": "center",
          "xref": "paper",
          "y": 1.15,
          "yanchor": "top",
          "yref": "paper"
         }
        ],
        "autosize": false,
        "height": 700,
        "legend": {
         "orientation": "h",
         "x": 0.5,
         "xanchor": "center",
         "y": 1.02,
         "yanchor": "bottom"
        },
        "template": {
         "data": {
          "bar": [
           {
            "error_x": {
             "color": "#2a3f5f"
            },
            "error_y": {
             "color": "#2a3f5f"
            },
            "marker": {
             "line": {
              "color": "#E5ECF6",
              "width": 0.5
             },
             "pattern": {
              "fillmode": "overlay",
              "size": 10,
              "solidity": 0.2
             }
            },
            "type": "bar"
           }
          ],
          "barpolar": [
           {
            "marker": {
             "line": {
              "color": "#E5ECF6",
              "width": 0.5
             },
             "pattern": {
              "fillmode": "overlay",
              "size": 10,
              "solidity": 0.2
             }
            },
            "type": "barpolar"
           }
          ],
          "carpet": [
           {
            "aaxis": {
             "endlinecolor": "#2a3f5f",
             "gridcolor": "white",
             "linecolor": "white",
             "minorgridcolor": "white",
             "startlinecolor": "#2a3f5f"
            },
            "baxis": {
             "endlinecolor": "#2a3f5f",
             "gridcolor": "white",
             "linecolor": "white",
             "minorgridcolor": "white",
             "startlinecolor": "#2a3f5f"
            },
            "type": "carpet"
           }
          ],
          "choropleth": [
           {
            "colorbar": {
             "outlinewidth": 0,
             "ticks": ""
            },
            "type": "choropleth"
           }
          ],
          "contour": [
           {
            "colorbar": {
             "outlinewidth": 0,
             "ticks": ""
            },
            "colorscale": [
             [
              0,
              "#0d0887"
             ],
             [
              0.1111111111111111,
              "#46039f"
             ],
             [
              0.2222222222222222,
              "#7201a8"
             ],
             [
              0.3333333333333333,
              "#9c179e"
             ],
             [
              0.4444444444444444,
              "#bd3786"
             ],
             [
              0.5555555555555556,
              "#d8576b"
             ],
             [
              0.6666666666666666,
              "#ed7953"
             ],
             [
              0.7777777777777778,
              "#fb9f3a"
             ],
             [
              0.8888888888888888,
              "#fdca26"
             ],
             [
              1,
              "#f0f921"
             ]
            ],
            "type": "contour"
           }
          ],
          "contourcarpet": [
           {
            "colorbar": {
             "outlinewidth": 0,
             "ticks": ""
            },
            "type": "contourcarpet"
           }
          ],
          "heatmap": [
           {
            "colorbar": {
             "outlinewidth": 0,
             "ticks": ""
            },
            "colorscale": [
             [
              0,
              "#0d0887"
             ],
             [
              0.1111111111111111,
              "#46039f"
             ],
             [
              0.2222222222222222,
              "#7201a8"
             ],
             [
              0.3333333333333333,
              "#9c179e"
             ],
             [
              0.4444444444444444,
              "#bd3786"
             ],
             [
              0.5555555555555556,
              "#d8576b"
             ],
             [
              0.6666666666666666,
              "#ed7953"
             ],
             [
              0.7777777777777778,
              "#fb9f3a"
             ],
             [
              0.8888888888888888,
              "#fdca26"
             ],
             [
              1,
              "#f0f921"
             ]
            ],
            "type": "heatmap"
           }
          ],
          "heatmapgl": [
           {
            "colorbar": {
             "outlinewidth": 0,
             "ticks": ""
            },
            "colorscale": [
             [
              0,
              "#0d0887"
             ],
             [
              0.1111111111111111,
              "#46039f"
             ],
             [
              0.2222222222222222,
              "#7201a8"
             ],
             [
              0.3333333333333333,
              "#9c179e"
             ],
             [
              0.4444444444444444,
              "#bd3786"
             ],
             [
              0.5555555555555556,
              "#d8576b"
             ],
             [
              0.6666666666666666,
              "#ed7953"
             ],
             [
              0.7777777777777778,
              "#fb9f3a"
             ],
             [
              0.8888888888888888,
              "#fdca26"
             ],
             [
              1,
              "#f0f921"
             ]
            ],
            "type": "heatmapgl"
           }
          ],
          "histogram": [
           {
            "marker": {
             "pattern": {
              "fillmode": "overlay",
              "size": 10,
              "solidity": 0.2
             }
            },
            "type": "histogram"
           }
          ],
          "histogram2d": [
           {
            "colorbar": {
             "outlinewidth": 0,
             "ticks": ""
            },
            "colorscale": [
             [
              0,
              "#0d0887"
             ],
             [
              0.1111111111111111,
              "#46039f"
             ],
             [
              0.2222222222222222,
              "#7201a8"
             ],
             [
              0.3333333333333333,
              "#9c179e"
             ],
             [
              0.4444444444444444,
              "#bd3786"
             ],
             [
              0.5555555555555556,
              "#d8576b"
             ],
             [
              0.6666666666666666,
              "#ed7953"
             ],
             [
              0.7777777777777778,
              "#fb9f3a"
             ],
             [
              0.8888888888888888,
              "#fdca26"
             ],
             [
              1,
              "#f0f921"
             ]
            ],
            "type": "histogram2d"
           }
          ],
          "histogram2dcontour": [
           {
            "colorbar": {
             "outlinewidth": 0,
             "ticks": ""
            },
            "colorscale": [
             [
              0,
              "#0d0887"
             ],
             [
              0.1111111111111111,
              "#46039f"
             ],
             [
              0.2222222222222222,
              "#7201a8"
             ],
             [
              0.3333333333333333,
              "#9c179e"
             ],
             [
              0.4444444444444444,
              "#bd3786"
             ],
             [
              0.5555555555555556,
              "#d8576b"
             ],
             [
              0.6666666666666666,
              "#ed7953"
             ],
             [
              0.7777777777777778,
              "#fb9f3a"
             ],
             [
              0.8888888888888888,
              "#fdca26"
             ],
             [
              1,
              "#f0f921"
             ]
            ],
            "type": "histogram2dcontour"
           }
          ],
          "mesh3d": [
           {
            "colorbar": {
             "outlinewidth": 0,
             "ticks": ""
            },
            "type": "mesh3d"
           }
          ],
          "parcoords": [
           {
            "line": {
             "colorbar": {
              "outlinewidth": 0,
              "ticks": ""
             }
            },
            "type": "parcoords"
           }
          ],
          "pie": [
           {
            "automargin": true,
            "type": "pie"
           }
          ],
          "scatter": [
           {
            "fillpattern": {
             "fillmode": "overlay",
             "size": 10,
             "solidity": 0.2
            },
            "type": "scatter"
           }
          ],
          "scatter3d": [
           {
            "line": {
             "colorbar": {
              "outlinewidth": 0,
              "ticks": ""
             }
            },
            "marker": {
             "colorbar": {
              "outlinewidth": 0,
              "ticks": ""
             }
            },
            "type": "scatter3d"
           }
          ],
          "scattercarpet": [
           {
            "marker": {
             "colorbar": {
              "outlinewidth": 0,
              "ticks": ""
             }
            },
            "type": "scattercarpet"
           }
          ],
          "scattergeo": [
           {
            "marker": {
             "colorbar": {
              "outlinewidth": 0,
              "ticks": ""
             }
            },
            "type": "scattergeo"
           }
          ],
          "scattergl": [
           {
            "marker": {
             "colorbar": {
              "outlinewidth": 0,
              "ticks": ""
             }
            },
            "type": "scattergl"
           }
          ],
          "scattermapbox": [
           {
            "marker": {
             "colorbar": {
              "outlinewidth": 0,
              "ticks": ""
             }
            },
            "type": "scattermapbox"
           }
          ],
          "scatterpolar": [
           {
            "marker": {
             "colorbar": {
              "outlinewidth": 0,
              "ticks": ""
             }
            },
            "type": "scatterpolar"
           }
          ],
          "scatterpolargl": [
           {
            "marker": {
             "colorbar": {
              "outlinewidth": 0,
              "ticks": ""
             }
            },
            "type": "scatterpolargl"
           }
          ],
          "scatterternary": [
           {
            "marker": {
             "colorbar": {
              "outlinewidth": 0,
              "ticks": ""
             }
            },
            "type": "scatterternary"
           }
          ],
          "surface": [
           {
            "colorbar": {
             "outlinewidth": 0,
             "ticks": ""
            },
            "colorscale": [
             [
              0,
              "#0d0887"
             ],
             [
              0.1111111111111111,
              "#46039f"
             ],
             [
              0.2222222222222222,
              "#7201a8"
             ],
             [
              0.3333333333333333,
              "#9c179e"
             ],
             [
              0.4444444444444444,
              "#bd3786"
             ],
             [
              0.5555555555555556,
              "#d8576b"
             ],
             [
              0.6666666666666666,
              "#ed7953"
             ],
             [
              0.7777777777777778,
              "#fb9f3a"
             ],
             [
              0.8888888888888888,
              "#fdca26"
             ],
             [
              1,
              "#f0f921"
             ]
            ],
            "type": "surface"
           }
          ],
          "table": [
           {
            "cells": {
             "fill": {
              "color": "#EBF0F8"
             },
             "line": {
              "color": "white"
             }
            },
            "header": {
             "fill": {
              "color": "#C8D4E3"
             },
             "line": {
              "color": "white"
             }
            },
            "type": "table"
           }
          ]
         },
         "layout": {
          "annotationdefaults": {
           "arrowcolor": "#2a3f5f",
           "arrowhead": 0,
           "arrowwidth": 1
          },
          "autotypenumbers": "strict",
          "coloraxis": {
           "colorbar": {
            "outlinewidth": 0,
            "ticks": ""
           }
          },
          "colorscale": {
           "diverging": [
            [
             0,
             "#8e0152"
            ],
            [
             0.1,
             "#c51b7d"
            ],
            [
             0.2,
             "#de77ae"
            ],
            [
             0.3,
             "#f1b6da"
            ],
            [
             0.4,
             "#fde0ef"
            ],
            [
             0.5,
             "#f7f7f7"
            ],
            [
             0.6,
             "#e6f5d0"
            ],
            [
             0.7,
             "#b8e186"
            ],
            [
             0.8,
             "#7fbc41"
            ],
            [
             0.9,
             "#4d9221"
            ],
            [
             1,
             "#276419"
            ]
           ],
           "sequential": [
            [
             0,
             "#0d0887"
            ],
            [
             0.1111111111111111,
             "#46039f"
            ],
            [
             0.2222222222222222,
             "#7201a8"
            ],
            [
             0.3333333333333333,
             "#9c179e"
            ],
            [
             0.4444444444444444,
             "#bd3786"
            ],
            [
             0.5555555555555556,
             "#d8576b"
            ],
            [
             0.6666666666666666,
             "#ed7953"
            ],
            [
             0.7777777777777778,
             "#fb9f3a"
            ],
            [
             0.8888888888888888,
             "#fdca26"
            ],
            [
             1,
             "#f0f921"
            ]
           ],
           "sequentialminus": [
            [
             0,
             "#0d0887"
            ],
            [
             0.1111111111111111,
             "#46039f"
            ],
            [
             0.2222222222222222,
             "#7201a8"
            ],
            [
             0.3333333333333333,
             "#9c179e"
            ],
            [
             0.4444444444444444,
             "#bd3786"
            ],
            [
             0.5555555555555556,
             "#d8576b"
            ],
            [
             0.6666666666666666,
             "#ed7953"
            ],
            [
             0.7777777777777778,
             "#fb9f3a"
            ],
            [
             0.8888888888888888,
             "#fdca26"
            ],
            [
             1,
             "#f0f921"
            ]
           ]
          },
          "colorway": [
           "#636efa",
           "#EF553B",
           "#00cc96",
           "#ab63fa",
           "#FFA15A",
           "#19d3f3",
           "#FF6692",
           "#B6E880",
           "#FF97FF",
           "#FECB52"
          ],
          "font": {
           "color": "#2a3f5f"
          },
          "geo": {
           "bgcolor": "white",
           "lakecolor": "white",
           "landcolor": "#E5ECF6",
           "showlakes": true,
           "showland": true,
           "subunitcolor": "white"
          },
          "hoverlabel": {
           "align": "left"
          },
          "hovermode": "closest",
          "mapbox": {
           "style": "light"
          },
          "paper_bgcolor": "white",
          "plot_bgcolor": "#E5ECF6",
          "polar": {
           "angularaxis": {
            "gridcolor": "white",
            "linecolor": "white",
            "ticks": ""
           },
           "bgcolor": "#E5ECF6",
           "radialaxis": {
            "gridcolor": "white",
            "linecolor": "white",
            "ticks": ""
           }
          },
          "scene": {
           "xaxis": {
            "backgroundcolor": "#E5ECF6",
            "gridcolor": "white",
            "gridwidth": 2,
            "linecolor": "white",
            "showbackground": true,
            "ticks": "",
            "zerolinecolor": "white"
           },
           "yaxis": {
            "backgroundcolor": "#E5ECF6",
            "gridcolor": "white",
            "gridwidth": 2,
            "linecolor": "white",
            "showbackground": true,
            "ticks": "",
            "zerolinecolor": "white"
           },
           "zaxis": {
            "backgroundcolor": "#E5ECF6",
            "gridcolor": "white",
            "gridwidth": 2,
            "linecolor": "white",
            "showbackground": true,
            "ticks": "",
            "zerolinecolor": "white"
           }
          },
          "shapedefaults": {
           "line": {
            "color": "#2a3f5f"
           }
          },
          "ternary": {
           "aaxis": {
            "gridcolor": "white",
            "linecolor": "white",
            "ticks": ""
           },
           "baxis": {
            "gridcolor": "white",
            "linecolor": "white",
            "ticks": ""
           },
           "bgcolor": "#E5ECF6",
           "caxis": {
            "gridcolor": "white",
            "linecolor": "white",
            "ticks": ""
           }
          },
          "title": {
           "x": 0.05
          },
          "xaxis": {
           "automargin": true,
           "gridcolor": "white",
           "linecolor": "white",
           "ticks": "",
           "title": {
            "standoff": 15
           },
           "zerolinecolor": "white",
           "zerolinewidth": 2
          },
          "yaxis": {
           "automargin": true,
           "gridcolor": "white",
           "linecolor": "white",
           "ticks": "",
           "title": {
            "standoff": 15
           },
           "zerolinecolor": "white",
           "zerolinewidth": 2
          }
         }
        },
        "width": 1500
       }
      }
     },
     "metadata": {},
     "output_type": "display_data"
    }
   ],
   "source": [
    "\n",
    "# Фильтрация данных для 2023 года\n",
    "filtered_data = df[df['year'] == 2023]\n",
    "\n",
    "fig = go.Figure()\n",
    "\n",
    "# Определение параметров для каждой линии\n",
    "lines = [\n",
    "    {'column': 'avg_2Y_seasons_year_predict', 'name': 'avg_2Y_seasons_year', 'color': 'FireBrick'},\n",
    "    {'column': 'avg_2Y_seasons_month_predict', 'name': 'avg_2Y_seasons_month', 'color': 'DarkOliveGreen'},\n",
    "    {'column': 'avg_5Y_seasons_year_predict', 'name': 'avg_5Y_seasons_year', 'color': 'Crimson'},\n",
    "    {'column': 'avg_5Y_seasons_month_predict', 'name': 'avg_5Y_seasons_month', 'color': 'OliveDrab'}\n",
    "]\n",
    "\n",
    "\n",
    "for line in lines:\n",
    "    fig.add_trace(go.Scatter(\n",
    "        x=filtered_data.index,\n",
    "        y=filtered_data[line['column']],\n",
    "        mode='lines+markers',\n",
    "        marker=dict(size=3),\n",
    "        name=line['name'],\n",
    "        line=dict(width=2, color=line['color'])\n",
    "    ))\n",
    "\n",
    "# Настройка размеров графика и легенды\n",
    "fig.update_layout(autosize=False, width=1500, height=700,\n",
    "    legend=dict(\n",
    "        orientation=\"h\",  \n",
    "        yanchor=\"bottom\",\n",
    "        y=1.02,  # Расположение над графиком\n",
    "        xanchor=\"center\",\n",
    "        x=0.5\n",
    "    ),\n",
    "    annotations=[\n",
    "        dict(\n",
    "            xref='paper',\n",
    "            yref='paper',\n",
    "            x=0.5,\n",
    "            y=1.15,\n",
    "            xanchor='center',\n",
    "            yanchor='top',\n",
    "            text='Коррелирующие линии выделены схожим цветом',\n",
    "            showarrow=False,\n",
    "            font=dict(size=14)\n",
    "        )]\n",
    ")\n",
    "\n",
    "fig.show()\n"
   ]
  },
  {
   "cell_type": "markdown",
   "metadata": {},
   "source": [
    "# Features engineering          \n",
    "Так как цен OHLC недостаточно для оптимальной работы прогнозной модели, то добавлю в датафрейм несколько технических индикаторов для анализа финансовых временных рядов:\n",
    "\n",
    "#### Краткое описание применения индикаторов:\n",
    "\n",
    "**Полосы Боллинджера (Bollinger Bands, BB):**\n",
    "\n",
    "-   **BB\\_upper\\_predict:** Используется для определения потенциальных зон сопротивления цены, так как прорыв верхней полосы может указывать на перекупленность.\n",
    "-   **BB\\_middle\\_predict:** Служит динамической скользящей средней, помогая отслеживать тренд и потенциальные точки разворота.\n",
    "-   **BB\\_lower\\_predict:** Используется для определения потенциальных зон поддержки цены, так как прорыв нижней полосы может указывать на перепроданность.\n",
    "\n",
    "**RSI:** Оценивает силу и скорость движения цены, помогая определить перекупленность (выше 70) и перепроданность (ниже 30) рынка.\n",
    "\n",
    "**ADX:** Измеряет силу тренда, помогая определить его наличие и направление. Значения выше 25 обычно указывают на сильный тренд.\n",
    "\n",
    "**Экспоненциальная скользящая средняя (EMA):** Используется для сглаживания ценовых колебаний и определения долгосрочного тренда. EMA с длительным периодом 550 дней будет являться уровнем поддержки/сопротивления и указывать на более глобальный долгосрочный тренд.\n",
    "\n",
    "**Accumulation/Distribution Index (A/D):** Индекс накопления/распределения отражает соотношение между покупками и продажами, помогая определить накопление или распределение актива. В данном случае использованы тиковые объёмы актива, так как данные о реальных объёмах торгов отсутствуют в платформе metatrader. Дивиргенция цены и индикатора может говорить о начале разворота тренда."
   ]
  },
  {
   "cell_type": "code",
   "execution_count": 14,
   "metadata": {},
   "outputs": [],
   "source": [
    "df['BB_upper_predict']= ta.volatility.BollingerBands(df['close'], window=10, window_dev=1).bollinger_hband().shift(1)\n",
    "df['BB_middle_predict'] = ta.volatility.BollingerBands(df['close'], window=10, window_dev=1).bollinger_mavg().shift(1)\n",
    "df['BB_lower_predict'] = ta.volatility.BollingerBands(df['close'], window=10, window_dev=1).bollinger_lband().shift(1)\n",
    "df['RSI_predict'] = ta.momentum.RSIIndicator(df['close'], window=10).rsi().shift(1)\n",
    "df['ADX_predict'] = ta.trend.ADXIndicator(df['high'], df['low'], df['close'], window=3).adx().shift(1)\n",
    "df['EMA_predict'] = ta.trend.EMAIndicator(df['close'], window=550).ema_indicator().shift(1)\n",
    "df['A/D_predict'] = ta.volume.AccDistIndexIndicator(df['high'], df['low'], df['close'], df['tick_volume']).acc_dist_index().shift(1)\n"
   ]
  },
  {
   "cell_type": "markdown",
   "metadata": {},
   "source": [
    "##### Также для индикатора A/D дополнительно добавлю уровни перекупленности/перепроданности **A/D\\_upper\\_predict, A/D\\_lower\\_predict:** в размере 2 СКО."
   ]
  },
  {
   "cell_type": "code",
   "execution_count": 15,
   "metadata": {},
   "outputs": [],
   "source": [
    "# Вычисление уровней\n",
    "def calculate_levels(series, window=14):\n",
    "    rolling_mean = series.rolling(window=window).mean()\n",
    "    rolling_std = series.rolling(window=window).std()\n",
    "    upper_level = rolling_mean + (2 * rolling_std)\n",
    "    lower_level = rolling_mean - (2 * rolling_std)\n",
    "    return upper_level, lower_level\n",
    "\n",
    "# Добавление уровней в DataFrame\n",
    "df['A/D_upper_predict'], df['A/D_lower_predict'] = calculate_levels(df['A/D_predict'])"
   ]
  },
  {
   "cell_type": "markdown",
   "metadata": {},
   "source": [
    "##### Визуализация уровней:"
   ]
  },
  {
   "cell_type": "code",
   "execution_count": 16,
   "metadata": {},
   "outputs": [
    {
     "data": {
      "application/vnd.plotly.v1+json": {
       "config": {
        "plotlyServerURL": "https://plot.ly"
       },
       "data": [
        {
         "mode": "lines",
         "name": "A/D",
         "type": "scatter",
         "x": [
          "2024-04-10T00:00:00",
          "2024-04-11T00:00:00",
          "2024-04-12T00:00:00",
          "2024-04-15T00:00:00",
          "2024-04-16T00:00:00",
          "2024-04-17T00:00:00",
          "2024-04-18T00:00:00",
          "2024-04-19T00:00:00",
          "2024-04-22T00:00:00",
          "2024-04-23T00:00:00",
          "2024-04-24T00:00:00",
          "2024-04-25T00:00:00",
          "2024-04-26T00:00:00",
          "2024-04-29T00:00:00",
          "2024-04-30T00:00:00",
          "2024-05-01T00:00:00",
          "2024-05-02T00:00:00",
          "2024-05-03T00:00:00",
          "2024-05-06T00:00:00",
          "2024-05-07T00:00:00",
          "2024-05-08T00:00:00",
          "2024-05-09T00:00:00",
          "2024-05-10T00:00:00",
          "2024-05-13T00:00:00",
          "2024-05-14T00:00:00",
          "2024-05-15T00:00:00",
          "2024-05-16T00:00:00",
          "2024-05-17T00:00:00",
          "2024-05-20T00:00:00",
          "2024-05-21T00:00:00",
          "2024-05-22T00:00:00",
          "2024-05-23T00:00:00",
          "2024-05-24T00:00:00",
          "2024-05-27T00:00:00",
          "2024-05-28T00:00:00",
          "2024-05-29T00:00:00",
          "2024-05-30T00:00:00",
          "2024-05-31T00:00:00",
          "2024-06-03T00:00:00",
          "2024-06-04T00:00:00",
          "2024-06-05T00:00:00",
          "2024-06-06T00:00:00",
          "2024-06-07T00:00:00",
          "2024-06-10T00:00:00",
          "2024-06-11T00:00:00",
          "2024-06-12T00:00:00",
          "2024-06-13T00:00:00",
          "2024-06-14T00:00:00",
          "2024-06-17T00:00:00",
          "2024-06-18T00:00:00",
          "2024-06-19T00:00:00",
          "2024-06-20T00:00:00",
          "2024-06-21T00:00:00",
          "2024-06-24T00:00:00",
          "2024-06-25T00:00:00",
          "2024-06-26T00:00:00",
          "2024-06-27T00:00:00",
          "2024-06-28T00:00:00",
          "2024-07-01T00:00:00",
          "2024-07-02T00:00:00",
          "2024-07-03T00:00:00",
          "2024-07-04T00:00:00",
          "2024-07-05T00:00:00",
          "2024-07-08T00:00:00",
          "2024-07-09T00:00:00",
          "2024-07-10T00:00:00",
          "2024-07-11T00:00:00",
          "2024-07-12T00:00:00",
          "2024-07-15T00:00:00",
          "2024-07-16T00:00:00",
          "2024-07-17T00:00:00",
          "2024-07-18T00:00:00",
          "2024-07-19T00:00:00",
          "2024-07-22T00:00:00",
          "2024-07-23T00:00:00",
          "2024-07-24T00:00:00",
          "2024-07-25T00:00:00",
          "2024-07-26T00:00:00",
          "2024-07-29T00:00:00",
          "2024-07-30T00:00:00",
          "2024-07-31T00:00:00",
          "2024-08-01T00:00:00",
          "2024-08-02T00:00:00",
          "2024-08-05T00:00:00",
          "2024-08-06T00:00:00",
          "2024-08-07T00:00:00",
          "2024-08-08T00:00:00",
          "2024-08-09T00:00:00",
          "2024-08-12T00:00:00",
          "2024-08-13T00:00:00",
          "2024-08-14T00:00:00",
          "2024-08-15T00:00:00",
          "2024-08-16T00:00:00",
          "2024-08-19T00:00:00",
          "2024-08-20T00:00:00",
          "2024-08-21T00:00:00",
          "2024-08-22T00:00:00",
          "2024-08-23T00:00:00",
          "2024-08-26T00:00:00",
          "2024-08-27T00:00:00"
         ],
         "y": [
          -2290185.2049250454,
          -2353179.0664188815,
          -2358804.287084379,
          -2406602.1557522956,
          -2478259.048059986,
          -2510408.445006554,
          -2444199.049911186,
          -2507671.049911186,
          -2469322.36194685,
          -2450369.8598191882,
          -2396342.2466504667,
          -2387637.9187816125,
          -2337694.057395474,
          -2371605.5630558524,
          -2337030.832718774,
          -2415399.5408732784,
          -2363744.7015447407,
          -2290693.380052732,
          -2297855.4272968294,
          -2306565.5765926056,
          -2343805.260136912,
          -2340264.729163462,
          -2287415.399130461,
          -2306148.2514794483,
          -2297332.7769031753,
          -2253649.7104636524,
          -2190787.2447102247,
          -2210944.139575754,
          -2182890.2610710845,
          -2218800.678289625,
          -2232893.7328350805,
          -2279052.512055859,
          -2323925.410301471,
          -2295941.0374525245,
          -2282632.5001390968,
          -2326126.723543354,
          -2391978.7368989442,
          -2358149.258025704,
          -2352049.966763569,
          -2293794.688248981,
          -2315639.6601788066,
          -2327731.6978132147,
          -2304093.429458782,
          -2376446.6388063957,
          -2356244.155066556,
          -2370208.56160013,
          -2347480.8343274035,
          -2407015.891743669,
          -2407567.1272649057,
          -2356706.2945800815,
          -2347392.700830081,
          -2332739.130383345,
          -2388867.820038518,
          -2395637.2058971073,
          -2352868.55469711,
          -2362951.1890254687,
          -2397138.4529946432,
          -2392359.359688358,
          -2360078.6558908867,
          -2380496.3601162387,
          -2321983.440116242,
          -2304455.0910479203,
          -2267251.7513043294,
          -2208029.97562299,
          -2209458.9041944155,
          -2230915.7531152745,
          -2188018.0705755893,
          -2178316.656039922,
          -2129294.1418698803,
          -2152400.499189981,
          -2114624.5679578874,
          -2063624.2524703199,
          -2131157.0278940476,
          -2163863.678084163,
          -2150454.4503613873,
          -2185239.8889247174,
          -2211621.105140934,
          -2228675.620728467,
          -2227410.6398855527,
          -2258513.1398855513,
          -2266810.1131475815,
          -2263668.4760167766,
          -2323206.3067594385,
          -2249490.0329005173,
          -2250581.5316062984,
          -2272449.903034872,
          -2267231.06702201,
          -2250983.7467708313,
          -2275549.31198822,
          -2251465.4078786303,
          -2196406.4265049403,
          -2199825.026200527,
          -2220426.6953962785,
          -2170012.8539122962,
          -2111241.422235275,
          -2045484.5633712495,
          -2016218.955993123,
          -2058996.853891022,
          -1995693.8276580737,
          -2039936.8276580728
         ]
        },
        {
         "line": {
          "dash": "dash"
         },
         "mode": "lines",
         "name": "A/D upper",
         "type": "scatter",
         "x": [
          "2024-04-10T00:00:00",
          "2024-04-11T00:00:00",
          "2024-04-12T00:00:00",
          "2024-04-15T00:00:00",
          "2024-04-16T00:00:00",
          "2024-04-17T00:00:00",
          "2024-04-18T00:00:00",
          "2024-04-19T00:00:00",
          "2024-04-22T00:00:00",
          "2024-04-23T00:00:00",
          "2024-04-24T00:00:00",
          "2024-04-25T00:00:00",
          "2024-04-26T00:00:00",
          "2024-04-29T00:00:00",
          "2024-04-30T00:00:00",
          "2024-05-01T00:00:00",
          "2024-05-02T00:00:00",
          "2024-05-03T00:00:00",
          "2024-05-06T00:00:00",
          "2024-05-07T00:00:00",
          "2024-05-08T00:00:00",
          "2024-05-09T00:00:00",
          "2024-05-10T00:00:00",
          "2024-05-13T00:00:00",
          "2024-05-14T00:00:00",
          "2024-05-15T00:00:00",
          "2024-05-16T00:00:00",
          "2024-05-17T00:00:00",
          "2024-05-20T00:00:00",
          "2024-05-21T00:00:00",
          "2024-05-22T00:00:00",
          "2024-05-23T00:00:00",
          "2024-05-24T00:00:00",
          "2024-05-27T00:00:00",
          "2024-05-28T00:00:00",
          "2024-05-29T00:00:00",
          "2024-05-30T00:00:00",
          "2024-05-31T00:00:00",
          "2024-06-03T00:00:00",
          "2024-06-04T00:00:00",
          "2024-06-05T00:00:00",
          "2024-06-06T00:00:00",
          "2024-06-07T00:00:00",
          "2024-06-10T00:00:00",
          "2024-06-11T00:00:00",
          "2024-06-12T00:00:00",
          "2024-06-13T00:00:00",
          "2024-06-14T00:00:00",
          "2024-06-17T00:00:00",
          "2024-06-18T00:00:00",
          "2024-06-19T00:00:00",
          "2024-06-20T00:00:00",
          "2024-06-21T00:00:00",
          "2024-06-24T00:00:00",
          "2024-06-25T00:00:00",
          "2024-06-26T00:00:00",
          "2024-06-27T00:00:00",
          "2024-06-28T00:00:00",
          "2024-07-01T00:00:00",
          "2024-07-02T00:00:00",
          "2024-07-03T00:00:00",
          "2024-07-04T00:00:00",
          "2024-07-05T00:00:00",
          "2024-07-08T00:00:00",
          "2024-07-09T00:00:00",
          "2024-07-10T00:00:00",
          "2024-07-11T00:00:00",
          "2024-07-12T00:00:00",
          "2024-07-15T00:00:00",
          "2024-07-16T00:00:00",
          "2024-07-17T00:00:00",
          "2024-07-18T00:00:00",
          "2024-07-19T00:00:00",
          "2024-07-22T00:00:00",
          "2024-07-23T00:00:00",
          "2024-07-24T00:00:00",
          "2024-07-25T00:00:00",
          "2024-07-26T00:00:00",
          "2024-07-29T00:00:00",
          "2024-07-30T00:00:00",
          "2024-07-31T00:00:00",
          "2024-08-01T00:00:00",
          "2024-08-02T00:00:00",
          "2024-08-05T00:00:00",
          "2024-08-06T00:00:00",
          "2024-08-07T00:00:00",
          "2024-08-08T00:00:00",
          "2024-08-09T00:00:00",
          "2024-08-12T00:00:00",
          "2024-08-13T00:00:00",
          "2024-08-14T00:00:00",
          "2024-08-15T00:00:00",
          "2024-08-16T00:00:00",
          "2024-08-19T00:00:00",
          "2024-08-20T00:00:00",
          "2024-08-21T00:00:00",
          "2024-08-22T00:00:00",
          "2024-08-23T00:00:00",
          "2024-08-26T00:00:00",
          "2024-08-27T00:00:00"
         ],
         "y": [
          -2254750.858587016,
          -2261176.7135326946,
          -2261160.486755898,
          -2264046.513680061,
          -2250508.2894171467,
          -2237206.4539293377,
          -2236201.6008888367,
          -2228720.8400927386,
          -2226850.6296474827,
          -2228301.1122670863,
          -2240252.7611170257,
          -2244308.7529605026,
          -2250278.5582228336,
          -2277807.007135973,
          -2292359.5419984935,
          -2302049.9668660252,
          -2303160.4122632705,
          -2275938.6454096325,
          -2256277.0133059463,
          -2249510.7179359975,
          -2245495.2750902963,
          -2256345.8288945914,
          -2254200.7333892146,
          -2259457.7760605924,
          -2255712.733093788,
          -2241524.504486271,
          -2205032.656225152,
          -2185943.672853856,
          -2160609.507145708,
          -2162320.7605335093,
          -2162063.4992353474,
          -2161795.562878783,
          -2160508.243406594,
          -2160713.303700544,
          -2164776.684560445,
          -2166834.4049046193,
          -2152602.8279659324,
          -2148546.6076069213,
          -2146190.522074878,
          -2149644.4458313584,
          -2168458.278213822,
          -2184463.9977434943,
          -2214569.153012687,
          -2234236.1577335256,
          -2256994.0218828805,
          -2265953.3194260024,
          -2267536.121999037,
          -2269735.4393228563,
          -2280187.931244898,
          -2283970.469507544,
          -2284090.3691818696,
          -2281684.4934817674,
          -2281139.3844398432,
          -2293532.1639161133,
          -2300985.890083724,
          -2306799.3114435836,
          -2322821.5217848564,
          -2322717.6647019926,
          -2323336.033723355,
          -2323930.3446056205,
          -2316440.6305439887,
          -2302487.1177275986,
          -2278683.5774614457,
          -2234985.2240318577,
          -2203683.3455850068,
          -2185238.8350271387,
          -2157938.2513844734,
          -2135001.2318569818,
          -2099888.3038332905,
          -2079354.9788914127,
          -2059288.754922574,
          -2032675.3638274784,
          -2028515.4852377626,
          -2043585.6468814174,
          -2051465.8268632726,
          -2065594.0706679109,
          -2074242.6712278195,
          -2072159.0748290003,
          -2070525.763085756,
          -2066146.0901493216,
          -2059798.718227097,
          -2056733.4071358207,
          -2053890.610298794,
          -2060473.8799452505,
          -2077734.3621431773,
          -2120210.2642541584,
          -2143724.5956122414,
          -2159886.7609264,
          -2186805.623636375,
          -2204016.3077295036,
          -2198482.6162341274,
          -2190452.7002052036,
          -2188956.0066184113,
          -2168909.2309578033,
          -2130452.1092499644,
          -2075429.8654532395,
          -2029628.7296354081,
          -2003517.318546003,
          -1963850.3678822436,
          -1946512.0081256444
         ]
        },
        {
         "line": {
          "dash": "dash"
         },
         "mode": "lines",
         "name": "A/D Lower",
         "type": "scatter",
         "x": [
          "2024-04-10T00:00:00",
          "2024-04-11T00:00:00",
          "2024-04-12T00:00:00",
          "2024-04-15T00:00:00",
          "2024-04-16T00:00:00",
          "2024-04-17T00:00:00",
          "2024-04-18T00:00:00",
          "2024-04-19T00:00:00",
          "2024-04-22T00:00:00",
          "2024-04-23T00:00:00",
          "2024-04-24T00:00:00",
          "2024-04-25T00:00:00",
          "2024-04-26T00:00:00",
          "2024-04-29T00:00:00",
          "2024-04-30T00:00:00",
          "2024-05-01T00:00:00",
          "2024-05-02T00:00:00",
          "2024-05-03T00:00:00",
          "2024-05-06T00:00:00",
          "2024-05-07T00:00:00",
          "2024-05-08T00:00:00",
          "2024-05-09T00:00:00",
          "2024-05-10T00:00:00",
          "2024-05-13T00:00:00",
          "2024-05-14T00:00:00",
          "2024-05-15T00:00:00",
          "2024-05-16T00:00:00",
          "2024-05-17T00:00:00",
          "2024-05-20T00:00:00",
          "2024-05-21T00:00:00",
          "2024-05-22T00:00:00",
          "2024-05-23T00:00:00",
          "2024-05-24T00:00:00",
          "2024-05-27T00:00:00",
          "2024-05-28T00:00:00",
          "2024-05-29T00:00:00",
          "2024-05-30T00:00:00",
          "2024-05-31T00:00:00",
          "2024-06-03T00:00:00",
          "2024-06-04T00:00:00",
          "2024-06-05T00:00:00",
          "2024-06-06T00:00:00",
          "2024-06-07T00:00:00",
          "2024-06-10T00:00:00",
          "2024-06-11T00:00:00",
          "2024-06-12T00:00:00",
          "2024-06-13T00:00:00",
          "2024-06-14T00:00:00",
          "2024-06-17T00:00:00",
          "2024-06-18T00:00:00",
          "2024-06-19T00:00:00",
          "2024-06-20T00:00:00",
          "2024-06-21T00:00:00",
          "2024-06-24T00:00:00",
          "2024-06-25T00:00:00",
          "2024-06-26T00:00:00",
          "2024-06-27T00:00:00",
          "2024-06-28T00:00:00",
          "2024-07-01T00:00:00",
          "2024-07-02T00:00:00",
          "2024-07-03T00:00:00",
          "2024-07-04T00:00:00",
          "2024-07-05T00:00:00",
          "2024-07-08T00:00:00",
          "2024-07-09T00:00:00",
          "2024-07-10T00:00:00",
          "2024-07-11T00:00:00",
          "2024-07-12T00:00:00",
          "2024-07-15T00:00:00",
          "2024-07-16T00:00:00",
          "2024-07-17T00:00:00",
          "2024-07-18T00:00:00",
          "2024-07-19T00:00:00",
          "2024-07-22T00:00:00",
          "2024-07-23T00:00:00",
          "2024-07-24T00:00:00",
          "2024-07-25T00:00:00",
          "2024-07-26T00:00:00",
          "2024-07-29T00:00:00",
          "2024-07-30T00:00:00",
          "2024-07-31T00:00:00",
          "2024-08-01T00:00:00",
          "2024-08-02T00:00:00",
          "2024-08-05T00:00:00",
          "2024-08-06T00:00:00",
          "2024-08-07T00:00:00",
          "2024-08-08T00:00:00",
          "2024-08-09T00:00:00",
          "2024-08-12T00:00:00",
          "2024-08-13T00:00:00",
          "2024-08-14T00:00:00",
          "2024-08-15T00:00:00",
          "2024-08-16T00:00:00",
          "2024-08-19T00:00:00",
          "2024-08-20T00:00:00",
          "2024-08-21T00:00:00",
          "2024-08-22T00:00:00",
          "2024-08-23T00:00:00",
          "2024-08-26T00:00:00",
          "2024-08-27T00:00:00"
         ],
         "y": [
          -2432558.443284162,
          -2433159.610831164,
          -2433095.0751144467,
          -2443074.229304381,
          -2473864.3657253487,
          -2510104.6938873883,
          -2519174.697445639,
          -2544126.505416021,
          -2552295.776006522,
          -2560081.181406456,
          -2559609.0946243578,
          -2560075.7698360677,
          -2557868.947511813,
          -2545375.894966736,
          -2537515.592646177,
          -2536713.8069864153,
          -2536309.1350835077,
          -2546972.5054086363,
          -2540862.1916890144,
          -2518508.0772855417,
          -2508181.55016349,
          -2473415.807680948,
          -2449574.194212555,
          -2423714.0646355003,
          -2413314.8976384066,
          -2408361.953629071,
          -2423867.1143637267,
          -2420004.4658092936,
          -2423318.5498534865,
          -2393521.7446680204,
          -2375086.010436231,
          -2373690.9656503852,
          -2378702.568408951,
          -2376979.7168092756,
          -2364177.3702354003,
          -2360099.934802639,
          -2389269.131422538,
          -2400754.0670024427,
          -2410926.8939431133,
          -2413207.9670131085,
          -2412230.1939833,
          -2412908.4113446935,
          -2400117.9944166006,
          -2402971.841198158,
          -2397835.465939014,
          -2401898.4611879312,
          -2403680.719190029,
          -2417349.2381935166,
          -2424744.5501465895,
          -2425330.522032048,
          -2418841.1886335993,
          -2417617.046099078,
          -2423421.8484659954,
          -2425578.0000823145,
          -2423442.6874173186,
          -2422660.6219449234,
          -2419930.5578230596,
          -2422307.6607462037,
          -2422237.07755689,
          -2423112.4521769243,
          -2426959.6813512477,
          -2426261.651211102,
          -2430020.137768601,
          -2452479.017061462,
          -2464076.067417504,
          -2467974.38122279,
          -2466582.1435136087,
          -2458473.370204359,
          -2461647.09639559,
          -2452101.7513609696,
          -2431808.848895985,
          -2411460.081817076,
          -2382916.870692958,
          -2336899.1830447204,
          -2304514.8616693146,
          -2273355.874704219,
          -2256760.03897811,
          -2261793.013249141,
          -2265990.858662548,
          -2274313.015423307,
          -2291916.3934272453,
          -2307174.821658071,
          -2337719.3563364637,
          -2345006.0200772276,
          -2347167.961257645,
          -2334524.2949415995,
          -2330449.112030368,
          -2326732.670814306,
          -2317684.502622449,
          -2309934.606951308,
          -2313294.7729272563,
          -2317203.175452189,
          -2317702.1626833715,
          -2325106.0403477997,
          -2341339.0633538803,
          -2365192.1767726727,
          -2367137.9767667446,
          -2366036.076569079,
          -2369290.4980973774,
          -2353412.70422872
         ]
        }
       ],
       "layout": {
        "template": {
         "data": {
          "bar": [
           {
            "error_x": {
             "color": "#2a3f5f"
            },
            "error_y": {
             "color": "#2a3f5f"
            },
            "marker": {
             "line": {
              "color": "#E5ECF6",
              "width": 0.5
             },
             "pattern": {
              "fillmode": "overlay",
              "size": 10,
              "solidity": 0.2
             }
            },
            "type": "bar"
           }
          ],
          "barpolar": [
           {
            "marker": {
             "line": {
              "color": "#E5ECF6",
              "width": 0.5
             },
             "pattern": {
              "fillmode": "overlay",
              "size": 10,
              "solidity": 0.2
             }
            },
            "type": "barpolar"
           }
          ],
          "carpet": [
           {
            "aaxis": {
             "endlinecolor": "#2a3f5f",
             "gridcolor": "white",
             "linecolor": "white",
             "minorgridcolor": "white",
             "startlinecolor": "#2a3f5f"
            },
            "baxis": {
             "endlinecolor": "#2a3f5f",
             "gridcolor": "white",
             "linecolor": "white",
             "minorgridcolor": "white",
             "startlinecolor": "#2a3f5f"
            },
            "type": "carpet"
           }
          ],
          "choropleth": [
           {
            "colorbar": {
             "outlinewidth": 0,
             "ticks": ""
            },
            "type": "choropleth"
           }
          ],
          "contour": [
           {
            "colorbar": {
             "outlinewidth": 0,
             "ticks": ""
            },
            "colorscale": [
             [
              0,
              "#0d0887"
             ],
             [
              0.1111111111111111,
              "#46039f"
             ],
             [
              0.2222222222222222,
              "#7201a8"
             ],
             [
              0.3333333333333333,
              "#9c179e"
             ],
             [
              0.4444444444444444,
              "#bd3786"
             ],
             [
              0.5555555555555556,
              "#d8576b"
             ],
             [
              0.6666666666666666,
              "#ed7953"
             ],
             [
              0.7777777777777778,
              "#fb9f3a"
             ],
             [
              0.8888888888888888,
              "#fdca26"
             ],
             [
              1,
              "#f0f921"
             ]
            ],
            "type": "contour"
           }
          ],
          "contourcarpet": [
           {
            "colorbar": {
             "outlinewidth": 0,
             "ticks": ""
            },
            "type": "contourcarpet"
           }
          ],
          "heatmap": [
           {
            "colorbar": {
             "outlinewidth": 0,
             "ticks": ""
            },
            "colorscale": [
             [
              0,
              "#0d0887"
             ],
             [
              0.1111111111111111,
              "#46039f"
             ],
             [
              0.2222222222222222,
              "#7201a8"
             ],
             [
              0.3333333333333333,
              "#9c179e"
             ],
             [
              0.4444444444444444,
              "#bd3786"
             ],
             [
              0.5555555555555556,
              "#d8576b"
             ],
             [
              0.6666666666666666,
              "#ed7953"
             ],
             [
              0.7777777777777778,
              "#fb9f3a"
             ],
             [
              0.8888888888888888,
              "#fdca26"
             ],
             [
              1,
              "#f0f921"
             ]
            ],
            "type": "heatmap"
           }
          ],
          "heatmapgl": [
           {
            "colorbar": {
             "outlinewidth": 0,
             "ticks": ""
            },
            "colorscale": [
             [
              0,
              "#0d0887"
             ],
             [
              0.1111111111111111,
              "#46039f"
             ],
             [
              0.2222222222222222,
              "#7201a8"
             ],
             [
              0.3333333333333333,
              "#9c179e"
             ],
             [
              0.4444444444444444,
              "#bd3786"
             ],
             [
              0.5555555555555556,
              "#d8576b"
             ],
             [
              0.6666666666666666,
              "#ed7953"
             ],
             [
              0.7777777777777778,
              "#fb9f3a"
             ],
             [
              0.8888888888888888,
              "#fdca26"
             ],
             [
              1,
              "#f0f921"
             ]
            ],
            "type": "heatmapgl"
           }
          ],
          "histogram": [
           {
            "marker": {
             "pattern": {
              "fillmode": "overlay",
              "size": 10,
              "solidity": 0.2
             }
            },
            "type": "histogram"
           }
          ],
          "histogram2d": [
           {
            "colorbar": {
             "outlinewidth": 0,
             "ticks": ""
            },
            "colorscale": [
             [
              0,
              "#0d0887"
             ],
             [
              0.1111111111111111,
              "#46039f"
             ],
             [
              0.2222222222222222,
              "#7201a8"
             ],
             [
              0.3333333333333333,
              "#9c179e"
             ],
             [
              0.4444444444444444,
              "#bd3786"
             ],
             [
              0.5555555555555556,
              "#d8576b"
             ],
             [
              0.6666666666666666,
              "#ed7953"
             ],
             [
              0.7777777777777778,
              "#fb9f3a"
             ],
             [
              0.8888888888888888,
              "#fdca26"
             ],
             [
              1,
              "#f0f921"
             ]
            ],
            "type": "histogram2d"
           }
          ],
          "histogram2dcontour": [
           {
            "colorbar": {
             "outlinewidth": 0,
             "ticks": ""
            },
            "colorscale": [
             [
              0,
              "#0d0887"
             ],
             [
              0.1111111111111111,
              "#46039f"
             ],
             [
              0.2222222222222222,
              "#7201a8"
             ],
             [
              0.3333333333333333,
              "#9c179e"
             ],
             [
              0.4444444444444444,
              "#bd3786"
             ],
             [
              0.5555555555555556,
              "#d8576b"
             ],
             [
              0.6666666666666666,
              "#ed7953"
             ],
             [
              0.7777777777777778,
              "#fb9f3a"
             ],
             [
              0.8888888888888888,
              "#fdca26"
             ],
             [
              1,
              "#f0f921"
             ]
            ],
            "type": "histogram2dcontour"
           }
          ],
          "mesh3d": [
           {
            "colorbar": {
             "outlinewidth": 0,
             "ticks": ""
            },
            "type": "mesh3d"
           }
          ],
          "parcoords": [
           {
            "line": {
             "colorbar": {
              "outlinewidth": 0,
              "ticks": ""
             }
            },
            "type": "parcoords"
           }
          ],
          "pie": [
           {
            "automargin": true,
            "type": "pie"
           }
          ],
          "scatter": [
           {
            "fillpattern": {
             "fillmode": "overlay",
             "size": 10,
             "solidity": 0.2
            },
            "type": "scatter"
           }
          ],
          "scatter3d": [
           {
            "line": {
             "colorbar": {
              "outlinewidth": 0,
              "ticks": ""
             }
            },
            "marker": {
             "colorbar": {
              "outlinewidth": 0,
              "ticks": ""
             }
            },
            "type": "scatter3d"
           }
          ],
          "scattercarpet": [
           {
            "marker": {
             "colorbar": {
              "outlinewidth": 0,
              "ticks": ""
             }
            },
            "type": "scattercarpet"
           }
          ],
          "scattergeo": [
           {
            "marker": {
             "colorbar": {
              "outlinewidth": 0,
              "ticks": ""
             }
            },
            "type": "scattergeo"
           }
          ],
          "scattergl": [
           {
            "marker": {
             "colorbar": {
              "outlinewidth": 0,
              "ticks": ""
             }
            },
            "type": "scattergl"
           }
          ],
          "scattermapbox": [
           {
            "marker": {
             "colorbar": {
              "outlinewidth": 0,
              "ticks": ""
             }
            },
            "type": "scattermapbox"
           }
          ],
          "scatterpolar": [
           {
            "marker": {
             "colorbar": {
              "outlinewidth": 0,
              "ticks": ""
             }
            },
            "type": "scatterpolar"
           }
          ],
          "scatterpolargl": [
           {
            "marker": {
             "colorbar": {
              "outlinewidth": 0,
              "ticks": ""
             }
            },
            "type": "scatterpolargl"
           }
          ],
          "scatterternary": [
           {
            "marker": {
             "colorbar": {
              "outlinewidth": 0,
              "ticks": ""
             }
            },
            "type": "scatterternary"
           }
          ],
          "surface": [
           {
            "colorbar": {
             "outlinewidth": 0,
             "ticks": ""
            },
            "colorscale": [
             [
              0,
              "#0d0887"
             ],
             [
              0.1111111111111111,
              "#46039f"
             ],
             [
              0.2222222222222222,
              "#7201a8"
             ],
             [
              0.3333333333333333,
              "#9c179e"
             ],
             [
              0.4444444444444444,
              "#bd3786"
             ],
             [
              0.5555555555555556,
              "#d8576b"
             ],
             [
              0.6666666666666666,
              "#ed7953"
             ],
             [
              0.7777777777777778,
              "#fb9f3a"
             ],
             [
              0.8888888888888888,
              "#fdca26"
             ],
             [
              1,
              "#f0f921"
             ]
            ],
            "type": "surface"
           }
          ],
          "table": [
           {
            "cells": {
             "fill": {
              "color": "#EBF0F8"
             },
             "line": {
              "color": "white"
             }
            },
            "header": {
             "fill": {
              "color": "#C8D4E3"
             },
             "line": {
              "color": "white"
             }
            },
            "type": "table"
           }
          ]
         },
         "layout": {
          "annotationdefaults": {
           "arrowcolor": "#2a3f5f",
           "arrowhead": 0,
           "arrowwidth": 1
          },
          "autotypenumbers": "strict",
          "coloraxis": {
           "colorbar": {
            "outlinewidth": 0,
            "ticks": ""
           }
          },
          "colorscale": {
           "diverging": [
            [
             0,
             "#8e0152"
            ],
            [
             0.1,
             "#c51b7d"
            ],
            [
             0.2,
             "#de77ae"
            ],
            [
             0.3,
             "#f1b6da"
            ],
            [
             0.4,
             "#fde0ef"
            ],
            [
             0.5,
             "#f7f7f7"
            ],
            [
             0.6,
             "#e6f5d0"
            ],
            [
             0.7,
             "#b8e186"
            ],
            [
             0.8,
             "#7fbc41"
            ],
            [
             0.9,
             "#4d9221"
            ],
            [
             1,
             "#276419"
            ]
           ],
           "sequential": [
            [
             0,
             "#0d0887"
            ],
            [
             0.1111111111111111,
             "#46039f"
            ],
            [
             0.2222222222222222,
             "#7201a8"
            ],
            [
             0.3333333333333333,
             "#9c179e"
            ],
            [
             0.4444444444444444,
             "#bd3786"
            ],
            [
             0.5555555555555556,
             "#d8576b"
            ],
            [
             0.6666666666666666,
             "#ed7953"
            ],
            [
             0.7777777777777778,
             "#fb9f3a"
            ],
            [
             0.8888888888888888,
             "#fdca26"
            ],
            [
             1,
             "#f0f921"
            ]
           ],
           "sequentialminus": [
            [
             0,
             "#0d0887"
            ],
            [
             0.1111111111111111,
             "#46039f"
            ],
            [
             0.2222222222222222,
             "#7201a8"
            ],
            [
             0.3333333333333333,
             "#9c179e"
            ],
            [
             0.4444444444444444,
             "#bd3786"
            ],
            [
             0.5555555555555556,
             "#d8576b"
            ],
            [
             0.6666666666666666,
             "#ed7953"
            ],
            [
             0.7777777777777778,
             "#fb9f3a"
            ],
            [
             0.8888888888888888,
             "#fdca26"
            ],
            [
             1,
             "#f0f921"
            ]
           ]
          },
          "colorway": [
           "#636efa",
           "#EF553B",
           "#00cc96",
           "#ab63fa",
           "#FFA15A",
           "#19d3f3",
           "#FF6692",
           "#B6E880",
           "#FF97FF",
           "#FECB52"
          ],
          "font": {
           "color": "#2a3f5f"
          },
          "geo": {
           "bgcolor": "white",
           "lakecolor": "white",
           "landcolor": "#E5ECF6",
           "showlakes": true,
           "showland": true,
           "subunitcolor": "white"
          },
          "hoverlabel": {
           "align": "left"
          },
          "hovermode": "closest",
          "mapbox": {
           "style": "light"
          },
          "paper_bgcolor": "white",
          "plot_bgcolor": "#E5ECF6",
          "polar": {
           "angularaxis": {
            "gridcolor": "white",
            "linecolor": "white",
            "ticks": ""
           },
           "bgcolor": "#E5ECF6",
           "radialaxis": {
            "gridcolor": "white",
            "linecolor": "white",
            "ticks": ""
           }
          },
          "scene": {
           "xaxis": {
            "backgroundcolor": "#E5ECF6",
            "gridcolor": "white",
            "gridwidth": 2,
            "linecolor": "white",
            "showbackground": true,
            "ticks": "",
            "zerolinecolor": "white"
           },
           "yaxis": {
            "backgroundcolor": "#E5ECF6",
            "gridcolor": "white",
            "gridwidth": 2,
            "linecolor": "white",
            "showbackground": true,
            "ticks": "",
            "zerolinecolor": "white"
           },
           "zaxis": {
            "backgroundcolor": "#E5ECF6",
            "gridcolor": "white",
            "gridwidth": 2,
            "linecolor": "white",
            "showbackground": true,
            "ticks": "",
            "zerolinecolor": "white"
           }
          },
          "shapedefaults": {
           "line": {
            "color": "#2a3f5f"
           }
          },
          "ternary": {
           "aaxis": {
            "gridcolor": "white",
            "linecolor": "white",
            "ticks": ""
           },
           "baxis": {
            "gridcolor": "white",
            "linecolor": "white",
            "ticks": ""
           },
           "bgcolor": "#E5ECF6",
           "caxis": {
            "gridcolor": "white",
            "linecolor": "white",
            "ticks": ""
           }
          },
          "title": {
           "x": 0.05
          },
          "xaxis": {
           "automargin": true,
           "gridcolor": "white",
           "linecolor": "white",
           "ticks": "",
           "title": {
            "standoff": 15
           },
           "zerolinecolor": "white",
           "zerolinewidth": 2
          },
          "yaxis": {
           "automargin": true,
           "gridcolor": "white",
           "linecolor": "white",
           "ticks": "",
           "title": {
            "standoff": 15
           },
           "zerolinecolor": "white",
           "zerolinewidth": 2
          }
         }
        },
        "title": {
         "text": "Accumulation/Distribution Indicator with Upper and Lower Levels"
        },
        "xaxis": {
         "title": {
          "text": "Date"
         },
         "type": "date"
        },
        "yaxis": {
         "title": {
          "text": "A/D Value"
         }
        }
       }
      }
     },
     "metadata": {},
     "output_type": "display_data"
    }
   ],
   "source": [
    "# Отображение последних 100 дней\n",
    "df_last_100 = df.tail(100)\n",
    "\n",
    "fig = go.Figure()\n",
    "\n",
    "# Добавление линии A/D\n",
    "fig.add_trace(go.Scatter(x=df_last_100.index, y=df_last_100['A/D_predict'], mode='lines', name='A/D'))\n",
    "\n",
    "# Добавление верхнего и нижнего уровней\n",
    "fig.add_trace(go.Scatter(x=df_last_100.index, y=df_last_100['A/D_upper_predict'], mode='lines', name='A/D upper', line=dict(dash='dash')))\n",
    "fig.add_trace(go.Scatter(x=df_last_100.index, y=df_last_100['A/D_lower_predict'], mode='lines', name='A/D Lower', line=dict(dash='dash')))\n",
    "\n",
    "# Настройка осей и заголовка\n",
    "fig.update_layout(\n",
    "    title='Accumulation/Distribution Indicator with Upper and Lower Levels',\n",
    "    xaxis_title='Date',\n",
    "    yaxis_title='A/D Value',\n",
    "    xaxis=dict(type='date')\n",
    ")\n",
    "\n",
    "fig.show()\n"
   ]
  },
  {
   "cell_type": "markdown",
   "metadata": {},
   "source": [
    "#### Добавление лаговых признаков"
   ]
  },
  {
   "cell_type": "code",
   "execution_count": 17,
   "metadata": {},
   "outputs": [
    {
     "data": {
      "text/html": [
       "<div>\n",
       "<style scoped>\n",
       "    .dataframe tbody tr th:only-of-type {\n",
       "        vertical-align: middle;\n",
       "    }\n",
       "\n",
       "    .dataframe tbody tr th {\n",
       "        vertical-align: top;\n",
       "    }\n",
       "\n",
       "    .dataframe thead th {\n",
       "        text-align: right;\n",
       "    }\n",
       "</style>\n",
       "<table border=\"1\" class=\"dataframe\">\n",
       "  <thead>\n",
       "    <tr style=\"text-align: right;\">\n",
       "      <th></th>\n",
       "      <th>symbol</th>\n",
       "      <th>open</th>\n",
       "      <th>high</th>\n",
       "      <th>low</th>\n",
       "      <th>close</th>\n",
       "      <th>tick_volume</th>\n",
       "      <th>year</th>\n",
       "      <th>seasons_month</th>\n",
       "      <th>seasons_year</th>\n",
       "      <th>returns</th>\n",
       "      <th>avg_2Y_seasons_year_predict</th>\n",
       "      <th>avg_2Y_seasons_month_predict</th>\n",
       "      <th>avg_5Y_seasons_year_predict</th>\n",
       "      <th>avg_5Y_seasons_month_predict</th>\n",
       "      <th>BB_upper_predict</th>\n",
       "      <th>BB_middle_predict</th>\n",
       "      <th>BB_lower_predict</th>\n",
       "      <th>RSI_predict</th>\n",
       "      <th>ADX_predict</th>\n",
       "      <th>EMA_predict</th>\n",
       "      <th>A/D_predict</th>\n",
       "      <th>A/D_upper_predict</th>\n",
       "      <th>A/D_lower_predict</th>\n",
       "      <th>open_lag-1_predict</th>\n",
       "      <th>open_lag-2_predict</th>\n",
       "      <th>open_lag-3_predict</th>\n",
       "      <th>open_lag-4_predict</th>\n",
       "      <th>open_lag-5_predict</th>\n",
       "      <th>high_lag-1_predict</th>\n",
       "      <th>high_lag-2_predict</th>\n",
       "      <th>high_lag-3_predict</th>\n",
       "      <th>high_lag-4_predict</th>\n",
       "      <th>high_lag-5_predict</th>\n",
       "      <th>low_lag-1_predict</th>\n",
       "      <th>low_lag-2_predict</th>\n",
       "      <th>low_lag-3_predict</th>\n",
       "      <th>low_lag-4_predict</th>\n",
       "      <th>low_lag-5_predict</th>\n",
       "      <th>close_lag-1_predict</th>\n",
       "      <th>close_lag-2_predict</th>\n",
       "      <th>close_lag-3_predict</th>\n",
       "      <th>close_lag-4_predict</th>\n",
       "      <th>close_lag-5_predict</th>\n",
       "      <th>BB_upper_predict_lag-1</th>\n",
       "      <th>BB_upper_predict_lag-2</th>\n",
       "      <th>BB_upper_predict_lag-3</th>\n",
       "      <th>BB_upper_predict_lag-4</th>\n",
       "      <th>BB_upper_predict_lag-5</th>\n",
       "      <th>BB_middle_predict_lag-1</th>\n",
       "      <th>BB_middle_predict_lag-2</th>\n",
       "      <th>BB_middle_predict_lag-3</th>\n",
       "      <th>BB_middle_predict_lag-4</th>\n",
       "      <th>BB_middle_predict_lag-5</th>\n",
       "      <th>BB_lower_predict_lag-1</th>\n",
       "      <th>BB_lower_predict_lag-2</th>\n",
       "      <th>BB_lower_predict_lag-3</th>\n",
       "      <th>BB_lower_predict_lag-4</th>\n",
       "      <th>BB_lower_predict_lag-5</th>\n",
       "      <th>RSI_predict_lag-1</th>\n",
       "      <th>RSI_predict_lag-2</th>\n",
       "      <th>RSI_predict_lag-3</th>\n",
       "      <th>RSI_predict_lag-4</th>\n",
       "      <th>RSI_predict_lag-5</th>\n",
       "      <th>ADX_predict_lag-1</th>\n",
       "      <th>ADX_predict_lag-2</th>\n",
       "      <th>ADX_predict_lag-3</th>\n",
       "      <th>ADX_predict_lag-4</th>\n",
       "      <th>ADX_predict_lag-5</th>\n",
       "      <th>EMA_predict_lag-1</th>\n",
       "      <th>EMA_predict_lag-2</th>\n",
       "      <th>EMA_predict_lag-3</th>\n",
       "      <th>EMA_predict_lag-4</th>\n",
       "      <th>EMA_predict_lag-5</th>\n",
       "      <th>A/D_predict_lag-1</th>\n",
       "      <th>A/D_predict_lag-2</th>\n",
       "      <th>A/D_predict_lag-3</th>\n",
       "      <th>A/D_predict_lag-4</th>\n",
       "      <th>A/D_predict_lag-5</th>\n",
       "      <th>A/D_upper_predict_lag-1</th>\n",
       "      <th>A/D_upper_predict_lag-2</th>\n",
       "      <th>A/D_upper_predict_lag-3</th>\n",
       "      <th>A/D_upper_predict_lag-4</th>\n",
       "      <th>A/D_upper_predict_lag-5</th>\n",
       "      <th>A/D_lower_predict_lag-1</th>\n",
       "      <th>A/D_lower_predict_lag-2</th>\n",
       "      <th>A/D_lower_predict_lag-3</th>\n",
       "      <th>A/D_lower_predict_lag-4</th>\n",
       "      <th>A/D_lower_predict_lag-5</th>\n",
       "      <th>returns_lag-1_predict</th>\n",
       "      <th>returns_lag-2_predict</th>\n",
       "      <th>returns_lag-3_predict</th>\n",
       "      <th>returns_lag-4_predict</th>\n",
       "      <th>returns_lag-5_predict</th>\n",
       "    </tr>\n",
       "    <tr>\n",
       "      <th>time</th>\n",
       "      <th></th>\n",
       "      <th></th>\n",
       "      <th></th>\n",
       "      <th></th>\n",
       "      <th></th>\n",
       "      <th></th>\n",
       "      <th></th>\n",
       "      <th></th>\n",
       "      <th></th>\n",
       "      <th></th>\n",
       "      <th></th>\n",
       "      <th></th>\n",
       "      <th></th>\n",
       "      <th></th>\n",
       "      <th></th>\n",
       "      <th></th>\n",
       "      <th></th>\n",
       "      <th></th>\n",
       "      <th></th>\n",
       "      <th></th>\n",
       "      <th></th>\n",
       "      <th></th>\n",
       "      <th></th>\n",
       "      <th></th>\n",
       "      <th></th>\n",
       "      <th></th>\n",
       "      <th></th>\n",
       "      <th></th>\n",
       "      <th></th>\n",
       "      <th></th>\n",
       "      <th></th>\n",
       "      <th></th>\n",
       "      <th></th>\n",
       "      <th></th>\n",
       "      <th></th>\n",
       "      <th></th>\n",
       "      <th></th>\n",
       "      <th></th>\n",
       "      <th></th>\n",
       "      <th></th>\n",
       "      <th></th>\n",
       "      <th></th>\n",
       "      <th></th>\n",
       "      <th></th>\n",
       "      <th></th>\n",
       "      <th></th>\n",
       "      <th></th>\n",
       "      <th></th>\n",
       "      <th></th>\n",
       "      <th></th>\n",
       "      <th></th>\n",
       "      <th></th>\n",
       "      <th></th>\n",
       "      <th></th>\n",
       "      <th></th>\n",
       "      <th></th>\n",
       "      <th></th>\n",
       "      <th></th>\n",
       "      <th></th>\n",
       "      <th></th>\n",
       "      <th></th>\n",
       "      <th></th>\n",
       "      <th></th>\n",
       "      <th></th>\n",
       "      <th></th>\n",
       "      <th></th>\n",
       "      <th></th>\n",
       "      <th></th>\n",
       "      <th></th>\n",
       "      <th></th>\n",
       "      <th></th>\n",
       "      <th></th>\n",
       "      <th></th>\n",
       "      <th></th>\n",
       "      <th></th>\n",
       "      <th></th>\n",
       "      <th></th>\n",
       "      <th></th>\n",
       "      <th></th>\n",
       "      <th></th>\n",
       "      <th></th>\n",
       "      <th></th>\n",
       "      <th></th>\n",
       "      <th></th>\n",
       "      <th></th>\n",
       "      <th></th>\n",
       "      <th></th>\n",
       "      <th></th>\n",
       "      <th></th>\n",
       "      <th></th>\n",
       "      <th></th>\n",
       "      <th></th>\n",
       "      <th></th>\n",
       "    </tr>\n",
       "  </thead>\n",
       "  <tbody>\n",
       "    <tr>\n",
       "      <th>2013-01-02</th>\n",
       "      <td>EURUSD</td>\n",
       "      <td>1.32660</td>\n",
       "      <td>1.32930</td>\n",
       "      <td>1.31560</td>\n",
       "      <td>1.31860</td>\n",
       "      <td>87728</td>\n",
       "      <td>2013</td>\n",
       "      <td>0.00000</td>\n",
       "      <td>0.00000</td>\n",
       "      <td>NaN</td>\n",
       "      <td>NaN</td>\n",
       "      <td>NaN</td>\n",
       "      <td>NaN</td>\n",
       "      <td>NaN</td>\n",
       "      <td>NaN</td>\n",
       "      <td>NaN</td>\n",
       "      <td>NaN</td>\n",
       "      <td>NaN</td>\n",
       "      <td>NaN</td>\n",
       "      <td>NaN</td>\n",
       "      <td>NaN</td>\n",
       "      <td>NaN</td>\n",
       "      <td>NaN</td>\n",
       "      <td>NaN</td>\n",
       "      <td>NaN</td>\n",
       "      <td>NaN</td>\n",
       "      <td>NaN</td>\n",
       "      <td>NaN</td>\n",
       "      <td>NaN</td>\n",
       "      <td>NaN</td>\n",
       "      <td>NaN</td>\n",
       "      <td>NaN</td>\n",
       "      <td>NaN</td>\n",
       "      <td>NaN</td>\n",
       "      <td>NaN</td>\n",
       "      <td>NaN</td>\n",
       "      <td>NaN</td>\n",
       "      <td>NaN</td>\n",
       "      <td>NaN</td>\n",
       "      <td>NaN</td>\n",
       "      <td>NaN</td>\n",
       "      <td>NaN</td>\n",
       "      <td>NaN</td>\n",
       "      <td>NaN</td>\n",
       "      <td>NaN</td>\n",
       "      <td>NaN</td>\n",
       "      <td>NaN</td>\n",
       "      <td>NaN</td>\n",
       "      <td>NaN</td>\n",
       "      <td>NaN</td>\n",
       "      <td>NaN</td>\n",
       "      <td>NaN</td>\n",
       "      <td>NaN</td>\n",
       "      <td>NaN</td>\n",
       "      <td>NaN</td>\n",
       "      <td>NaN</td>\n",
       "      <td>NaN</td>\n",
       "      <td>NaN</td>\n",
       "      <td>NaN</td>\n",
       "      <td>NaN</td>\n",
       "      <td>NaN</td>\n",
       "      <td>NaN</td>\n",
       "      <td>NaN</td>\n",
       "      <td>NaN</td>\n",
       "      <td>NaN</td>\n",
       "      <td>NaN</td>\n",
       "      <td>NaN</td>\n",
       "      <td>NaN</td>\n",
       "      <td>NaN</td>\n",
       "      <td>NaN</td>\n",
       "      <td>NaN</td>\n",
       "      <td>NaN</td>\n",
       "      <td>NaN</td>\n",
       "      <td>NaN</td>\n",
       "      <td>NaN</td>\n",
       "      <td>NaN</td>\n",
       "      <td>NaN</td>\n",
       "      <td>NaN</td>\n",
       "      <td>NaN</td>\n",
       "      <td>NaN</td>\n",
       "      <td>NaN</td>\n",
       "      <td>NaN</td>\n",
       "      <td>NaN</td>\n",
       "      <td>NaN</td>\n",
       "      <td>NaN</td>\n",
       "      <td>NaN</td>\n",
       "      <td>NaN</td>\n",
       "      <td>NaN</td>\n",
       "      <td>NaN</td>\n",
       "      <td>NaN</td>\n",
       "      <td>NaN</td>\n",
       "      <td>NaN</td>\n",
       "      <td>NaN</td>\n",
       "    </tr>\n",
       "    <tr>\n",
       "      <th>2013-01-03</th>\n",
       "      <td>EURUSD</td>\n",
       "      <td>1.31860</td>\n",
       "      <td>1.31900</td>\n",
       "      <td>1.30470</td>\n",
       "      <td>1.30490</td>\n",
       "      <td>101869</td>\n",
       "      <td>2013</td>\n",
       "      <td>-0.60305</td>\n",
       "      <td>-0.60305</td>\n",
       "      <td>-0.01039</td>\n",
       "      <td>NaN</td>\n",
       "      <td>NaN</td>\n",
       "      <td>NaN</td>\n",
       "      <td>NaN</td>\n",
       "      <td>NaN</td>\n",
       "      <td>NaN</td>\n",
       "      <td>NaN</td>\n",
       "      <td>NaN</td>\n",
       "      <td>0.00000</td>\n",
       "      <td>NaN</td>\n",
       "      <td>-49306.97810</td>\n",
       "      <td>NaN</td>\n",
       "      <td>NaN</td>\n",
       "      <td>1.32660</td>\n",
       "      <td>NaN</td>\n",
       "      <td>NaN</td>\n",
       "      <td>NaN</td>\n",
       "      <td>NaN</td>\n",
       "      <td>1.32930</td>\n",
       "      <td>NaN</td>\n",
       "      <td>NaN</td>\n",
       "      <td>NaN</td>\n",
       "      <td>NaN</td>\n",
       "      <td>1.31560</td>\n",
       "      <td>NaN</td>\n",
       "      <td>NaN</td>\n",
       "      <td>NaN</td>\n",
       "      <td>NaN</td>\n",
       "      <td>1.31860</td>\n",
       "      <td>NaN</td>\n",
       "      <td>NaN</td>\n",
       "      <td>NaN</td>\n",
       "      <td>NaN</td>\n",
       "      <td>NaN</td>\n",
       "      <td>NaN</td>\n",
       "      <td>NaN</td>\n",
       "      <td>NaN</td>\n",
       "      <td>NaN</td>\n",
       "      <td>NaN</td>\n",
       "      <td>NaN</td>\n",
       "      <td>NaN</td>\n",
       "      <td>NaN</td>\n",
       "      <td>NaN</td>\n",
       "      <td>NaN</td>\n",
       "      <td>NaN</td>\n",
       "      <td>NaN</td>\n",
       "      <td>NaN</td>\n",
       "      <td>NaN</td>\n",
       "      <td>NaN</td>\n",
       "      <td>NaN</td>\n",
       "      <td>NaN</td>\n",
       "      <td>NaN</td>\n",
       "      <td>NaN</td>\n",
       "      <td>NaN</td>\n",
       "      <td>NaN</td>\n",
       "      <td>NaN</td>\n",
       "      <td>NaN</td>\n",
       "      <td>NaN</td>\n",
       "      <td>NaN</td>\n",
       "      <td>NaN</td>\n",
       "      <td>NaN</td>\n",
       "      <td>NaN</td>\n",
       "      <td>NaN</td>\n",
       "      <td>NaN</td>\n",
       "      <td>NaN</td>\n",
       "      <td>NaN</td>\n",
       "      <td>NaN</td>\n",
       "      <td>NaN</td>\n",
       "      <td>NaN</td>\n",
       "      <td>NaN</td>\n",
       "      <td>NaN</td>\n",
       "      <td>NaN</td>\n",
       "      <td>NaN</td>\n",
       "      <td>NaN</td>\n",
       "      <td>NaN</td>\n",
       "      <td>NaN</td>\n",
       "      <td>NaN</td>\n",
       "      <td>NaN</td>\n",
       "      <td>NaN</td>\n",
       "      <td>NaN</td>\n",
       "      <td>NaN</td>\n",
       "      <td>NaN</td>\n",
       "      <td>NaN</td>\n",
       "    </tr>\n",
       "    <tr>\n",
       "      <th>2013-01-04</th>\n",
       "      <td>EURUSD</td>\n",
       "      <td>1.30480</td>\n",
       "      <td>1.30890</td>\n",
       "      <td>1.29970</td>\n",
       "      <td>1.30650</td>\n",
       "      <td>103903</td>\n",
       "      <td>2013</td>\n",
       "      <td>-1.64330</td>\n",
       "      <td>-1.64330</td>\n",
       "      <td>0.00123</td>\n",
       "      <td>NaN</td>\n",
       "      <td>NaN</td>\n",
       "      <td>NaN</td>\n",
       "      <td>NaN</td>\n",
       "      <td>NaN</td>\n",
       "      <td>NaN</td>\n",
       "      <td>NaN</td>\n",
       "      <td>NaN</td>\n",
       "      <td>0.00000</td>\n",
       "      <td>NaN</td>\n",
       "      <td>-148326.49558</td>\n",
       "      <td>NaN</td>\n",
       "      <td>NaN</td>\n",
       "      <td>1.31860</td>\n",
       "      <td>1.32660</td>\n",
       "      <td>NaN</td>\n",
       "      <td>NaN</td>\n",
       "      <td>NaN</td>\n",
       "      <td>1.31900</td>\n",
       "      <td>1.32930</td>\n",
       "      <td>NaN</td>\n",
       "      <td>NaN</td>\n",
       "      <td>NaN</td>\n",
       "      <td>1.30470</td>\n",
       "      <td>1.31560</td>\n",
       "      <td>NaN</td>\n",
       "      <td>NaN</td>\n",
       "      <td>NaN</td>\n",
       "      <td>1.30490</td>\n",
       "      <td>1.31860</td>\n",
       "      <td>NaN</td>\n",
       "      <td>NaN</td>\n",
       "      <td>NaN</td>\n",
       "      <td>NaN</td>\n",
       "      <td>NaN</td>\n",
       "      <td>NaN</td>\n",
       "      <td>NaN</td>\n",
       "      <td>NaN</td>\n",
       "      <td>NaN</td>\n",
       "      <td>NaN</td>\n",
       "      <td>NaN</td>\n",
       "      <td>NaN</td>\n",
       "      <td>NaN</td>\n",
       "      <td>NaN</td>\n",
       "      <td>NaN</td>\n",
       "      <td>NaN</td>\n",
       "      <td>NaN</td>\n",
       "      <td>NaN</td>\n",
       "      <td>NaN</td>\n",
       "      <td>NaN</td>\n",
       "      <td>NaN</td>\n",
       "      <td>NaN</td>\n",
       "      <td>NaN</td>\n",
       "      <td>0.00000</td>\n",
       "      <td>NaN</td>\n",
       "      <td>NaN</td>\n",
       "      <td>NaN</td>\n",
       "      <td>NaN</td>\n",
       "      <td>NaN</td>\n",
       "      <td>NaN</td>\n",
       "      <td>NaN</td>\n",
       "      <td>NaN</td>\n",
       "      <td>NaN</td>\n",
       "      <td>-49306.97810</td>\n",
       "      <td>NaN</td>\n",
       "      <td>NaN</td>\n",
       "      <td>NaN</td>\n",
       "      <td>NaN</td>\n",
       "      <td>NaN</td>\n",
       "      <td>NaN</td>\n",
       "      <td>NaN</td>\n",
       "      <td>NaN</td>\n",
       "      <td>NaN</td>\n",
       "      <td>NaN</td>\n",
       "      <td>NaN</td>\n",
       "      <td>NaN</td>\n",
       "      <td>NaN</td>\n",
       "      <td>NaN</td>\n",
       "      <td>-0.01039</td>\n",
       "      <td>NaN</td>\n",
       "      <td>NaN</td>\n",
       "      <td>NaN</td>\n",
       "      <td>NaN</td>\n",
       "    </tr>\n",
       "    <tr>\n",
       "      <th>2013-01-07</th>\n",
       "      <td>EURUSD</td>\n",
       "      <td>1.30750</td>\n",
       "      <td>1.31190</td>\n",
       "      <td>1.30170</td>\n",
       "      <td>1.31160</td>\n",
       "      <td>101842</td>\n",
       "      <td>2013</td>\n",
       "      <td>-1.43977</td>\n",
       "      <td>-1.43977</td>\n",
       "      <td>0.00390</td>\n",
       "      <td>NaN</td>\n",
       "      <td>NaN</td>\n",
       "      <td>NaN</td>\n",
       "      <td>NaN</td>\n",
       "      <td>NaN</td>\n",
       "      <td>NaN</td>\n",
       "      <td>NaN</td>\n",
       "      <td>NaN</td>\n",
       "      <td>0.00000</td>\n",
       "      <td>NaN</td>\n",
       "      <td>-98633.75645</td>\n",
       "      <td>NaN</td>\n",
       "      <td>NaN</td>\n",
       "      <td>1.30480</td>\n",
       "      <td>1.31860</td>\n",
       "      <td>1.32660</td>\n",
       "      <td>NaN</td>\n",
       "      <td>NaN</td>\n",
       "      <td>1.30890</td>\n",
       "      <td>1.31900</td>\n",
       "      <td>1.32930</td>\n",
       "      <td>NaN</td>\n",
       "      <td>NaN</td>\n",
       "      <td>1.29970</td>\n",
       "      <td>1.30470</td>\n",
       "      <td>1.31560</td>\n",
       "      <td>NaN</td>\n",
       "      <td>NaN</td>\n",
       "      <td>1.30650</td>\n",
       "      <td>1.30490</td>\n",
       "      <td>1.31860</td>\n",
       "      <td>NaN</td>\n",
       "      <td>NaN</td>\n",
       "      <td>NaN</td>\n",
       "      <td>NaN</td>\n",
       "      <td>NaN</td>\n",
       "      <td>NaN</td>\n",
       "      <td>NaN</td>\n",
       "      <td>NaN</td>\n",
       "      <td>NaN</td>\n",
       "      <td>NaN</td>\n",
       "      <td>NaN</td>\n",
       "      <td>NaN</td>\n",
       "      <td>NaN</td>\n",
       "      <td>NaN</td>\n",
       "      <td>NaN</td>\n",
       "      <td>NaN</td>\n",
       "      <td>NaN</td>\n",
       "      <td>NaN</td>\n",
       "      <td>NaN</td>\n",
       "      <td>NaN</td>\n",
       "      <td>NaN</td>\n",
       "      <td>NaN</td>\n",
       "      <td>0.00000</td>\n",
       "      <td>0.00000</td>\n",
       "      <td>NaN</td>\n",
       "      <td>NaN</td>\n",
       "      <td>NaN</td>\n",
       "      <td>NaN</td>\n",
       "      <td>NaN</td>\n",
       "      <td>NaN</td>\n",
       "      <td>NaN</td>\n",
       "      <td>NaN</td>\n",
       "      <td>-148326.49558</td>\n",
       "      <td>-49306.97810</td>\n",
       "      <td>NaN</td>\n",
       "      <td>NaN</td>\n",
       "      <td>NaN</td>\n",
       "      <td>NaN</td>\n",
       "      <td>NaN</td>\n",
       "      <td>NaN</td>\n",
       "      <td>NaN</td>\n",
       "      <td>NaN</td>\n",
       "      <td>NaN</td>\n",
       "      <td>NaN</td>\n",
       "      <td>NaN</td>\n",
       "      <td>NaN</td>\n",
       "      <td>NaN</td>\n",
       "      <td>0.00123</td>\n",
       "      <td>-0.01039</td>\n",
       "      <td>NaN</td>\n",
       "      <td>NaN</td>\n",
       "      <td>NaN</td>\n",
       "    </tr>\n",
       "    <tr>\n",
       "      <th>2013-01-08</th>\n",
       "      <td>EURUSD</td>\n",
       "      <td>1.31160</td>\n",
       "      <td>1.31400</td>\n",
       "      <td>1.30560</td>\n",
       "      <td>1.30810</td>\n",
       "      <td>103145</td>\n",
       "      <td>2013</td>\n",
       "      <td>-1.13071</td>\n",
       "      <td>-1.13071</td>\n",
       "      <td>-0.00267</td>\n",
       "      <td>NaN</td>\n",
       "      <td>NaN</td>\n",
       "      <td>NaN</td>\n",
       "      <td>NaN</td>\n",
       "      <td>NaN</td>\n",
       "      <td>NaN</td>\n",
       "      <td>NaN</td>\n",
       "      <td>NaN</td>\n",
       "      <td>0.00000</td>\n",
       "      <td>NaN</td>\n",
       "      <td>-2782.46234</td>\n",
       "      <td>NaN</td>\n",
       "      <td>NaN</td>\n",
       "      <td>1.30750</td>\n",
       "      <td>1.30480</td>\n",
       "      <td>1.31860</td>\n",
       "      <td>1.32660</td>\n",
       "      <td>NaN</td>\n",
       "      <td>1.31190</td>\n",
       "      <td>1.30890</td>\n",
       "      <td>1.31900</td>\n",
       "      <td>1.32930</td>\n",
       "      <td>NaN</td>\n",
       "      <td>1.30170</td>\n",
       "      <td>1.29970</td>\n",
       "      <td>1.30470</td>\n",
       "      <td>1.31560</td>\n",
       "      <td>NaN</td>\n",
       "      <td>1.31160</td>\n",
       "      <td>1.30650</td>\n",
       "      <td>1.30490</td>\n",
       "      <td>1.31860</td>\n",
       "      <td>NaN</td>\n",
       "      <td>NaN</td>\n",
       "      <td>NaN</td>\n",
       "      <td>NaN</td>\n",
       "      <td>NaN</td>\n",
       "      <td>NaN</td>\n",
       "      <td>NaN</td>\n",
       "      <td>NaN</td>\n",
       "      <td>NaN</td>\n",
       "      <td>NaN</td>\n",
       "      <td>NaN</td>\n",
       "      <td>NaN</td>\n",
       "      <td>NaN</td>\n",
       "      <td>NaN</td>\n",
       "      <td>NaN</td>\n",
       "      <td>NaN</td>\n",
       "      <td>NaN</td>\n",
       "      <td>NaN</td>\n",
       "      <td>NaN</td>\n",
       "      <td>NaN</td>\n",
       "      <td>NaN</td>\n",
       "      <td>0.00000</td>\n",
       "      <td>0.00000</td>\n",
       "      <td>0.00000</td>\n",
       "      <td>NaN</td>\n",
       "      <td>NaN</td>\n",
       "      <td>NaN</td>\n",
       "      <td>NaN</td>\n",
       "      <td>NaN</td>\n",
       "      <td>NaN</td>\n",
       "      <td>NaN</td>\n",
       "      <td>-98633.75645</td>\n",
       "      <td>-148326.49558</td>\n",
       "      <td>-49306.97810</td>\n",
       "      <td>NaN</td>\n",
       "      <td>NaN</td>\n",
       "      <td>NaN</td>\n",
       "      <td>NaN</td>\n",
       "      <td>NaN</td>\n",
       "      <td>NaN</td>\n",
       "      <td>NaN</td>\n",
       "      <td>NaN</td>\n",
       "      <td>NaN</td>\n",
       "      <td>NaN</td>\n",
       "      <td>NaN</td>\n",
       "      <td>NaN</td>\n",
       "      <td>0.00390</td>\n",
       "      <td>0.00123</td>\n",
       "      <td>-0.01039</td>\n",
       "      <td>NaN</td>\n",
       "      <td>NaN</td>\n",
       "    </tr>\n",
       "  </tbody>\n",
       "</table>\n",
       "</div>"
      ],
      "text/plain": [
       "            symbol    open    high     low   close  tick_volume  year  \\\n",
       "time                                                                    \n",
       "2013-01-02  EURUSD 1.32660 1.32930 1.31560 1.31860        87728  2013   \n",
       "2013-01-03  EURUSD 1.31860 1.31900 1.30470 1.30490       101869  2013   \n",
       "2013-01-04  EURUSD 1.30480 1.30890 1.29970 1.30650       103903  2013   \n",
       "2013-01-07  EURUSD 1.30750 1.31190 1.30170 1.31160       101842  2013   \n",
       "2013-01-08  EURUSD 1.31160 1.31400 1.30560 1.30810       103145  2013   \n",
       "\n",
       "            seasons_month  seasons_year  returns  avg_2Y_seasons_year_predict  \\\n",
       "time                                                                            \n",
       "2013-01-02        0.00000       0.00000      NaN                          NaN   \n",
       "2013-01-03       -0.60305      -0.60305 -0.01039                          NaN   \n",
       "2013-01-04       -1.64330      -1.64330  0.00123                          NaN   \n",
       "2013-01-07       -1.43977      -1.43977  0.00390                          NaN   \n",
       "2013-01-08       -1.13071      -1.13071 -0.00267                          NaN   \n",
       "\n",
       "            avg_2Y_seasons_month_predict  avg_5Y_seasons_year_predict  \\\n",
       "time                                                                    \n",
       "2013-01-02                           NaN                          NaN   \n",
       "2013-01-03                           NaN                          NaN   \n",
       "2013-01-04                           NaN                          NaN   \n",
       "2013-01-07                           NaN                          NaN   \n",
       "2013-01-08                           NaN                          NaN   \n",
       "\n",
       "            avg_5Y_seasons_month_predict  BB_upper_predict  BB_middle_predict  \\\n",
       "time                                                                            \n",
       "2013-01-02                           NaN               NaN                NaN   \n",
       "2013-01-03                           NaN               NaN                NaN   \n",
       "2013-01-04                           NaN               NaN                NaN   \n",
       "2013-01-07                           NaN               NaN                NaN   \n",
       "2013-01-08                           NaN               NaN                NaN   \n",
       "\n",
       "            BB_lower_predict  RSI_predict  ADX_predict  EMA_predict  \\\n",
       "time                                                                  \n",
       "2013-01-02               NaN          NaN          NaN          NaN   \n",
       "2013-01-03               NaN          NaN      0.00000          NaN   \n",
       "2013-01-04               NaN          NaN      0.00000          NaN   \n",
       "2013-01-07               NaN          NaN      0.00000          NaN   \n",
       "2013-01-08               NaN          NaN      0.00000          NaN   \n",
       "\n",
       "             A/D_predict  A/D_upper_predict  A/D_lower_predict  \\\n",
       "time                                                             \n",
       "2013-01-02           NaN                NaN                NaN   \n",
       "2013-01-03  -49306.97810                NaN                NaN   \n",
       "2013-01-04 -148326.49558                NaN                NaN   \n",
       "2013-01-07  -98633.75645                NaN                NaN   \n",
       "2013-01-08   -2782.46234                NaN                NaN   \n",
       "\n",
       "            open_lag-1_predict  open_lag-2_predict  open_lag-3_predict  \\\n",
       "time                                                                     \n",
       "2013-01-02                 NaN                 NaN                 NaN   \n",
       "2013-01-03             1.32660                 NaN                 NaN   \n",
       "2013-01-04             1.31860             1.32660                 NaN   \n",
       "2013-01-07             1.30480             1.31860             1.32660   \n",
       "2013-01-08             1.30750             1.30480             1.31860   \n",
       "\n",
       "            open_lag-4_predict  open_lag-5_predict  high_lag-1_predict  \\\n",
       "time                                                                     \n",
       "2013-01-02                 NaN                 NaN                 NaN   \n",
       "2013-01-03                 NaN                 NaN             1.32930   \n",
       "2013-01-04                 NaN                 NaN             1.31900   \n",
       "2013-01-07                 NaN                 NaN             1.30890   \n",
       "2013-01-08             1.32660                 NaN             1.31190   \n",
       "\n",
       "            high_lag-2_predict  high_lag-3_predict  high_lag-4_predict  \\\n",
       "time                                                                     \n",
       "2013-01-02                 NaN                 NaN                 NaN   \n",
       "2013-01-03                 NaN                 NaN                 NaN   \n",
       "2013-01-04             1.32930                 NaN                 NaN   \n",
       "2013-01-07             1.31900             1.32930                 NaN   \n",
       "2013-01-08             1.30890             1.31900             1.32930   \n",
       "\n",
       "            high_lag-5_predict  low_lag-1_predict  low_lag-2_predict  \\\n",
       "time                                                                   \n",
       "2013-01-02                 NaN                NaN                NaN   \n",
       "2013-01-03                 NaN            1.31560                NaN   \n",
       "2013-01-04                 NaN            1.30470            1.31560   \n",
       "2013-01-07                 NaN            1.29970            1.30470   \n",
       "2013-01-08                 NaN            1.30170            1.29970   \n",
       "\n",
       "            low_lag-3_predict  low_lag-4_predict  low_lag-5_predict  \\\n",
       "time                                                                  \n",
       "2013-01-02                NaN                NaN                NaN   \n",
       "2013-01-03                NaN                NaN                NaN   \n",
       "2013-01-04                NaN                NaN                NaN   \n",
       "2013-01-07            1.31560                NaN                NaN   \n",
       "2013-01-08            1.30470            1.31560                NaN   \n",
       "\n",
       "            close_lag-1_predict  close_lag-2_predict  close_lag-3_predict  \\\n",
       "time                                                                        \n",
       "2013-01-02                  NaN                  NaN                  NaN   \n",
       "2013-01-03              1.31860                  NaN                  NaN   \n",
       "2013-01-04              1.30490              1.31860                  NaN   \n",
       "2013-01-07              1.30650              1.30490              1.31860   \n",
       "2013-01-08              1.31160              1.30650              1.30490   \n",
       "\n",
       "            close_lag-4_predict  close_lag-5_predict  BB_upper_predict_lag-1  \\\n",
       "time                                                                           \n",
       "2013-01-02                  NaN                  NaN                     NaN   \n",
       "2013-01-03                  NaN                  NaN                     NaN   \n",
       "2013-01-04                  NaN                  NaN                     NaN   \n",
       "2013-01-07                  NaN                  NaN                     NaN   \n",
       "2013-01-08              1.31860                  NaN                     NaN   \n",
       "\n",
       "            BB_upper_predict_lag-2  BB_upper_predict_lag-3  \\\n",
       "time                                                         \n",
       "2013-01-02                     NaN                     NaN   \n",
       "2013-01-03                     NaN                     NaN   \n",
       "2013-01-04                     NaN                     NaN   \n",
       "2013-01-07                     NaN                     NaN   \n",
       "2013-01-08                     NaN                     NaN   \n",
       "\n",
       "            BB_upper_predict_lag-4  BB_upper_predict_lag-5  \\\n",
       "time                                                         \n",
       "2013-01-02                     NaN                     NaN   \n",
       "2013-01-03                     NaN                     NaN   \n",
       "2013-01-04                     NaN                     NaN   \n",
       "2013-01-07                     NaN                     NaN   \n",
       "2013-01-08                     NaN                     NaN   \n",
       "\n",
       "            BB_middle_predict_lag-1  BB_middle_predict_lag-2  \\\n",
       "time                                                           \n",
       "2013-01-02                      NaN                      NaN   \n",
       "2013-01-03                      NaN                      NaN   \n",
       "2013-01-04                      NaN                      NaN   \n",
       "2013-01-07                      NaN                      NaN   \n",
       "2013-01-08                      NaN                      NaN   \n",
       "\n",
       "            BB_middle_predict_lag-3  BB_middle_predict_lag-4  \\\n",
       "time                                                           \n",
       "2013-01-02                      NaN                      NaN   \n",
       "2013-01-03                      NaN                      NaN   \n",
       "2013-01-04                      NaN                      NaN   \n",
       "2013-01-07                      NaN                      NaN   \n",
       "2013-01-08                      NaN                      NaN   \n",
       "\n",
       "            BB_middle_predict_lag-5  BB_lower_predict_lag-1  \\\n",
       "time                                                          \n",
       "2013-01-02                      NaN                     NaN   \n",
       "2013-01-03                      NaN                     NaN   \n",
       "2013-01-04                      NaN                     NaN   \n",
       "2013-01-07                      NaN                     NaN   \n",
       "2013-01-08                      NaN                     NaN   \n",
       "\n",
       "            BB_lower_predict_lag-2  BB_lower_predict_lag-3  \\\n",
       "time                                                         \n",
       "2013-01-02                     NaN                     NaN   \n",
       "2013-01-03                     NaN                     NaN   \n",
       "2013-01-04                     NaN                     NaN   \n",
       "2013-01-07                     NaN                     NaN   \n",
       "2013-01-08                     NaN                     NaN   \n",
       "\n",
       "            BB_lower_predict_lag-4  BB_lower_predict_lag-5  RSI_predict_lag-1  \\\n",
       "time                                                                            \n",
       "2013-01-02                     NaN                     NaN                NaN   \n",
       "2013-01-03                     NaN                     NaN                NaN   \n",
       "2013-01-04                     NaN                     NaN                NaN   \n",
       "2013-01-07                     NaN                     NaN                NaN   \n",
       "2013-01-08                     NaN                     NaN                NaN   \n",
       "\n",
       "            RSI_predict_lag-2  RSI_predict_lag-3  RSI_predict_lag-4  \\\n",
       "time                                                                  \n",
       "2013-01-02                NaN                NaN                NaN   \n",
       "2013-01-03                NaN                NaN                NaN   \n",
       "2013-01-04                NaN                NaN                NaN   \n",
       "2013-01-07                NaN                NaN                NaN   \n",
       "2013-01-08                NaN                NaN                NaN   \n",
       "\n",
       "            RSI_predict_lag-5  ADX_predict_lag-1  ADX_predict_lag-2  \\\n",
       "time                                                                  \n",
       "2013-01-02                NaN                NaN                NaN   \n",
       "2013-01-03                NaN                NaN                NaN   \n",
       "2013-01-04                NaN            0.00000                NaN   \n",
       "2013-01-07                NaN            0.00000            0.00000   \n",
       "2013-01-08                NaN            0.00000            0.00000   \n",
       "\n",
       "            ADX_predict_lag-3  ADX_predict_lag-4  ADX_predict_lag-5  \\\n",
       "time                                                                  \n",
       "2013-01-02                NaN                NaN                NaN   \n",
       "2013-01-03                NaN                NaN                NaN   \n",
       "2013-01-04                NaN                NaN                NaN   \n",
       "2013-01-07                NaN                NaN                NaN   \n",
       "2013-01-08            0.00000                NaN                NaN   \n",
       "\n",
       "            EMA_predict_lag-1  EMA_predict_lag-2  EMA_predict_lag-3  \\\n",
       "time                                                                  \n",
       "2013-01-02                NaN                NaN                NaN   \n",
       "2013-01-03                NaN                NaN                NaN   \n",
       "2013-01-04                NaN                NaN                NaN   \n",
       "2013-01-07                NaN                NaN                NaN   \n",
       "2013-01-08                NaN                NaN                NaN   \n",
       "\n",
       "            EMA_predict_lag-4  EMA_predict_lag-5  A/D_predict_lag-1  \\\n",
       "time                                                                  \n",
       "2013-01-02                NaN                NaN                NaN   \n",
       "2013-01-03                NaN                NaN                NaN   \n",
       "2013-01-04                NaN                NaN       -49306.97810   \n",
       "2013-01-07                NaN                NaN      -148326.49558   \n",
       "2013-01-08                NaN                NaN       -98633.75645   \n",
       "\n",
       "            A/D_predict_lag-2  A/D_predict_lag-3  A/D_predict_lag-4  \\\n",
       "time                                                                  \n",
       "2013-01-02                NaN                NaN                NaN   \n",
       "2013-01-03                NaN                NaN                NaN   \n",
       "2013-01-04                NaN                NaN                NaN   \n",
       "2013-01-07       -49306.97810                NaN                NaN   \n",
       "2013-01-08      -148326.49558       -49306.97810                NaN   \n",
       "\n",
       "            A/D_predict_lag-5  A/D_upper_predict_lag-1  \\\n",
       "time                                                     \n",
       "2013-01-02                NaN                      NaN   \n",
       "2013-01-03                NaN                      NaN   \n",
       "2013-01-04                NaN                      NaN   \n",
       "2013-01-07                NaN                      NaN   \n",
       "2013-01-08                NaN                      NaN   \n",
       "\n",
       "            A/D_upper_predict_lag-2  A/D_upper_predict_lag-3  \\\n",
       "time                                                           \n",
       "2013-01-02                      NaN                      NaN   \n",
       "2013-01-03                      NaN                      NaN   \n",
       "2013-01-04                      NaN                      NaN   \n",
       "2013-01-07                      NaN                      NaN   \n",
       "2013-01-08                      NaN                      NaN   \n",
       "\n",
       "            A/D_upper_predict_lag-4  A/D_upper_predict_lag-5  \\\n",
       "time                                                           \n",
       "2013-01-02                      NaN                      NaN   \n",
       "2013-01-03                      NaN                      NaN   \n",
       "2013-01-04                      NaN                      NaN   \n",
       "2013-01-07                      NaN                      NaN   \n",
       "2013-01-08                      NaN                      NaN   \n",
       "\n",
       "            A/D_lower_predict_lag-1  A/D_lower_predict_lag-2  \\\n",
       "time                                                           \n",
       "2013-01-02                      NaN                      NaN   \n",
       "2013-01-03                      NaN                      NaN   \n",
       "2013-01-04                      NaN                      NaN   \n",
       "2013-01-07                      NaN                      NaN   \n",
       "2013-01-08                      NaN                      NaN   \n",
       "\n",
       "            A/D_lower_predict_lag-3  A/D_lower_predict_lag-4  \\\n",
       "time                                                           \n",
       "2013-01-02                      NaN                      NaN   \n",
       "2013-01-03                      NaN                      NaN   \n",
       "2013-01-04                      NaN                      NaN   \n",
       "2013-01-07                      NaN                      NaN   \n",
       "2013-01-08                      NaN                      NaN   \n",
       "\n",
       "            A/D_lower_predict_lag-5  returns_lag-1_predict  \\\n",
       "time                                                         \n",
       "2013-01-02                      NaN                    NaN   \n",
       "2013-01-03                      NaN                    NaN   \n",
       "2013-01-04                      NaN               -0.01039   \n",
       "2013-01-07                      NaN                0.00123   \n",
       "2013-01-08                      NaN                0.00390   \n",
       "\n",
       "            returns_lag-2_predict  returns_lag-3_predict  \\\n",
       "time                                                       \n",
       "2013-01-02                    NaN                    NaN   \n",
       "2013-01-03                    NaN                    NaN   \n",
       "2013-01-04                    NaN                    NaN   \n",
       "2013-01-07               -0.01039                    NaN   \n",
       "2013-01-08                0.00123               -0.01039   \n",
       "\n",
       "            returns_lag-4_predict  returns_lag-5_predict  \n",
       "time                                                      \n",
       "2013-01-02                    NaN                    NaN  \n",
       "2013-01-03                    NaN                    NaN  \n",
       "2013-01-04                    NaN                    NaN  \n",
       "2013-01-07                    NaN                    NaN  \n",
       "2013-01-08                    NaN                    NaN  "
      ]
     },
     "execution_count": 17,
     "metadata": {},
     "output_type": "execute_result"
    }
   ],
   "source": [
    "# Добавление лаговых признаков\n",
    "\n",
    "variables = ['open', 'high', 'low', 'close', 'BB_upper_predict', 'BB_middle_predict', 'BB_lower_predict', 'RSI_predict', \n",
    "             'ADX_predict', 'EMA_predict', 'A/D_predict', 'A/D_upper_predict', 'A/D_lower_predict', \n",
    "             'returns']\n",
    "\n",
    "for var in variables:\n",
    "    for i in range(1, 6):\n",
    "        if var in ('returns', 'open', 'high', 'low', 'close'):\n",
    "            df[f'{var}_lag-{i}_predict'] = df[var].shift(i)\n",
    "        else:\n",
    "            df[f'{var}_lag-{i}'] = df[var].shift(i)\n",
    "\n",
    "df.head()"
   ]
  },
  {
   "cell_type": "markdown",
   "metadata": {},
   "source": [
    "#### Подготовка данных для модели"
   ]
  },
  {
   "cell_type": "code",
   "execution_count": 18,
   "metadata": {},
   "outputs": [],
   "source": [
    "# Удаление пропущенных значений\n",
    "df = df.dropna()\n",
    "\n",
    "# Фильтрация признаков\n",
    "df_X = df.filter(like='_predict')\n",
    "df_y = df[[\"returns\"]]\n",
    "\n",
    "# Разделение данных на обучающую, тестовую и валидационную выборки\n",
    "split_train_test = int(0.70 * len(df))  # 70% данных для обучения\n",
    "split_test_valid = int(0.90 * len(df))  # 20% данных для тестирования и 10% для валидации\n",
    "\n",
    "# Обучающая выборка\n",
    "X_train = df_X.iloc[:split_train_test]\n",
    "y_train_reg = df_y.iloc[:split_train_test]\n",
    "y_train_cla = np.round(y_train_reg + 0.5) #рост/падение\n",
    "\n",
    "# Тестовая выборка\n",
    "X_test = df_X.iloc[split_train_test:split_test_valid]\n",
    "\n",
    "# Валидационная выборка\n",
    "X_val = df_X.iloc[split_test_valid:]\n",
    "\n",
    "# Нормализация данных\n",
    "scaler = StandardScaler()\n",
    "X_train_scaled = scaler.fit_transform(X_train)  # Обучение и стандартизация обучающих признаков\n",
    "X_test_scaled = scaler.transform(X_test)  # Стандартизация тестовых признаков\n",
    "X_val_scaled = scaler.transform(X_val)  # Стандартизация валидационных признаков\n"
   ]
  },
  {
   "cell_type": "markdown",
   "metadata": {},
   "source": [
    "# Подбор количества главных компонент "
   ]
  },
  {
   "cell_type": "code",
   "execution_count": 19,
   "metadata": {},
   "outputs": [],
   "source": [
    "explained_variance = []\n",
    "\n",
    "for n in range(1,63):\n",
    "    pca = PCA(n_components=n)\n",
    "    pca.fit(X_train_scaled)\n",
    "    \n",
    "    explained_variance.append(np.sum(pca.explained_variance_ratio_))"
   ]
  },
  {
   "cell_type": "code",
   "execution_count": 20,
   "metadata": {},
   "outputs": [
    {
     "data": {
      "image/png": "[encoded data removed]",
      "text/plain": [
       "<Figure size 640x480 with 1 Axes>"
      ]
     },
     "metadata": {},
     "output_type": "display_data"
    }
   ],
   "source": [
    "plt.plot(range(1,63),explained_variance)\n",
    "plt.xlim(0, 30)\n",
    "plt.xlabel(\"Кол-во главных компонент\")\n",
    "plt.ylabel(\"Объяснённая вариативность\");"
   ]
  },
  {
   "cell_type": "markdown",
   "metadata": {},
   "source": [
    "В районе 15 компонент выход на плато.           \n",
    "Обучаю модель на 15 компонентах"
   ]
  },
  {
   "cell_type": "code",
   "execution_count": 21,
   "metadata": {},
   "outputs": [],
   "source": [
    "pca = PCA(n_components=15) #Инициализация PCA с 15 компонентами\n",
    "principal_components = pca.fit_transform(X_train_scaled)"
   ]
  },
  {
   "cell_type": "code",
   "execution_count": 22,
   "metadata": {},
   "outputs": [
    {
     "data": {
      "text/plain": [
       "0.9911640612596865"
      ]
     },
     "execution_count": 22,
     "metadata": {},
     "output_type": "execute_result"
    }
   ],
   "source": [
    "np.sum(pca.explained_variance_ratio_)"
   ]
  },
  {
   "cell_type": "markdown",
   "metadata": {},
   "source": [
    "Сокращение размерности пространства признаков с 63 до 15 сохранит ~99% дисперсии данных и ускорит работу модели."
   ]
  },
  {
   "cell_type": "code",
   "execution_count": 23,
   "metadata": {},
   "outputs": [],
   "source": [
    "X_train_pca = pca.fit_transform(X_train_scaled)\n",
    "X_test_pca = pca.transform(X_test_scaled)\n",
    "X_val_pca = pca.transform(X_val_scaled)\n"
   ]
  },
  {
   "cell_type": "markdown",
   "metadata": {},
   "source": [
    "## Decision tree classifier"
   ]
  },
  {
   "cell_type": "code",
   "execution_count": 24,
   "metadata": {},
   "outputs": [
    {
     "data": {
      "text/html": [
       "<style>#sk-container-id-1 {\n",
       "  /* Definition of color scheme common for light and dark mode */\n",
       "  --sklearn-color-text: black;\n",
       "  --sklearn-color-line: gray;\n",
       "  /* Definition of color scheme for unfitted estimators */\n",
       "  --sklearn-color-unfitted-level-0: #fff5e6;\n",
       "  --sklearn-color-unfitted-level-1: #f6e4d2;\n",
       "  --sklearn-color-unfitted-level-2: #ffe0b3;\n",
       "  --sklearn-color-unfitted-level-3: chocolate;\n",
       "  /* Definition of color scheme for fitted estimators */\n",
       "  --sklearn-color-fitted-level-0: #f0f8ff;\n",
       "  --sklearn-color-fitted-level-1: #d4ebff;\n",
       "  --sklearn-color-fitted-level-2: #b3dbfd;\n",
       "  --sklearn-color-fitted-level-3: cornflowerblue;\n",
       "\n",
       "  /* Specific color for light theme */\n",
       "  --sklearn-color-text-on-default-background: var(--sg-text-color, var(--theme-code-foreground, var(--jp-content-font-color1, black)));\n",
       "  --sklearn-color-background: var(--sg-background-color, var(--theme-background, var(--jp-layout-color0, white)));\n",
       "  --sklearn-color-border-box: var(--sg-text-color, var(--theme-code-foreground, var(--jp-content-font-color1, black)));\n",
       "  --sklearn-color-icon: #696969;\n",
       "\n",
       "  @media (prefers-color-scheme: dark) {\n",
       "    /* Redefinition of color scheme for dark theme */\n",
       "    --sklearn-color-text-on-default-background: var(--sg-text-color, var(--theme-code-foreground, var(--jp-content-font-color1, white)));\n",
       "    --sklearn-color-background: var(--sg-background-color, var(--theme-background, var(--jp-layout-color0, #111)));\n",
       "    --sklearn-color-border-box: var(--sg-text-color, var(--theme-code-foreground, var(--jp-content-font-color1, white)));\n",
       "    --sklearn-color-icon: #878787;\n",
       "  }\n",
       "}\n",
       "\n",
       "#sk-container-id-1 {\n",
       "  color: var(--sklearn-color-text);\n",
       "}\n",
       "\n",
       "#sk-container-id-1 pre {\n",
       "  padding: 0;\n",
       "}\n",
       "\n",
       "#sk-container-id-1 input.sk-hidden--visually {\n",
       "  border: 0;\n",
       "  clip: rect(1px 1px 1px 1px);\n",
       "  clip: rect(1px, 1px, 1px, 1px);\n",
       "  height: 1px;\n",
       "  margin: -1px;\n",
       "  overflow: hidden;\n",
       "  padding: 0;\n",
       "  position: absolute;\n",
       "  width: 1px;\n",
       "}\n",
       "\n",
       "#sk-container-id-1 div.sk-dashed-wrapped {\n",
       "  border: 1px dashed var(--sklearn-color-line);\n",
       "  margin: 0 0.4em 0.5em 0.4em;\n",
       "  box-sizing: border-box;\n",
       "  padding-bottom: 0.4em;\n",
       "  background-color: var(--sklearn-color-background);\n",
       "}\n",
       "\n",
       "#sk-container-id-1 div.sk-container {\n",
       "  /* jupyter's `normalize.less` sets `[hidden] { display: none; }`\n",
       "     but bootstrap.min.css set `[hidden] { display: none !important; }`\n",
       "     so we also need the `!important` here to be able to override the\n",
       "     default hidden behavior on the sphinx rendered scikit-learn.org.\n",
       "     See: https://github.com/scikit-learn/scikit-learn/issues/21755 */\n",
       "  display: inline-block !important;\n",
       "  position: relative;\n",
       "}\n",
       "\n",
       "#sk-container-id-1 div.sk-text-repr-fallback {\n",
       "  display: none;\n",
       "}\n",
       "\n",
       "div.sk-parallel-item,\n",
       "div.sk-serial,\n",
       "div.sk-item {\n",
       "  /* draw centered vertical line to link estimators */\n",
       "  background-image: linear-gradient(var(--sklearn-color-text-on-default-background), var(--sklearn-color-text-on-default-background));\n",
       "  background-size: 2px 100%;\n",
       "  background-repeat: no-repeat;\n",
       "  background-position: center center;\n",
       "}\n",
       "\n",
       "/* Parallel-specific style estimator block */\n",
       "\n",
       "#sk-container-id-1 div.sk-parallel-item::after {\n",
       "  content: \"\";\n",
       "  width: 100%;\n",
       "  border-bottom: 2px solid var(--sklearn-color-text-on-default-background);\n",
       "  flex-grow: 1;\n",
       "}\n",
       "\n",
       "#sk-container-id-1 div.sk-parallel {\n",
       "  display: flex;\n",
       "  align-items: stretch;\n",
       "  justify-content: center;\n",
       "  background-color: var(--sklearn-color-background);\n",
       "  position: relative;\n",
       "}\n",
       "\n",
       "#sk-container-id-1 div.sk-parallel-item {\n",
       "  display: flex;\n",
       "  flex-direction: column;\n",
       "}\n",
       "\n",
       "#sk-container-id-1 div.sk-parallel-item:first-child::after {\n",
       "  align-self: flex-end;\n",
       "  width: 50%;\n",
       "}\n",
       "\n",
       "#sk-container-id-1 div.sk-parallel-item:last-child::after {\n",
       "  align-self: flex-start;\n",
       "  width: 50%;\n",
       "}\n",
       "\n",
       "#sk-container-id-1 div.sk-parallel-item:only-child::after {\n",
       "  width: 0;\n",
       "}\n",
       "\n",
       "/* Serial-specific style estimator block */\n",
       "\n",
       "#sk-container-id-1 div.sk-serial {\n",
       "  display: flex;\n",
       "  flex-direction: column;\n",
       "  align-items: center;\n",
       "  background-color: var(--sklearn-color-background);\n",
       "  padding-right: 1em;\n",
       "  padding-left: 1em;\n",
       "}\n",
       "\n",
       "\n",
       "/* Toggleable style: style used for estimator/Pipeline/ColumnTransformer box that is\n",
       "clickable and can be expanded/collapsed.\n",
       "- Pipeline and ColumnTransformer use this feature and define the default style\n",
       "- Estimators will overwrite some part of the style using the `sk-estimator` class\n",
       "*/\n",
       "\n",
       "/* Pipeline and ColumnTransformer style (default) */\n",
       "\n",
       "#sk-container-id-1 div.sk-toggleable {\n",
       "  /* Default theme specific background. It is overwritten whether we have a\n",
       "  specific estimator or a Pipeline/ColumnTransformer */\n",
       "  background-color: var(--sklearn-color-background);\n",
       "}\n",
       "\n",
       "/* Toggleable label */\n",
       "#sk-container-id-1 label.sk-toggleable__label {\n",
       "  cursor: pointer;\n",
       "  display: block;\n",
       "  width: 100%;\n",
       "  margin-bottom: 0;\n",
       "  padding: 0.5em;\n",
       "  box-sizing: border-box;\n",
       "  text-align: center;\n",
       "}\n",
       "\n",
       "#sk-container-id-1 label.sk-toggleable__label-arrow:before {\n",
       "  /* Arrow on the left of the label */\n",
       "  content: \"▸\";\n",
       "  float: left;\n",
       "  margin-right: 0.25em;\n",
       "  color: var(--sklearn-color-icon);\n",
       "}\n",
       "\n",
       "#sk-container-id-1 label.sk-toggleable__label-arrow:hover:before {\n",
       "  color: var(--sklearn-color-text);\n",
       "}\n",
       "\n",
       "/* Toggleable content - dropdown */\n",
       "\n",
       "#sk-container-id-1 div.sk-toggleable__content {\n",
       "  max-height: 0;\n",
       "  max-width: 0;\n",
       "  overflow: hidden;\n",
       "  text-align: left;\n",
       "  /* unfitted */\n",
       "  background-color: var(--sklearn-color-unfitted-level-0);\n",
       "}\n",
       "\n",
       "#sk-container-id-1 div.sk-toggleable__content.fitted {\n",
       "  /* fitted */\n",
       "  background-color: var(--sklearn-color-fitted-level-0);\n",
       "}\n",
       "\n",
       "#sk-container-id-1 div.sk-toggleable__content pre {\n",
       "  margin: 0.2em;\n",
       "  border-radius: 0.25em;\n",
       "  color: var(--sklearn-color-text);\n",
       "  /* unfitted */\n",
       "  background-color: var(--sklearn-color-unfitted-level-0);\n",
       "}\n",
       "\n",
       "#sk-container-id-1 div.sk-toggleable__content.fitted pre {\n",
       "  /* unfitted */\n",
       "  background-color: var(--sklearn-color-fitted-level-0);\n",
       "}\n",
       "\n",
       "#sk-container-id-1 input.sk-toggleable__control:checked~div.sk-toggleable__content {\n",
       "  /* Expand drop-down */\n",
       "  max-height: 200px;\n",
       "  max-width: 100%;\n",
       "  overflow: auto;\n",
       "}\n",
       "\n",
       "#sk-container-id-1 input.sk-toggleable__control:checked~label.sk-toggleable__label-arrow:before {\n",
       "  content: \"▾\";\n",
       "}\n",
       "\n",
       "/* Pipeline/ColumnTransformer-specific style */\n",
       "\n",
       "#sk-container-id-1 div.sk-label input.sk-toggleable__control:checked~label.sk-toggleable__label {\n",
       "  color: var(--sklearn-color-text);\n",
       "  background-color: var(--sklearn-color-unfitted-level-2);\n",
       "}\n",
       "\n",
       "#sk-container-id-1 div.sk-label.fitted input.sk-toggleable__control:checked~label.sk-toggleable__label {\n",
       "  background-color: var(--sklearn-color-fitted-level-2);\n",
       "}\n",
       "\n",
       "/* Estimator-specific style */\n",
       "\n",
       "/* Colorize estimator box */\n",
       "#sk-container-id-1 div.sk-estimator input.sk-toggleable__control:checked~label.sk-toggleable__label {\n",
       "  /* unfitted */\n",
       "  background-color: var(--sklearn-color-unfitted-level-2);\n",
       "}\n",
       "\n",
       "#sk-container-id-1 div.sk-estimator.fitted input.sk-toggleable__control:checked~label.sk-toggleable__label {\n",
       "  /* fitted */\n",
       "  background-color: var(--sklearn-color-fitted-level-2);\n",
       "}\n",
       "\n",
       "#sk-container-id-1 div.sk-label label.sk-toggleable__label,\n",
       "#sk-container-id-1 div.sk-label label {\n",
       "  /* The background is the default theme color */\n",
       "  color: var(--sklearn-color-text-on-default-background);\n",
       "}\n",
       "\n",
       "/* On hover, darken the color of the background */\n",
       "#sk-container-id-1 div.sk-label:hover label.sk-toggleable__label {\n",
       "  color: var(--sklearn-color-text);\n",
       "  background-color: var(--sklearn-color-unfitted-level-2);\n",
       "}\n",
       "\n",
       "/* Label box, darken color on hover, fitted */\n",
       "#sk-container-id-1 div.sk-label.fitted:hover label.sk-toggleable__label.fitted {\n",
       "  color: var(--sklearn-color-text);\n",
       "  background-color: var(--sklearn-color-fitted-level-2);\n",
       "}\n",
       "\n",
       "/* Estimator label */\n",
       "\n",
       "#sk-container-id-1 div.sk-label label {\n",
       "  font-family: monospace;\n",
       "  font-weight: bold;\n",
       "  display: inline-block;\n",
       "  line-height: 1.2em;\n",
       "}\n",
       "\n",
       "#sk-container-id-1 div.sk-label-container {\n",
       "  text-align: center;\n",
       "}\n",
       "\n",
       "/* Estimator-specific */\n",
       "#sk-container-id-1 div.sk-estimator {\n",
       "  font-family: monospace;\n",
       "  border: 1px dotted var(--sklearn-color-border-box);\n",
       "  border-radius: 0.25em;\n",
       "  box-sizing: border-box;\n",
       "  margin-bottom: 0.5em;\n",
       "  /* unfitted */\n",
       "  background-color: var(--sklearn-color-unfitted-level-0);\n",
       "}\n",
       "\n",
       "#sk-container-id-1 div.sk-estimator.fitted {\n",
       "  /* fitted */\n",
       "  background-color: var(--sklearn-color-fitted-level-0);\n",
       "}\n",
       "\n",
       "/* on hover */\n",
       "#sk-container-id-1 div.sk-estimator:hover {\n",
       "  /* unfitted */\n",
       "  background-color: var(--sklearn-color-unfitted-level-2);\n",
       "}\n",
       "\n",
       "#sk-container-id-1 div.sk-estimator.fitted:hover {\n",
       "  /* fitted */\n",
       "  background-color: var(--sklearn-color-fitted-level-2);\n",
       "}\n",
       "\n",
       "/* Specification for estimator info (e.g. \"i\" and \"?\") */\n",
       "\n",
       "/* Common style for \"i\" and \"?\" */\n",
       "\n",
       ".sk-estimator-doc-link,\n",
       "a:link.sk-estimator-doc-link,\n",
       "a:visited.sk-estimator-doc-link {\n",
       "  float: right;\n",
       "  font-size: smaller;\n",
       "  line-height: 1em;\n",
       "  font-family: monospace;\n",
       "  background-color: var(--sklearn-color-background);\n",
       "  border-radius: 1em;\n",
       "  height: 1em;\n",
       "  width: 1em;\n",
       "  text-decoration: none !important;\n",
       "  margin-left: 1ex;\n",
       "  /* unfitted */\n",
       "  border: var(--sklearn-color-unfitted-level-1) 1pt solid;\n",
       "  color: var(--sklearn-color-unfitted-level-1);\n",
       "}\n",
       "\n",
       ".sk-estimator-doc-link.fitted,\n",
       "a:link.sk-estimator-doc-link.fitted,\n",
       "a:visited.sk-estimator-doc-link.fitted {\n",
       "  /* fitted */\n",
       "  border: var(--sklearn-color-fitted-level-1) 1pt solid;\n",
       "  color: var(--sklearn-color-fitted-level-1);\n",
       "}\n",
       "\n",
       "/* On hover */\n",
       "div.sk-estimator:hover .sk-estimator-doc-link:hover,\n",
       ".sk-estimator-doc-link:hover,\n",
       "div.sk-label-container:hover .sk-estimator-doc-link:hover,\n",
       ".sk-estimator-doc-link:hover {\n",
       "  /* unfitted */\n",
       "  background-color: var(--sklearn-color-unfitted-level-3);\n",
       "  color: var(--sklearn-color-background);\n",
       "  text-decoration: none;\n",
       "}\n",
       "\n",
       "div.sk-estimator.fitted:hover .sk-estimator-doc-link.fitted:hover,\n",
       ".sk-estimator-doc-link.fitted:hover,\n",
       "div.sk-label-container:hover .sk-estimator-doc-link.fitted:hover,\n",
       ".sk-estimator-doc-link.fitted:hover {\n",
       "  /* fitted */\n",
       "  background-color: var(--sklearn-color-fitted-level-3);\n",
       "  color: var(--sklearn-color-background);\n",
       "  text-decoration: none;\n",
       "}\n",
       "\n",
       "/* Span, style for the box shown on hovering the info icon */\n",
       ".sk-estimator-doc-link span {\n",
       "  display: none;\n",
       "  z-index: 9999;\n",
       "  position: relative;\n",
       "  font-weight: normal;\n",
       "  right: .2ex;\n",
       "  padding: .5ex;\n",
       "  margin: .5ex;\n",
       "  width: min-content;\n",
       "  min-width: 20ex;\n",
       "  max-width: 50ex;\n",
       "  color: var(--sklearn-color-text);\n",
       "  box-shadow: 2pt 2pt 4pt #999;\n",
       "  /* unfitted */\n",
       "  background: var(--sklearn-color-unfitted-level-0);\n",
       "  border: .5pt solid var(--sklearn-color-unfitted-level-3);\n",
       "}\n",
       "\n",
       ".sk-estimator-doc-link.fitted span {\n",
       "  /* fitted */\n",
       "  background: var(--sklearn-color-fitted-level-0);\n",
       "  border: var(--sklearn-color-fitted-level-3);\n",
       "}\n",
       "\n",
       ".sk-estimator-doc-link:hover span {\n",
       "  display: block;\n",
       "}\n",
       "\n",
       "/* \"?\"-specific style due to the `<a>` HTML tag */\n",
       "\n",
       "#sk-container-id-1 a.estimator_doc_link {\n",
       "  float: right;\n",
       "  font-size: 1rem;\n",
       "  line-height: 1em;\n",
       "  font-family: monospace;\n",
       "  background-color: var(--sklearn-color-background);\n",
       "  border-radius: 1rem;\n",
       "  height: 1rem;\n",
       "  width: 1rem;\n",
       "  text-decoration: none;\n",
       "  /* unfitted */\n",
       "  color: var(--sklearn-color-unfitted-level-1);\n",
       "  border: var(--sklearn-color-unfitted-level-1) 1pt solid;\n",
       "}\n",
       "\n",
       "#sk-container-id-1 a.estimator_doc_link.fitted {\n",
       "  /* fitted */\n",
       "  border: var(--sklearn-color-fitted-level-1) 1pt solid;\n",
       "  color: var(--sklearn-color-fitted-level-1);\n",
       "}\n",
       "\n",
       "/* On hover */\n",
       "#sk-container-id-1 a.estimator_doc_link:hover {\n",
       "  /* unfitted */\n",
       "  background-color: var(--sklearn-color-unfitted-level-3);\n",
       "  color: var(--sklearn-color-background);\n",
       "  text-decoration: none;\n",
       "}\n",
       "\n",
       "#sk-container-id-1 a.estimator_doc_link.fitted:hover {\n",
       "  /* fitted */\n",
       "  background-color: var(--sklearn-color-fitted-level-3);\n",
       "}\n",
       "</style><div id=\"sk-container-id-1\" class=\"sk-top-container\"><div class=\"sk-text-repr-fallback\"><pre>DecisionTreeClassifier(max_depth=6)</pre><b>In a Jupyter environment, please rerun this cell to show the HTML representation or trust the notebook. <br />On GitHub, the HTML representation is unable to render, please try loading this page with nbviewer.org.</b></div><div class=\"sk-container\" hidden><div class=\"sk-item\"><div class=\"sk-estimator fitted sk-toggleable\"><input class=\"sk-toggleable__control sk-hidden--visually\" id=\"sk-estimator-id-1\" type=\"checkbox\" checked><label for=\"sk-estimator-id-1\" class=\"sk-toggleable__label fitted sk-toggleable__label-arrow fitted\">&nbsp;&nbsp;DecisionTreeClassifier<a class=\"sk-estimator-doc-link fitted\" rel=\"noreferrer\" target=\"_blank\" href=\"https://scikit-learn.org/1.5/modules/generated/sklearn.tree.DecisionTreeClassifier.html\">?<span>Documentation for DecisionTreeClassifier</span></a><span class=\"sk-estimator-doc-link fitted\">i<span>Fitted</span></span></label><div class=\"sk-toggleable__content fitted\"><pre>DecisionTreeClassifier(max_depth=6)</pre></div> </div></div></div></div>"
      ],
      "text/plain": [
       "DecisionTreeClassifier(max_depth=6)"
      ]
     },
     "execution_count": 24,
     "metadata": {},
     "output_type": "execute_result"
    }
   ],
   "source": [
    "#обучение\n",
    "dtc = DecisionTreeClassifier(max_depth=6)\n",
    "dtc.fit(X_train_pca, y_train_cla)\n"
   ]
  },
  {
   "cell_type": "code",
   "execution_count": 25,
   "metadata": {},
   "outputs": [],
   "source": [
    "\n",
    "# прогноз\n",
    "df[\"prediction\"] = dtc.predict(np.concatenate((X_train_pca, X_test_pca, X_val_pca),axis=0))\n",
    "df[\"prediction\"] = np.where(df[\"prediction\"]==0, -1, 1)\n",
    "\n",
    "df[\"returns_predict\"] = df[\"prediction\"] * df[\"returns\"]\n",
    "returns_predict = df[\"returns_predict\"].iloc[split_train_test:split_test_valid]\n",
    "portfolio = pd.DataFrame(returns_predict)\n"
   ]
  },
  {
   "cell_type": "markdown",
   "metadata": {},
   "source": [
    "Рассчитаю коэффициент Шарпа. Так как данные дневные, то домножу на корень из среднего количества торговых дней в году"
   ]
  },
  {
   "cell_type": "code",
   "execution_count": 26,
   "metadata": {},
   "outputs": [
    {
     "data": {
      "text/plain": [
       "0.041"
      ]
     },
     "execution_count": 26,
     "metadata": {},
     "output_type": "execute_result"
    }
   ],
   "source": [
    "# Уменьшаю доходность на среднюю величину спреда в процентах\n",
    "\n",
    "def sharpe_ratio(returns, spread=0.00011):\n",
    "    return np.sqrt(260) * (returns.mean()-(spread))/ returns.std()\n",
    "\n",
    "sharpe= sharpe_ratio(returns_predict)\n",
    "round(sharpe, 3)\n"
   ]
  },
  {
   "cell_type": "markdown",
   "metadata": {},
   "source": [
    "Вычислю просадку"
   ]
  },
  {
   "cell_type": "code",
   "execution_count": 27,
   "metadata": {},
   "outputs": [
    {
     "name": "stdout",
     "output_type": "stream",
     "text": [
      "максимальная просадка: 9%\n"
     ]
    }
   ],
   "source": [
    "def drawdown(portfolio):\n",
    "    # Подсчет накопленной доходности\n",
    "    cum_rets = (portfolio+1).cumprod()\n",
    "\n",
    "    # Вычисление скользящего максимума\n",
    "    running_max = np.maximum.accumulate(cum_rets.dropna())\n",
    "\n",
    "    # Просадка\n",
    "    return ((cum_rets/running_max) - 1)\n",
    "\n",
    "\n",
    "drawdown_portfolio = drawdown(portfolio)\n",
    "max_drawdon =  round((-drawdown_portfolio.min())[0]*100)\n",
    "print(f'максимальная просадка: {max_drawdon}%')"
   ]
  },
  {
   "cell_type": "markdown",
   "metadata": {},
   "source": [
    "#### Функция для отрисовки графика просадки"
   ]
  },
  {
   "cell_type": "code",
   "execution_count": 28,
   "metadata": {},
   "outputs": [],
   "source": [
    "def plot_drawdown(drawdown_portfolio):\n",
    "    \"\"\"\n",
    "    Функция для построения графика просадки.\n",
    "    \n",
    "    Параметры:\n",
    "    drawdown_portfolio (pd.DataFrame): Временной ряд просадки. \n",
    "    \n",
    "    Возвращает:\n",
    "    None\n",
    "    \"\"\"\n",
    "\n",
    "    fig = go.Figure()\n",
    "\n",
    "    # Заполнение области между графиком и осью x\n",
    "    fig.add_trace(go.Scatter(\n",
    "        x=drawdown_portfolio.index, \n",
    "        y=drawdown_portfolio.iloc[:, 0] * 100, \n",
    "        mode='lines',\n",
    "        fill='tozeroy',\n",
    "        fillcolor= 'rgba(143, 188, 143, 0.5)'  # Цвет 'DarkSeaGreen' с прозрачностью\n",
    "    ))\n",
    "\n",
    "    # Линия графика\n",
    "    fig.add_trace(go.Scatter(\n",
    "        x=drawdown_portfolio.index, \n",
    "        y=drawdown_portfolio.iloc[:, 0] * 100, \n",
    "        line=dict(color='SeaGreen'),\n",
    "        name='Drawdown'\n",
    "    ))\n",
    "\n",
    "    # Настройки графика\n",
    "    fig.update_layout(\n",
    "        title='Просадка',\n",
    "        title_font_size=15,\n",
    "        yaxis_title='Просадка %',\n",
    "        yaxis_title_font_size=15,\n",
    "        showlegend=False,\n",
    "        width=1200,\n",
    "        height=600\n",
    "    )\n",
    "    fig.show()\n",
    "\n"
   ]
  },
  {
   "cell_type": "code",
   "execution_count": 29,
   "metadata": {},
   "outputs": [
    {
     "data": {
      "application/vnd.plotly.v1+json": {
       "config": {
        "plotlyServerURL": "https://plot.ly"
       },
       "data": [
        {
         "fill": "tozeroy",
         "fillcolor": "rgba(143, 188, 143, 0.5)",
         "mode": "lines",
         "type": "scatter",
         "x": [
          "2022-08-30T00:00:00",
          "2022-08-31T00:00:00",
          "2022-09-01T00:00:00",
          "2022-09-02T00:00:00",
          "2022-09-05T00:00:00",
          "2022-09-06T00:00:00",
          "2022-09-07T00:00:00",
          "2022-09-08T00:00:00",
          "2022-09-09T00:00:00",
          "2022-09-12T00:00:00",
          "2022-09-13T00:00:00",
          "2022-09-14T00:00:00",
          "2022-09-15T00:00:00",
          "2022-09-16T00:00:00",
          "2022-09-19T00:00:00",
          "2022-09-20T00:00:00",
          "2022-09-21T00:00:00",
          "2022-09-22T00:00:00",
          "2022-09-23T00:00:00",
          "2022-09-26T00:00:00",
          "2022-09-27T00:00:00",
          "2022-09-28T00:00:00",
          "2022-09-29T00:00:00",
          "2022-09-30T00:00:00",
          "2022-10-03T00:00:00",
          "2022-10-04T00:00:00",
          "2022-10-05T00:00:00",
          "2022-10-06T00:00:00",
          "2022-10-07T00:00:00",
          "2022-10-10T00:00:00",
          "2022-10-11T00:00:00",
          "2022-10-12T00:00:00",
          "2022-10-13T00:00:00",
          "2022-10-14T00:00:00",
          "2022-10-17T00:00:00",
          "2022-10-18T00:00:00",
          "2022-10-19T00:00:00",
          "2022-10-20T00:00:00",
          "2022-10-21T00:00:00",
          "2022-10-24T00:00:00",
          "2022-10-25T00:00:00",
          "2022-10-26T00:00:00",
          "2022-10-27T00:00:00",
          "2022-10-28T00:00:00",
          "2022-10-31T00:00:00",
          "2022-11-01T00:00:00",
          "2022-11-02T00:00:00",
          "2022-11-03T00:00:00",
          "2022-11-04T00:00:00",
          "2022-11-07T00:00:00",
          "2022-11-08T00:00:00",
          "2022-11-09T00:00:00",
          "2022-11-10T00:00:00",
          "2022-11-11T00:00:00",
          "2022-11-14T00:00:00",
          "2022-11-15T00:00:00",
          "2022-11-16T00:00:00",
          "2022-11-17T00:00:00",
          "2022-11-18T00:00:00",
          "2022-11-21T00:00:00",
          "2022-11-22T00:00:00",
          "2022-11-23T00:00:00",
          "2022-11-24T00:00:00",
          "2022-11-25T00:00:00",
          "2022-11-28T00:00:00",
          "2022-11-29T00:00:00",
          "2022-11-30T00:00:00",
          "2022-12-01T00:00:00",
          "2022-12-02T00:00:00",
          "2022-12-05T00:00:00",
          "2022-12-06T00:00:00",
          "2022-12-07T00:00:00",
          "2022-12-08T00:00:00",
          "2022-12-09T00:00:00",
          "2022-12-12T00:00:00",
          "2022-12-13T00:00:00",
          "2022-12-14T00:00:00",
          "2022-12-15T00:00:00",
          "2022-12-16T00:00:00",
          "2022-12-19T00:00:00",
          "2022-12-20T00:00:00",
          "2022-12-21T00:00:00",
          "2022-12-22T00:00:00",
          "2022-12-23T00:00:00",
          "2022-12-26T00:00:00",
          "2022-12-27T00:00:00",
          "2022-12-28T00:00:00",
          "2022-12-29T00:00:00",
          "2023-01-02T00:00:00",
          "2023-01-03T00:00:00",
          "2023-01-04T00:00:00",
          "2023-01-05T00:00:00",
          "2023-01-06T00:00:00",
          "2023-01-09T00:00:00",
          "2023-01-10T00:00:00",
          "2023-01-11T00:00:00",
          "2023-01-12T00:00:00",
          "2023-01-13T00:00:00",
          "2023-01-16T00:00:00",
          "2023-01-17T00:00:00",
          "2023-01-18T00:00:00",
          "2023-01-19T00:00:00",
          "2023-01-20T00:00:00",
          "2023-01-23T00:00:00",
          "2023-01-24T00:00:00",
          "2023-01-25T00:00:00",
          "2023-01-26T00:00:00",
          "2023-01-27T00:00:00",
          "2023-01-30T00:00:00",
          "2023-01-31T00:00:00",
          "2023-02-01T00:00:00",
          "2023-02-02T00:00:00",
          "2023-02-03T00:00:00",
          "2023-02-06T00:00:00",
          "2023-02-07T00:00:00",
          "2023-02-08T00:00:00",
          "2023-02-09T00:00:00",
          "2023-02-10T00:00:00",
          "2023-02-13T00:00:00",
          "2023-02-14T00:00:00",
          "2023-02-15T00:00:00",
          "2023-02-16T00:00:00",
          "2023-02-17T00:00:00",
          "2023-02-20T00:00:00",
          "2023-02-21T00:00:00",
          "2023-02-22T00:00:00",
          "2023-02-23T00:00:00",
          "2023-02-24T00:00:00",
          "2023-02-27T00:00:00",
          "2023-02-28T00:00:00",
          "2023-03-01T00:00:00",
          "2023-03-02T00:00:00",
          "2023-03-03T00:00:00",
          "2023-03-06T00:00:00",
          "2023-03-07T00:00:00",
          "2023-03-08T00:00:00",
          "2023-03-09T00:00:00",
          "2023-03-10T00:00:00",
          "2023-03-13T00:00:00",
          "2023-03-14T00:00:00",
          "2023-03-15T00:00:00",
          "2023-03-16T00:00:00",
          "2023-03-17T00:00:00",
          "2023-03-20T00:00:00",
          "2023-03-21T00:00:00",
          "2023-03-22T00:00:00",
          "2023-03-23T00:00:00",
          "2023-03-24T00:00:00",
          "2023-03-27T00:00:00",
          "2023-03-28T00:00:00",
          "2023-03-29T00:00:00",
          "2023-03-30T00:00:00",
          "2023-03-31T00:00:00",
          "2023-04-03T00:00:00",
          "2023-04-04T00:00:00",
          "2023-04-05T00:00:00",
          "2023-04-06T00:00:00",
          "2023-04-07T00:00:00",
          "2023-04-10T00:00:00",
          "2023-04-11T00:00:00",
          "2023-04-12T00:00:00",
          "2023-04-13T00:00:00",
          "2023-04-14T00:00:00",
          "2023-04-17T00:00:00",
          "2023-04-18T00:00:00",
          "2023-04-19T00:00:00",
          "2023-04-20T00:00:00",
          "2023-04-21T00:00:00",
          "2023-04-24T00:00:00",
          "2023-04-25T00:00:00",
          "2023-04-26T00:00:00",
          "2023-04-27T00:00:00",
          "2023-04-28T00:00:00",
          "2023-05-01T00:00:00",
          "2023-05-02T00:00:00",
          "2023-05-03T00:00:00",
          "2023-05-04T00:00:00",
          "2023-05-05T00:00:00",
          "2023-05-08T00:00:00",
          "2023-05-09T00:00:00",
          "2023-05-10T00:00:00",
          "2023-05-11T00:00:00",
          "2023-05-12T00:00:00",
          "2023-05-15T00:00:00",
          "2023-05-16T00:00:00",
          "2023-05-17T00:00:00",
          "2023-05-18T00:00:00",
          "2023-05-19T00:00:00",
          "2023-05-22T00:00:00",
          "2023-05-23T00:00:00",
          "2023-05-24T00:00:00",
          "2023-05-25T00:00:00",
          "2023-05-26T00:00:00",
          "2023-05-29T00:00:00",
          "2023-05-30T00:00:00",
          "2023-05-31T00:00:00",
          "2023-06-01T00:00:00",
          "2023-06-02T00:00:00",
          "2023-06-05T00:00:00",
          "2023-06-06T00:00:00",
          "2023-06-07T00:00:00",
          "2023-06-08T00:00:00",
          "2023-06-09T00:00:00",
          "2023-06-12T00:00:00",
          "2023-06-13T00:00:00",
          "2023-06-14T00:00:00",
          "2023-06-15T00:00:00",
          "2023-06-16T00:00:00",
          "2023-06-19T00:00:00",
          "2023-06-20T00:00:00",
          "2023-06-21T00:00:00",
          "2023-06-22T00:00:00",
          "2023-06-23T00:00:00",
          "2023-06-26T00:00:00",
          "2023-06-27T00:00:00",
          "2023-06-28T00:00:00",
          "2023-06-29T00:00:00",
          "2023-06-30T00:00:00",
          "2023-07-03T00:00:00",
          "2023-07-04T00:00:00",
          "2023-07-05T00:00:00",
          "2023-07-06T00:00:00",
          "2023-07-07T00:00:00",
          "2023-07-10T00:00:00",
          "2023-07-11T00:00:00",
          "2023-07-12T00:00:00",
          "2023-07-13T00:00:00",
          "2023-07-14T00:00:00",
          "2023-07-17T00:00:00",
          "2023-07-18T00:00:00",
          "2023-07-19T00:00:00",
          "2023-07-20T00:00:00",
          "2023-07-21T00:00:00",
          "2023-07-24T00:00:00",
          "2023-07-25T00:00:00",
          "2023-07-26T00:00:00",
          "2023-07-27T00:00:00",
          "2023-07-28T00:00:00",
          "2023-07-31T00:00:00",
          "2023-08-01T00:00:00",
          "2023-08-02T00:00:00",
          "2023-08-03T00:00:00",
          "2023-08-04T00:00:00",
          "2023-08-07T00:00:00",
          "2023-08-08T00:00:00",
          "2023-08-09T00:00:00",
          "2023-08-10T00:00:00",
          "2023-08-11T00:00:00",
          "2023-08-14T00:00:00",
          "2023-08-15T00:00:00",
          "2023-08-16T00:00:00",
          "2023-08-17T00:00:00",
          "2023-08-18T00:00:00",
          "2023-08-21T00:00:00",
          "2023-08-22T00:00:00",
          "2023-08-23T00:00:00",
          "2023-08-24T00:00:00",
          "2023-08-25T00:00:00",
          "2023-08-28T00:00:00",
          "2023-08-29T00:00:00",
          "2023-08-30T00:00:00",
          "2023-08-31T00:00:00",
          "2023-09-01T00:00:00",
          "2023-09-04T00:00:00",
          "2023-09-05T00:00:00",
          "2023-09-06T00:00:00",
          "2023-09-07T00:00:00",
          "2023-09-08T00:00:00",
          "2023-09-11T00:00:00",
          "2023-09-12T00:00:00",
          "2023-09-13T00:00:00",
          "2023-09-14T00:00:00",
          "2023-09-15T00:00:00",
          "2023-09-18T00:00:00",
          "2023-09-19T00:00:00",
          "2023-09-20T00:00:00",
          "2023-09-21T00:00:00",
          "2023-09-22T00:00:00",
          "2023-09-25T00:00:00",
          "2023-09-26T00:00:00",
          "2023-09-27T00:00:00",
          "2023-09-28T00:00:00",
          "2023-09-29T00:00:00",
          "2023-10-02T00:00:00",
          "2023-10-03T00:00:00",
          "2023-10-04T00:00:00",
          "2023-10-05T00:00:00",
          "2023-10-06T00:00:00",
          "2023-10-09T00:00:00",
          "2023-10-10T00:00:00",
          "2023-10-11T00:00:00",
          "2023-10-12T00:00:00",
          "2023-10-13T00:00:00",
          "2023-10-16T00:00:00",
          "2023-10-17T00:00:00",
          "2023-10-18T00:00:00",
          "2023-10-19T00:00:00",
          "2023-10-20T00:00:00",
          "2023-10-23T00:00:00",
          "2023-10-24T00:00:00",
          "2023-10-25T00:00:00",
          "2023-10-26T00:00:00",
          "2023-10-27T00:00:00",
          "2023-10-30T00:00:00",
          "2023-10-31T00:00:00",
          "2023-11-01T00:00:00",
          "2023-11-02T00:00:00",
          "2023-11-03T00:00:00",
          "2023-11-06T00:00:00",
          "2023-11-07T00:00:00",
          "2023-11-08T00:00:00",
          "2023-11-09T00:00:00",
          "2023-11-10T00:00:00",
          "2023-11-13T00:00:00",
          "2023-11-14T00:00:00",
          "2023-11-15T00:00:00",
          "2023-11-16T00:00:00",
          "2023-11-17T00:00:00",
          "2023-11-20T00:00:00",
          "2023-11-21T00:00:00",
          "2023-11-22T00:00:00",
          "2023-11-23T00:00:00",
          "2023-11-24T00:00:00",
          "2023-11-27T00:00:00",
          "2023-11-28T00:00:00",
          "2023-11-29T00:00:00",
          "2023-11-30T00:00:00",
          "2023-12-01T00:00:00",
          "2023-12-04T00:00:00",
          "2023-12-05T00:00:00",
          "2023-12-06T00:00:00",
          "2023-12-07T00:00:00",
          "2023-12-08T00:00:00",
          "2023-12-11T00:00:00",
          "2023-12-12T00:00:00",
          "2023-12-13T00:00:00",
          "2023-12-14T00:00:00",
          "2023-12-15T00:00:00",
          "2023-12-18T00:00:00",
          "2023-12-19T00:00:00",
          "2023-12-20T00:00:00",
          "2023-12-21T00:00:00",
          "2023-12-22T00:00:00",
          "2023-12-26T00:00:00",
          "2023-12-27T00:00:00"
         ],
         "y": [
          0,
          0,
          -1.0465683104686652,
          -0.9470846307663039,
          -1.2335976283090688,
          -1.4783274803768176,
          -0.4625991106158911,
          -0.5332325232045632,
          -0.06665406540055097,
          0,
          -1.539054242277571,
          -1.4373067538600015,
          -1.2535685708923494,
          -1.093538540565675,
          -1.2022009068368922,
          -1.7295351698099481,
          -3.021750531973866,
          -3.082862166187561,
          -4.508143183494207,
          -3.7038352235203242,
          -3.5454533735590044,
          -4.9866496002360705,
          -5.702136566847882,
          -5.783865484294437,
          -6.021360103227336,
          -7.571183958845273,
          -8.500526111441253,
          -9.378032446760976,
          -8.889294741013298,
          -9.19151872070657,
          -9.219589059377764,
          -9.215846347554956,
          -8.52344466033198,
          -9.02216101072366,
          -7.894669074097072,
          -7.760867126431004,
          -8.566485846294503,
          -8.703094827827684,
          -9.40928965964023,
          -9.29722473841046,
          -8.447552179905948,
          -7.3838539931510905,
          -8.481539082246126,
          -8.464086348611977,
          -7.699840328421981,
          -7.7726948650433165,
          -8.317235824661706,
          -8.953311971317158,
          -7.015194490685673,
          -7.6204475641551745,
          -7.140110769553621,
          -7.687750032496643,
          -5.918524871574649,
          -4.547582810974826,
          -4.767007296800485,
          -4.931114685359161,
          -5.332621386455083,
          -5.103036366624325,
          -5.536974516716164,
          -6.273021505479548,
          -5.691690861369181,
          -4.853109963723357,
          -5.020643046986661,
          -4.859172484135533,
          -4.369449452674267,
          -4.252919314292369,
          -3.540907249857028,
          -4.664551289044017,
          -4.802225038797614,
          -4.364204007602801,
          -4.120837371784436,
          -3.757131253039192,
          -3.2953985481334103,
          -3.088351739981199,
          -3.1279146499998967,
          -3.9966689979011982,
          -4.454476998522572,
          -3.954505574357803,
          -3.621902396055643,
          -3.4644560473131247,
          -3.274246296520178,
          -3.4817478428397775,
          -3.5627462534645438,
          -3.384367731189797,
          -3.2241910989430966,
          -3.19415798039685,
          -2.966634355046416,
          -3.411938674434012,
          -3.7685787393414216,
          -2.7654721263993487,
          -2.2399847328224087,
          -3.018996746107494,
          -1.8850502652309697,
          -2.7184548332898073,
          -2.7166420773936495,
          -2.513613417025218,
          -3.3665150661622123,
          -3.5214891795338987,
          -3.622133287643081,
          -3.3397953914429346,
          -3.29141735905103,
          -2.9733765905485376,
          -2.7485083288749768,
          -2.6123331265865635,
          -2.46092780298961,
          -2.7072974123929394,
          -2.9051826882493303,
          -2.675207908200017,
          -2.5256414239282488,
          -2.4052605641358804,
          -1.2912884287436421,
          -0.5887672917462949,
          -1.6521888233661075,
          -1.0261643227467365,
          -1.000322590193936,
          -1.112918710602595,
          -0.9061848501801251,
          -1.4497841528088418,
          -1.030778917845454,
          -0.9200286354762888,
          -1.3657985220122293,
          -1.502390536934206,
          -1.6915889359815695,
          -1.7605424549502424,
          -2.1347302178869265,
          -1.762381215456077,
          -1.6836369669820161,
          -1.2076297731586916,
          -0.6033177326792649,
          -0.9331128307393688,
          -0.04397775102622514,
          -0.7176217155296261,
          -0.38126819222402686,
          0,
          0,
          0,
          -0.3547141895160144,
          -0.8896162539550057,
          -1.7178730635719064,
          -1.7545222513768222,
          -0.3253539622874668,
          -0.6741072984005836,
          -1.1393010814202187,
          -1.6789762345015502,
          -2.1100639725681103,
          -1.2863286982860322,
          -1.5154471189472773,
          -0.8208182563076538,
          -1.2025745622495587,
          -1.6308156950166852,
          -1.6335371354058048,
          -1.0892791728385531,
          -1.6489577776785502,
          -1.103792718507035,
          -0.6257528080521046,
          -1.080208206795752,
          -0.9541217788010203,
          -0.757281815672517,
          -1.0896906888546942,
          -0.6215861386748789,
          0,
          0,
          -0.4716426017290609,
          0,
          -0.3962262424392127,
          -0.5451135211478664,
          -0.4171067754288438,
          -0.2373526218659716,
          0,
          -0.6329343160868306,
          -0.025353592060683994,
          0,
          -0.10519061264464558,
          -0.4760782037796063,
          -0.26297653161159174,
          0,
          -0.41503155686565263,
          -0.37705481310017497,
          -0.2486572508454521,
          -0.6457226220830559,
          -0.4381245170295922,
          -1.0418814513771912,
          -1.6465449276682365,
          -1.4271617773497391,
          -1.5413860622263131,
          -1.754423418940565,
          -1.1470403168191146,
          -0.836816923324768,
          -0.7615556266781898,
          -1.149793778891528,
          -0.9643939993475792,
          -0.7276276039190677,
          -0.7350330885162459,
          -0.889599517180284,
          -0.6517338155835328,
          -0.22690752362668487,
          0,
          -0.5166806058916507,
          -0.45441873431837365,
          -0.6449214756992672,
          -0.5900938574481929,
          0,
          0,
          -0.0800089312295249,
          -0.39767525344045485,
          -0.03864318844162273,
          0,
          0,
          0,
          0,
          -0.6449189728932492,
          -0.9505851758437767,
          -0.4179301653766898,
          -0.5111700919691597,
          -1.0212054543920268,
          -0.5895239263415841,
          -1.0213433346948242,
          -1.4349425148475148,
          -1.4069362015961095,
          -1.719522794659989,
          -1.4918585708099674,
          -1.833125465768004,
          -1.1580084973891625,
          -0.8524482139707135,
          -0.9236554776582029,
          -2.0253338091474893,
          -1.1890795717075076,
          -1.2146073326399054,
          -1.3184252551082576,
          -1.2104354893328506,
          -0.9790246190028329,
          -1.6172878785203681,
          -1.6526487239230114,
          -1.1098597469925697,
          -1.0204764176485859,
          -0.7276640831021086,
          -1.7251960118017107,
          -1.3571658298488276,
          -1.5362559427212763,
          -1.6499781643952938,
          -2.0627808745663168,
          -1.9741312686944346,
          -2.5400560253713955,
          -2.6188362131386755,
          -3.0277850530093353,
          -3.184460257894828,
          -3.2338698964184287,
          -3.510634161596027,
          -3.880828401642511,
          -3.857911615353893,
          -3.646271154796099,
          -3.713586348915099,
          -3.7197864325839602,
          -3.9252484579311075,
          -3.4993195285811574,
          -3.6443396817811835,
          -3.178651998430071,
          -3.023706315107011,
          -3.2474355574635294,
          -2.6956063460542357,
          -2.3128139595336994,
          -3.0354687453014506,
          -2.4201389277170304,
          -2.6284725832812716,
          -3.299515177605339,
          -3.2688492525958956,
          -3.5349212490012882,
          -3.495235934283192,
          -3.0586974723841975,
          -2.9585822466181244,
          -3.2318697547904396,
          -2.4534964229333545,
          -2.6303937524428167,
          -2.8952357206829316,
          -2.9915148460475716,
          -3.183164803141325,
          -3.1995140885806017,
          -3.040616376972871,
          -2.5705544429334926,
          -2.3746266877275657,
          -1.7549208480161504,
          -2.3376474087976717,
          -2.274793294805344,
          -3.1427346630229724,
          -3.021648061067128,
          -3.3784041524187014,
          -2.9580343034802503,
          -2.65448495960785,
          -2.8126985570201213,
          -3.170518844190917,
          -3.291960882888856,
          -4.118066022175904,
          -3.9267958135206893,
          -4.402310668480858,
          -4.237519849504546,
          -4.614184578593239,
          -4.2022075311524905,
          -4.332591475837044,
          -3.664384254159192,
          -4.3822555260968565,
          -4.598068399044175,
          -4.554725227908341,
          -4.515861673353605,
          -4.069382697771118,
          -4.439038367838388,
          -4.503208423033433,
          -4.991262363953542,
          -4.039394708801947,
          -4.1297505670447325,
          -4.287202359626196,
          -4.378452830326818,
          -4.007002987927121,
          -3.863923263487068,
          -3.728042518893049,
          -2.1082720535337995,
          -2.4034302272214925,
          -2.3377395361263487,
          -2.8713639172141425,
          -2.6248083904190755,
          -2.8758143779866407,
          -2.6639724452168556,
          -2.8266774389711258,
          -2.567396514852893,
          -2.3972155646584503,
          -2.0408156689632695,
          -2.2608926045550426,
          -2.9817113935985295,
          -3.056555371694525,
          -3.459287253830079,
          -3.7951941555227853,
          -4.1034800652991255,
          -3.8156871495252487,
          -4.113281062430718,
          -4.098134066863668,
          -3.8228151474391625,
          -3.1109063557880345,
          -2.0720006598365925,
          -2.9318154082012104,
          -2.677880482518402,
          -3.182186334927062,
          -3.5172754034802467,
          -2.90265150668666,
          -2.905296946701541,
          -2.6389893185356006,
          -2.065810648641997
         ]
        },
        {
         "line": {
          "color": "SeaGreen"
         },
         "name": "Drawdown",
         "type": "scatter",
         "x": [
          "2022-08-30T00:00:00",
          "2022-08-31T00:00:00",
          "2022-09-01T00:00:00",
          "2022-09-02T00:00:00",
          "2022-09-05T00:00:00",
          "2022-09-06T00:00:00",
          "2022-09-07T00:00:00",
          "2022-09-08T00:00:00",
          "2022-09-09T00:00:00",
          "2022-09-12T00:00:00",
          "2022-09-13T00:00:00",
          "2022-09-14T00:00:00",
          "2022-09-15T00:00:00",
          "2022-09-16T00:00:00",
          "2022-09-19T00:00:00",
          "2022-09-20T00:00:00",
          "2022-09-21T00:00:00",
          "2022-09-22T00:00:00",
          "2022-09-23T00:00:00",
          "2022-09-26T00:00:00",
          "2022-09-27T00:00:00",
          "2022-09-28T00:00:00",
          "2022-09-29T00:00:00",
          "2022-09-30T00:00:00",
          "2022-10-03T00:00:00",
          "2022-10-04T00:00:00",
          "2022-10-05T00:00:00",
          "2022-10-06T00:00:00",
          "2022-10-07T00:00:00",
          "2022-10-10T00:00:00",
          "2022-10-11T00:00:00",
          "2022-10-12T00:00:00",
          "2022-10-13T00:00:00",
          "2022-10-14T00:00:00",
          "2022-10-17T00:00:00",
          "2022-10-18T00:00:00",
          "2022-10-19T00:00:00",
          "2022-10-20T00:00:00",
          "2022-10-21T00:00:00",
          "2022-10-24T00:00:00",
          "2022-10-25T00:00:00",
          "2022-10-26T00:00:00",
          "2022-10-27T00:00:00",
          "2022-10-28T00:00:00",
          "2022-10-31T00:00:00",
          "2022-11-01T00:00:00",
          "2022-11-02T00:00:00",
          "2022-11-03T00:00:00",
          "2022-11-04T00:00:00",
          "2022-11-07T00:00:00",
          "2022-11-08T00:00:00",
          "2022-11-09T00:00:00",
          "2022-11-10T00:00:00",
          "2022-11-11T00:00:00",
          "2022-11-14T00:00:00",
          "2022-11-15T00:00:00",
          "2022-11-16T00:00:00",
          "2022-11-17T00:00:00",
          "2022-11-18T00:00:00",
          "2022-11-21T00:00:00",
          "2022-11-22T00:00:00",
          "2022-11-23T00:00:00",
          "2022-11-24T00:00:00",
          "2022-11-25T00:00:00",
          "2022-11-28T00:00:00",
          "2022-11-29T00:00:00",
          "2022-11-30T00:00:00",
          "2022-12-01T00:00:00",
          "2022-12-02T00:00:00",
          "2022-12-05T00:00:00",
          "2022-12-06T00:00:00",
          "2022-12-07T00:00:00",
          "2022-12-08T00:00:00",
          "2022-12-09T00:00:00",
          "2022-12-12T00:00:00",
          "2022-12-13T00:00:00",
          "2022-12-14T00:00:00",
          "2022-12-15T00:00:00",
          "2022-12-16T00:00:00",
          "2022-12-19T00:00:00",
          "2022-12-20T00:00:00",
          "2022-12-21T00:00:00",
          "2022-12-22T00:00:00",
          "2022-12-23T00:00:00",
          "2022-12-26T00:00:00",
          "2022-12-27T00:00:00",
          "2022-12-28T00:00:00",
          "2022-12-29T00:00:00",
          "2023-01-02T00:00:00",
          "2023-01-03T00:00:00",
          "2023-01-04T00:00:00",
          "2023-01-05T00:00:00",
          "2023-01-06T00:00:00",
          "2023-01-09T00:00:00",
          "2023-01-10T00:00:00",
          "2023-01-11T00:00:00",
          "2023-01-12T00:00:00",
          "2023-01-13T00:00:00",
          "2023-01-16T00:00:00",
          "2023-01-17T00:00:00",
          "2023-01-18T00:00:00",
          "2023-01-19T00:00:00",
          "2023-01-20T00:00:00",
          "2023-01-23T00:00:00",
          "2023-01-24T00:00:00",
          "2023-01-25T00:00:00",
          "2023-01-26T00:00:00",
          "2023-01-27T00:00:00",
          "2023-01-30T00:00:00",
          "2023-01-31T00:00:00",
          "2023-02-01T00:00:00",
          "2023-02-02T00:00:00",
          "2023-02-03T00:00:00",
          "2023-02-06T00:00:00",
          "2023-02-07T00:00:00",
          "2023-02-08T00:00:00",
          "2023-02-09T00:00:00",
          "2023-02-10T00:00:00",
          "2023-02-13T00:00:00",
          "2023-02-14T00:00:00",
          "2023-02-15T00:00:00",
          "2023-02-16T00:00:00",
          "2023-02-17T00:00:00",
          "2023-02-20T00:00:00",
          "2023-02-21T00:00:00",
          "2023-02-22T00:00:00",
          "2023-02-23T00:00:00",
          "2023-02-24T00:00:00",
          "2023-02-27T00:00:00",
          "2023-02-28T00:00:00",
          "2023-03-01T00:00:00",
          "2023-03-02T00:00:00",
          "2023-03-03T00:00:00",
          "2023-03-06T00:00:00",
          "2023-03-07T00:00:00",
          "2023-03-08T00:00:00",
          "2023-03-09T00:00:00",
          "2023-03-10T00:00:00",
          "2023-03-13T00:00:00",
          "2023-03-14T00:00:00",
          "2023-03-15T00:00:00",
          "2023-03-16T00:00:00",
          "2023-03-17T00:00:00",
          "2023-03-20T00:00:00",
          "2023-03-21T00:00:00",
          "2023-03-22T00:00:00",
          "2023-03-23T00:00:00",
          "2023-03-24T00:00:00",
          "2023-03-27T00:00:00",
          "2023-03-28T00:00:00",
          "2023-03-29T00:00:00",
          "2023-03-30T00:00:00",
          "2023-03-31T00:00:00",
          "2023-04-03T00:00:00",
          "2023-04-04T00:00:00",
          "2023-04-05T00:00:00",
          "2023-04-06T00:00:00",
          "2023-04-07T00:00:00",
          "2023-04-10T00:00:00",
          "2023-04-11T00:00:00",
          "2023-04-12T00:00:00",
          "2023-04-13T00:00:00",
          "2023-04-14T00:00:00",
          "2023-04-17T00:00:00",
          "2023-04-18T00:00:00",
          "2023-04-19T00:00:00",
          "2023-04-20T00:00:00",
          "2023-04-21T00:00:00",
          "2023-04-24T00:00:00",
          "2023-04-25T00:00:00",
          "2023-04-26T00:00:00",
          "2023-04-27T00:00:00",
          "2023-04-28T00:00:00",
          "2023-05-01T00:00:00",
          "2023-05-02T00:00:00",
          "2023-05-03T00:00:00",
          "2023-05-04T00:00:00",
          "2023-05-05T00:00:00",
          "2023-05-08T00:00:00",
          "2023-05-09T00:00:00",
          "2023-05-10T00:00:00",
          "2023-05-11T00:00:00",
          "2023-05-12T00:00:00",
          "2023-05-15T00:00:00",
          "2023-05-16T00:00:00",
          "2023-05-17T00:00:00",
          "2023-05-18T00:00:00",
          "2023-05-19T00:00:00",
          "2023-05-22T00:00:00",
          "2023-05-23T00:00:00",
          "2023-05-24T00:00:00",
          "2023-05-25T00:00:00",
          "2023-05-26T00:00:00",
          "2023-05-29T00:00:00",
          "2023-05-30T00:00:00",
          "2023-05-31T00:00:00",
          "2023-06-01T00:00:00",
          "2023-06-02T00:00:00",
          "2023-06-05T00:00:00",
          "2023-06-06T00:00:00",
          "2023-06-07T00:00:00",
          "2023-06-08T00:00:00",
          "2023-06-09T00:00:00",
          "2023-06-12T00:00:00",
          "2023-06-13T00:00:00",
          "2023-06-14T00:00:00",
          "2023-06-15T00:00:00",
          "2023-06-16T00:00:00",
          "2023-06-19T00:00:00",
          "2023-06-20T00:00:00",
          "2023-06-21T00:00:00",
          "2023-06-22T00:00:00",
          "2023-06-23T00:00:00",
          "2023-06-26T00:00:00",
          "2023-06-27T00:00:00",
          "2023-06-28T00:00:00",
          "2023-06-29T00:00:00",
          "2023-06-30T00:00:00",
          "2023-07-03T00:00:00",
          "2023-07-04T00:00:00",
          "2023-07-05T00:00:00",
          "2023-07-06T00:00:00",
          "2023-07-07T00:00:00",
          "2023-07-10T00:00:00",
          "2023-07-11T00:00:00",
          "2023-07-12T00:00:00",
          "2023-07-13T00:00:00",
          "2023-07-14T00:00:00",
          "2023-07-17T00:00:00",
          "2023-07-18T00:00:00",
          "2023-07-19T00:00:00",
          "2023-07-20T00:00:00",
          "2023-07-21T00:00:00",
          "2023-07-24T00:00:00",
          "2023-07-25T00:00:00",
          "2023-07-26T00:00:00",
          "2023-07-27T00:00:00",
          "2023-07-28T00:00:00",
          "2023-07-31T00:00:00",
          "2023-08-01T00:00:00",
          "2023-08-02T00:00:00",
          "2023-08-03T00:00:00",
          "2023-08-04T00:00:00",
          "2023-08-07T00:00:00",
          "2023-08-08T00:00:00",
          "2023-08-09T00:00:00",
          "2023-08-10T00:00:00",
          "2023-08-11T00:00:00",
          "2023-08-14T00:00:00",
          "2023-08-15T00:00:00",
          "2023-08-16T00:00:00",
          "2023-08-17T00:00:00",
          "2023-08-18T00:00:00",
          "2023-08-21T00:00:00",
          "2023-08-22T00:00:00",
          "2023-08-23T00:00:00",
          "2023-08-24T00:00:00",
          "2023-08-25T00:00:00",
          "2023-08-28T00:00:00",
          "2023-08-29T00:00:00",
          "2023-08-30T00:00:00",
          "2023-08-31T00:00:00",
          "2023-09-01T00:00:00",
          "2023-09-04T00:00:00",
          "2023-09-05T00:00:00",
          "2023-09-06T00:00:00",
          "2023-09-07T00:00:00",
          "2023-09-08T00:00:00",
          "2023-09-11T00:00:00",
          "2023-09-12T00:00:00",
          "2023-09-13T00:00:00",
          "2023-09-14T00:00:00",
          "2023-09-15T00:00:00",
          "2023-09-18T00:00:00",
          "2023-09-19T00:00:00",
          "2023-09-20T00:00:00",
          "2023-09-21T00:00:00",
          "2023-09-22T00:00:00",
          "2023-09-25T00:00:00",
          "2023-09-26T00:00:00",
          "2023-09-27T00:00:00",
          "2023-09-28T00:00:00",
          "2023-09-29T00:00:00",
          "2023-10-02T00:00:00",
          "2023-10-03T00:00:00",
          "2023-10-04T00:00:00",
          "2023-10-05T00:00:00",
          "2023-10-06T00:00:00",
          "2023-10-09T00:00:00",
          "2023-10-10T00:00:00",
          "2023-10-11T00:00:00",
          "2023-10-12T00:00:00",
          "2023-10-13T00:00:00",
          "2023-10-16T00:00:00",
          "2023-10-17T00:00:00",
          "2023-10-18T00:00:00",
          "2023-10-19T00:00:00",
          "2023-10-20T00:00:00",
          "2023-10-23T00:00:00",
          "2023-10-24T00:00:00",
          "2023-10-25T00:00:00",
          "2023-10-26T00:00:00",
          "2023-10-27T00:00:00",
          "2023-10-30T00:00:00",
          "2023-10-31T00:00:00",
          "2023-11-01T00:00:00",
          "2023-11-02T00:00:00",
          "2023-11-03T00:00:00",
          "2023-11-06T00:00:00",
          "2023-11-07T00:00:00",
          "2023-11-08T00:00:00",
          "2023-11-09T00:00:00",
          "2023-11-10T00:00:00",
          "2023-11-13T00:00:00",
          "2023-11-14T00:00:00",
          "2023-11-15T00:00:00",
          "2023-11-16T00:00:00",
          "2023-11-17T00:00:00",
          "2023-11-20T00:00:00",
          "2023-11-21T00:00:00",
          "2023-11-22T00:00:00",
          "2023-11-23T00:00:00",
          "2023-11-24T00:00:00",
          "2023-11-27T00:00:00",
          "2023-11-28T00:00:00",
          "2023-11-29T00:00:00",
          "2023-11-30T00:00:00",
          "2023-12-01T00:00:00",
          "2023-12-04T00:00:00",
          "2023-12-05T00:00:00",
          "2023-12-06T00:00:00",
          "2023-12-07T00:00:00",
          "2023-12-08T00:00:00",
          "2023-12-11T00:00:00",
          "2023-12-12T00:00:00",
          "2023-12-13T00:00:00",
          "2023-12-14T00:00:00",
          "2023-12-15T00:00:00",
          "2023-12-18T00:00:00",
          "2023-12-19T00:00:00",
          "2023-12-20T00:00:00",
          "2023-12-21T00:00:00",
          "2023-12-22T00:00:00",
          "2023-12-26T00:00:00",
          "2023-12-27T00:00:00"
         ],
         "y": [
          0,
          0,
          -1.0465683104686652,
          -0.9470846307663039,
          -1.2335976283090688,
          -1.4783274803768176,
          -0.4625991106158911,
          -0.5332325232045632,
          -0.06665406540055097,
          0,
          -1.539054242277571,
          -1.4373067538600015,
          -1.2535685708923494,
          -1.093538540565675,
          -1.2022009068368922,
          -1.7295351698099481,
          -3.021750531973866,
          -3.082862166187561,
          -4.508143183494207,
          -3.7038352235203242,
          -3.5454533735590044,
          -4.9866496002360705,
          -5.702136566847882,
          -5.783865484294437,
          -6.021360103227336,
          -7.571183958845273,
          -8.500526111441253,
          -9.378032446760976,
          -8.889294741013298,
          -9.19151872070657,
          -9.219589059377764,
          -9.215846347554956,
          -8.52344466033198,
          -9.02216101072366,
          -7.894669074097072,
          -7.760867126431004,
          -8.566485846294503,
          -8.703094827827684,
          -9.40928965964023,
          -9.29722473841046,
          -8.447552179905948,
          -7.3838539931510905,
          -8.481539082246126,
          -8.464086348611977,
          -7.699840328421981,
          -7.7726948650433165,
          -8.317235824661706,
          -8.953311971317158,
          -7.015194490685673,
          -7.6204475641551745,
          -7.140110769553621,
          -7.687750032496643,
          -5.918524871574649,
          -4.547582810974826,
          -4.767007296800485,
          -4.931114685359161,
          -5.332621386455083,
          -5.103036366624325,
          -5.536974516716164,
          -6.273021505479548,
          -5.691690861369181,
          -4.853109963723357,
          -5.020643046986661,
          -4.859172484135533,
          -4.369449452674267,
          -4.252919314292369,
          -3.540907249857028,
          -4.664551289044017,
          -4.802225038797614,
          -4.364204007602801,
          -4.120837371784436,
          -3.757131253039192,
          -3.2953985481334103,
          -3.088351739981199,
          -3.1279146499998967,
          -3.9966689979011982,
          -4.454476998522572,
          -3.954505574357803,
          -3.621902396055643,
          -3.4644560473131247,
          -3.274246296520178,
          -3.4817478428397775,
          -3.5627462534645438,
          -3.384367731189797,
          -3.2241910989430966,
          -3.19415798039685,
          -2.966634355046416,
          -3.411938674434012,
          -3.7685787393414216,
          -2.7654721263993487,
          -2.2399847328224087,
          -3.018996746107494,
          -1.8850502652309697,
          -2.7184548332898073,
          -2.7166420773936495,
          -2.513613417025218,
          -3.3665150661622123,
          -3.5214891795338987,
          -3.622133287643081,
          -3.3397953914429346,
          -3.29141735905103,
          -2.9733765905485376,
          -2.7485083288749768,
          -2.6123331265865635,
          -2.46092780298961,
          -2.7072974123929394,
          -2.9051826882493303,
          -2.675207908200017,
          -2.5256414239282488,
          -2.4052605641358804,
          -1.2912884287436421,
          -0.5887672917462949,
          -1.6521888233661075,
          -1.0261643227467365,
          -1.000322590193936,
          -1.112918710602595,
          -0.9061848501801251,
          -1.4497841528088418,
          -1.030778917845454,
          -0.9200286354762888,
          -1.3657985220122293,
          -1.502390536934206,
          -1.6915889359815695,
          -1.7605424549502424,
          -2.1347302178869265,
          -1.762381215456077,
          -1.6836369669820161,
          -1.2076297731586916,
          -0.6033177326792649,
          -0.9331128307393688,
          -0.04397775102622514,
          -0.7176217155296261,
          -0.38126819222402686,
          0,
          0,
          0,
          -0.3547141895160144,
          -0.8896162539550057,
          -1.7178730635719064,
          -1.7545222513768222,
          -0.3253539622874668,
          -0.6741072984005836,
          -1.1393010814202187,
          -1.6789762345015502,
          -2.1100639725681103,
          -1.2863286982860322,
          -1.5154471189472773,
          -0.8208182563076538,
          -1.2025745622495587,
          -1.6308156950166852,
          -1.6335371354058048,
          -1.0892791728385531,
          -1.6489577776785502,
          -1.103792718507035,
          -0.6257528080521046,
          -1.080208206795752,
          -0.9541217788010203,
          -0.757281815672517,
          -1.0896906888546942,
          -0.6215861386748789,
          0,
          0,
          -0.4716426017290609,
          0,
          -0.3962262424392127,
          -0.5451135211478664,
          -0.4171067754288438,
          -0.2373526218659716,
          0,
          -0.6329343160868306,
          -0.025353592060683994,
          0,
          -0.10519061264464558,
          -0.4760782037796063,
          -0.26297653161159174,
          0,
          -0.41503155686565263,
          -0.37705481310017497,
          -0.2486572508454521,
          -0.6457226220830559,
          -0.4381245170295922,
          -1.0418814513771912,
          -1.6465449276682365,
          -1.4271617773497391,
          -1.5413860622263131,
          -1.754423418940565,
          -1.1470403168191146,
          -0.836816923324768,
          -0.7615556266781898,
          -1.149793778891528,
          -0.9643939993475792,
          -0.7276276039190677,
          -0.7350330885162459,
          -0.889599517180284,
          -0.6517338155835328,
          -0.22690752362668487,
          0,
          -0.5166806058916507,
          -0.45441873431837365,
          -0.6449214756992672,
          -0.5900938574481929,
          0,
          0,
          -0.0800089312295249,
          -0.39767525344045485,
          -0.03864318844162273,
          0,
          0,
          0,
          0,
          -0.6449189728932492,
          -0.9505851758437767,
          -0.4179301653766898,
          -0.5111700919691597,
          -1.0212054543920268,
          -0.5895239263415841,
          -1.0213433346948242,
          -1.4349425148475148,
          -1.4069362015961095,
          -1.719522794659989,
          -1.4918585708099674,
          -1.833125465768004,
          -1.1580084973891625,
          -0.8524482139707135,
          -0.9236554776582029,
          -2.0253338091474893,
          -1.1890795717075076,
          -1.2146073326399054,
          -1.3184252551082576,
          -1.2104354893328506,
          -0.9790246190028329,
          -1.6172878785203681,
          -1.6526487239230114,
          -1.1098597469925697,
          -1.0204764176485859,
          -0.7276640831021086,
          -1.7251960118017107,
          -1.3571658298488276,
          -1.5362559427212763,
          -1.6499781643952938,
          -2.0627808745663168,
          -1.9741312686944346,
          -2.5400560253713955,
          -2.6188362131386755,
          -3.0277850530093353,
          -3.184460257894828,
          -3.2338698964184287,
          -3.510634161596027,
          -3.880828401642511,
          -3.857911615353893,
          -3.646271154796099,
          -3.713586348915099,
          -3.7197864325839602,
          -3.9252484579311075,
          -3.4993195285811574,
          -3.6443396817811835,
          -3.178651998430071,
          -3.023706315107011,
          -3.2474355574635294,
          -2.6956063460542357,
          -2.3128139595336994,
          -3.0354687453014506,
          -2.4201389277170304,
          -2.6284725832812716,
          -3.299515177605339,
          -3.2688492525958956,
          -3.5349212490012882,
          -3.495235934283192,
          -3.0586974723841975,
          -2.9585822466181244,
          -3.2318697547904396,
          -2.4534964229333545,
          -2.6303937524428167,
          -2.8952357206829316,
          -2.9915148460475716,
          -3.183164803141325,
          -3.1995140885806017,
          -3.040616376972871,
          -2.5705544429334926,
          -2.3746266877275657,
          -1.7549208480161504,
          -2.3376474087976717,
          -2.274793294805344,
          -3.1427346630229724,
          -3.021648061067128,
          -3.3784041524187014,
          -2.9580343034802503,
          -2.65448495960785,
          -2.8126985570201213,
          -3.170518844190917,
          -3.291960882888856,
          -4.118066022175904,
          -3.9267958135206893,
          -4.402310668480858,
          -4.237519849504546,
          -4.614184578593239,
          -4.2022075311524905,
          -4.332591475837044,
          -3.664384254159192,
          -4.3822555260968565,
          -4.598068399044175,
          -4.554725227908341,
          -4.515861673353605,
          -4.069382697771118,
          -4.439038367838388,
          -4.503208423033433,
          -4.991262363953542,
          -4.039394708801947,
          -4.1297505670447325,
          -4.287202359626196,
          -4.378452830326818,
          -4.007002987927121,
          -3.863923263487068,
          -3.728042518893049,
          -2.1082720535337995,
          -2.4034302272214925,
          -2.3377395361263487,
          -2.8713639172141425,
          -2.6248083904190755,
          -2.8758143779866407,
          -2.6639724452168556,
          -2.8266774389711258,
          -2.567396514852893,
          -2.3972155646584503,
          -2.0408156689632695,
          -2.2608926045550426,
          -2.9817113935985295,
          -3.056555371694525,
          -3.459287253830079,
          -3.7951941555227853,
          -4.1034800652991255,
          -3.8156871495252487,
          -4.113281062430718,
          -4.098134066863668,
          -3.8228151474391625,
          -3.1109063557880345,
          -2.0720006598365925,
          -2.9318154082012104,
          -2.677880482518402,
          -3.182186334927062,
          -3.5172754034802467,
          -2.90265150668666,
          -2.905296946701541,
          -2.6389893185356006,
          -2.065810648641997
         ]
        }
       ],
       "layout": {
        "height": 600,
        "showlegend": false,
        "template": {
         "data": {
          "bar": [
           {
            "error_x": {
             "color": "#2a3f5f"
            },
            "error_y": {
             "color": "#2a3f5f"
            },
            "marker": {
             "line": {
              "color": "#E5ECF6",
              "width": 0.5
             },
             "pattern": {
              "fillmode": "overlay",
              "size": 10,
              "solidity": 0.2
             }
            },
            "type": "bar"
           }
          ],
          "barpolar": [
           {
            "marker": {
             "line": {
              "color": "#E5ECF6",
              "width": 0.5
             },
             "pattern": {
              "fillmode": "overlay",
              "size": 10,
              "solidity": 0.2
             }
            },
            "type": "barpolar"
           }
          ],
          "carpet": [
           {
            "aaxis": {
             "endlinecolor": "#2a3f5f",
             "gridcolor": "white",
             "linecolor": "white",
             "minorgridcolor": "white",
             "startlinecolor": "#2a3f5f"
            },
            "baxis": {
             "endlinecolor": "#2a3f5f",
             "gridcolor": "white",
             "linecolor": "white",
             "minorgridcolor": "white",
             "startlinecolor": "#2a3f5f"
            },
            "type": "carpet"
           }
          ],
          "choropleth": [
           {
            "colorbar": {
             "outlinewidth": 0,
             "ticks": ""
            },
            "type": "choropleth"
           }
          ],
          "contour": [
           {
            "colorbar": {
             "outlinewidth": 0,
             "ticks": ""
            },
            "colorscale": [
             [
              0,
              "#0d0887"
             ],
             [
              0.1111111111111111,
              "#46039f"
             ],
             [
              0.2222222222222222,
              "#7201a8"
             ],
             [
              0.3333333333333333,
              "#9c179e"
             ],
             [
              0.4444444444444444,
              "#bd3786"
             ],
             [
              0.5555555555555556,
              "#d8576b"
             ],
             [
              0.6666666666666666,
              "#ed7953"
             ],
             [
              0.7777777777777778,
              "#fb9f3a"
             ],
             [
              0.8888888888888888,
              "#fdca26"
             ],
             [
              1,
              "#f0f921"
             ]
            ],
            "type": "contour"
           }
          ],
          "contourcarpet": [
           {
            "colorbar": {
             "outlinewidth": 0,
             "ticks": ""
            },
            "type": "contourcarpet"
           }
          ],
          "heatmap": [
           {
            "colorbar": {
             "outlinewidth": 0,
             "ticks": ""
            },
            "colorscale": [
             [
              0,
              "#0d0887"
             ],
             [
              0.1111111111111111,
              "#46039f"
             ],
             [
              0.2222222222222222,
              "#7201a8"
             ],
             [
              0.3333333333333333,
              "#9c179e"
             ],
             [
              0.4444444444444444,
              "#bd3786"
             ],
             [
              0.5555555555555556,
              "#d8576b"
             ],
             [
              0.6666666666666666,
              "#ed7953"
             ],
             [
              0.7777777777777778,
              "#fb9f3a"
             ],
             [
              0.8888888888888888,
              "#fdca26"
             ],
             [
              1,
              "#f0f921"
             ]
            ],
            "type": "heatmap"
           }
          ],
          "heatmapgl": [
           {
            "colorbar": {
             "outlinewidth": 0,
             "ticks": ""
            },
            "colorscale": [
             [
              0,
              "#0d0887"
             ],
             [
              0.1111111111111111,
              "#46039f"
             ],
             [
              0.2222222222222222,
              "#7201a8"
             ],
             [
              0.3333333333333333,
              "#9c179e"
             ],
             [
              0.4444444444444444,
              "#bd3786"
             ],
             [
              0.5555555555555556,
              "#d8576b"
             ],
             [
              0.6666666666666666,
              "#ed7953"
             ],
             [
              0.7777777777777778,
              "#fb9f3a"
             ],
             [
              0.8888888888888888,
              "#fdca26"
             ],
             [
              1,
              "#f0f921"
             ]
            ],
            "type": "heatmapgl"
           }
          ],
          "histogram": [
           {
            "marker": {
             "pattern": {
              "fillmode": "overlay",
              "size": 10,
              "solidity": 0.2
             }
            },
            "type": "histogram"
           }
          ],
          "histogram2d": [
           {
            "colorbar": {
             "outlinewidth": 0,
             "ticks": ""
            },
            "colorscale": [
             [
              0,
              "#0d0887"
             ],
             [
              0.1111111111111111,
              "#46039f"
             ],
             [
              0.2222222222222222,
              "#7201a8"
             ],
             [
              0.3333333333333333,
              "#9c179e"
             ],
             [
              0.4444444444444444,
              "#bd3786"
             ],
             [
              0.5555555555555556,
              "#d8576b"
             ],
             [
              0.6666666666666666,
              "#ed7953"
             ],
             [
              0.7777777777777778,
              "#fb9f3a"
             ],
             [
              0.8888888888888888,
              "#fdca26"
             ],
             [
              1,
              "#f0f921"
             ]
            ],
            "type": "histogram2d"
           }
          ],
          "histogram2dcontour": [
           {
            "colorbar": {
             "outlinewidth": 0,
             "ticks": ""
            },
            "colorscale": [
             [
              0,
              "#0d0887"
             ],
             [
              0.1111111111111111,
              "#46039f"
             ],
             [
              0.2222222222222222,
              "#7201a8"
             ],
             [
              0.3333333333333333,
              "#9c179e"
             ],
             [
              0.4444444444444444,
              "#bd3786"
             ],
             [
              0.5555555555555556,
              "#d8576b"
             ],
             [
              0.6666666666666666,
              "#ed7953"
             ],
             [
              0.7777777777777778,
              "#fb9f3a"
             ],
             [
              0.8888888888888888,
              "#fdca26"
             ],
             [
              1,
              "#f0f921"
             ]
            ],
            "type": "histogram2dcontour"
           }
          ],
          "mesh3d": [
           {
            "colorbar": {
             "outlinewidth": 0,
             "ticks": ""
            },
            "type": "mesh3d"
           }
          ],
          "parcoords": [
           {
            "line": {
             "colorbar": {
              "outlinewidth": 0,
              "ticks": ""
             }
            },
            "type": "parcoords"
           }
          ],
          "pie": [
           {
            "automargin": true,
            "type": "pie"
           }
          ],
          "scatter": [
           {
            "fillpattern": {
             "fillmode": "overlay",
             "size": 10,
             "solidity": 0.2
            },
            "type": "scatter"
           }
          ],
          "scatter3d": [
           {
            "line": {
             "colorbar": {
              "outlinewidth": 0,
              "ticks": ""
             }
            },
            "marker": {
             "colorbar": {
              "outlinewidth": 0,
              "ticks": ""
             }
            },
            "type": "scatter3d"
           }
          ],
          "scattercarpet": [
           {
            "marker": {
             "colorbar": {
              "outlinewidth": 0,
              "ticks": ""
             }
            },
            "type": "scattercarpet"
           }
          ],
          "scattergeo": [
           {
            "marker": {
             "colorbar": {
              "outlinewidth": 0,
              "ticks": ""
             }
            },
            "type": "scattergeo"
           }
          ],
          "scattergl": [
           {
            "marker": {
             "colorbar": {
              "outlinewidth": 0,
              "ticks": ""
             }
            },
            "type": "scattergl"
           }
          ],
          "scattermapbox": [
           {
            "marker": {
             "colorbar": {
              "outlinewidth": 0,
              "ticks": ""
             }
            },
            "type": "scattermapbox"
           }
          ],
          "scatterpolar": [
           {
            "marker": {
             "colorbar": {
              "outlinewidth": 0,
              "ticks": ""
             }
            },
            "type": "scatterpolar"
           }
          ],
          "scatterpolargl": [
           {
            "marker": {
             "colorbar": {
              "outlinewidth": 0,
              "ticks": ""
             }
            },
            "type": "scatterpolargl"
           }
          ],
          "scatterternary": [
           {
            "marker": {
             "colorbar": {
              "outlinewidth": 0,
              "ticks": ""
             }
            },
            "type": "scatterternary"
           }
          ],
          "surface": [
           {
            "colorbar": {
             "outlinewidth": 0,
             "ticks": ""
            },
            "colorscale": [
             [
              0,
              "#0d0887"
             ],
             [
              0.1111111111111111,
              "#46039f"
             ],
             [
              0.2222222222222222,
              "#7201a8"
             ],
             [
              0.3333333333333333,
              "#9c179e"
             ],
             [
              0.4444444444444444,
              "#bd3786"
             ],
             [
              0.5555555555555556,
              "#d8576b"
             ],
             [
              0.6666666666666666,
              "#ed7953"
             ],
             [
              0.7777777777777778,
              "#fb9f3a"
             ],
             [
              0.8888888888888888,
              "#fdca26"
             ],
             [
              1,
              "#f0f921"
             ]
            ],
            "type": "surface"
           }
          ],
          "table": [
           {
            "cells": {
             "fill": {
              "color": "#EBF0F8"
             },
             "line": {
              "color": "white"
             }
            },
            "header": {
             "fill": {
              "color": "#C8D4E3"
             },
             "line": {
              "color": "white"
             }
            },
            "type": "table"
           }
          ]
         },
         "layout": {
          "annotationdefaults": {
           "arrowcolor": "#2a3f5f",
           "arrowhead": 0,
           "arrowwidth": 1
          },
          "autotypenumbers": "strict",
          "coloraxis": {
           "colorbar": {
            "outlinewidth": 0,
            "ticks": ""
           }
          },
          "colorscale": {
           "diverging": [
            [
             0,
             "#8e0152"
            ],
            [
             0.1,
             "#c51b7d"
            ],
            [
             0.2,
             "#de77ae"
            ],
            [
             0.3,
             "#f1b6da"
            ],
            [
             0.4,
             "#fde0ef"
            ],
            [
             0.5,
             "#f7f7f7"
            ],
            [
             0.6,
             "#e6f5d0"
            ],
            [
             0.7,
             "#b8e186"
            ],
            [
             0.8,
             "#7fbc41"
            ],
            [
             0.9,
             "#4d9221"
            ],
            [
             1,
             "#276419"
            ]
           ],
           "sequential": [
            [
             0,
             "#0d0887"
            ],
            [
             0.1111111111111111,
             "#46039f"
            ],
            [
             0.2222222222222222,
             "#7201a8"
            ],
            [
             0.3333333333333333,
             "#9c179e"
            ],
            [
             0.4444444444444444,
             "#bd3786"
            ],
            [
             0.5555555555555556,
             "#d8576b"
            ],
            [
             0.6666666666666666,
             "#ed7953"
            ],
            [
             0.7777777777777778,
             "#fb9f3a"
            ],
            [
             0.8888888888888888,
             "#fdca26"
            ],
            [
             1,
             "#f0f921"
            ]
           ],
           "sequentialminus": [
            [
             0,
             "#0d0887"
            ],
            [
             0.1111111111111111,
             "#46039f"
            ],
            [
             0.2222222222222222,
             "#7201a8"
            ],
            [
             0.3333333333333333,
             "#9c179e"
            ],
            [
             0.4444444444444444,
             "#bd3786"
            ],
            [
             0.5555555555555556,
             "#d8576b"
            ],
            [
             0.6666666666666666,
             "#ed7953"
            ],
            [
             0.7777777777777778,
             "#fb9f3a"
            ],
            [
             0.8888888888888888,
             "#fdca26"
            ],
            [
             1,
             "#f0f921"
            ]
           ]
          },
          "colorway": [
           "#636efa",
           "#EF553B",
           "#00cc96",
           "#ab63fa",
           "#FFA15A",
           "#19d3f3",
           "#FF6692",
           "#B6E880",
           "#FF97FF",
           "#FECB52"
          ],
          "font": {
           "color": "#2a3f5f"
          },
          "geo": {
           "bgcolor": "white",
           "lakecolor": "white",
           "landcolor": "#E5ECF6",
           "showlakes": true,
           "showland": true,
           "subunitcolor": "white"
          },
          "hoverlabel": {
           "align": "left"
          },
          "hovermode": "closest",
          "mapbox": {
           "style": "light"
          },
          "paper_bgcolor": "white",
          "plot_bgcolor": "#E5ECF6",
          "polar": {
           "angularaxis": {
            "gridcolor": "white",
            "linecolor": "white",
            "ticks": ""
           },
           "bgcolor": "#E5ECF6",
           "radialaxis": {
            "gridcolor": "white",
            "linecolor": "white",
            "ticks": ""
           }
          },
          "scene": {
           "xaxis": {
            "backgroundcolor": "#E5ECF6",
            "gridcolor": "white",
            "gridwidth": 2,
            "linecolor": "white",
            "showbackground": true,
            "ticks": "",
            "zerolinecolor": "white"
           },
           "yaxis": {
            "backgroundcolor": "#E5ECF6",
            "gridcolor": "white",
            "gridwidth": 2,
            "linecolor": "white",
            "showbackground": true,
            "ticks": "",
            "zerolinecolor": "white"
           },
           "zaxis": {
            "backgroundcolor": "#E5ECF6",
            "gridcolor": "white",
            "gridwidth": 2,
            "linecolor": "white",
            "showbackground": true,
            "ticks": "",
            "zerolinecolor": "white"
           }
          },
          "shapedefaults": {
           "line": {
            "color": "#2a3f5f"
           }
          },
          "ternary": {
           "aaxis": {
            "gridcolor": "white",
            "linecolor": "white",
            "ticks": ""
           },
           "baxis": {
            "gridcolor": "white",
            "linecolor": "white",
            "ticks": ""
           },
           "bgcolor": "#E5ECF6",
           "caxis": {
            "gridcolor": "white",
            "linecolor": "white",
            "ticks": ""
           }
          },
          "title": {
           "x": 0.05
          },
          "xaxis": {
           "automargin": true,
           "gridcolor": "white",
           "linecolor": "white",
           "ticks": "",
           "title": {
            "standoff": 15
           },
           "zerolinecolor": "white",
           "zerolinewidth": 2
          },
          "yaxis": {
           "automargin": true,
           "gridcolor": "white",
           "linecolor": "white",
           "ticks": "",
           "title": {
            "standoff": 15
           },
           "zerolinecolor": "white",
           "zerolinewidth": 2
          }
         }
        },
        "title": {
         "font": {
          "size": 15
         },
         "text": "Просадка"
        },
        "width": 1200,
        "yaxis": {
         "title": {
          "font": {
           "size": 15
          },
          "text": "Просадка %"
         }
        }
       }
      }
     },
     "metadata": {},
     "output_type": "display_data"
    }
   ],
   "source": [
    "plot_drawdown(drawdown_portfolio)"
   ]
  },
  {
   "cell_type": "markdown",
   "metadata": {},
   "source": [
    "#### Бенчмарк  \n",
    "В качестве бенчмарка импортирую данные по ценам закрытия индекса РТС с биржи moex."
   ]
  },
  {
   "cell_type": "code",
   "execution_count": 30,
   "metadata": {},
   "outputs": [],
   "source": [
    "# Импорт индекса РТС\n",
    "rts = pdr.get_data_moex('RTSI', '2010-01-01')['CLOSE'].pct_change(1).dropna()\n",
    "rts.name = 'rts'\n",
    "\n",
    "# Соединяю доходность актива и бенчмарка в один df\n",
    "join = pd.concat((portfolio, rts), axis=1).dropna()"
   ]
  },
  {
   "cell_type": "code",
   "execution_count": 31,
   "metadata": {},
   "outputs": [],
   "source": [
    "def plot_returns(join):\n",
    "    \"\"\"\n",
    "    Функция для построения графика доходности на основе объединённого df с бенчмарком 'join'.\n",
    "    \n",
    "    Параметры:\n",
    "    join: df с данными, где строки представляют даты,\n",
    "                         а столбцы - доходность стратегии и доходность индекса РТС.\n",
    "\n",
    "    Возвращает:\n",
    "    None\n",
    "    \"\"\"\n",
    "    fig = go.Figure()\n",
    "\n",
    "    # Первая линия графика\n",
    "    fig.add_trace(go.Scatter(\n",
    "        x=join.index, \n",
    "        y=join.iloc[:, 0].cumsum() * 100, \n",
    "        line=dict(color='DarkSlateBlue', width=2.5), \n",
    "        name='Стратегия'\n",
    "    ))\n",
    "\n",
    "    # Вторая линия графика\n",
    "    fig.add_trace(go.Scatter(\n",
    "        x=join.index, \n",
    "        y=join.iloc[:, 1].cumsum() * 100, \n",
    "        line=dict(color='Maroon', width=2.5), \n",
    "        name='РТС'\n",
    "    ))\n",
    "\n",
    "    # Настройки графика\n",
    "    fig.update_layout(\n",
    "        title='ДОХОДНОСТЬ',\n",
    "        title_font_size=15,\n",
    "        yaxis_title='Доходность %',\n",
    "        yaxis_title_font_size=15,\n",
    "        showlegend=True,\n",
    "        legend=dict(\n",
    "            orientation='h',\n",
    "            yanchor='bottom',\n",
    "            y=1.02,\n",
    "            xanchor='right',\n",
    "            x=1\n",
    "        ),\n",
    "        width=1200,  \n",
    "        height=600\n",
    "    )\n",
    "\n",
    "    fig.show()\n",
    "\n"
   ]
  },
  {
   "cell_type": "code",
   "execution_count": 32,
   "metadata": {},
   "outputs": [
    {
     "data": {
      "application/vnd.plotly.v1+json": {
       "config": {
        "plotlyServerURL": "https://plot.ly"
       },
       "data": [
        {
         "line": {
          "color": "DarkSlateBlue",
          "width": 2.5
         },
         "name": "Стратегия",
         "type": "scatter",
         "x": [
          "2022-08-30T00:00:00",
          "2022-08-31T00:00:00",
          "2022-09-01T00:00:00",
          "2022-09-02T00:00:00",
          "2022-09-05T00:00:00",
          "2022-09-06T00:00:00",
          "2022-09-07T00:00:00",
          "2022-09-08T00:00:00",
          "2022-09-09T00:00:00",
          "2022-09-12T00:00:00",
          "2022-09-13T00:00:00",
          "2022-09-14T00:00:00",
          "2022-09-15T00:00:00",
          "2022-09-16T00:00:00",
          "2022-09-19T00:00:00",
          "2022-09-20T00:00:00",
          "2022-09-21T00:00:00",
          "2022-09-22T00:00:00",
          "2022-09-23T00:00:00",
          "2022-09-26T00:00:00",
          "2022-09-27T00:00:00",
          "2022-09-28T00:00:00",
          "2022-09-29T00:00:00",
          "2022-09-30T00:00:00",
          "2022-10-03T00:00:00",
          "2022-10-04T00:00:00",
          "2022-10-05T00:00:00",
          "2022-10-06T00:00:00",
          "2022-10-07T00:00:00",
          "2022-10-10T00:00:00",
          "2022-10-11T00:00:00",
          "2022-10-12T00:00:00",
          "2022-10-13T00:00:00",
          "2022-10-14T00:00:00",
          "2022-10-17T00:00:00",
          "2022-10-18T00:00:00",
          "2022-10-19T00:00:00",
          "2022-10-20T00:00:00",
          "2022-10-21T00:00:00",
          "2022-10-24T00:00:00",
          "2022-10-25T00:00:00",
          "2022-10-26T00:00:00",
          "2022-10-27T00:00:00",
          "2022-10-28T00:00:00",
          "2022-10-31T00:00:00",
          "2022-11-01T00:00:00",
          "2022-11-02T00:00:00",
          "2022-11-03T00:00:00",
          "2022-11-07T00:00:00",
          "2022-11-08T00:00:00",
          "2022-11-09T00:00:00",
          "2022-11-10T00:00:00",
          "2022-11-11T00:00:00",
          "2022-11-14T00:00:00",
          "2022-11-15T00:00:00",
          "2022-11-16T00:00:00",
          "2022-11-17T00:00:00",
          "2022-11-18T00:00:00",
          "2022-11-21T00:00:00",
          "2022-11-22T00:00:00",
          "2022-11-23T00:00:00",
          "2022-11-24T00:00:00",
          "2022-11-25T00:00:00",
          "2022-11-28T00:00:00",
          "2022-11-29T00:00:00",
          "2022-11-30T00:00:00",
          "2022-12-01T00:00:00",
          "2022-12-02T00:00:00",
          "2022-12-05T00:00:00",
          "2022-12-06T00:00:00",
          "2022-12-07T00:00:00",
          "2022-12-08T00:00:00",
          "2022-12-09T00:00:00",
          "2022-12-12T00:00:00",
          "2022-12-13T00:00:00",
          "2022-12-14T00:00:00",
          "2022-12-15T00:00:00",
          "2022-12-16T00:00:00",
          "2022-12-19T00:00:00",
          "2022-12-20T00:00:00",
          "2022-12-21T00:00:00",
          "2022-12-22T00:00:00",
          "2022-12-23T00:00:00",
          "2022-12-26T00:00:00",
          "2022-12-27T00:00:00",
          "2022-12-28T00:00:00",
          "2022-12-29T00:00:00",
          "2023-01-03T00:00:00",
          "2023-01-04T00:00:00",
          "2023-01-05T00:00:00",
          "2023-01-06T00:00:00",
          "2023-01-09T00:00:00",
          "2023-01-10T00:00:00",
          "2023-01-11T00:00:00",
          "2023-01-12T00:00:00",
          "2023-01-13T00:00:00",
          "2023-01-16T00:00:00",
          "2023-01-17T00:00:00",
          "2023-01-18T00:00:00",
          "2023-01-19T00:00:00",
          "2023-01-20T00:00:00",
          "2023-01-23T00:00:00",
          "2023-01-24T00:00:00",
          "2023-01-25T00:00:00",
          "2023-01-26T00:00:00",
          "2023-01-27T00:00:00",
          "2023-01-30T00:00:00",
          "2023-01-31T00:00:00",
          "2023-02-01T00:00:00",
          "2023-02-02T00:00:00",
          "2023-02-03T00:00:00",
          "2023-02-06T00:00:00",
          "2023-02-07T00:00:00",
          "2023-02-08T00:00:00",
          "2023-02-09T00:00:00",
          "2023-02-10T00:00:00",
          "2023-02-13T00:00:00",
          "2023-02-14T00:00:00",
          "2023-02-15T00:00:00",
          "2023-02-16T00:00:00",
          "2023-02-17T00:00:00",
          "2023-02-20T00:00:00",
          "2023-02-21T00:00:00",
          "2023-02-22T00:00:00",
          "2023-02-24T00:00:00",
          "2023-02-27T00:00:00",
          "2023-02-28T00:00:00",
          "2023-03-01T00:00:00",
          "2023-03-02T00:00:00",
          "2023-03-03T00:00:00",
          "2023-03-06T00:00:00",
          "2023-03-07T00:00:00",
          "2023-03-09T00:00:00",
          "2023-03-10T00:00:00",
          "2023-03-13T00:00:00",
          "2023-03-14T00:00:00",
          "2023-03-15T00:00:00",
          "2023-03-16T00:00:00",
          "2023-03-17T00:00:00",
          "2023-03-20T00:00:00",
          "2023-03-21T00:00:00",
          "2023-03-22T00:00:00",
          "2023-03-23T00:00:00",
          "2023-03-24T00:00:00",
          "2023-03-27T00:00:00",
          "2023-03-28T00:00:00",
          "2023-03-29T00:00:00",
          "2023-03-30T00:00:00",
          "2023-03-31T00:00:00",
          "2023-04-03T00:00:00",
          "2023-04-04T00:00:00",
          "2023-04-05T00:00:00",
          "2023-04-06T00:00:00",
          "2023-04-07T00:00:00",
          "2023-04-10T00:00:00",
          "2023-04-11T00:00:00",
          "2023-04-12T00:00:00",
          "2023-04-13T00:00:00",
          "2023-04-14T00:00:00",
          "2023-04-17T00:00:00",
          "2023-04-18T00:00:00",
          "2023-04-19T00:00:00",
          "2023-04-20T00:00:00",
          "2023-04-21T00:00:00",
          "2023-04-24T00:00:00",
          "2023-04-25T00:00:00",
          "2023-04-26T00:00:00",
          "2023-04-27T00:00:00",
          "2023-04-28T00:00:00",
          "2023-05-02T00:00:00",
          "2023-05-03T00:00:00",
          "2023-05-04T00:00:00",
          "2023-05-05T00:00:00",
          "2023-05-08T00:00:00",
          "2023-05-10T00:00:00",
          "2023-05-11T00:00:00",
          "2023-05-12T00:00:00",
          "2023-05-15T00:00:00",
          "2023-05-16T00:00:00",
          "2023-05-17T00:00:00",
          "2023-05-18T00:00:00",
          "2023-05-19T00:00:00",
          "2023-05-22T00:00:00",
          "2023-05-23T00:00:00",
          "2023-05-24T00:00:00",
          "2023-05-25T00:00:00",
          "2023-05-26T00:00:00",
          "2023-05-29T00:00:00",
          "2023-05-30T00:00:00",
          "2023-05-31T00:00:00",
          "2023-06-01T00:00:00",
          "2023-06-02T00:00:00",
          "2023-06-05T00:00:00",
          "2023-06-06T00:00:00",
          "2023-06-07T00:00:00",
          "2023-06-08T00:00:00",
          "2023-06-09T00:00:00",
          "2023-06-13T00:00:00",
          "2023-06-14T00:00:00",
          "2023-06-15T00:00:00",
          "2023-06-16T00:00:00",
          "2023-06-19T00:00:00",
          "2023-06-20T00:00:00",
          "2023-06-21T00:00:00",
          "2023-06-22T00:00:00",
          "2023-06-23T00:00:00",
          "2023-06-26T00:00:00",
          "2023-06-27T00:00:00",
          "2023-06-28T00:00:00",
          "2023-06-29T00:00:00",
          "2023-06-30T00:00:00",
          "2023-07-03T00:00:00",
          "2023-07-04T00:00:00",
          "2023-07-05T00:00:00",
          "2023-07-06T00:00:00",
          "2023-07-07T00:00:00",
          "2023-07-10T00:00:00",
          "2023-07-11T00:00:00",
          "2023-07-12T00:00:00",
          "2023-07-13T00:00:00",
          "2023-07-14T00:00:00",
          "2023-07-17T00:00:00",
          "2023-07-18T00:00:00",
          "2023-07-19T00:00:00",
          "2023-07-20T00:00:00",
          "2023-07-21T00:00:00",
          "2023-07-24T00:00:00",
          "2023-07-25T00:00:00",
          "2023-07-26T00:00:00",
          "2023-07-27T00:00:00",
          "2023-07-28T00:00:00",
          "2023-07-31T00:00:00",
          "2023-08-01T00:00:00",
          "2023-08-02T00:00:00",
          "2023-08-03T00:00:00",
          "2023-08-04T00:00:00",
          "2023-08-07T00:00:00",
          "2023-08-08T00:00:00",
          "2023-08-09T00:00:00",
          "2023-08-10T00:00:00",
          "2023-08-11T00:00:00",
          "2023-08-14T00:00:00",
          "2023-08-15T00:00:00",
          "2023-08-16T00:00:00",
          "2023-08-17T00:00:00",
          "2023-08-18T00:00:00",
          "2023-08-21T00:00:00",
          "2023-08-22T00:00:00",
          "2023-08-23T00:00:00",
          "2023-08-24T00:00:00",
          "2023-08-25T00:00:00",
          "2023-08-28T00:00:00",
          "2023-08-29T00:00:00",
          "2023-08-30T00:00:00",
          "2023-08-31T00:00:00",
          "2023-09-01T00:00:00",
          "2023-09-04T00:00:00",
          "2023-09-05T00:00:00",
          "2023-09-06T00:00:00",
          "2023-09-07T00:00:00",
          "2023-09-08T00:00:00",
          "2023-09-11T00:00:00",
          "2023-09-12T00:00:00",
          "2023-09-13T00:00:00",
          "2023-09-14T00:00:00",
          "2023-09-15T00:00:00",
          "2023-09-18T00:00:00",
          "2023-09-19T00:00:00",
          "2023-09-20T00:00:00",
          "2023-09-21T00:00:00",
          "2023-09-22T00:00:00",
          "2023-09-25T00:00:00",
          "2023-09-26T00:00:00",
          "2023-09-27T00:00:00",
          "2023-09-28T00:00:00",
          "2023-09-29T00:00:00",
          "2023-10-02T00:00:00",
          "2023-10-03T00:00:00",
          "2023-10-04T00:00:00",
          "2023-10-05T00:00:00",
          "2023-10-06T00:00:00",
          "2023-10-09T00:00:00",
          "2023-10-10T00:00:00",
          "2023-10-11T00:00:00",
          "2023-10-12T00:00:00",
          "2023-10-13T00:00:00",
          "2023-10-16T00:00:00",
          "2023-10-17T00:00:00",
          "2023-10-18T00:00:00",
          "2023-10-19T00:00:00",
          "2023-10-20T00:00:00",
          "2023-10-23T00:00:00",
          "2023-10-24T00:00:00",
          "2023-10-25T00:00:00",
          "2023-10-26T00:00:00",
          "2023-10-27T00:00:00",
          "2023-10-30T00:00:00",
          "2023-10-31T00:00:00",
          "2023-11-01T00:00:00",
          "2023-11-02T00:00:00",
          "2023-11-03T00:00:00",
          "2023-11-06T00:00:00",
          "2023-11-07T00:00:00",
          "2023-11-08T00:00:00",
          "2023-11-09T00:00:00",
          "2023-11-10T00:00:00",
          "2023-11-13T00:00:00",
          "2023-11-14T00:00:00",
          "2023-11-15T00:00:00",
          "2023-11-16T00:00:00",
          "2023-11-17T00:00:00",
          "2023-11-20T00:00:00",
          "2023-11-21T00:00:00",
          "2023-11-22T00:00:00",
          "2023-11-23T00:00:00",
          "2023-11-24T00:00:00",
          "2023-11-27T00:00:00",
          "2023-11-28T00:00:00",
          "2023-11-29T00:00:00",
          "2023-11-30T00:00:00",
          "2023-12-01T00:00:00",
          "2023-12-04T00:00:00",
          "2023-12-05T00:00:00",
          "2023-12-06T00:00:00",
          "2023-12-07T00:00:00",
          "2023-12-08T00:00:00",
          "2023-12-11T00:00:00",
          "2023-12-12T00:00:00",
          "2023-12-13T00:00:00",
          "2023-12-14T00:00:00",
          "2023-12-15T00:00:00",
          "2023-12-18T00:00:00",
          "2023-12-19T00:00:00",
          "2023-12-20T00:00:00",
          "2023-12-21T00:00:00",
          "2023-12-22T00:00:00",
          "2023-12-26T00:00:00",
          "2023-12-27T00:00:00"
         ],
         "y": [
          -0.1810597497174049,
          0.18939198172007732,
          -0.8571763287485878,
          -0.7566404726354947,
          -1.0458929358010072,
          -1.2936794767613224,
          -0.2627100019398143,
          -0.3336716826322417,
          0.13540806092416924,
          0.9109028245923745,
          -0.6281514176851966,
          -0.5248135027032141,
          -0.3383959273344006,
          -0.17633434393271585,
          -0.28619811285925945,
          -0.819949135466358,
          -2.1349071591175495,
          -2.1979229740543227,
          -3.668541121848401,
          -2.826262013673342,
          -2.661788329462811,
          -4.155959705601953,
          -4.908998056108949,
          -4.995669073320796,
          -5.247743328068866,
          -6.896866849456574,
          -7.902334832712121,
          -8.861363664275101,
          -8.322048839246,
          -8.653759562847785,
          -8.684671145417767,
          -8.680548326646587,
          -7.91785829830337,
          -8.46304318041865,
          -7.223739247557049,
          -7.078468668404902,
          -7.951870981247266,
          -8.10127897764511,
          -8.874793512974389,
          -8.751088862896317,
          -7.814323084722464,
          -6.652477375424681,
          -7.837675784580956,
          -7.818605606324979,
          -6.983691756990806,
          -7.062623946144719,
          -7.653057504646254,
          -8.346836921504785,
          -8.997753025651367,
          -8.477792945811046,
          -9.067540863325751,
          -7.15097490209653,
          -5.69378892714405,
          -5.92366732340418,
          -6.095989313819972,
          -6.518321709710683,
          -6.2758041464347825,
          -6.733077101730078,
          -7.512267673911821,
          -6.892029346113437,
          -6.002838451583514,
          -6.178916811264457,
          -6.0089108562536016,
          -5.494175968773685,
          -5.372321459189722,
          -4.628683053364535,
          -5.793574829920589,
          -5.93798464978833,
          -5.477867770614098,
          -5.223395443288325,
          -4.844057421579107,
          -4.364299585058495,
          -4.15019725172201,
          -4.191020940854351,
          -5.087826604490564,
          -5.564693392176667,
          -5.041412542945212,
          -4.695115009374118,
          -4.531751804811268,
          -4.334715829247515,
          -4.54924147353013,
          -4.633161777529082,
          -4.4481932976679905,
          -4.282405807087741,
          -4.251372102603845,
          -4.016341219545816,
          -4.475259980559398,
          -3.4328700835786763,
          -2.8924371683697436,
          -3.6892987596410465,
          -2.5200527807064943,
          -3.3694692766755074,
          -3.367605864768286,
          -3.1589076200695954,
          -4.033800699023804,
          -4.194173796897482,
          -4.298491439503382,
          -4.005542543837537,
          -3.9554929576734787,
          -3.626627866471299,
          -3.394868526846939,
          -3.2548447596548513,
          -3.0993781297850242,
          -3.351963687402093,
          -3.555355381325087,
          -3.318499505371464,
          -3.164821823603914,
          -3.0413217959546657,
          -1.8998953811382169,
          -1.1881839973965524,
          -2.2579036886719694,
          -1.6213623227487095,
          -1.5952526621742957,
          -1.708986487732711,
          -1.4999259535083742,
          -2.0484963176697013,
          -1.6233270459827809,
          -1.5114232832187602,
          -1.9613324630427198,
          -2.099815882460332,
          -2.2919001371734415,
          -2.36204013661232,
          -2.7429336923051384,
          -2.362462659772502,
          -1.8783039916335564,
          -1.2666048906889715,
          -1.5984017782079585,
          -0.7008919188399076,
          -1.3748322671517599,
          -1.0360475511552725,
          -0.5695576991905815,
          0.6783125897012021,
          0.3235984001851766,
          -0.21320779198764628,
          -1.04889904684059,
          -1.0861888257121977,
          0.36850234363212664,
          0.018610620935488598,
          -0.44974035016245306,
          -0.9956348855893138,
          -1.4340840814548228,
          -0.5925928028710503,
          -0.8246968444287295,
          -0.11937926688073697,
          -0.504295031691615,
          -0.9377487688408181,
          -0.9405153266895616,
          -0.38721906420581265,
          -0.9530612703484542,
          -0.3987559504930904,
          0.08461942212788509,
          -0.37269765104284147,
          -0.24523435405336969,
          -0.046498206054468305,
          -0.38144355949065734,
          0.09181807869438341,
          0.8121127947003259,
          1.3189002896961233,
          0.8472576879670735,
          1.4502919599600816,
          1.05406571752088,
          0.9045861615845308,
          1.033294513935057,
          1.213801574678408,
          1.713396620588381,
          1.0804623045015394,
          1.6919131105048724,
          1.8132789288184403,
          1.7080883161737948,
          1.9222093720183908,
          2.4750070008074943,
          2.0599754439418527,
          2.0981104600584333,
          2.2269939838428843,
          2.435941309043399,
          1.829527527243091,
          1.2184978460411888,
          1.4415537113965704,
          1.3256756592514463,
          1.1093031671006948,
          1.7275326317324313,
          2.041355702370462,
          2.1172521130255917,
          1.7260346219967748,
          1.913590912096208,
          2.152662903463587,
          2.1452031395650994,
          1.9894921838541357,
          2.2294929309381706,
          2.657106122665376,
          3.339173094344161,
          2.8224924884525104,
          2.8850777258093596,
          2.693705352511888,
          2.74888886106065,
          3.529445065781378,
          3.8281186582125093,
          3.510197971057627,
          3.87066351833516,
          4.9269397752023325,
          4.9680548150839225,
          5.138980923818504,
          5.190254992873699,
          4.54533601998045,
          4.237685721887341,
          4.775452665198121,
          4.68182142541036,
          4.16916551932085,
          4.605300885519448,
          4.170920702053394,
          3.753053664767514,
          3.7814677031356436,
          3.4644204575981274,
          3.696067912233847,
          3.3496326937769494,
          4.0373565024262925,
          4.346496655081333,
          4.274677167454288,
          3.1627282589629546,
          4.016269556884788,
          3.990434597730741,
          3.885340190890707,
          3.994772743071362,
          4.229019013389768,
          3.5844452177250186,
          3.548503084559418,
          4.100413196918973,
          4.190799689561519,
          4.486630911968714,
          3.4817870957270514,
          3.8562779794708457,
          3.6747238763481183,
          3.559227332150239,
          3.139499199439666,
          3.230015967899613,
          2.6526941201043264,
          2.571860718652974,
          2.151914166395985,
          1.9903470567129156,
          1.9393122345601754,
          1.653298662578584,
          1.2696354092968987,
          1.2934774648489022,
          1.5136104618679314,
          1.443747888902902,
          1.4373086796377943,
          1.2239086281274347,
          1.6672393914273664,
          1.5169604996189578,
          2.0002613060408736,
          2.1602938675794103,
          1.9295887809491763,
          2.499939773285953,
          2.8933365893453633,
          2.1535724349470597,
          2.78816511499429,
          2.5746644466443813,
          1.8855075522965947,
          1.917219828678407,
          1.6421564242326325,
          1.6832959902102096,
          2.1356451214942562,
          2.2389191885386572,
          1.9572997372783285,
          2.761669243937903,
          2.5803225805285823,
          2.308326032070984,
          2.209176287896031,
          2.0116162942628857,
          1.9947294734883436,
          2.158879178018891,
          2.643682109385437,
          2.8447791741236017,
          3.4795586568398096,
          2.886423035380281,
          2.9507816263057207,
          2.062636799110895,
          2.1876523067597575,
          1.8197804217268687,
          2.2548486331871564,
          2.5676507716163033,
          2.4051228961958104,
          2.0369469289057474,
          1.9115284744760208,
          1.057302551968542,
          1.2567876903257336,
          0.7618371377895894,
          0.9342166378890626,
          0.5408843761339877,
          0.9727903630154411,
          0.8366870757429701,
          1.5351561071363151,
          0.7899786705467093,
          0.5642748808006415,
          0.6097070543515271,
          0.6504252089668761,
          1.1180201241087984,
          0.7326836377369084,
          0.665532727889373,
          0.15446431097113633,
          1.1563381163025466,
          1.0621787912663994,
          0.8979445334932667,
          0.8026067386003866,
          1.1910650446980586,
          1.3401172973556807,
          1.481459392026796,
          3.1639539706553865,
          2.8624390419894064,
          2.9297474435531767,
          2.3833497065428033,
          2.6371940275779715,
          2.379422018693056,
          2.5975365196415856,
          2.4303784818197727,
          2.6972016358344897,
          2.8718669368806404,
          3.2370203469570535,
          3.0123584767152045,
          2.274865769597356,
          2.1977215742388645,
          1.782291852631912,
          1.434348594147905,
          1.1139010790053638,
          1.4140088576503396,
          1.1046092226307591,
          1.12040598336558,
          1.407489990277866,
          2.147695469095412,
          3.219958256242972,
          2.341951195792402,
          2.603555888154474,
          2.085373737057694,
          1.739271035635026,
          2.3763010317964017,
          2.373576508360964,
          2.647852673580564,
          3.236567463907525
         ]
        },
        {
         "line": {
          "color": "Maroon",
          "width": 2.5
         },
         "name": "РТС",
         "type": "scatter",
         "x": [
          "2022-08-30T00:00:00",
          "2022-08-31T00:00:00",
          "2022-09-01T00:00:00",
          "2022-09-02T00:00:00",
          "2022-09-05T00:00:00",
          "2022-09-06T00:00:00",
          "2022-09-07T00:00:00",
          "2022-09-08T00:00:00",
          "2022-09-09T00:00:00",
          "2022-09-12T00:00:00",
          "2022-09-13T00:00:00",
          "2022-09-14T00:00:00",
          "2022-09-15T00:00:00",
          "2022-09-16T00:00:00",
          "2022-09-19T00:00:00",
          "2022-09-20T00:00:00",
          "2022-09-21T00:00:00",
          "2022-09-22T00:00:00",
          "2022-09-23T00:00:00",
          "2022-09-26T00:00:00",
          "2022-09-27T00:00:00",
          "2022-09-28T00:00:00",
          "2022-09-29T00:00:00",
          "2022-09-30T00:00:00",
          "2022-10-03T00:00:00",
          "2022-10-04T00:00:00",
          "2022-10-05T00:00:00",
          "2022-10-06T00:00:00",
          "2022-10-07T00:00:00",
          "2022-10-10T00:00:00",
          "2022-10-11T00:00:00",
          "2022-10-12T00:00:00",
          "2022-10-13T00:00:00",
          "2022-10-14T00:00:00",
          "2022-10-17T00:00:00",
          "2022-10-18T00:00:00",
          "2022-10-19T00:00:00",
          "2022-10-20T00:00:00",
          "2022-10-21T00:00:00",
          "2022-10-24T00:00:00",
          "2022-10-25T00:00:00",
          "2022-10-26T00:00:00",
          "2022-10-27T00:00:00",
          "2022-10-28T00:00:00",
          "2022-10-31T00:00:00",
          "2022-11-01T00:00:00",
          "2022-11-02T00:00:00",
          "2022-11-03T00:00:00",
          "2022-11-07T00:00:00",
          "2022-11-08T00:00:00",
          "2022-11-09T00:00:00",
          "2022-11-10T00:00:00",
          "2022-11-11T00:00:00",
          "2022-11-14T00:00:00",
          "2022-11-15T00:00:00",
          "2022-11-16T00:00:00",
          "2022-11-17T00:00:00",
          "2022-11-18T00:00:00",
          "2022-11-21T00:00:00",
          "2022-11-22T00:00:00",
          "2022-11-23T00:00:00",
          "2022-11-24T00:00:00",
          "2022-11-25T00:00:00",
          "2022-11-28T00:00:00",
          "2022-11-29T00:00:00",
          "2022-11-30T00:00:00",
          "2022-12-01T00:00:00",
          "2022-12-02T00:00:00",
          "2022-12-05T00:00:00",
          "2022-12-06T00:00:00",
          "2022-12-07T00:00:00",
          "2022-12-08T00:00:00",
          "2022-12-09T00:00:00",
          "2022-12-12T00:00:00",
          "2022-12-13T00:00:00",
          "2022-12-14T00:00:00",
          "2022-12-15T00:00:00",
          "2022-12-16T00:00:00",
          "2022-12-19T00:00:00",
          "2022-12-20T00:00:00",
          "2022-12-21T00:00:00",
          "2022-12-22T00:00:00",
          "2022-12-23T00:00:00",
          "2022-12-26T00:00:00",
          "2022-12-27T00:00:00",
          "2022-12-28T00:00:00",
          "2022-12-29T00:00:00",
          "2023-01-03T00:00:00",
          "2023-01-04T00:00:00",
          "2023-01-05T00:00:00",
          "2023-01-06T00:00:00",
          "2023-01-09T00:00:00",
          "2023-01-10T00:00:00",
          "2023-01-11T00:00:00",
          "2023-01-12T00:00:00",
          "2023-01-13T00:00:00",
          "2023-01-16T00:00:00",
          "2023-01-17T00:00:00",
          "2023-01-18T00:00:00",
          "2023-01-19T00:00:00",
          "2023-01-20T00:00:00",
          "2023-01-23T00:00:00",
          "2023-01-24T00:00:00",
          "2023-01-25T00:00:00",
          "2023-01-26T00:00:00",
          "2023-01-27T00:00:00",
          "2023-01-30T00:00:00",
          "2023-01-31T00:00:00",
          "2023-02-01T00:00:00",
          "2023-02-02T00:00:00",
          "2023-02-03T00:00:00",
          "2023-02-06T00:00:00",
          "2023-02-07T00:00:00",
          "2023-02-08T00:00:00",
          "2023-02-09T00:00:00",
          "2023-02-10T00:00:00",
          "2023-02-13T00:00:00",
          "2023-02-14T00:00:00",
          "2023-02-15T00:00:00",
          "2023-02-16T00:00:00",
          "2023-02-17T00:00:00",
          "2023-02-20T00:00:00",
          "2023-02-21T00:00:00",
          "2023-02-22T00:00:00",
          "2023-02-24T00:00:00",
          "2023-02-27T00:00:00",
          "2023-02-28T00:00:00",
          "2023-03-01T00:00:00",
          "2023-03-02T00:00:00",
          "2023-03-03T00:00:00",
          "2023-03-06T00:00:00",
          "2023-03-07T00:00:00",
          "2023-03-09T00:00:00",
          "2023-03-10T00:00:00",
          "2023-03-13T00:00:00",
          "2023-03-14T00:00:00",
          "2023-03-15T00:00:00",
          "2023-03-16T00:00:00",
          "2023-03-17T00:00:00",
          "2023-03-20T00:00:00",
          "2023-03-21T00:00:00",
          "2023-03-22T00:00:00",
          "2023-03-23T00:00:00",
          "2023-03-24T00:00:00",
          "2023-03-27T00:00:00",
          "2023-03-28T00:00:00",
          "2023-03-29T00:00:00",
          "2023-03-30T00:00:00",
          "2023-03-31T00:00:00",
          "2023-04-03T00:00:00",
          "2023-04-04T00:00:00",
          "2023-04-05T00:00:00",
          "2023-04-06T00:00:00",
          "2023-04-07T00:00:00",
          "2023-04-10T00:00:00",
          "2023-04-11T00:00:00",
          "2023-04-12T00:00:00",
          "2023-04-13T00:00:00",
          "2023-04-14T00:00:00",
          "2023-04-17T00:00:00",
          "2023-04-18T00:00:00",
          "2023-04-19T00:00:00",
          "2023-04-20T00:00:00",
          "2023-04-21T00:00:00",
          "2023-04-24T00:00:00",
          "2023-04-25T00:00:00",
          "2023-04-26T00:00:00",
          "2023-04-27T00:00:00",
          "2023-04-28T00:00:00",
          "2023-05-02T00:00:00",
          "2023-05-03T00:00:00",
          "2023-05-04T00:00:00",
          "2023-05-05T00:00:00",
          "2023-05-08T00:00:00",
          "2023-05-10T00:00:00",
          "2023-05-11T00:00:00",
          "2023-05-12T00:00:00",
          "2023-05-15T00:00:00",
          "2023-05-16T00:00:00",
          "2023-05-17T00:00:00",
          "2023-05-18T00:00:00",
          "2023-05-19T00:00:00",
          "2023-05-22T00:00:00",
          "2023-05-23T00:00:00",
          "2023-05-24T00:00:00",
          "2023-05-25T00:00:00",
          "2023-05-26T00:00:00",
          "2023-05-29T00:00:00",
          "2023-05-30T00:00:00",
          "2023-05-31T00:00:00",
          "2023-06-01T00:00:00",
          "2023-06-02T00:00:00",
          "2023-06-05T00:00:00",
          "2023-06-06T00:00:00",
          "2023-06-07T00:00:00",
          "2023-06-08T00:00:00",
          "2023-06-09T00:00:00",
          "2023-06-13T00:00:00",
          "2023-06-14T00:00:00",
          "2023-06-15T00:00:00",
          "2023-06-16T00:00:00",
          "2023-06-19T00:00:00",
          "2023-06-20T00:00:00",
          "2023-06-21T00:00:00",
          "2023-06-22T00:00:00",
          "2023-06-23T00:00:00",
          "2023-06-26T00:00:00",
          "2023-06-27T00:00:00",
          "2023-06-28T00:00:00",
          "2023-06-29T00:00:00",
          "2023-06-30T00:00:00",
          "2023-07-03T00:00:00",
          "2023-07-04T00:00:00",
          "2023-07-05T00:00:00",
          "2023-07-06T00:00:00",
          "2023-07-07T00:00:00",
          "2023-07-10T00:00:00",
          "2023-07-11T00:00:00",
          "2023-07-12T00:00:00",
          "2023-07-13T00:00:00",
          "2023-07-14T00:00:00",
          "2023-07-17T00:00:00",
          "2023-07-18T00:00:00",
          "2023-07-19T00:00:00",
          "2023-07-20T00:00:00",
          "2023-07-21T00:00:00",
          "2023-07-24T00:00:00",
          "2023-07-25T00:00:00",
          "2023-07-26T00:00:00",
          "2023-07-27T00:00:00",
          "2023-07-28T00:00:00",
          "2023-07-31T00:00:00",
          "2023-08-01T00:00:00",
          "2023-08-02T00:00:00",
          "2023-08-03T00:00:00",
          "2023-08-04T00:00:00",
          "2023-08-07T00:00:00",
          "2023-08-08T00:00:00",
          "2023-08-09T00:00:00",
          "2023-08-10T00:00:00",
          "2023-08-11T00:00:00",
          "2023-08-14T00:00:00",
          "2023-08-15T00:00:00",
          "2023-08-16T00:00:00",
          "2023-08-17T00:00:00",
          "2023-08-18T00:00:00",
          "2023-08-21T00:00:00",
          "2023-08-22T00:00:00",
          "2023-08-23T00:00:00",
          "2023-08-24T00:00:00",
          "2023-08-25T00:00:00",
          "2023-08-28T00:00:00",
          "2023-08-29T00:00:00",
          "2023-08-30T00:00:00",
          "2023-08-31T00:00:00",
          "2023-09-01T00:00:00",
          "2023-09-04T00:00:00",
          "2023-09-05T00:00:00",
          "2023-09-06T00:00:00",
          "2023-09-07T00:00:00",
          "2023-09-08T00:00:00",
          "2023-09-11T00:00:00",
          "2023-09-12T00:00:00",
          "2023-09-13T00:00:00",
          "2023-09-14T00:00:00",
          "2023-09-15T00:00:00",
          "2023-09-18T00:00:00",
          "2023-09-19T00:00:00",
          "2023-09-20T00:00:00",
          "2023-09-21T00:00:00",
          "2023-09-22T00:00:00",
          "2023-09-25T00:00:00",
          "2023-09-26T00:00:00",
          "2023-09-27T00:00:00",
          "2023-09-28T00:00:00",
          "2023-09-29T00:00:00",
          "2023-10-02T00:00:00",
          "2023-10-03T00:00:00",
          "2023-10-04T00:00:00",
          "2023-10-05T00:00:00",
          "2023-10-06T00:00:00",
          "2023-10-09T00:00:00",
          "2023-10-10T00:00:00",
          "2023-10-11T00:00:00",
          "2023-10-12T00:00:00",
          "2023-10-13T00:00:00",
          "2023-10-16T00:00:00",
          "2023-10-17T00:00:00",
          "2023-10-18T00:00:00",
          "2023-10-19T00:00:00",
          "2023-10-20T00:00:00",
          "2023-10-23T00:00:00",
          "2023-10-24T00:00:00",
          "2023-10-25T00:00:00",
          "2023-10-26T00:00:00",
          "2023-10-27T00:00:00",
          "2023-10-30T00:00:00",
          "2023-10-31T00:00:00",
          "2023-11-01T00:00:00",
          "2023-11-02T00:00:00",
          "2023-11-03T00:00:00",
          "2023-11-06T00:00:00",
          "2023-11-07T00:00:00",
          "2023-11-08T00:00:00",
          "2023-11-09T00:00:00",
          "2023-11-10T00:00:00",
          "2023-11-13T00:00:00",
          "2023-11-14T00:00:00",
          "2023-11-15T00:00:00",
          "2023-11-16T00:00:00",
          "2023-11-17T00:00:00",
          "2023-11-20T00:00:00",
          "2023-11-21T00:00:00",
          "2023-11-22T00:00:00",
          "2023-11-23T00:00:00",
          "2023-11-24T00:00:00",
          "2023-11-27T00:00:00",
          "2023-11-28T00:00:00",
          "2023-11-29T00:00:00",
          "2023-11-30T00:00:00",
          "2023-12-01T00:00:00",
          "2023-12-04T00:00:00",
          "2023-12-05T00:00:00",
          "2023-12-06T00:00:00",
          "2023-12-07T00:00:00",
          "2023-12-08T00:00:00",
          "2023-12-11T00:00:00",
          "2023-12-12T00:00:00",
          "2023-12-13T00:00:00",
          "2023-12-14T00:00:00",
          "2023-12-15T00:00:00",
          "2023-12-18T00:00:00",
          "2023-12-19T00:00:00",
          "2023-12-20T00:00:00",
          "2023-12-21T00:00:00",
          "2023-12-22T00:00:00",
          "2023-12-26T00:00:00",
          "2023-12-27T00:00:00"
         ],
         "y": [
          1.177806158649064,
          5.001748077632651,
          6.670467534106894,
          7.067513139640513,
          7.320523968503978,
          4.578595999440949,
          3.8783796269929116,
          3.399968434583167,
          5.417338662819882,
          6.838873128101186,
          7.106701686590089,
          7.00546346526777,
          7.413165367356955,
          6.403872105554043,
          6.217994126212389,
          -3.092426567452844,
          -7.1949417948456995,
          -1.0701879956732885,
          -3.8626042019034412,
          -12.477872941886437,
          -11.517587731428714,
          -9.513714779441928,
          -9.728684488255679,
          -11.271220813400696,
          -7.847017426138924,
          -7.0896012502205235,
          -10.559159670058005,
          -12.174082878811554,
          -15.981437255642007,
          -20.076796644323046,
          -19.994836234313507,
          -21.0459728924453,
          -19.599187563539957,
          -17.29421203841448,
          -13.542167946596905,
          -12.381470165835484,
          -15.22058688507838,
          -12.120333479946932,
          -11.25528489897224,
          -10.104481049633296,
          -7.441352673671087,
          -7.658592535810859,
          -6.0859159541777235,
          -5.3587813528808255,
          -5.5446399387394045,
          -4.959039766027839,
          -5.808627045470516,
          -7.106555230986766,
          -2.8590910986647233,
          -2.6601044404133467,
          -5.207674537959372,
          -1.9372715503389704,
          -1.252268594742445,
          -0.2326180905291575,
          -1.1265969803201936,
          -0.7816474723044364,
          -1.8155167905350877,
          -2.208896206284161,
          -4.365770917494849,
          -2.557860306155535,
          -2.133382370256076,
          -2.2336063490608904,
          -2.68812008043543,
          -4.319045439966384,
          -3.762232725036674,
          -4.078523003318956,
          -4.21272852440967,
          -5.643804590374457,
          -4.999138435347583,
          -6.578052752332586,
          -6.410336338911615,
          -6.619630834466383,
          -6.39257157108678,
          -7.326045623055633,
          -7.3159433142188535,
          -9.908301230414896,
          -11.674049670183361,
          -11.998422756813998,
          -16.5476847654215,
          -18.982674375863507,
          -21.795833467712477,
          -18.639551221401174,
          -19.2778929765832,
          -17.847705433122307,
          -19.564698342084842,
          -22.349677155423585,
          -22.024111699631955,
          -22.798890187165433,
          -24.166377830974884,
          -25.120152399091854,
          -24.920333086767897,
          -21.20134673860884,
          -21.53679709093398,
          -18.65227050834376,
          -17.323751228856022,
          -17.86905902262338,
          -16.479510329036685,
          -18.58700320319232,
          -18.237997868396494,
          -19.55662458872243,
          -19.67746077513238,
          -18.99088578622242,
          -19.819971889017097,
          -20.162254378087276,
          -20.28079300952331,
          -19.619434790727354,
          -20.12126374565344,
          -18.71958862234857,
          -18.595740954979444,
          -18.435137645154718,
          -18.59050375144108,
          -18.128667578596648,
          -18.404693989756847,
          -20.64988251589761,
          -21.040992902730228,
          -21.657569928845277,
          -22.2841453699688,
          -23.631131475615575,
          -27.609722019772576,
          -28.50923455611376,
          -27.02254090544265,
          -26.879092269834803,
          -26.068466232135812,
          -26.020026007373186,
          -27.662968455970717,
          -24.25765647557341,
          -24.15821609219899,
          -23.14577725597524,
          -24.52680486606511,
          -24.229757306629086,
          -22.8705586520771,
          -23.588526635714114,
          -23.63582634771143,
          -24.49603687845502,
          -23.30271945602066,
          -22.89601086063281,
          -25.081044476534586,
          -26.110982039905107,
          -23.774089987710546,
          -20.522143140075734,
          -20.101662036210765,
          -20.501072575364187,
          -19.540888089333286,
          -20.721365738080543,
          -18.247318179911275,
          -18.457909632493262,
          -17.98482920882124,
          -17.798678058068663,
          -18.759499973154657,
          -19.558087396406,
          -20.098135940095307,
          -19.686324580202697,
          -21.752126445500263,
          -20.985926116685548,
          -20.027505560924762,
          -21.091681358294313,
          -20.879022506241164,
          -20.112204799723223,
          -20.112204799723223,
          -17.906576785805804,
          -17.284451006904323,
          -17.90569805152925,
          -16.511099259982455,
          -16.452194881423654,
          -16.28735971658849,
          -16.97402220385438,
          -17.251178052237314,
          -15.927814453637811,
          -15.036595836637312,
          -16.381449112177428,
          -17.477882271925182,
          -16.463494424747715,
          -14.994984922627397,
          -16.38709853612481,
          -13.134834705419118,
          -11.983225112473207,
          -14.448093226999392,
          -14.562701440266956,
          -15.184609976323193,
          -14.321102389099238,
          -14.919420940822048,
          -14.605880645087755,
          -14.683056026141195,
          -14.470659810655583,
          -13.897442084258671,
          -14.229833482314136,
          -12.77377474019511,
          -11.963831862482277,
          -13.521838966543632,
          -12.7763254117517,
          -12.162346010381608,
          -13.137964953963344,
          -13.438479442375472,
          -14.410464523978328,
          -14.627189947315323,
          -14.924507333625225,
          -14.978726242469676,
          -15.13856504745663,
          -14.638875534144535,
          -12.851833759267395,
          -13.499656959495033,
          -12.846654964211169,
          -13.927930869779725,
          -12.505948148356016,
          -12.65343240724761,
          -14.186315059825771,
          -15.975755342905417,
          -15.304115013155462,
          -16.622873279708028,
          -17.396516201614432,
          -19.769310019835974,
          -18.751953924855602,
          -19.30687164395244,
          -21.13991297346439,
          -20.974850507637488,
          -20.444431218914293,
          -18.69150113121657,
          -18.243449902347976,
          -17.507713564590855,
          -17.15148757004371,
          -16.55063090311263,
          -17.026671194058995,
          -15.522398028351258,
          -16.48339238921683,
          -16.34547901851555,
          -16.75471435834812,
          -15.671118439859821,
          -14.182854519755072,
          -14.166485859000378,
          -14.137604714536888,
          -14.654427935972048,
          -12.355821997906702,
          -12.51091500642737,
          -13.992270200168534,
          -13.375051529784464,
          -16.32086499663331,
          -16.19386399243933,
          -17.888012640955107,
          -17.39591422127117,
          -16.103016697582973,
          -17.755746846643117,
          -16.902506230791236,
          -16.827216215634166,
          -16.389674763036144,
          -14.978295021066312,
          -13.21918604377923,
          -12.26505865487919,
          -12.213971636658162,
          -12.82008381941846,
          -13.546906822795723,
          -13.51528278469355,
          -12.161627052014213,
          -11.971640568465524,
          -12.718824477595891,
          -12.04300750898193,
          -12.396114186852337,
          -11.640024251944281,
          -12.80796512141138,
          -13.988756565668703,
          -16.3506352846889,
          -16.51334915481364,
          -14.42919269491636,
          -12.866541509623652,
          -14.676668694875882,
          -15.873971367946293,
          -14.809462524863138,
          -15.259348352973722,
          -17.325681855491972,
          -17.406411411479418,
          -18.844758011116337,
          -17.64348691044031,
          -17.933489810469304,
          -17.793081221475326,
          -17.71997082477631,
          -16.537048145086153,
          -16.879270015635285,
          -18.407684632836908,
          -18.250455097873484,
          -18.490960662709355,
          -19.373595453651006,
          -18.9115559665759,
          -16.9077875041491,
          -17.93666765351548,
          -17.06567142649452,
          -14.958711894442478,
          -14.209505916382826,
          -12.96302343386161,
          -12.983080740451868,
          -12.564658707379328,
          -12.053799379202168,
          -9.711247275164459,
          -8.798448673494219,
          -7.771101629980914,
          -7.659523847566652,
          -9.364851864964251,
          -9.891225876284526,
          -8.473338250829276,
          -9.797387703939265,
          -9.006559093352918,
          -9.7966952540262,
          -8.507591514514058,
          -7.589640264674058,
          -7.2797959116326805,
          -6.75324244342459,
          -7.126996969358313,
          -7.255957081905306,
          -6.353876608019593,
          -6.395042497605519,
          -4.848895331611813,
          -5.291482438396978,
          -5.922006162737681,
          -4.103095192235928,
          -3.0632793481732756,
          -3.2755126488775432,
          -3.533338577311318,
          -4.0398792180591165,
          -5.010880399006512,
          -5.314753902827018,
          -5.367916642834636,
          -6.520388695387358,
          -8.289879551971602,
          -9.959772182166615,
          -10.968138090856561,
          -12.923809538053444,
          -12.356497430292846,
          -12.064453024322585,
          -12.664862782641052,
          -11.894787874487033,
          -11.265064952572668,
          -11.94448565702466,
          -11.45275227315996,
          -10.051711392182439,
          -10.153989402410236,
          -10.087906007026781,
          -12.249545281147567,
          -11.706702534420298,
          -11.764991289391302,
          -11.232561018002363
         ]
        }
       ],
       "layout": {
        "height": 600,
        "legend": {
         "orientation": "h",
         "x": 1,
         "xanchor": "right",
         "y": 1.02,
         "yanchor": "bottom"
        },
        "showlegend": true,
        "template": {
         "data": {
          "bar": [
           {
            "error_x": {
             "color": "#2a3f5f"
            },
            "error_y": {
             "color": "#2a3f5f"
            },
            "marker": {
             "line": {
              "color": "#E5ECF6",
              "width": 0.5
             },
             "pattern": {
              "fillmode": "overlay",
              "size": 10,
              "solidity": 0.2
             }
            },
            "type": "bar"
           }
          ],
          "barpolar": [
           {
            "marker": {
             "line": {
              "color": "#E5ECF6",
              "width": 0.5
             },
             "pattern": {
              "fillmode": "overlay",
              "size": 10,
              "solidity": 0.2
             }
            },
            "type": "barpolar"
           }
          ],
          "carpet": [
           {
            "aaxis": {
             "endlinecolor": "#2a3f5f",
             "gridcolor": "white",
             "linecolor": "white",
             "minorgridcolor": "white",
             "startlinecolor": "#2a3f5f"
            },
            "baxis": {
             "endlinecolor": "#2a3f5f",
             "gridcolor": "white",
             "linecolor": "white",
             "minorgridcolor": "white",
             "startlinecolor": "#2a3f5f"
            },
            "type": "carpet"
           }
          ],
          "choropleth": [
           {
            "colorbar": {
             "outlinewidth": 0,
             "ticks": ""
            },
            "type": "choropleth"
           }
          ],
          "contour": [
           {
            "colorbar": {
             "outlinewidth": 0,
             "ticks": ""
            },
            "colorscale": [
             [
              0,
              "#0d0887"
             ],
             [
              0.1111111111111111,
              "#46039f"
             ],
             [
              0.2222222222222222,
              "#7201a8"
             ],
             [
              0.3333333333333333,
              "#9c179e"
             ],
             [
              0.4444444444444444,
              "#bd3786"
             ],
             [
              0.5555555555555556,
              "#d8576b"
             ],
             [
              0.6666666666666666,
              "#ed7953"
             ],
             [
              0.7777777777777778,
              "#fb9f3a"
             ],
             [
              0.8888888888888888,
              "#fdca26"
             ],
             [
              1,
              "#f0f921"
             ]
            ],
            "type": "contour"
           }
          ],
          "contourcarpet": [
           {
            "colorbar": {
             "outlinewidth": 0,
             "ticks": ""
            },
            "type": "contourcarpet"
           }
          ],
          "heatmap": [
           {
            "colorbar": {
             "outlinewidth": 0,
             "ticks": ""
            },
            "colorscale": [
             [
              0,
              "#0d0887"
             ],
             [
              0.1111111111111111,
              "#46039f"
             ],
             [
              0.2222222222222222,
              "#7201a8"
             ],
             [
              0.3333333333333333,
              "#9c179e"
             ],
             [
              0.4444444444444444,
              "#bd3786"
             ],
             [
              0.5555555555555556,
              "#d8576b"
             ],
             [
              0.6666666666666666,
              "#ed7953"
             ],
             [
              0.7777777777777778,
              "#fb9f3a"
             ],
             [
              0.8888888888888888,
              "#fdca26"
             ],
             [
              1,
              "#f0f921"
             ]
            ],
            "type": "heatmap"
           }
          ],
          "heatmapgl": [
           {
            "colorbar": {
             "outlinewidth": 0,
             "ticks": ""
            },
            "colorscale": [
             [
              0,
              "#0d0887"
             ],
             [
              0.1111111111111111,
              "#46039f"
             ],
             [
              0.2222222222222222,
              "#7201a8"
             ],
             [
              0.3333333333333333,
              "#9c179e"
             ],
             [
              0.4444444444444444,
              "#bd3786"
             ],
             [
              0.5555555555555556,
              "#d8576b"
             ],
             [
              0.6666666666666666,
              "#ed7953"
             ],
             [
              0.7777777777777778,
              "#fb9f3a"
             ],
             [
              0.8888888888888888,
              "#fdca26"
             ],
             [
              1,
              "#f0f921"
             ]
            ],
            "type": "heatmapgl"
           }
          ],
          "histogram": [
           {
            "marker": {
             "pattern": {
              "fillmode": "overlay",
              "size": 10,
              "solidity": 0.2
             }
            },
            "type": "histogram"
           }
          ],
          "histogram2d": [
           {
            "colorbar": {
             "outlinewidth": 0,
             "ticks": ""
            },
            "colorscale": [
             [
              0,
              "#0d0887"
             ],
             [
              0.1111111111111111,
              "#46039f"
             ],
             [
              0.2222222222222222,
              "#7201a8"
             ],
             [
              0.3333333333333333,
              "#9c179e"
             ],
             [
              0.4444444444444444,
              "#bd3786"
             ],
             [
              0.5555555555555556,
              "#d8576b"
             ],
             [
              0.6666666666666666,
              "#ed7953"
             ],
             [
              0.7777777777777778,
              "#fb9f3a"
             ],
             [
              0.8888888888888888,
              "#fdca26"
             ],
             [
              1,
              "#f0f921"
             ]
            ],
            "type": "histogram2d"
           }
          ],
          "histogram2dcontour": [
           {
            "colorbar": {
             "outlinewidth": 0,
             "ticks": ""
            },
            "colorscale": [
             [
              0,
              "#0d0887"
             ],
             [
              0.1111111111111111,
              "#46039f"
             ],
             [
              0.2222222222222222,
              "#7201a8"
             ],
             [
              0.3333333333333333,
              "#9c179e"
             ],
             [
              0.4444444444444444,
              "#bd3786"
             ],
             [
              0.5555555555555556,
              "#d8576b"
             ],
             [
              0.6666666666666666,
              "#ed7953"
             ],
             [
              0.7777777777777778,
              "#fb9f3a"
             ],
             [
              0.8888888888888888,
              "#fdca26"
             ],
             [
              1,
              "#f0f921"
             ]
            ],
            "type": "histogram2dcontour"
           }
          ],
          "mesh3d": [
           {
            "colorbar": {
             "outlinewidth": 0,
             "ticks": ""
            },
            "type": "mesh3d"
           }
          ],
          "parcoords": [
           {
            "line": {
             "colorbar": {
              "outlinewidth": 0,
              "ticks": ""
             }
            },
            "type": "parcoords"
           }
          ],
          "pie": [
           {
            "automargin": true,
            "type": "pie"
           }
          ],
          "scatter": [
           {
            "fillpattern": {
             "fillmode": "overlay",
             "size": 10,
             "solidity": 0.2
            },
            "type": "scatter"
           }
          ],
          "scatter3d": [
           {
            "line": {
             "colorbar": {
              "outlinewidth": 0,
              "ticks": ""
             }
            },
            "marker": {
             "colorbar": {
              "outlinewidth": 0,
              "ticks": ""
             }
            },
            "type": "scatter3d"
           }
          ],
          "scattercarpet": [
           {
            "marker": {
             "colorbar": {
              "outlinewidth": 0,
              "ticks": ""
             }
            },
            "type": "scattercarpet"
           }
          ],
          "scattergeo": [
           {
            "marker": {
             "colorbar": {
              "outlinewidth": 0,
              "ticks": ""
             }
            },
            "type": "scattergeo"
           }
          ],
          "scattergl": [
           {
            "marker": {
             "colorbar": {
              "outlinewidth": 0,
              "ticks": ""
             }
            },
            "type": "scattergl"
           }
          ],
          "scattermapbox": [
           {
            "marker": {
             "colorbar": {
              "outlinewidth": 0,
              "ticks": ""
             }
            },
            "type": "scattermapbox"
           }
          ],
          "scatterpolar": [
           {
            "marker": {
             "colorbar": {
              "outlinewidth": 0,
              "ticks": ""
             }
            },
            "type": "scatterpolar"
           }
          ],
          "scatterpolargl": [
           {
            "marker": {
             "colorbar": {
              "outlinewidth": 0,
              "ticks": ""
             }
            },
            "type": "scatterpolargl"
           }
          ],
          "scatterternary": [
           {
            "marker": {
             "colorbar": {
              "outlinewidth": 0,
              "ticks": ""
             }
            },
            "type": "scatterternary"
           }
          ],
          "surface": [
           {
            "colorbar": {
             "outlinewidth": 0,
             "ticks": ""
            },
            "colorscale": [
             [
              0,
              "#0d0887"
             ],
             [
              0.1111111111111111,
              "#46039f"
             ],
             [
              0.2222222222222222,
              "#7201a8"
             ],
             [
              0.3333333333333333,
              "#9c179e"
             ],
             [
              0.4444444444444444,
              "#bd3786"
             ],
             [
              0.5555555555555556,
              "#d8576b"
             ],
             [
              0.6666666666666666,
              "#ed7953"
             ],
             [
              0.7777777777777778,
              "#fb9f3a"
             ],
             [
              0.8888888888888888,
              "#fdca26"
             ],
             [
              1,
              "#f0f921"
             ]
            ],
            "type": "surface"
           }
          ],
          "table": [
           {
            "cells": {
             "fill": {
              "color": "#EBF0F8"
             },
             "line": {
              "color": "white"
             }
            },
            "header": {
             "fill": {
              "color": "#C8D4E3"
             },
             "line": {
              "color": "white"
             }
            },
            "type": "table"
           }
          ]
         },
         "layout": {
          "annotationdefaults": {
           "arrowcolor": "#2a3f5f",
           "arrowhead": 0,
           "arrowwidth": 1
          },
          "autotypenumbers": "strict",
          "coloraxis": {
           "colorbar": {
            "outlinewidth": 0,
            "ticks": ""
           }
          },
          "colorscale": {
           "diverging": [
            [
             0,
             "#8e0152"
            ],
            [
             0.1,
             "#c51b7d"
            ],
            [
             0.2,
             "#de77ae"
            ],
            [
             0.3,
             "#f1b6da"
            ],
            [
             0.4,
             "#fde0ef"
            ],
            [
             0.5,
             "#f7f7f7"
            ],
            [
             0.6,
             "#e6f5d0"
            ],
            [
             0.7,
             "#b8e186"
            ],
            [
             0.8,
             "#7fbc41"
            ],
            [
             0.9,
             "#4d9221"
            ],
            [
             1,
             "#276419"
            ]
           ],
           "sequential": [
            [
             0,
             "#0d0887"
            ],
            [
             0.1111111111111111,
             "#46039f"
            ],
            [
             0.2222222222222222,
             "#7201a8"
            ],
            [
             0.3333333333333333,
             "#9c179e"
            ],
            [
             0.4444444444444444,
             "#bd3786"
            ],
            [
             0.5555555555555556,
             "#d8576b"
            ],
            [
             0.6666666666666666,
             "#ed7953"
            ],
            [
             0.7777777777777778,
             "#fb9f3a"
            ],
            [
             0.8888888888888888,
             "#fdca26"
            ],
            [
             1,
             "#f0f921"
            ]
           ],
           "sequentialminus": [
            [
             0,
             "#0d0887"
            ],
            [
             0.1111111111111111,
             "#46039f"
            ],
            [
             0.2222222222222222,
             "#7201a8"
            ],
            [
             0.3333333333333333,
             "#9c179e"
            ],
            [
             0.4444444444444444,
             "#bd3786"
            ],
            [
             0.5555555555555556,
             "#d8576b"
            ],
            [
             0.6666666666666666,
             "#ed7953"
            ],
            [
             0.7777777777777778,
             "#fb9f3a"
            ],
            [
             0.8888888888888888,
             "#fdca26"
            ],
            [
             1,
             "#f0f921"
            ]
           ]
          },
          "colorway": [
           "#636efa",
           "#EF553B",
           "#00cc96",
           "#ab63fa",
           "#FFA15A",
           "#19d3f3",
           "#FF6692",
           "#B6E880",
           "#FF97FF",
           "#FECB52"
          ],
          "font": {
           "color": "#2a3f5f"
          },
          "geo": {
           "bgcolor": "white",
           "lakecolor": "white",
           "landcolor": "#E5ECF6",
           "showlakes": true,
           "showland": true,
           "subunitcolor": "white"
          },
          "hoverlabel": {
           "align": "left"
          },
          "hovermode": "closest",
          "mapbox": {
           "style": "light"
          },
          "paper_bgcolor": "white",
          "plot_bgcolor": "#E5ECF6",
          "polar": {
           "angularaxis": {
            "gridcolor": "white",
            "linecolor": "white",
            "ticks": ""
           },
           "bgcolor": "#E5ECF6",
           "radialaxis": {
            "gridcolor": "white",
            "linecolor": "white",
            "ticks": ""
           }
          },
          "scene": {
           "xaxis": {
            "backgroundcolor": "#E5ECF6",
            "gridcolor": "white",
            "gridwidth": 2,
            "linecolor": "white",
            "showbackground": true,
            "ticks": "",
            "zerolinecolor": "white"
           },
           "yaxis": {
            "backgroundcolor": "#E5ECF6",
            "gridcolor": "white",
            "gridwidth": 2,
            "linecolor": "white",
            "showbackground": true,
            "ticks": "",
            "zerolinecolor": "white"
           },
           "zaxis": {
            "backgroundcolor": "#E5ECF6",
            "gridcolor": "white",
            "gridwidth": 2,
            "linecolor": "white",
            "showbackground": true,
            "ticks": "",
            "zerolinecolor": "white"
           }
          },
          "shapedefaults": {
           "line": {
            "color": "#2a3f5f"
           }
          },
          "ternary": {
           "aaxis": {
            "gridcolor": "white",
            "linecolor": "white",
            "ticks": ""
           },
           "baxis": {
            "gridcolor": "white",
            "linecolor": "white",
            "ticks": ""
           },
           "bgcolor": "#E5ECF6",
           "caxis": {
            "gridcolor": "white",
            "linecolor": "white",
            "ticks": ""
           }
          },
          "title": {
           "x": 0.05
          },
          "xaxis": {
           "automargin": true,
           "gridcolor": "white",
           "linecolor": "white",
           "ticks": "",
           "title": {
            "standoff": 15
           },
           "zerolinecolor": "white",
           "zerolinewidth": 2
          },
          "yaxis": {
           "automargin": true,
           "gridcolor": "white",
           "linecolor": "white",
           "ticks": "",
           "title": {
            "standoff": 15
           },
           "zerolinecolor": "white",
           "zerolinewidth": 2
          }
         }
        },
        "title": {
         "font": {
          "size": 15
         },
         "text": "ДОХОДНОСТЬ"
        },
        "width": 1200,
        "yaxis": {
         "title": {
          "font": {
           "size": 15
          },
          "text": "Доходность %"
         }
        }
       }
      }
     },
     "metadata": {},
     "output_type": "display_data"
    }
   ],
   "source": [
    "plot_returns(join)"
   ]
  },
  {
   "cell_type": "markdown",
   "metadata": {},
   "source": [
    "## Random Forest Regressor"
   ]
  },
  {
   "cell_type": "code",
   "execution_count": 35,
   "metadata": {},
   "outputs": [
    {
     "data": {
      "text/html": [
       "<style>#sk-container-id-3 {\n",
       "  /* Definition of color scheme common for light and dark mode */\n",
       "  --sklearn-color-text: black;\n",
       "  --sklearn-color-line: gray;\n",
       "  /* Definition of color scheme for unfitted estimators */\n",
       "  --sklearn-color-unfitted-level-0: #fff5e6;\n",
       "  --sklearn-color-unfitted-level-1: #f6e4d2;\n",
       "  --sklearn-color-unfitted-level-2: #ffe0b3;\n",
       "  --sklearn-color-unfitted-level-3: chocolate;\n",
       "  /* Definition of color scheme for fitted estimators */\n",
       "  --sklearn-color-fitted-level-0: #f0f8ff;\n",
       "  --sklearn-color-fitted-level-1: #d4ebff;\n",
       "  --sklearn-color-fitted-level-2: #b3dbfd;\n",
       "  --sklearn-color-fitted-level-3: cornflowerblue;\n",
       "\n",
       "  /* Specific color for light theme */\n",
       "  --sklearn-color-text-on-default-background: var(--sg-text-color, var(--theme-code-foreground, var(--jp-content-font-color1, black)));\n",
       "  --sklearn-color-background: var(--sg-background-color, var(--theme-background, var(--jp-layout-color0, white)));\n",
       "  --sklearn-color-border-box: var(--sg-text-color, var(--theme-code-foreground, var(--jp-content-font-color1, black)));\n",
       "  --sklearn-color-icon: #696969;\n",
       "\n",
       "  @media (prefers-color-scheme: dark) {\n",
       "    /* Redefinition of color scheme for dark theme */\n",
       "    --sklearn-color-text-on-default-background: var(--sg-text-color, var(--theme-code-foreground, var(--jp-content-font-color1, white)));\n",
       "    --sklearn-color-background: var(--sg-background-color, var(--theme-background, var(--jp-layout-color0, #111)));\n",
       "    --sklearn-color-border-box: var(--sg-text-color, var(--theme-code-foreground, var(--jp-content-font-color1, white)));\n",
       "    --sklearn-color-icon: #878787;\n",
       "  }\n",
       "}\n",
       "\n",
       "#sk-container-id-3 {\n",
       "  color: var(--sklearn-color-text);\n",
       "}\n",
       "\n",
       "#sk-container-id-3 pre {\n",
       "  padding: 0;\n",
       "}\n",
       "\n",
       "#sk-container-id-3 input.sk-hidden--visually {\n",
       "  border: 0;\n",
       "  clip: rect(1px 1px 1px 1px);\n",
       "  clip: rect(1px, 1px, 1px, 1px);\n",
       "  height: 1px;\n",
       "  margin: -1px;\n",
       "  overflow: hidden;\n",
       "  padding: 0;\n",
       "  position: absolute;\n",
       "  width: 1px;\n",
       "}\n",
       "\n",
       "#sk-container-id-3 div.sk-dashed-wrapped {\n",
       "  border: 1px dashed var(--sklearn-color-line);\n",
       "  margin: 0 0.4em 0.5em 0.4em;\n",
       "  box-sizing: border-box;\n",
       "  padding-bottom: 0.4em;\n",
       "  background-color: var(--sklearn-color-background);\n",
       "}\n",
       "\n",
       "#sk-container-id-3 div.sk-container {\n",
       "  /* jupyter's `normalize.less` sets `[hidden] { display: none; }`\n",
       "     but bootstrap.min.css set `[hidden] { display: none !important; }`\n",
       "     so we also need the `!important` here to be able to override the\n",
       "     default hidden behavior on the sphinx rendered scikit-learn.org.\n",
       "     See: https://github.com/scikit-learn/scikit-learn/issues/21755 */\n",
       "  display: inline-block !important;\n",
       "  position: relative;\n",
       "}\n",
       "\n",
       "#sk-container-id-3 div.sk-text-repr-fallback {\n",
       "  display: none;\n",
       "}\n",
       "\n",
       "div.sk-parallel-item,\n",
       "div.sk-serial,\n",
       "div.sk-item {\n",
       "  /* draw centered vertical line to link estimators */\n",
       "  background-image: linear-gradient(var(--sklearn-color-text-on-default-background), var(--sklearn-color-text-on-default-background));\n",
       "  background-size: 2px 100%;\n",
       "  background-repeat: no-repeat;\n",
       "  background-position: center center;\n",
       "}\n",
       "\n",
       "/* Parallel-specific style estimator block */\n",
       "\n",
       "#sk-container-id-3 div.sk-parallel-item::after {\n",
       "  content: \"\";\n",
       "  width: 100%;\n",
       "  border-bottom: 2px solid var(--sklearn-color-text-on-default-background);\n",
       "  flex-grow: 1;\n",
       "}\n",
       "\n",
       "#sk-container-id-3 div.sk-parallel {\n",
       "  display: flex;\n",
       "  align-items: stretch;\n",
       "  justify-content: center;\n",
       "  background-color: var(--sklearn-color-background);\n",
       "  position: relative;\n",
       "}\n",
       "\n",
       "#sk-container-id-3 div.sk-parallel-item {\n",
       "  display: flex;\n",
       "  flex-direction: column;\n",
       "}\n",
       "\n",
       "#sk-container-id-3 div.sk-parallel-item:first-child::after {\n",
       "  align-self: flex-end;\n",
       "  width: 50%;\n",
       "}\n",
       "\n",
       "#sk-container-id-3 div.sk-parallel-item:last-child::after {\n",
       "  align-self: flex-start;\n",
       "  width: 50%;\n",
       "}\n",
       "\n",
       "#sk-container-id-3 div.sk-parallel-item:only-child::after {\n",
       "  width: 0;\n",
       "}\n",
       "\n",
       "/* Serial-specific style estimator block */\n",
       "\n",
       "#sk-container-id-3 div.sk-serial {\n",
       "  display: flex;\n",
       "  flex-direction: column;\n",
       "  align-items: center;\n",
       "  background-color: var(--sklearn-color-background);\n",
       "  padding-right: 1em;\n",
       "  padding-left: 1em;\n",
       "}\n",
       "\n",
       "\n",
       "/* Toggleable style: style used for estimator/Pipeline/ColumnTransformer box that is\n",
       "clickable and can be expanded/collapsed.\n",
       "- Pipeline and ColumnTransformer use this feature and define the default style\n",
       "- Estimators will overwrite some part of the style using the `sk-estimator` class\n",
       "*/\n",
       "\n",
       "/* Pipeline and ColumnTransformer style (default) */\n",
       "\n",
       "#sk-container-id-3 div.sk-toggleable {\n",
       "  /* Default theme specific background. It is overwritten whether we have a\n",
       "  specific estimator or a Pipeline/ColumnTransformer */\n",
       "  background-color: var(--sklearn-color-background);\n",
       "}\n",
       "\n",
       "/* Toggleable label */\n",
       "#sk-container-id-3 label.sk-toggleable__label {\n",
       "  cursor: pointer;\n",
       "  display: block;\n",
       "  width: 100%;\n",
       "  margin-bottom: 0;\n",
       "  padding: 0.5em;\n",
       "  box-sizing: border-box;\n",
       "  text-align: center;\n",
       "}\n",
       "\n",
       "#sk-container-id-3 label.sk-toggleable__label-arrow:before {\n",
       "  /* Arrow on the left of the label */\n",
       "  content: \"▸\";\n",
       "  float: left;\n",
       "  margin-right: 0.25em;\n",
       "  color: var(--sklearn-color-icon);\n",
       "}\n",
       "\n",
       "#sk-container-id-3 label.sk-toggleable__label-arrow:hover:before {\n",
       "  color: var(--sklearn-color-text);\n",
       "}\n",
       "\n",
       "/* Toggleable content - dropdown */\n",
       "\n",
       "#sk-container-id-3 div.sk-toggleable__content {\n",
       "  max-height: 0;\n",
       "  max-width: 0;\n",
       "  overflow: hidden;\n",
       "  text-align: left;\n",
       "  /* unfitted */\n",
       "  background-color: var(--sklearn-color-unfitted-level-0);\n",
       "}\n",
       "\n",
       "#sk-container-id-3 div.sk-toggleable__content.fitted {\n",
       "  /* fitted */\n",
       "  background-color: var(--sklearn-color-fitted-level-0);\n",
       "}\n",
       "\n",
       "#sk-container-id-3 div.sk-toggleable__content pre {\n",
       "  margin: 0.2em;\n",
       "  border-radius: 0.25em;\n",
       "  color: var(--sklearn-color-text);\n",
       "  /* unfitted */\n",
       "  background-color: var(--sklearn-color-unfitted-level-0);\n",
       "}\n",
       "\n",
       "#sk-container-id-3 div.sk-toggleable__content.fitted pre {\n",
       "  /* unfitted */\n",
       "  background-color: var(--sklearn-color-fitted-level-0);\n",
       "}\n",
       "\n",
       "#sk-container-id-3 input.sk-toggleable__control:checked~div.sk-toggleable__content {\n",
       "  /* Expand drop-down */\n",
       "  max-height: 200px;\n",
       "  max-width: 100%;\n",
       "  overflow: auto;\n",
       "}\n",
       "\n",
       "#sk-container-id-3 input.sk-toggleable__control:checked~label.sk-toggleable__label-arrow:before {\n",
       "  content: \"▾\";\n",
       "}\n",
       "\n",
       "/* Pipeline/ColumnTransformer-specific style */\n",
       "\n",
       "#sk-container-id-3 div.sk-label input.sk-toggleable__control:checked~label.sk-toggleable__label {\n",
       "  color: var(--sklearn-color-text);\n",
       "  background-color: var(--sklearn-color-unfitted-level-2);\n",
       "}\n",
       "\n",
       "#sk-container-id-3 div.sk-label.fitted input.sk-toggleable__control:checked~label.sk-toggleable__label {\n",
       "  background-color: var(--sklearn-color-fitted-level-2);\n",
       "}\n",
       "\n",
       "/* Estimator-specific style */\n",
       "\n",
       "/* Colorize estimator box */\n",
       "#sk-container-id-3 div.sk-estimator input.sk-toggleable__control:checked~label.sk-toggleable__label {\n",
       "  /* unfitted */\n",
       "  background-color: var(--sklearn-color-unfitted-level-2);\n",
       "}\n",
       "\n",
       "#sk-container-id-3 div.sk-estimator.fitted input.sk-toggleable__control:checked~label.sk-toggleable__label {\n",
       "  /* fitted */\n",
       "  background-color: var(--sklearn-color-fitted-level-2);\n",
       "}\n",
       "\n",
       "#sk-container-id-3 div.sk-label label.sk-toggleable__label,\n",
       "#sk-container-id-3 div.sk-label label {\n",
       "  /* The background is the default theme color */\n",
       "  color: var(--sklearn-color-text-on-default-background);\n",
       "}\n",
       "\n",
       "/* On hover, darken the color of the background */\n",
       "#sk-container-id-3 div.sk-label:hover label.sk-toggleable__label {\n",
       "  color: var(--sklearn-color-text);\n",
       "  background-color: var(--sklearn-color-unfitted-level-2);\n",
       "}\n",
       "\n",
       "/* Label box, darken color on hover, fitted */\n",
       "#sk-container-id-3 div.sk-label.fitted:hover label.sk-toggleable__label.fitted {\n",
       "  color: var(--sklearn-color-text);\n",
       "  background-color: var(--sklearn-color-fitted-level-2);\n",
       "}\n",
       "\n",
       "/* Estimator label */\n",
       "\n",
       "#sk-container-id-3 div.sk-label label {\n",
       "  font-family: monospace;\n",
       "  font-weight: bold;\n",
       "  display: inline-block;\n",
       "  line-height: 1.2em;\n",
       "}\n",
       "\n",
       "#sk-container-id-3 div.sk-label-container {\n",
       "  text-align: center;\n",
       "}\n",
       "\n",
       "/* Estimator-specific */\n",
       "#sk-container-id-3 div.sk-estimator {\n",
       "  font-family: monospace;\n",
       "  border: 1px dotted var(--sklearn-color-border-box);\n",
       "  border-radius: 0.25em;\n",
       "  box-sizing: border-box;\n",
       "  margin-bottom: 0.5em;\n",
       "  /* unfitted */\n",
       "  background-color: var(--sklearn-color-unfitted-level-0);\n",
       "}\n",
       "\n",
       "#sk-container-id-3 div.sk-estimator.fitted {\n",
       "  /* fitted */\n",
       "  background-color: var(--sklearn-color-fitted-level-0);\n",
       "}\n",
       "\n",
       "/* on hover */\n",
       "#sk-container-id-3 div.sk-estimator:hover {\n",
       "  /* unfitted */\n",
       "  background-color: var(--sklearn-color-unfitted-level-2);\n",
       "}\n",
       "\n",
       "#sk-container-id-3 div.sk-estimator.fitted:hover {\n",
       "  /* fitted */\n",
       "  background-color: var(--sklearn-color-fitted-level-2);\n",
       "}\n",
       "\n",
       "/* Specification for estimator info (e.g. \"i\" and \"?\") */\n",
       "\n",
       "/* Common style for \"i\" and \"?\" */\n",
       "\n",
       ".sk-estimator-doc-link,\n",
       "a:link.sk-estimator-doc-link,\n",
       "a:visited.sk-estimator-doc-link {\n",
       "  float: right;\n",
       "  font-size: smaller;\n",
       "  line-height: 1em;\n",
       "  font-family: monospace;\n",
       "  background-color: var(--sklearn-color-background);\n",
       "  border-radius: 1em;\n",
       "  height: 1em;\n",
       "  width: 1em;\n",
       "  text-decoration: none !important;\n",
       "  margin-left: 1ex;\n",
       "  /* unfitted */\n",
       "  border: var(--sklearn-color-unfitted-level-1) 1pt solid;\n",
       "  color: var(--sklearn-color-unfitted-level-1);\n",
       "}\n",
       "\n",
       ".sk-estimator-doc-link.fitted,\n",
       "a:link.sk-estimator-doc-link.fitted,\n",
       "a:visited.sk-estimator-doc-link.fitted {\n",
       "  /* fitted */\n",
       "  border: var(--sklearn-color-fitted-level-1) 1pt solid;\n",
       "  color: var(--sklearn-color-fitted-level-1);\n",
       "}\n",
       "\n",
       "/* On hover */\n",
       "div.sk-estimator:hover .sk-estimator-doc-link:hover,\n",
       ".sk-estimator-doc-link:hover,\n",
       "div.sk-label-container:hover .sk-estimator-doc-link:hover,\n",
       ".sk-estimator-doc-link:hover {\n",
       "  /* unfitted */\n",
       "  background-color: var(--sklearn-color-unfitted-level-3);\n",
       "  color: var(--sklearn-color-background);\n",
       "  text-decoration: none;\n",
       "}\n",
       "\n",
       "div.sk-estimator.fitted:hover .sk-estimator-doc-link.fitted:hover,\n",
       ".sk-estimator-doc-link.fitted:hover,\n",
       "div.sk-label-container:hover .sk-estimator-doc-link.fitted:hover,\n",
       ".sk-estimator-doc-link.fitted:hover {\n",
       "  /* fitted */\n",
       "  background-color: var(--sklearn-color-fitted-level-3);\n",
       "  color: var(--sklearn-color-background);\n",
       "  text-decoration: none;\n",
       "}\n",
       "\n",
       "/* Span, style for the box shown on hovering the info icon */\n",
       ".sk-estimator-doc-link span {\n",
       "  display: none;\n",
       "  z-index: 9999;\n",
       "  position: relative;\n",
       "  font-weight: normal;\n",
       "  right: .2ex;\n",
       "  padding: .5ex;\n",
       "  margin: .5ex;\n",
       "  width: min-content;\n",
       "  min-width: 20ex;\n",
       "  max-width: 50ex;\n",
       "  color: var(--sklearn-color-text);\n",
       "  box-shadow: 2pt 2pt 4pt #999;\n",
       "  /* unfitted */\n",
       "  background: var(--sklearn-color-unfitted-level-0);\n",
       "  border: .5pt solid var(--sklearn-color-unfitted-level-3);\n",
       "}\n",
       "\n",
       ".sk-estimator-doc-link.fitted span {\n",
       "  /* fitted */\n",
       "  background: var(--sklearn-color-fitted-level-0);\n",
       "  border: var(--sklearn-color-fitted-level-3);\n",
       "}\n",
       "\n",
       ".sk-estimator-doc-link:hover span {\n",
       "  display: block;\n",
       "}\n",
       "\n",
       "/* \"?\"-specific style due to the `<a>` HTML tag */\n",
       "\n",
       "#sk-container-id-3 a.estimator_doc_link {\n",
       "  float: right;\n",
       "  font-size: 1rem;\n",
       "  line-height: 1em;\n",
       "  font-family: monospace;\n",
       "  background-color: var(--sklearn-color-background);\n",
       "  border-radius: 1rem;\n",
       "  height: 1rem;\n",
       "  width: 1rem;\n",
       "  text-decoration: none;\n",
       "  /* unfitted */\n",
       "  color: var(--sklearn-color-unfitted-level-1);\n",
       "  border: var(--sklearn-color-unfitted-level-1) 1pt solid;\n",
       "}\n",
       "\n",
       "#sk-container-id-3 a.estimator_doc_link.fitted {\n",
       "  /* fitted */\n",
       "  border: var(--sklearn-color-fitted-level-1) 1pt solid;\n",
       "  color: var(--sklearn-color-fitted-level-1);\n",
       "}\n",
       "\n",
       "/* On hover */\n",
       "#sk-container-id-3 a.estimator_doc_link:hover {\n",
       "  /* unfitted */\n",
       "  background-color: var(--sklearn-color-unfitted-level-3);\n",
       "  color: var(--sklearn-color-background);\n",
       "  text-decoration: none;\n",
       "}\n",
       "\n",
       "#sk-container-id-3 a.estimator_doc_link.fitted:hover {\n",
       "  /* fitted */\n",
       "  background-color: var(--sklearn-color-fitted-level-3);\n",
       "}\n",
       "</style><div id=\"sk-container-id-3\" class=\"sk-top-container\"><div class=\"sk-text-repr-fallback\"><pre>RandomForestRegressor(max_depth=3, n_estimators=10)</pre><b>In a Jupyter environment, please rerun this cell to show the HTML representation or trust the notebook. <br />On GitHub, the HTML representation is unable to render, please try loading this page with nbviewer.org.</b></div><div class=\"sk-container\" hidden><div class=\"sk-item\"><div class=\"sk-estimator fitted sk-toggleable\"><input class=\"sk-toggleable__control sk-hidden--visually\" id=\"sk-estimator-id-3\" type=\"checkbox\" checked><label for=\"sk-estimator-id-3\" class=\"sk-toggleable__label fitted sk-toggleable__label-arrow fitted\">&nbsp;&nbsp;RandomForestRegressor<a class=\"sk-estimator-doc-link fitted\" rel=\"noreferrer\" target=\"_blank\" href=\"https://scikit-learn.org/1.5/modules/generated/sklearn.ensemble.RandomForestRegressor.html\">?<span>Documentation for RandomForestRegressor</span></a><span class=\"sk-estimator-doc-link fitted\">i<span>Fitted</span></span></label><div class=\"sk-toggleable__content fitted\"><pre>RandomForestRegressor(max_depth=3, n_estimators=10)</pre></div> </div></div></div></div>"
      ],
      "text/plain": [
       "RandomForestRegressor(max_depth=3, n_estimators=10)"
      ]
     },
     "execution_count": 35,
     "metadata": {},
     "output_type": "execute_result"
    }
   ],
   "source": [
    "rfr = RandomForestRegressor()\n",
    "\n",
    "# Параметры для GridSearchCV\n",
    "param = {\"max_depth\": [3, 6, 15], \"n_estimators\": [10, 50, 100, 150]}\n",
    "\n",
    "# Критерий Шарпа\n",
    "def sharpe(y, y_pred):\n",
    "    r = np.sign(y_pred) * y\n",
    "    return np.mean(r) / np.std(r)\n",
    "\n",
    "# Преобразование критерия в метрику\n",
    "sharpe_metric = make_scorer(sharpe, greater_is_better=True)\n",
    "\n",
    "# Создание модели GridSearchCV с использованием критерия Шарпа для оценки\n",
    "rfr_grig = GridSearchCV(rfr, param_grid=param, scoring=sharpe_metric, cv=3)\n",
    "\n",
    "# Обучение модели на тренировочных данных\n",
    "rfr_grig.fit(X_train_pca, y_train_reg)\n",
    "\n",
    "# Получение лучшей модели\n",
    "rfr_grig.best_estimator_\n"
   ]
  },
  {
   "cell_type": "markdown",
   "metadata": {},
   "source": [
    "Применение модели"
   ]
  },
  {
   "cell_type": "code",
   "execution_count": 40,
   "metadata": {},
   "outputs": [],
   "source": [
    "df[\"prediction\"] = rfr_grig.predict(np.concatenate((X_train_pca, X_test_pca, X_val_pca),axis=0))\n",
    "\n",
    "df[\"returns_predict\"] = np.sign(df[\"prediction\"]) * df[\"returns\"]\n",
    "returns_predict = df[\"returns_predict\"].iloc[split_train_test:split_test_valid]"
   ]
  },
  {
   "cell_type": "code",
   "execution_count": 41,
   "metadata": {},
   "outputs": [
    {
     "name": "stdout",
     "output_type": "stream",
     "text": [
      "\n",
      "    -----------------------------------------------------------------------------\n",
      "    Максимальная просадка: 10% \t\n",
      "    Коэффициент Шарпа: -0.213 \t \n",
      "    -----------------------------------------------------------------------------\n",
      "    \n"
     ]
    },
    {
     "data": {
      "application/vnd.plotly.v1+json": {
       "config": {
        "plotlyServerURL": "https://plot.ly"
       },
       "data": [
        {
         "fill": "tozeroy",
         "fillcolor": "rgba(143, 188, 143, 0.5)",
         "mode": "lines",
         "name": "Просадка",
         "type": "scatter",
         "x": [
          "2022-08-30T00:00:00",
          "2022-08-31T00:00:00",
          "2022-09-01T00:00:00",
          "2022-09-02T00:00:00",
          "2022-09-05T00:00:00",
          "2022-09-06T00:00:00",
          "2022-09-07T00:00:00",
          "2022-09-08T00:00:00",
          "2022-09-09T00:00:00",
          "2022-09-12T00:00:00",
          "2022-09-13T00:00:00",
          "2022-09-14T00:00:00",
          "2022-09-15T00:00:00",
          "2022-09-16T00:00:00",
          "2022-09-19T00:00:00",
          "2022-09-20T00:00:00",
          "2022-09-21T00:00:00",
          "2022-09-22T00:00:00",
          "2022-09-23T00:00:00",
          "2022-09-26T00:00:00",
          "2022-09-27T00:00:00",
          "2022-09-28T00:00:00",
          "2022-09-29T00:00:00",
          "2022-09-30T00:00:00",
          "2022-10-03T00:00:00",
          "2022-10-04T00:00:00",
          "2022-10-05T00:00:00",
          "2022-10-06T00:00:00",
          "2022-10-07T00:00:00",
          "2022-10-10T00:00:00",
          "2022-10-11T00:00:00",
          "2022-10-12T00:00:00",
          "2022-10-13T00:00:00",
          "2022-10-14T00:00:00",
          "2022-10-17T00:00:00",
          "2022-10-18T00:00:00",
          "2022-10-19T00:00:00",
          "2022-10-20T00:00:00",
          "2022-10-21T00:00:00",
          "2022-10-24T00:00:00",
          "2022-10-25T00:00:00",
          "2022-10-26T00:00:00",
          "2022-10-27T00:00:00",
          "2022-10-28T00:00:00",
          "2022-10-31T00:00:00",
          "2022-11-01T00:00:00",
          "2022-11-02T00:00:00",
          "2022-11-03T00:00:00",
          "2022-11-04T00:00:00",
          "2022-11-07T00:00:00",
          "2022-11-08T00:00:00",
          "2022-11-09T00:00:00",
          "2022-11-10T00:00:00",
          "2022-11-11T00:00:00",
          "2022-11-14T00:00:00",
          "2022-11-15T00:00:00",
          "2022-11-16T00:00:00",
          "2022-11-17T00:00:00",
          "2022-11-18T00:00:00",
          "2022-11-21T00:00:00",
          "2022-11-22T00:00:00",
          "2022-11-23T00:00:00",
          "2022-11-24T00:00:00",
          "2022-11-25T00:00:00",
          "2022-11-28T00:00:00",
          "2022-11-29T00:00:00",
          "2022-11-30T00:00:00",
          "2022-12-01T00:00:00",
          "2022-12-02T00:00:00",
          "2022-12-05T00:00:00",
          "2022-12-06T00:00:00",
          "2022-12-07T00:00:00",
          "2022-12-08T00:00:00",
          "2022-12-09T00:00:00",
          "2022-12-12T00:00:00",
          "2022-12-13T00:00:00",
          "2022-12-14T00:00:00",
          "2022-12-15T00:00:00",
          "2022-12-16T00:00:00",
          "2022-12-19T00:00:00",
          "2022-12-20T00:00:00",
          "2022-12-21T00:00:00",
          "2022-12-22T00:00:00",
          "2022-12-23T00:00:00",
          "2022-12-26T00:00:00",
          "2022-12-27T00:00:00",
          "2022-12-28T00:00:00",
          "2022-12-29T00:00:00",
          "2023-01-02T00:00:00",
          "2023-01-03T00:00:00",
          "2023-01-04T00:00:00",
          "2023-01-05T00:00:00",
          "2023-01-06T00:00:00",
          "2023-01-09T00:00:00",
          "2023-01-10T00:00:00",
          "2023-01-11T00:00:00",
          "2023-01-12T00:00:00",
          "2023-01-13T00:00:00",
          "2023-01-16T00:00:00",
          "2023-01-17T00:00:00",
          "2023-01-18T00:00:00",
          "2023-01-19T00:00:00",
          "2023-01-20T00:00:00",
          "2023-01-23T00:00:00",
          "2023-01-24T00:00:00",
          "2023-01-25T00:00:00",
          "2023-01-26T00:00:00",
          "2023-01-27T00:00:00",
          "2023-01-30T00:00:00",
          "2023-01-31T00:00:00",
          "2023-02-01T00:00:00",
          "2023-02-02T00:00:00",
          "2023-02-03T00:00:00",
          "2023-02-06T00:00:00",
          "2023-02-07T00:00:00",
          "2023-02-08T00:00:00",
          "2023-02-09T00:00:00",
          "2023-02-10T00:00:00",
          "2023-02-13T00:00:00",
          "2023-02-14T00:00:00",
          "2023-02-15T00:00:00",
          "2023-02-16T00:00:00",
          "2023-02-17T00:00:00",
          "2023-02-20T00:00:00",
          "2023-02-21T00:00:00",
          "2023-02-22T00:00:00",
          "2023-02-23T00:00:00",
          "2023-02-24T00:00:00",
          "2023-02-27T00:00:00",
          "2023-02-28T00:00:00",
          "2023-03-01T00:00:00",
          "2023-03-02T00:00:00",
          "2023-03-03T00:00:00",
          "2023-03-06T00:00:00",
          "2023-03-07T00:00:00",
          "2023-03-08T00:00:00",
          "2023-03-09T00:00:00",
          "2023-03-10T00:00:00",
          "2023-03-13T00:00:00",
          "2023-03-14T00:00:00",
          "2023-03-15T00:00:00",
          "2023-03-16T00:00:00",
          "2023-03-17T00:00:00",
          "2023-03-20T00:00:00",
          "2023-03-21T00:00:00",
          "2023-03-22T00:00:00",
          "2023-03-23T00:00:00",
          "2023-03-24T00:00:00",
          "2023-03-27T00:00:00",
          "2023-03-28T00:00:00",
          "2023-03-29T00:00:00",
          "2023-03-30T00:00:00",
          "2023-03-31T00:00:00",
          "2023-04-03T00:00:00",
          "2023-04-04T00:00:00",
          "2023-04-05T00:00:00",
          "2023-04-06T00:00:00",
          "2023-04-07T00:00:00",
          "2023-04-10T00:00:00",
          "2023-04-11T00:00:00",
          "2023-04-12T00:00:00",
          "2023-04-13T00:00:00",
          "2023-04-14T00:00:00",
          "2023-04-17T00:00:00",
          "2023-04-18T00:00:00",
          "2023-04-19T00:00:00",
          "2023-04-20T00:00:00",
          "2023-04-21T00:00:00",
          "2023-04-24T00:00:00",
          "2023-04-25T00:00:00",
          "2023-04-26T00:00:00",
          "2023-04-27T00:00:00",
          "2023-04-28T00:00:00",
          "2023-05-01T00:00:00",
          "2023-05-02T00:00:00",
          "2023-05-03T00:00:00",
          "2023-05-04T00:00:00",
          "2023-05-05T00:00:00",
          "2023-05-08T00:00:00",
          "2023-05-09T00:00:00",
          "2023-05-10T00:00:00",
          "2023-05-11T00:00:00",
          "2023-05-12T00:00:00",
          "2023-05-15T00:00:00",
          "2023-05-16T00:00:00",
          "2023-05-17T00:00:00",
          "2023-05-18T00:00:00",
          "2023-05-19T00:00:00",
          "2023-05-22T00:00:00",
          "2023-05-23T00:00:00",
          "2023-05-24T00:00:00",
          "2023-05-25T00:00:00",
          "2023-05-26T00:00:00",
          "2023-05-29T00:00:00",
          "2023-05-30T00:00:00",
          "2023-05-31T00:00:00",
          "2023-06-01T00:00:00",
          "2023-06-02T00:00:00",
          "2023-06-05T00:00:00",
          "2023-06-06T00:00:00",
          "2023-06-07T00:00:00",
          "2023-06-08T00:00:00",
          "2023-06-09T00:00:00",
          "2023-06-12T00:00:00",
          "2023-06-13T00:00:00",
          "2023-06-14T00:00:00",
          "2023-06-15T00:00:00",
          "2023-06-16T00:00:00",
          "2023-06-19T00:00:00",
          "2023-06-20T00:00:00",
          "2023-06-21T00:00:00",
          "2023-06-22T00:00:00",
          "2023-06-23T00:00:00",
          "2023-06-26T00:00:00",
          "2023-06-27T00:00:00",
          "2023-06-28T00:00:00",
          "2023-06-29T00:00:00",
          "2023-06-30T00:00:00",
          "2023-07-03T00:00:00",
          "2023-07-04T00:00:00",
          "2023-07-05T00:00:00",
          "2023-07-06T00:00:00",
          "2023-07-07T00:00:00",
          "2023-07-10T00:00:00",
          "2023-07-11T00:00:00",
          "2023-07-12T00:00:00",
          "2023-07-13T00:00:00",
          "2023-07-14T00:00:00",
          "2023-07-17T00:00:00",
          "2023-07-18T00:00:00",
          "2023-07-19T00:00:00",
          "2023-07-20T00:00:00",
          "2023-07-21T00:00:00",
          "2023-07-24T00:00:00",
          "2023-07-25T00:00:00",
          "2023-07-26T00:00:00",
          "2023-07-27T00:00:00",
          "2023-07-28T00:00:00",
          "2023-07-31T00:00:00",
          "2023-08-01T00:00:00",
          "2023-08-02T00:00:00",
          "2023-08-03T00:00:00",
          "2023-08-04T00:00:00",
          "2023-08-07T00:00:00",
          "2023-08-08T00:00:00",
          "2023-08-09T00:00:00",
          "2023-08-10T00:00:00",
          "2023-08-11T00:00:00",
          "2023-08-14T00:00:00",
          "2023-08-15T00:00:00",
          "2023-08-16T00:00:00",
          "2023-08-17T00:00:00",
          "2023-08-18T00:00:00",
          "2023-08-21T00:00:00",
          "2023-08-22T00:00:00",
          "2023-08-23T00:00:00",
          "2023-08-24T00:00:00",
          "2023-08-25T00:00:00",
          "2023-08-28T00:00:00",
          "2023-08-29T00:00:00",
          "2023-08-30T00:00:00",
          "2023-08-31T00:00:00",
          "2023-09-01T00:00:00",
          "2023-09-04T00:00:00",
          "2023-09-05T00:00:00",
          "2023-09-06T00:00:00",
          "2023-09-07T00:00:00",
          "2023-09-08T00:00:00",
          "2023-09-11T00:00:00",
          "2023-09-12T00:00:00",
          "2023-09-13T00:00:00",
          "2023-09-14T00:00:00",
          "2023-09-15T00:00:00",
          "2023-09-18T00:00:00",
          "2023-09-19T00:00:00",
          "2023-09-20T00:00:00",
          "2023-09-21T00:00:00",
          "2023-09-22T00:00:00",
          "2023-09-25T00:00:00",
          "2023-09-26T00:00:00",
          "2023-09-27T00:00:00",
          "2023-09-28T00:00:00",
          "2023-09-29T00:00:00",
          "2023-10-02T00:00:00",
          "2023-10-03T00:00:00",
          "2023-10-04T00:00:00",
          "2023-10-05T00:00:00",
          "2023-10-06T00:00:00",
          "2023-10-09T00:00:00",
          "2023-10-10T00:00:00",
          "2023-10-11T00:00:00",
          "2023-10-12T00:00:00",
          "2023-10-13T00:00:00",
          "2023-10-16T00:00:00",
          "2023-10-17T00:00:00",
          "2023-10-18T00:00:00",
          "2023-10-19T00:00:00",
          "2023-10-20T00:00:00",
          "2023-10-23T00:00:00",
          "2023-10-24T00:00:00",
          "2023-10-25T00:00:00",
          "2023-10-26T00:00:00",
          "2023-10-27T00:00:00",
          "2023-10-30T00:00:00",
          "2023-10-31T00:00:00",
          "2023-11-01T00:00:00",
          "2023-11-02T00:00:00",
          "2023-11-03T00:00:00",
          "2023-11-06T00:00:00",
          "2023-11-07T00:00:00",
          "2023-11-08T00:00:00",
          "2023-11-09T00:00:00",
          "2023-11-10T00:00:00",
          "2023-11-13T00:00:00",
          "2023-11-14T00:00:00",
          "2023-11-15T00:00:00",
          "2023-11-16T00:00:00",
          "2023-11-17T00:00:00",
          "2023-11-20T00:00:00",
          "2023-11-21T00:00:00",
          "2023-11-22T00:00:00",
          "2023-11-23T00:00:00",
          "2023-11-24T00:00:00",
          "2023-11-27T00:00:00",
          "2023-11-28T00:00:00",
          "2023-11-29T00:00:00",
          "2023-11-30T00:00:00",
          "2023-12-01T00:00:00",
          "2023-12-04T00:00:00",
          "2023-12-05T00:00:00",
          "2023-12-06T00:00:00",
          "2023-12-07T00:00:00",
          "2023-12-08T00:00:00",
          "2023-12-11T00:00:00",
          "2023-12-12T00:00:00",
          "2023-12-13T00:00:00",
          "2023-12-14T00:00:00",
          "2023-12-15T00:00:00",
          "2023-12-18T00:00:00",
          "2023-12-19T00:00:00",
          "2023-12-20T00:00:00",
          "2023-12-21T00:00:00",
          "2023-12-22T00:00:00",
          "2023-12-26T00:00:00",
          "2023-12-27T00:00:00"
         ],
         "y": [
          0,
          -0.3704517314374822,
          -1.4131430114793342,
          -1.3140278707909347,
          -1.0285762656083608,
          -0.7833383981977304,
          -1.8062318932492771,
          -1.7365519450654898,
          -1.2756180149197216,
          -2.0412204276778145,
          -0.5335816749866718,
          -0.6363681977910041,
          -0.8215994709950825,
          -0.9823295572848445,
          -1.0911141019364745,
          -0.5631869120062638,
          0,
          0,
          -1.4706181477940783,
          -2.3005105465492393,
          -2.4612004963082024,
          -1.0038036734942968,
          -1.7492829973760893,
          -1.8344378932201977,
          -2.0818880023201203,
          -3.6966786189726153,
          -2.7283795556747092,
          -3.661242440664292,
          -3.1416732388979685,
          -2.820383782330127,
          -2.790344025021818,
          -2.7863362470778696,
          -2.044897327447237,
          -1.5108609164159903,
          -0.2902811423115992,
          -0.43513002836713666,
          -1.3047319054778628,
          -1.4521905280773684,
          -2.214472158591285,
          -2.3354374036344994,
          -3.2503256034404293,
          -4.374407544176428,
          -3.24105454364374,
          -3.259506647020871,
          -2.4518068701026574,
          -2.5288037944201758,
          -1.9533011421495439,
          -2.6335289577345877,
          -4.706176119759464,
          -4.085893273865892,
          -3.5871782079545556,
          -3.0185855992187927,
          -4.87729837634282,
          -6.263413043398646,
          -6.047932880593843,
          -6.209832952690785,
          -6.60593921229159,
          -6.379442211824815,
          -5.951340720462883,
          -6.684159006832369,
          -7.26293961857939,
          -8.087549115345693,
          -7.92571117948545,
          -7.769179405456683,
          -7.294435194847548,
          -7.181469283497178,
          -7.871703525627738,
          -8.944898475138885,
          -9.076390983231331,
          -8.658036110990786,
          -8.425596089657361,
          -8.772972621842868,
          -9.210641434714384,
          -9.016259299604867,
          -9.053402219069373,
          -9.869016458853197,
          -10.298821184775752,
          -9.829432094500824,
          -9.51717364183703,
          -9.664989286554759,
          -9.842981756189618,
          -9.649571831936088,
          -9.573749477953086,
          -9.741009538939105,
          -9.890647654247564,
          -9.918611924366893,
          -9.706892842501802,
          -10.12126485114967,
          -9.789398184634457,
          -8.849051985305568,
          -9.34166171090196,
          -8.619240233791325,
          -7.550774374705094,
          -8.336053347561956,
          -8.3377614244585,
          -8.529058907417186,
          -9.329331840290466,
          -9.183920480899966,
          -9.089183287638548,
          -8.822861054038878,
          -8.868494834757556,
          -9.168194542333152,
          -9.378705734830717,
          -9.505597084939033,
          -9.646285683371914,
          -9.874506116506298,
          -9.691198347840203,
          -9.477296644623767,
          -9.338183452633908,
          -9.450150821137216,
          -8.416590924033219,
          -7.764781376020869,
          -6.778123080109255,
          -6.184727271424084,
          -6.209222120700475,
          -6.102550280997354,
          -6.298852791002929,
          -5.784836066535204,
          -6.185409992849755,
          -6.2903920490894,
          -5.8687839205411985,
          -5.738427793774969,
          -5.919489432228165,
          -5.853501362643831,
          -5.494903416423725,
          -5.135338899656228,
          -5.059298310139527,
          -4.599634673316122,
          -5.183197850317301,
          -4.868598651939616,
          -4.014784945485783,
          -4.661668038152056,
          -4.338676340979319,
          -3.892425973854885,
          -2.693128112207943,
          -2.6451614300120108,
          -2.2998300034238417,
          -1.7753694411188459,
          -0.9545147934266751,
          -0.9175809510108435,
          -2.358924151289221,
          -2.0172861089426397,
          -1.5583831169257545,
          -1.0209957097752076,
          -0.5870230613890359,
          0,
          -0.23210404155769027,
          -0.9357845485023719,
          -0.554470765943349,
          -0.1234204030505226,
          -0.12065725969863106,
          0,
          -0.5658422061426416,
          -0.014673379737928371,
          0,
          -0.45731707317073766,
          -0.5841974587410426,
          -0.7817725952137367,
          -1.1140994376678148,
          -1.582088470603149,
          -2.290987486952789,
          -1.795810430052791,
          -2.258983224747424,
          -2.8483950536966285,
          -2.463454899948514,
          -2.609252094439718,
          -2.483902067468624,
          -2.3078786253389993,
          -2.7959436239711644,
          -2.180705794538884,
          -2.7788226573849495,
          -2.6608293799289973,
          -2.5584377100105193,
          -2.1966584890899976,
          -2.406076036584459,
          -1.866579139072455,
          -2.273863803477072,
          -2.3111316812657323,
          -2.185226825431408,
          -1.7958700693950336,
          -2.001064972121458,
          -1.4067859240948777,
          -2.009219725749578,
          -1.7906455428403523,
          -1.9044486298096186,
          -2.1167004189983185,
          -2.721843817961822,
          -2.416562521171284,
          -2.3425001947309676,
          -2.724553415270614,
          -2.9069996340625903,
          -3.1391218035157764,
          -3.13189621069232,
          -3.282730460881733,
          -3.0506082914285693,
          -3.4651766796737093,
          -2.8067445336372843,
          -3.308923234866712,
          -3.248408894970356,
          -3.433564711071113,
          -3.380275963998214,
          -2.6261047130511583,
          -2.916934824194828,
          -2.8392597013428,
          -2.530365608140539,
          -2.1790211571005136,
          -3.2122809308531286,
          -3.172486621557369,
          -3.0069831207551356,
          -3.0567153872085306,
          -2.431509751794736,
          -2.7316795028882845,
          -3.2547563768353327,
          -3.164172605795268,
          -2.66773801744824,
          -3.0922384346752207,
          -3.5131865471555335,
          -3.1099999584085714,
          -3.082469596621873,
          -3.3897439572087684,
          -3.613539156248946,
          -3.279622510062019,
          -2.6144534462481994,
          -2.313395618967984,
          -2.2432376002212706,
          -1.1562323477404712,
          -0.31255997040653405,
          -0.33831417981989853,
          -0.44305303737939283,
          -0.3341053294450669,
          -0.5675689704903064,
          -1.2084843652989452,
          -1.243992143404682,
          -1.7890365373278372,
          -1.8778059825922067,
          -1.5875298965777551,
          -2.576421516822669,
          -2.211579096786187,
          -2.3891179873148927,
          -2.5018551828006053,
          -2.911082325469283,
          -2.8232005746575584,
          -2.262177680586852,
          -2.3411824868721065,
          -2.75129732399344,
          -2.594175405875543,
          -2.5444645165275115,
          -2.8232005746575806,
          -3.1960322447678657,
          -3.2191123005366085,
          -3.432158969171062,
          -3.4996237475719782,
          -3.4934098864034646,
          -3.2874647733901585,
          -3.716221194017011,
          -3.5715269982361186,
          -4.037566585873986,
          -4.191137726181326,
          -3.97010180747307,
          -3.4223943301920023,
          -3.0424611044605587,
          -3.759718222196551,
          -4.370452005615322,
          -4.166282281507305,
          -4.826726954274097,
          -4.796545342884229,
          -5.058415206414068,
          -5.019356650497764,
          -4.5897125354183,
          -4.49117845117486,
          -4.760149870325869,
          -5.5262301829572475,
          -5.354905153597034,
          -5.097473762330395,
          -5.191569374310612,
          -5.37887290381841,
          -5.3628944036708255,
          -5.518240932883456,
          -5.97629127044752,
          -6.165370188860619,
          -6.761013166584428,
          -6.207979522587492,
          -6.147616299807723,
          -6.981161390840018,
          -7.097449364136333,
          -6.755686999868549,
          -7.161363364726658,
          -6.870962124043056,
          -7.022322770702393,
          -6.68000130819959,
          -6.562960808166496,
          -5.764797398166377,
          -5.9527826224578195,
          -5.4872954004028145,
          -5.324374872683535,
          -5.696764650327568,
          -5.289463331029431,
          -5.160559177229551,
          -5.822983300923223,
          -5.121197422028478,
          -4.907052368944309,
          -4.863849575941925,
          -4.825111891117162,
          -4.380078953828015,
          -4.011620509797121,
          -3.947163439621526,
          -3.456267728407336,
          -4.423514092725711,
          -4.333519918702167,
          -4.176402785202948,
          -4.2677588897745755,
          -4.639638731980689,
          -4.497501965368267,
          -4.632487196553647,
          -6.237040429244567,
          -5.95433110857968,
          -5.891030472108905,
          -6.405239751933078,
          -6.642824735609276,
          -6.402176069492061,
          -6.198025642927352,
          -6.354823182700753,
          -6.604690197067331,
          -6.767819396097607,
          -6.427378909333859,
          -6.217156908757238,
          -5.525515280431548,
          -5.452633699375564,
          -5.05985583876617,
          -4.729518007562161,
          -5.034809899771253,
          -4.7498119772754865,
          -5.044515711373254,
          -5.0295158207155914,
          -4.756870749349707,
          -4.051875888439116,
          -3.0230598586246993,
          -3.8745242400748947,
          -3.62305548493157,
          -3.123647360682036,
          -2.7883556871576176,
          -2.1690883531231053,
          -2.171753779238028,
          -1.9034342170021423,
          -1.3259252254348208
         ]
        },
        {
         "line": {
          "color": "SeaGreen"
         },
         "name": "Drawdown",
         "type": "scatter",
         "x": [
          "2022-08-30T00:00:00",
          "2022-08-31T00:00:00",
          "2022-09-01T00:00:00",
          "2022-09-02T00:00:00",
          "2022-09-05T00:00:00",
          "2022-09-06T00:00:00",
          "2022-09-07T00:00:00",
          "2022-09-08T00:00:00",
          "2022-09-09T00:00:00",
          "2022-09-12T00:00:00",
          "2022-09-13T00:00:00",
          "2022-09-14T00:00:00",
          "2022-09-15T00:00:00",
          "2022-09-16T00:00:00",
          "2022-09-19T00:00:00",
          "2022-09-20T00:00:00",
          "2022-09-21T00:00:00",
          "2022-09-22T00:00:00",
          "2022-09-23T00:00:00",
          "2022-09-26T00:00:00",
          "2022-09-27T00:00:00",
          "2022-09-28T00:00:00",
          "2022-09-29T00:00:00",
          "2022-09-30T00:00:00",
          "2022-10-03T00:00:00",
          "2022-10-04T00:00:00",
          "2022-10-05T00:00:00",
          "2022-10-06T00:00:00",
          "2022-10-07T00:00:00",
          "2022-10-10T00:00:00",
          "2022-10-11T00:00:00",
          "2022-10-12T00:00:00",
          "2022-10-13T00:00:00",
          "2022-10-14T00:00:00",
          "2022-10-17T00:00:00",
          "2022-10-18T00:00:00",
          "2022-10-19T00:00:00",
          "2022-10-20T00:00:00",
          "2022-10-21T00:00:00",
          "2022-10-24T00:00:00",
          "2022-10-25T00:00:00",
          "2022-10-26T00:00:00",
          "2022-10-27T00:00:00",
          "2022-10-28T00:00:00",
          "2022-10-31T00:00:00",
          "2022-11-01T00:00:00",
          "2022-11-02T00:00:00",
          "2022-11-03T00:00:00",
          "2022-11-04T00:00:00",
          "2022-11-07T00:00:00",
          "2022-11-08T00:00:00",
          "2022-11-09T00:00:00",
          "2022-11-10T00:00:00",
          "2022-11-11T00:00:00",
          "2022-11-14T00:00:00",
          "2022-11-15T00:00:00",
          "2022-11-16T00:00:00",
          "2022-11-17T00:00:00",
          "2022-11-18T00:00:00",
          "2022-11-21T00:00:00",
          "2022-11-22T00:00:00",
          "2022-11-23T00:00:00",
          "2022-11-24T00:00:00",
          "2022-11-25T00:00:00",
          "2022-11-28T00:00:00",
          "2022-11-29T00:00:00",
          "2022-11-30T00:00:00",
          "2022-12-01T00:00:00",
          "2022-12-02T00:00:00",
          "2022-12-05T00:00:00",
          "2022-12-06T00:00:00",
          "2022-12-07T00:00:00",
          "2022-12-08T00:00:00",
          "2022-12-09T00:00:00",
          "2022-12-12T00:00:00",
          "2022-12-13T00:00:00",
          "2022-12-14T00:00:00",
          "2022-12-15T00:00:00",
          "2022-12-16T00:00:00",
          "2022-12-19T00:00:00",
          "2022-12-20T00:00:00",
          "2022-12-21T00:00:00",
          "2022-12-22T00:00:00",
          "2022-12-23T00:00:00",
          "2022-12-26T00:00:00",
          "2022-12-27T00:00:00",
          "2022-12-28T00:00:00",
          "2022-12-29T00:00:00",
          "2023-01-02T00:00:00",
          "2023-01-03T00:00:00",
          "2023-01-04T00:00:00",
          "2023-01-05T00:00:00",
          "2023-01-06T00:00:00",
          "2023-01-09T00:00:00",
          "2023-01-10T00:00:00",
          "2023-01-11T00:00:00",
          "2023-01-12T00:00:00",
          "2023-01-13T00:00:00",
          "2023-01-16T00:00:00",
          "2023-01-17T00:00:00",
          "2023-01-18T00:00:00",
          "2023-01-19T00:00:00",
          "2023-01-20T00:00:00",
          "2023-01-23T00:00:00",
          "2023-01-24T00:00:00",
          "2023-01-25T00:00:00",
          "2023-01-26T00:00:00",
          "2023-01-27T00:00:00",
          "2023-01-30T00:00:00",
          "2023-01-31T00:00:00",
          "2023-02-01T00:00:00",
          "2023-02-02T00:00:00",
          "2023-02-03T00:00:00",
          "2023-02-06T00:00:00",
          "2023-02-07T00:00:00",
          "2023-02-08T00:00:00",
          "2023-02-09T00:00:00",
          "2023-02-10T00:00:00",
          "2023-02-13T00:00:00",
          "2023-02-14T00:00:00",
          "2023-02-15T00:00:00",
          "2023-02-16T00:00:00",
          "2023-02-17T00:00:00",
          "2023-02-20T00:00:00",
          "2023-02-21T00:00:00",
          "2023-02-22T00:00:00",
          "2023-02-23T00:00:00",
          "2023-02-24T00:00:00",
          "2023-02-27T00:00:00",
          "2023-02-28T00:00:00",
          "2023-03-01T00:00:00",
          "2023-03-02T00:00:00",
          "2023-03-03T00:00:00",
          "2023-03-06T00:00:00",
          "2023-03-07T00:00:00",
          "2023-03-08T00:00:00",
          "2023-03-09T00:00:00",
          "2023-03-10T00:00:00",
          "2023-03-13T00:00:00",
          "2023-03-14T00:00:00",
          "2023-03-15T00:00:00",
          "2023-03-16T00:00:00",
          "2023-03-17T00:00:00",
          "2023-03-20T00:00:00",
          "2023-03-21T00:00:00",
          "2023-03-22T00:00:00",
          "2023-03-23T00:00:00",
          "2023-03-24T00:00:00",
          "2023-03-27T00:00:00",
          "2023-03-28T00:00:00",
          "2023-03-29T00:00:00",
          "2023-03-30T00:00:00",
          "2023-03-31T00:00:00",
          "2023-04-03T00:00:00",
          "2023-04-04T00:00:00",
          "2023-04-05T00:00:00",
          "2023-04-06T00:00:00",
          "2023-04-07T00:00:00",
          "2023-04-10T00:00:00",
          "2023-04-11T00:00:00",
          "2023-04-12T00:00:00",
          "2023-04-13T00:00:00",
          "2023-04-14T00:00:00",
          "2023-04-17T00:00:00",
          "2023-04-18T00:00:00",
          "2023-04-19T00:00:00",
          "2023-04-20T00:00:00",
          "2023-04-21T00:00:00",
          "2023-04-24T00:00:00",
          "2023-04-25T00:00:00",
          "2023-04-26T00:00:00",
          "2023-04-27T00:00:00",
          "2023-04-28T00:00:00",
          "2023-05-01T00:00:00",
          "2023-05-02T00:00:00",
          "2023-05-03T00:00:00",
          "2023-05-04T00:00:00",
          "2023-05-05T00:00:00",
          "2023-05-08T00:00:00",
          "2023-05-09T00:00:00",
          "2023-05-10T00:00:00",
          "2023-05-11T00:00:00",
          "2023-05-12T00:00:00",
          "2023-05-15T00:00:00",
          "2023-05-16T00:00:00",
          "2023-05-17T00:00:00",
          "2023-05-18T00:00:00",
          "2023-05-19T00:00:00",
          "2023-05-22T00:00:00",
          "2023-05-23T00:00:00",
          "2023-05-24T00:00:00",
          "2023-05-25T00:00:00",
          "2023-05-26T00:00:00",
          "2023-05-29T00:00:00",
          "2023-05-30T00:00:00",
          "2023-05-31T00:00:00",
          "2023-06-01T00:00:00",
          "2023-06-02T00:00:00",
          "2023-06-05T00:00:00",
          "2023-06-06T00:00:00",
          "2023-06-07T00:00:00",
          "2023-06-08T00:00:00",
          "2023-06-09T00:00:00",
          "2023-06-12T00:00:00",
          "2023-06-13T00:00:00",
          "2023-06-14T00:00:00",
          "2023-06-15T00:00:00",
          "2023-06-16T00:00:00",
          "2023-06-19T00:00:00",
          "2023-06-20T00:00:00",
          "2023-06-21T00:00:00",
          "2023-06-22T00:00:00",
          "2023-06-23T00:00:00",
          "2023-06-26T00:00:00",
          "2023-06-27T00:00:00",
          "2023-06-28T00:00:00",
          "2023-06-29T00:00:00",
          "2023-06-30T00:00:00",
          "2023-07-03T00:00:00",
          "2023-07-04T00:00:00",
          "2023-07-05T00:00:00",
          "2023-07-06T00:00:00",
          "2023-07-07T00:00:00",
          "2023-07-10T00:00:00",
          "2023-07-11T00:00:00",
          "2023-07-12T00:00:00",
          "2023-07-13T00:00:00",
          "2023-07-14T00:00:00",
          "2023-07-17T00:00:00",
          "2023-07-18T00:00:00",
          "2023-07-19T00:00:00",
          "2023-07-20T00:00:00",
          "2023-07-21T00:00:00",
          "2023-07-24T00:00:00",
          "2023-07-25T00:00:00",
          "2023-07-26T00:00:00",
          "2023-07-27T00:00:00",
          "2023-07-28T00:00:00",
          "2023-07-31T00:00:00",
          "2023-08-01T00:00:00",
          "2023-08-02T00:00:00",
          "2023-08-03T00:00:00",
          "2023-08-04T00:00:00",
          "2023-08-07T00:00:00",
          "2023-08-08T00:00:00",
          "2023-08-09T00:00:00",
          "2023-08-10T00:00:00",
          "2023-08-11T00:00:00",
          "2023-08-14T00:00:00",
          "2023-08-15T00:00:00",
          "2023-08-16T00:00:00",
          "2023-08-17T00:00:00",
          "2023-08-18T00:00:00",
          "2023-08-21T00:00:00",
          "2023-08-22T00:00:00",
          "2023-08-23T00:00:00",
          "2023-08-24T00:00:00",
          "2023-08-25T00:00:00",
          "2023-08-28T00:00:00",
          "2023-08-29T00:00:00",
          "2023-08-30T00:00:00",
          "2023-08-31T00:00:00",
          "2023-09-01T00:00:00",
          "2023-09-04T00:00:00",
          "2023-09-05T00:00:00",
          "2023-09-06T00:00:00",
          "2023-09-07T00:00:00",
          "2023-09-08T00:00:00",
          "2023-09-11T00:00:00",
          "2023-09-12T00:00:00",
          "2023-09-13T00:00:00",
          "2023-09-14T00:00:00",
          "2023-09-15T00:00:00",
          "2023-09-18T00:00:00",
          "2023-09-19T00:00:00",
          "2023-09-20T00:00:00",
          "2023-09-21T00:00:00",
          "2023-09-22T00:00:00",
          "2023-09-25T00:00:00",
          "2023-09-26T00:00:00",
          "2023-09-27T00:00:00",
          "2023-09-28T00:00:00",
          "2023-09-29T00:00:00",
          "2023-10-02T00:00:00",
          "2023-10-03T00:00:00",
          "2023-10-04T00:00:00",
          "2023-10-05T00:00:00",
          "2023-10-06T00:00:00",
          "2023-10-09T00:00:00",
          "2023-10-10T00:00:00",
          "2023-10-11T00:00:00",
          "2023-10-12T00:00:00",
          "2023-10-13T00:00:00",
          "2023-10-16T00:00:00",
          "2023-10-17T00:00:00",
          "2023-10-18T00:00:00",
          "2023-10-19T00:00:00",
          "2023-10-20T00:00:00",
          "2023-10-23T00:00:00",
          "2023-10-24T00:00:00",
          "2023-10-25T00:00:00",
          "2023-10-26T00:00:00",
          "2023-10-27T00:00:00",
          "2023-10-30T00:00:00",
          "2023-10-31T00:00:00",
          "2023-11-01T00:00:00",
          "2023-11-02T00:00:00",
          "2023-11-03T00:00:00",
          "2023-11-06T00:00:00",
          "2023-11-07T00:00:00",
          "2023-11-08T00:00:00",
          "2023-11-09T00:00:00",
          "2023-11-10T00:00:00",
          "2023-11-13T00:00:00",
          "2023-11-14T00:00:00",
          "2023-11-15T00:00:00",
          "2023-11-16T00:00:00",
          "2023-11-17T00:00:00",
          "2023-11-20T00:00:00",
          "2023-11-21T00:00:00",
          "2023-11-22T00:00:00",
          "2023-11-23T00:00:00",
          "2023-11-24T00:00:00",
          "2023-11-27T00:00:00",
          "2023-11-28T00:00:00",
          "2023-11-29T00:00:00",
          "2023-11-30T00:00:00",
          "2023-12-01T00:00:00",
          "2023-12-04T00:00:00",
          "2023-12-05T00:00:00",
          "2023-12-06T00:00:00",
          "2023-12-07T00:00:00",
          "2023-12-08T00:00:00",
          "2023-12-11T00:00:00",
          "2023-12-12T00:00:00",
          "2023-12-13T00:00:00",
          "2023-12-14T00:00:00",
          "2023-12-15T00:00:00",
          "2023-12-18T00:00:00",
          "2023-12-19T00:00:00",
          "2023-12-20T00:00:00",
          "2023-12-21T00:00:00",
          "2023-12-22T00:00:00",
          "2023-12-26T00:00:00",
          "2023-12-27T00:00:00"
         ],
         "y": [
          0,
          -0.3704517314374822,
          -1.4131430114793342,
          -1.3140278707909347,
          -1.0285762656083608,
          -0.7833383981977304,
          -1.8062318932492771,
          -1.7365519450654898,
          -1.2756180149197216,
          -2.0412204276778145,
          -0.5335816749866718,
          -0.6363681977910041,
          -0.8215994709950825,
          -0.9823295572848445,
          -1.0911141019364745,
          -0.5631869120062638,
          0,
          0,
          -1.4706181477940783,
          -2.3005105465492393,
          -2.4612004963082024,
          -1.0038036734942968,
          -1.7492829973760893,
          -1.8344378932201977,
          -2.0818880023201203,
          -3.6966786189726153,
          -2.7283795556747092,
          -3.661242440664292,
          -3.1416732388979685,
          -2.820383782330127,
          -2.790344025021818,
          -2.7863362470778696,
          -2.044897327447237,
          -1.5108609164159903,
          -0.2902811423115992,
          -0.43513002836713666,
          -1.3047319054778628,
          -1.4521905280773684,
          -2.214472158591285,
          -2.3354374036344994,
          -3.2503256034404293,
          -4.374407544176428,
          -3.24105454364374,
          -3.259506647020871,
          -2.4518068701026574,
          -2.5288037944201758,
          -1.9533011421495439,
          -2.6335289577345877,
          -4.706176119759464,
          -4.085893273865892,
          -3.5871782079545556,
          -3.0185855992187927,
          -4.87729837634282,
          -6.263413043398646,
          -6.047932880593843,
          -6.209832952690785,
          -6.60593921229159,
          -6.379442211824815,
          -5.951340720462883,
          -6.684159006832369,
          -7.26293961857939,
          -8.087549115345693,
          -7.92571117948545,
          -7.769179405456683,
          -7.294435194847548,
          -7.181469283497178,
          -7.871703525627738,
          -8.944898475138885,
          -9.076390983231331,
          -8.658036110990786,
          -8.425596089657361,
          -8.772972621842868,
          -9.210641434714384,
          -9.016259299604867,
          -9.053402219069373,
          -9.869016458853197,
          -10.298821184775752,
          -9.829432094500824,
          -9.51717364183703,
          -9.664989286554759,
          -9.842981756189618,
          -9.649571831936088,
          -9.573749477953086,
          -9.741009538939105,
          -9.890647654247564,
          -9.918611924366893,
          -9.706892842501802,
          -10.12126485114967,
          -9.789398184634457,
          -8.849051985305568,
          -9.34166171090196,
          -8.619240233791325,
          -7.550774374705094,
          -8.336053347561956,
          -8.3377614244585,
          -8.529058907417186,
          -9.329331840290466,
          -9.183920480899966,
          -9.089183287638548,
          -8.822861054038878,
          -8.868494834757556,
          -9.168194542333152,
          -9.378705734830717,
          -9.505597084939033,
          -9.646285683371914,
          -9.874506116506298,
          -9.691198347840203,
          -9.477296644623767,
          -9.338183452633908,
          -9.450150821137216,
          -8.416590924033219,
          -7.764781376020869,
          -6.778123080109255,
          -6.184727271424084,
          -6.209222120700475,
          -6.102550280997354,
          -6.298852791002929,
          -5.784836066535204,
          -6.185409992849755,
          -6.2903920490894,
          -5.8687839205411985,
          -5.738427793774969,
          -5.919489432228165,
          -5.853501362643831,
          -5.494903416423725,
          -5.135338899656228,
          -5.059298310139527,
          -4.599634673316122,
          -5.183197850317301,
          -4.868598651939616,
          -4.014784945485783,
          -4.661668038152056,
          -4.338676340979319,
          -3.892425973854885,
          -2.693128112207943,
          -2.6451614300120108,
          -2.2998300034238417,
          -1.7753694411188459,
          -0.9545147934266751,
          -0.9175809510108435,
          -2.358924151289221,
          -2.0172861089426397,
          -1.5583831169257545,
          -1.0209957097752076,
          -0.5870230613890359,
          0,
          -0.23210404155769027,
          -0.9357845485023719,
          -0.554470765943349,
          -0.1234204030505226,
          -0.12065725969863106,
          0,
          -0.5658422061426416,
          -0.014673379737928371,
          0,
          -0.45731707317073766,
          -0.5841974587410426,
          -0.7817725952137367,
          -1.1140994376678148,
          -1.582088470603149,
          -2.290987486952789,
          -1.795810430052791,
          -2.258983224747424,
          -2.8483950536966285,
          -2.463454899948514,
          -2.609252094439718,
          -2.483902067468624,
          -2.3078786253389993,
          -2.7959436239711644,
          -2.180705794538884,
          -2.7788226573849495,
          -2.6608293799289973,
          -2.5584377100105193,
          -2.1966584890899976,
          -2.406076036584459,
          -1.866579139072455,
          -2.273863803477072,
          -2.3111316812657323,
          -2.185226825431408,
          -1.7958700693950336,
          -2.001064972121458,
          -1.4067859240948777,
          -2.009219725749578,
          -1.7906455428403523,
          -1.9044486298096186,
          -2.1167004189983185,
          -2.721843817961822,
          -2.416562521171284,
          -2.3425001947309676,
          -2.724553415270614,
          -2.9069996340625903,
          -3.1391218035157764,
          -3.13189621069232,
          -3.282730460881733,
          -3.0506082914285693,
          -3.4651766796737093,
          -2.8067445336372843,
          -3.308923234866712,
          -3.248408894970356,
          -3.433564711071113,
          -3.380275963998214,
          -2.6261047130511583,
          -2.916934824194828,
          -2.8392597013428,
          -2.530365608140539,
          -2.1790211571005136,
          -3.2122809308531286,
          -3.172486621557369,
          -3.0069831207551356,
          -3.0567153872085306,
          -2.431509751794736,
          -2.7316795028882845,
          -3.2547563768353327,
          -3.164172605795268,
          -2.66773801744824,
          -3.0922384346752207,
          -3.5131865471555335,
          -3.1099999584085714,
          -3.082469596621873,
          -3.3897439572087684,
          -3.613539156248946,
          -3.279622510062019,
          -2.6144534462481994,
          -2.313395618967984,
          -2.2432376002212706,
          -1.1562323477404712,
          -0.31255997040653405,
          -0.33831417981989853,
          -0.44305303737939283,
          -0.3341053294450669,
          -0.5675689704903064,
          -1.2084843652989452,
          -1.243992143404682,
          -1.7890365373278372,
          -1.8778059825922067,
          -1.5875298965777551,
          -2.576421516822669,
          -2.211579096786187,
          -2.3891179873148927,
          -2.5018551828006053,
          -2.911082325469283,
          -2.8232005746575584,
          -2.262177680586852,
          -2.3411824868721065,
          -2.75129732399344,
          -2.594175405875543,
          -2.5444645165275115,
          -2.8232005746575806,
          -3.1960322447678657,
          -3.2191123005366085,
          -3.432158969171062,
          -3.4996237475719782,
          -3.4934098864034646,
          -3.2874647733901585,
          -3.716221194017011,
          -3.5715269982361186,
          -4.037566585873986,
          -4.191137726181326,
          -3.97010180747307,
          -3.4223943301920023,
          -3.0424611044605587,
          -3.759718222196551,
          -4.370452005615322,
          -4.166282281507305,
          -4.826726954274097,
          -4.796545342884229,
          -5.058415206414068,
          -5.019356650497764,
          -4.5897125354183,
          -4.49117845117486,
          -4.760149870325869,
          -5.5262301829572475,
          -5.354905153597034,
          -5.097473762330395,
          -5.191569374310612,
          -5.37887290381841,
          -5.3628944036708255,
          -5.518240932883456,
          -5.97629127044752,
          -6.165370188860619,
          -6.761013166584428,
          -6.207979522587492,
          -6.147616299807723,
          -6.981161390840018,
          -7.097449364136333,
          -6.755686999868549,
          -7.161363364726658,
          -6.870962124043056,
          -7.022322770702393,
          -6.68000130819959,
          -6.562960808166496,
          -5.764797398166377,
          -5.9527826224578195,
          -5.4872954004028145,
          -5.324374872683535,
          -5.696764650327568,
          -5.289463331029431,
          -5.160559177229551,
          -5.822983300923223,
          -5.121197422028478,
          -4.907052368944309,
          -4.863849575941925,
          -4.825111891117162,
          -4.380078953828015,
          -4.011620509797121,
          -3.947163439621526,
          -3.456267728407336,
          -4.423514092725711,
          -4.333519918702167,
          -4.176402785202948,
          -4.2677588897745755,
          -4.639638731980689,
          -4.497501965368267,
          -4.632487196553647,
          -6.237040429244567,
          -5.95433110857968,
          -5.891030472108905,
          -6.405239751933078,
          -6.642824735609276,
          -6.402176069492061,
          -6.198025642927352,
          -6.354823182700753,
          -6.604690197067331,
          -6.767819396097607,
          -6.427378909333859,
          -6.217156908757238,
          -5.525515280431548,
          -5.452633699375564,
          -5.05985583876617,
          -4.729518007562161,
          -5.034809899771253,
          -4.7498119772754865,
          -5.044515711373254,
          -5.0295158207155914,
          -4.756870749349707,
          -4.051875888439116,
          -3.0230598586246993,
          -3.8745242400748947,
          -3.62305548493157,
          -3.123647360682036,
          -2.7883556871576176,
          -2.1690883531231053,
          -2.171753779238028,
          -1.9034342170021423,
          -1.3259252254348208
         ]
        }
       ],
       "layout": {
        "height": 600,
        "showlegend": false,
        "template": {
         "data": {
          "bar": [
           {
            "error_x": {
             "color": "#2a3f5f"
            },
            "error_y": {
             "color": "#2a3f5f"
            },
            "marker": {
             "line": {
              "color": "#E5ECF6",
              "width": 0.5
             },
             "pattern": {
              "fillmode": "overlay",
              "size": 10,
              "solidity": 0.2
             }
            },
            "type": "bar"
           }
          ],
          "barpolar": [
           {
            "marker": {
             "line": {
              "color": "#E5ECF6",
              "width": 0.5
             },
             "pattern": {
              "fillmode": "overlay",
              "size": 10,
              "solidity": 0.2
             }
            },
            "type": "barpolar"
           }
          ],
          "carpet": [
           {
            "aaxis": {
             "endlinecolor": "#2a3f5f",
             "gridcolor": "white",
             "linecolor": "white",
             "minorgridcolor": "white",
             "startlinecolor": "#2a3f5f"
            },
            "baxis": {
             "endlinecolor": "#2a3f5f",
             "gridcolor": "white",
             "linecolor": "white",
             "minorgridcolor": "white",
             "startlinecolor": "#2a3f5f"
            },
            "type": "carpet"
           }
          ],
          "choropleth": [
           {
            "colorbar": {
             "outlinewidth": 0,
             "ticks": ""
            },
            "type": "choropleth"
           }
          ],
          "contour": [
           {
            "colorbar": {
             "outlinewidth": 0,
             "ticks": ""
            },
            "colorscale": [
             [
              0,
              "#0d0887"
             ],
             [
              0.1111111111111111,
              "#46039f"
             ],
             [
              0.2222222222222222,
              "#7201a8"
             ],
             [
              0.3333333333333333,
              "#9c179e"
             ],
             [
              0.4444444444444444,
              "#bd3786"
             ],
             [
              0.5555555555555556,
              "#d8576b"
             ],
             [
              0.6666666666666666,
              "#ed7953"
             ],
             [
              0.7777777777777778,
              "#fb9f3a"
             ],
             [
              0.8888888888888888,
              "#fdca26"
             ],
             [
              1,
              "#f0f921"
             ]
            ],
            "type": "contour"
           }
          ],
          "contourcarpet": [
           {
            "colorbar": {
             "outlinewidth": 0,
             "ticks": ""
            },
            "type": "contourcarpet"
           }
          ],
          "heatmap": [
           {
            "colorbar": {
             "outlinewidth": 0,
             "ticks": ""
            },
            "colorscale": [
             [
              0,
              "#0d0887"
             ],
             [
              0.1111111111111111,
              "#46039f"
             ],
             [
              0.2222222222222222,
              "#7201a8"
             ],
             [
              0.3333333333333333,
              "#9c179e"
             ],
             [
              0.4444444444444444,
              "#bd3786"
             ],
             [
              0.5555555555555556,
              "#d8576b"
             ],
             [
              0.6666666666666666,
              "#ed7953"
             ],
             [
              0.7777777777777778,
              "#fb9f3a"
             ],
             [
              0.8888888888888888,
              "#fdca26"
             ],
             [
              1,
              "#f0f921"
             ]
            ],
            "type": "heatmap"
           }
          ],
          "heatmapgl": [
           {
            "colorbar": {
             "outlinewidth": 0,
             "ticks": ""
            },
            "colorscale": [
             [
              0,
              "#0d0887"
             ],
             [
              0.1111111111111111,
              "#46039f"
             ],
             [
              0.2222222222222222,
              "#7201a8"
             ],
             [
              0.3333333333333333,
              "#9c179e"
             ],
             [
              0.4444444444444444,
              "#bd3786"
             ],
             [
              0.5555555555555556,
              "#d8576b"
             ],
             [
              0.6666666666666666,
              "#ed7953"
             ],
             [
              0.7777777777777778,
              "#fb9f3a"
             ],
             [
              0.8888888888888888,
              "#fdca26"
             ],
             [
              1,
              "#f0f921"
             ]
            ],
            "type": "heatmapgl"
           }
          ],
          "histogram": [
           {
            "marker": {
             "pattern": {
              "fillmode": "overlay",
              "size": 10,
              "solidity": 0.2
             }
            },
            "type": "histogram"
           }
          ],
          "histogram2d": [
           {
            "colorbar": {
             "outlinewidth": 0,
             "ticks": ""
            },
            "colorscale": [
             [
              0,
              "#0d0887"
             ],
             [
              0.1111111111111111,
              "#46039f"
             ],
             [
              0.2222222222222222,
              "#7201a8"
             ],
             [
              0.3333333333333333,
              "#9c179e"
             ],
             [
              0.4444444444444444,
              "#bd3786"
             ],
             [
              0.5555555555555556,
              "#d8576b"
             ],
             [
              0.6666666666666666,
              "#ed7953"
             ],
             [
              0.7777777777777778,
              "#fb9f3a"
             ],
             [
              0.8888888888888888,
              "#fdca26"
             ],
             [
              1,
              "#f0f921"
             ]
            ],
            "type": "histogram2d"
           }
          ],
          "histogram2dcontour": [
           {
            "colorbar": {
             "outlinewidth": 0,
             "ticks": ""
            },
            "colorscale": [
             [
              0,
              "#0d0887"
             ],
             [
              0.1111111111111111,
              "#46039f"
             ],
             [
              0.2222222222222222,
              "#7201a8"
             ],
             [
              0.3333333333333333,
              "#9c179e"
             ],
             [
              0.4444444444444444,
              "#bd3786"
             ],
             [
              0.5555555555555556,
              "#d8576b"
             ],
             [
              0.6666666666666666,
              "#ed7953"
             ],
             [
              0.7777777777777778,
              "#fb9f3a"
             ],
             [
              0.8888888888888888,
              "#fdca26"
             ],
             [
              1,
              "#f0f921"
             ]
            ],
            "type": "histogram2dcontour"
           }
          ],
          "mesh3d": [
           {
            "colorbar": {
             "outlinewidth": 0,
             "ticks": ""
            },
            "type": "mesh3d"
           }
          ],
          "parcoords": [
           {
            "line": {
             "colorbar": {
              "outlinewidth": 0,
              "ticks": ""
             }
            },
            "type": "parcoords"
           }
          ],
          "pie": [
           {
            "automargin": true,
            "type": "pie"
           }
          ],
          "scatter": [
           {
            "fillpattern": {
             "fillmode": "overlay",
             "size": 10,
             "solidity": 0.2
            },
            "type": "scatter"
           }
          ],
          "scatter3d": [
           {
            "line": {
             "colorbar": {
              "outlinewidth": 0,
              "ticks": ""
             }
            },
            "marker": {
             "colorbar": {
              "outlinewidth": 0,
              "ticks": ""
             }
            },
            "type": "scatter3d"
           }
          ],
          "scattercarpet": [
           {
            "marker": {
             "colorbar": {
              "outlinewidth": 0,
              "ticks": ""
             }
            },
            "type": "scattercarpet"
           }
          ],
          "scattergeo": [
           {
            "marker": {
             "colorbar": {
              "outlinewidth": 0,
              "ticks": ""
             }
            },
            "type": "scattergeo"
           }
          ],
          "scattergl": [
           {
            "marker": {
             "colorbar": {
              "outlinewidth": 0,
              "ticks": ""
             }
            },
            "type": "scattergl"
           }
          ],
          "scattermapbox": [
           {
            "marker": {
             "colorbar": {
              "outlinewidth": 0,
              "ticks": ""
             }
            },
            "type": "scattermapbox"
           }
          ],
          "scatterpolar": [
           {
            "marker": {
             "colorbar": {
              "outlinewidth": 0,
              "ticks": ""
             }
            },
            "type": "scatterpolar"
           }
          ],
          "scatterpolargl": [
           {
            "marker": {
             "colorbar": {
              "outlinewidth": 0,
              "ticks": ""
             }
            },
            "type": "scatterpolargl"
           }
          ],
          "scatterternary": [
           {
            "marker": {
             "colorbar": {
              "outlinewidth": 0,
              "ticks": ""
             }
            },
            "type": "scatterternary"
           }
          ],
          "surface": [
           {
            "colorbar": {
             "outlinewidth": 0,
             "ticks": ""
            },
            "colorscale": [
             [
              0,
              "#0d0887"
             ],
             [
              0.1111111111111111,
              "#46039f"
             ],
             [
              0.2222222222222222,
              "#7201a8"
             ],
             [
              0.3333333333333333,
              "#9c179e"
             ],
             [
              0.4444444444444444,
              "#bd3786"
             ],
             [
              0.5555555555555556,
              "#d8576b"
             ],
             [
              0.6666666666666666,
              "#ed7953"
             ],
             [
              0.7777777777777778,
              "#fb9f3a"
             ],
             [
              0.8888888888888888,
              "#fdca26"
             ],
             [
              1,
              "#f0f921"
             ]
            ],
            "type": "surface"
           }
          ],
          "table": [
           {
            "cells": {
             "fill": {
              "color": "#EBF0F8"
             },
             "line": {
              "color": "white"
             }
            },
            "header": {
             "fill": {
              "color": "#C8D4E3"
             },
             "line": {
              "color": "white"
             }
            },
            "type": "table"
           }
          ]
         },
         "layout": {
          "annotationdefaults": {
           "arrowcolor": "#2a3f5f",
           "arrowhead": 0,
           "arrowwidth": 1
          },
          "autotypenumbers": "strict",
          "coloraxis": {
           "colorbar": {
            "outlinewidth": 0,
            "ticks": ""
           }
          },
          "colorscale": {
           "diverging": [
            [
             0,
             "#8e0152"
            ],
            [
             0.1,
             "#c51b7d"
            ],
            [
             0.2,
             "#de77ae"
            ],
            [
             0.3,
             "#f1b6da"
            ],
            [
             0.4,
             "#fde0ef"
            ],
            [
             0.5,
             "#f7f7f7"
            ],
            [
             0.6,
             "#e6f5d0"
            ],
            [
             0.7,
             "#b8e186"
            ],
            [
             0.8,
             "#7fbc41"
            ],
            [
             0.9,
             "#4d9221"
            ],
            [
             1,
             "#276419"
            ]
           ],
           "sequential": [
            [
             0,
             "#0d0887"
            ],
            [
             0.1111111111111111,
             "#46039f"
            ],
            [
             0.2222222222222222,
             "#7201a8"
            ],
            [
             0.3333333333333333,
             "#9c179e"
            ],
            [
             0.4444444444444444,
             "#bd3786"
            ],
            [
             0.5555555555555556,
             "#d8576b"
            ],
            [
             0.6666666666666666,
             "#ed7953"
            ],
            [
             0.7777777777777778,
             "#fb9f3a"
            ],
            [
             0.8888888888888888,
             "#fdca26"
            ],
            [
             1,
             "#f0f921"
            ]
           ],
           "sequentialminus": [
            [
             0,
             "#0d0887"
            ],
            [
             0.1111111111111111,
             "#46039f"
            ],
            [
             0.2222222222222222,
             "#7201a8"
            ],
            [
             0.3333333333333333,
             "#9c179e"
            ],
            [
             0.4444444444444444,
             "#bd3786"
            ],
            [
             0.5555555555555556,
             "#d8576b"
            ],
            [
             0.6666666666666666,
             "#ed7953"
            ],
            [
             0.7777777777777778,
             "#fb9f3a"
            ],
            [
             0.8888888888888888,
             "#fdca26"
            ],
            [
             1,
             "#f0f921"
            ]
           ]
          },
          "colorway": [
           "#636efa",
           "#EF553B",
           "#00cc96",
           "#ab63fa",
           "#FFA15A",
           "#19d3f3",
           "#FF6692",
           "#B6E880",
           "#FF97FF",
           "#FECB52"
          ],
          "font": {
           "color": "#2a3f5f"
          },
          "geo": {
           "bgcolor": "white",
           "lakecolor": "white",
           "landcolor": "#E5ECF6",
           "showlakes": true,
           "showland": true,
           "subunitcolor": "white"
          },
          "hoverlabel": {
           "align": "left"
          },
          "hovermode": "closest",
          "mapbox": {
           "style": "light"
          },
          "paper_bgcolor": "white",
          "plot_bgcolor": "#E5ECF6",
          "polar": {
           "angularaxis": {
            "gridcolor": "white",
            "linecolor": "white",
            "ticks": ""
           },
           "bgcolor": "#E5ECF6",
           "radialaxis": {
            "gridcolor": "white",
            "linecolor": "white",
            "ticks": ""
           }
          },
          "scene": {
           "xaxis": {
            "backgroundcolor": "#E5ECF6",
            "gridcolor": "white",
            "gridwidth": 2,
            "linecolor": "white",
            "showbackground": true,
            "ticks": "",
            "zerolinecolor": "white"
           },
           "yaxis": {
            "backgroundcolor": "#E5ECF6",
            "gridcolor": "white",
            "gridwidth": 2,
            "linecolor": "white",
            "showbackground": true,
            "ticks": "",
            "zerolinecolor": "white"
           },
           "zaxis": {
            "backgroundcolor": "#E5ECF6",
            "gridcolor": "white",
            "gridwidth": 2,
            "linecolor": "white",
            "showbackground": true,
            "ticks": "",
            "zerolinecolor": "white"
           }
          },
          "shapedefaults": {
           "line": {
            "color": "#2a3f5f"
           }
          },
          "ternary": {
           "aaxis": {
            "gridcolor": "white",
            "linecolor": "white",
            "ticks": ""
           },
           "baxis": {
            "gridcolor": "white",
            "linecolor": "white",
            "ticks": ""
           },
           "bgcolor": "#E5ECF6",
           "caxis": {
            "gridcolor": "white",
            "linecolor": "white",
            "ticks": ""
           }
          },
          "title": {
           "x": 0.05
          },
          "xaxis": {
           "automargin": true,
           "gridcolor": "white",
           "linecolor": "white",
           "ticks": "",
           "title": {
            "standoff": 15
           },
           "zerolinecolor": "white",
           "zerolinewidth": 2
          },
          "yaxis": {
           "automargin": true,
           "gridcolor": "white",
           "linecolor": "white",
           "ticks": "",
           "title": {
            "standoff": 15
           },
           "zerolinecolor": "white",
           "zerolinewidth": 2
          }
         }
        },
        "title": {
         "font": {
          "size": 15
         },
         "text": "Просадка"
        },
        "width": 1200,
        "yaxis": {
         "title": {
          "font": {
           "size": 15
          },
          "text": "Просадка %"
         }
        }
       }
      }
     },
     "metadata": {},
     "output_type": "display_data"
    },
    {
     "data": {
      "application/vnd.plotly.v1+json": {
       "config": {
        "plotlyServerURL": "https://plot.ly"
       },
       "data": [
        {
         "line": {
          "color": "DarkSlateBlue",
          "width": 2.5
         },
         "name": "Стратегия",
         "type": "scatter",
         "x": [
          "2022-08-30T00:00:00",
          "2022-08-31T00:00:00",
          "2022-09-01T00:00:00",
          "2022-09-02T00:00:00",
          "2022-09-05T00:00:00",
          "2022-09-06T00:00:00",
          "2022-09-07T00:00:00",
          "2022-09-08T00:00:00",
          "2022-09-09T00:00:00",
          "2022-09-12T00:00:00",
          "2022-09-13T00:00:00",
          "2022-09-14T00:00:00",
          "2022-09-15T00:00:00",
          "2022-09-16T00:00:00",
          "2022-09-19T00:00:00",
          "2022-09-20T00:00:00",
          "2022-09-21T00:00:00",
          "2022-09-22T00:00:00",
          "2022-09-23T00:00:00",
          "2022-09-26T00:00:00",
          "2022-09-27T00:00:00",
          "2022-09-28T00:00:00",
          "2022-09-29T00:00:00",
          "2022-09-30T00:00:00",
          "2022-10-03T00:00:00",
          "2022-10-04T00:00:00",
          "2022-10-05T00:00:00",
          "2022-10-06T00:00:00",
          "2022-10-07T00:00:00",
          "2022-10-10T00:00:00",
          "2022-10-11T00:00:00",
          "2022-10-12T00:00:00",
          "2022-10-13T00:00:00",
          "2022-10-14T00:00:00",
          "2022-10-17T00:00:00",
          "2022-10-18T00:00:00",
          "2022-10-19T00:00:00",
          "2022-10-20T00:00:00",
          "2022-10-21T00:00:00",
          "2022-10-24T00:00:00",
          "2022-10-25T00:00:00",
          "2022-10-26T00:00:00",
          "2022-10-27T00:00:00",
          "2022-10-28T00:00:00",
          "2022-10-31T00:00:00",
          "2022-11-01T00:00:00",
          "2022-11-02T00:00:00",
          "2022-11-03T00:00:00",
          "2022-11-07T00:00:00",
          "2022-11-08T00:00:00",
          "2022-11-09T00:00:00",
          "2022-11-10T00:00:00",
          "2022-11-11T00:00:00",
          "2022-11-14T00:00:00",
          "2022-11-15T00:00:00",
          "2022-11-16T00:00:00",
          "2022-11-17T00:00:00",
          "2022-11-18T00:00:00",
          "2022-11-21T00:00:00",
          "2022-11-22T00:00:00",
          "2022-11-23T00:00:00",
          "2022-11-24T00:00:00",
          "2022-11-25T00:00:00",
          "2022-11-28T00:00:00",
          "2022-11-29T00:00:00",
          "2022-11-30T00:00:00",
          "2022-12-01T00:00:00",
          "2022-12-02T00:00:00",
          "2022-12-05T00:00:00",
          "2022-12-06T00:00:00",
          "2022-12-07T00:00:00",
          "2022-12-08T00:00:00",
          "2022-12-09T00:00:00",
          "2022-12-12T00:00:00",
          "2022-12-13T00:00:00",
          "2022-12-14T00:00:00",
          "2022-12-15T00:00:00",
          "2022-12-16T00:00:00",
          "2022-12-19T00:00:00",
          "2022-12-20T00:00:00",
          "2022-12-21T00:00:00",
          "2022-12-22T00:00:00",
          "2022-12-23T00:00:00",
          "2022-12-26T00:00:00",
          "2022-12-27T00:00:00",
          "2022-12-28T00:00:00",
          "2022-12-29T00:00:00",
          "2023-01-03T00:00:00",
          "2023-01-04T00:00:00",
          "2023-01-05T00:00:00",
          "2023-01-06T00:00:00",
          "2023-01-09T00:00:00",
          "2023-01-10T00:00:00",
          "2023-01-11T00:00:00",
          "2023-01-12T00:00:00",
          "2023-01-13T00:00:00",
          "2023-01-16T00:00:00",
          "2023-01-17T00:00:00",
          "2023-01-18T00:00:00",
          "2023-01-19T00:00:00",
          "2023-01-20T00:00:00",
          "2023-01-23T00:00:00",
          "2023-01-24T00:00:00",
          "2023-01-25T00:00:00",
          "2023-01-26T00:00:00",
          "2023-01-27T00:00:00",
          "2023-01-30T00:00:00",
          "2023-01-31T00:00:00",
          "2023-02-01T00:00:00",
          "2023-02-02T00:00:00",
          "2023-02-03T00:00:00",
          "2023-02-06T00:00:00",
          "2023-02-07T00:00:00",
          "2023-02-08T00:00:00",
          "2023-02-09T00:00:00",
          "2023-02-10T00:00:00",
          "2023-02-13T00:00:00",
          "2023-02-14T00:00:00",
          "2023-02-15T00:00:00",
          "2023-02-16T00:00:00",
          "2023-02-17T00:00:00",
          "2023-02-20T00:00:00",
          "2023-02-21T00:00:00",
          "2023-02-22T00:00:00",
          "2023-02-24T00:00:00",
          "2023-02-27T00:00:00",
          "2023-02-28T00:00:00",
          "2023-03-01T00:00:00",
          "2023-03-02T00:00:00",
          "2023-03-03T00:00:00",
          "2023-03-06T00:00:00",
          "2023-03-07T00:00:00",
          "2023-03-09T00:00:00",
          "2023-03-10T00:00:00",
          "2023-03-13T00:00:00",
          "2023-03-14T00:00:00",
          "2023-03-15T00:00:00",
          "2023-03-16T00:00:00",
          "2023-03-17T00:00:00",
          "2023-03-20T00:00:00",
          "2023-03-21T00:00:00",
          "2023-03-22T00:00:00",
          "2023-03-23T00:00:00",
          "2023-03-24T00:00:00",
          "2023-03-27T00:00:00",
          "2023-03-28T00:00:00",
          "2023-03-29T00:00:00",
          "2023-03-30T00:00:00",
          "2023-03-31T00:00:00",
          "2023-04-03T00:00:00",
          "2023-04-04T00:00:00",
          "2023-04-05T00:00:00",
          "2023-04-06T00:00:00",
          "2023-04-07T00:00:00",
          "2023-04-10T00:00:00",
          "2023-04-11T00:00:00",
          "2023-04-12T00:00:00",
          "2023-04-13T00:00:00",
          "2023-04-14T00:00:00",
          "2023-04-17T00:00:00",
          "2023-04-18T00:00:00",
          "2023-04-19T00:00:00",
          "2023-04-20T00:00:00",
          "2023-04-21T00:00:00",
          "2023-04-24T00:00:00",
          "2023-04-25T00:00:00",
          "2023-04-26T00:00:00",
          "2023-04-27T00:00:00",
          "2023-04-28T00:00:00",
          "2023-05-02T00:00:00",
          "2023-05-03T00:00:00",
          "2023-05-04T00:00:00",
          "2023-05-05T00:00:00",
          "2023-05-08T00:00:00",
          "2023-05-10T00:00:00",
          "2023-05-11T00:00:00",
          "2023-05-12T00:00:00",
          "2023-05-15T00:00:00",
          "2023-05-16T00:00:00",
          "2023-05-17T00:00:00",
          "2023-05-18T00:00:00",
          "2023-05-19T00:00:00",
          "2023-05-22T00:00:00",
          "2023-05-23T00:00:00",
          "2023-05-24T00:00:00",
          "2023-05-25T00:00:00",
          "2023-05-26T00:00:00",
          "2023-05-29T00:00:00",
          "2023-05-30T00:00:00",
          "2023-05-31T00:00:00",
          "2023-06-01T00:00:00",
          "2023-06-02T00:00:00",
          "2023-06-05T00:00:00",
          "2023-06-06T00:00:00",
          "2023-06-07T00:00:00",
          "2023-06-08T00:00:00",
          "2023-06-09T00:00:00",
          "2023-06-13T00:00:00",
          "2023-06-14T00:00:00",
          "2023-06-15T00:00:00",
          "2023-06-16T00:00:00",
          "2023-06-19T00:00:00",
          "2023-06-20T00:00:00",
          "2023-06-21T00:00:00",
          "2023-06-22T00:00:00",
          "2023-06-23T00:00:00",
          "2023-06-26T00:00:00",
          "2023-06-27T00:00:00",
          "2023-06-28T00:00:00",
          "2023-06-29T00:00:00",
          "2023-06-30T00:00:00",
          "2023-07-03T00:00:00",
          "2023-07-04T00:00:00",
          "2023-07-05T00:00:00",
          "2023-07-06T00:00:00",
          "2023-07-07T00:00:00",
          "2023-07-10T00:00:00",
          "2023-07-11T00:00:00",
          "2023-07-12T00:00:00",
          "2023-07-13T00:00:00",
          "2023-07-14T00:00:00",
          "2023-07-17T00:00:00",
          "2023-07-18T00:00:00",
          "2023-07-19T00:00:00",
          "2023-07-20T00:00:00",
          "2023-07-21T00:00:00",
          "2023-07-24T00:00:00",
          "2023-07-25T00:00:00",
          "2023-07-26T00:00:00",
          "2023-07-27T00:00:00",
          "2023-07-28T00:00:00",
          "2023-07-31T00:00:00",
          "2023-08-01T00:00:00",
          "2023-08-02T00:00:00",
          "2023-08-03T00:00:00",
          "2023-08-04T00:00:00",
          "2023-08-07T00:00:00",
          "2023-08-08T00:00:00",
          "2023-08-09T00:00:00",
          "2023-08-10T00:00:00",
          "2023-08-11T00:00:00",
          "2023-08-14T00:00:00",
          "2023-08-15T00:00:00",
          "2023-08-16T00:00:00",
          "2023-08-17T00:00:00",
          "2023-08-18T00:00:00",
          "2023-08-21T00:00:00",
          "2023-08-22T00:00:00",
          "2023-08-23T00:00:00",
          "2023-08-24T00:00:00",
          "2023-08-25T00:00:00",
          "2023-08-28T00:00:00",
          "2023-08-29T00:00:00",
          "2023-08-30T00:00:00",
          "2023-08-31T00:00:00",
          "2023-09-01T00:00:00",
          "2023-09-04T00:00:00",
          "2023-09-05T00:00:00",
          "2023-09-06T00:00:00",
          "2023-09-07T00:00:00",
          "2023-09-08T00:00:00",
          "2023-09-11T00:00:00",
          "2023-09-12T00:00:00",
          "2023-09-13T00:00:00",
          "2023-09-14T00:00:00",
          "2023-09-15T00:00:00",
          "2023-09-18T00:00:00",
          "2023-09-19T00:00:00",
          "2023-09-20T00:00:00",
          "2023-09-21T00:00:00",
          "2023-09-22T00:00:00",
          "2023-09-25T00:00:00",
          "2023-09-26T00:00:00",
          "2023-09-27T00:00:00",
          "2023-09-28T00:00:00",
          "2023-09-29T00:00:00",
          "2023-10-02T00:00:00",
          "2023-10-03T00:00:00",
          "2023-10-04T00:00:00",
          "2023-10-05T00:00:00",
          "2023-10-06T00:00:00",
          "2023-10-09T00:00:00",
          "2023-10-10T00:00:00",
          "2023-10-11T00:00:00",
          "2023-10-12T00:00:00",
          "2023-10-13T00:00:00",
          "2023-10-16T00:00:00",
          "2023-10-17T00:00:00",
          "2023-10-18T00:00:00",
          "2023-10-19T00:00:00",
          "2023-10-20T00:00:00",
          "2023-10-23T00:00:00",
          "2023-10-24T00:00:00",
          "2023-10-25T00:00:00",
          "2023-10-26T00:00:00",
          "2023-10-27T00:00:00",
          "2023-10-30T00:00:00",
          "2023-10-31T00:00:00",
          "2023-11-01T00:00:00",
          "2023-11-02T00:00:00",
          "2023-11-03T00:00:00",
          "2023-11-06T00:00:00",
          "2023-11-07T00:00:00",
          "2023-11-08T00:00:00",
          "2023-11-09T00:00:00",
          "2023-11-10T00:00:00",
          "2023-11-13T00:00:00",
          "2023-11-14T00:00:00",
          "2023-11-15T00:00:00",
          "2023-11-16T00:00:00",
          "2023-11-17T00:00:00",
          "2023-11-20T00:00:00",
          "2023-11-21T00:00:00",
          "2023-11-22T00:00:00",
          "2023-11-23T00:00:00",
          "2023-11-24T00:00:00",
          "2023-11-27T00:00:00",
          "2023-11-28T00:00:00",
          "2023-11-29T00:00:00",
          "2023-11-30T00:00:00",
          "2023-12-01T00:00:00",
          "2023-12-04T00:00:00",
          "2023-12-05T00:00:00",
          "2023-12-06T00:00:00",
          "2023-12-07T00:00:00",
          "2023-12-08T00:00:00",
          "2023-12-11T00:00:00",
          "2023-12-12T00:00:00",
          "2023-12-13T00:00:00",
          "2023-12-14T00:00:00",
          "2023-12-15T00:00:00",
          "2023-12-18T00:00:00",
          "2023-12-19T00:00:00",
          "2023-12-20T00:00:00",
          "2023-12-21T00:00:00",
          "2023-12-22T00:00:00",
          "2023-12-26T00:00:00",
          "2023-12-27T00:00:00"
         ],
         "y": [
          0.1810597497174049,
          -0.18939198172007732,
          -1.2359602921887425,
          -1.1354244360756494,
          -0.8461719729101369,
          -0.5983854319498216,
          -1.6293549067713298,
          -1.5583932260789024,
          -1.0893134825224915,
          -1.8648082461906967,
          -0.3257540039131257,
          -0.4290919188951081,
          -0.6155094942639217,
          -0.7775710776656064,
          -0.88743484659215,
          -0.3536838239850515,
          0.96127419966614,
          1.0242900146029132,
          -0.44632813319116504,
          -1.2886072413662242,
          -1.4530809255767552,
          0.04109045056238658,
          -0.7119478999446094,
          -0.7986189171564573,
          -1.0506931719045265,
          -2.699816693292234,
          -1.694348710036686,
          -2.6533775415996663,
          -2.114062716570564,
          -1.782351992968778,
          -1.7514404103987968,
          -1.7473175916276174,
          -0.9846275632844015,
          -0.4394426811691221,
          0.7998612516924797,
          0.6545906725403339,
          -0.21881164030203015,
          -0.36821963669987356,
          -1.1417341720291518,
          -1.2654388221072232,
          -2.202204600281077,
          -3.3640503095788588,
          -2.178851900422585,
          -2.1979220786785603,
          -1.3630082293443868,
          -1.4419404184982998,
          -0.8515068599967646,
          -1.5452862768552955,
          -0.8943701727087139,
          -0.37441009286839355,
          0.21533782464631113,
          -1.7012281365829107,
          -3.1584141115353903,
          -2.92853571527526,
          -3.1008577056910513,
          -3.5231901015817635,
          -3.280672538305862,
          -2.8233995830105663,
          -3.602590155192309,
          -4.222828482990693,
          -5.112019377520616,
          -4.935941017839673,
          -4.765935062828818,
          -4.2512001753489015,
          -4.129345665764939,
          -4.872984071590125,
          -6.037875848146179,
          -6.18228566801392,
          -5.722168788839688,
          -5.467696461513915,
          -5.847034483223135,
          -6.3267923197437455,
          -6.11268998640726,
          -6.153513675539601,
          -7.0503193391758145,
          -7.527186126861918,
          -7.003905277630462,
          -6.657607744059368,
          -6.820970948622218,
          -7.018006924185971,
          -6.803481279903356,
          -6.719560975904404,
          -6.904529455765496,
          -7.070316946345745,
          -7.101350650829641,
          -6.8663197677716115,
          -7.325238528785194,
          -6.282848631804471,
          -6.823281547013405,
          -6.026419955742101,
          -4.85717397680755,
          -5.706590472776563,
          -5.7084538846837845,
          -5.917152129382474,
          -6.792045208336683,
          -6.631672110463005,
          -6.527354467857105,
          -6.2344055721912595,
          -6.284455158355318,
          -6.613320249557497,
          -6.845079589181857,
          -6.985103356373945,
          -7.140569986243772,
          -7.393155543860841,
          -7.189763849937847,
          -6.952907973984224,
          -6.799230292216674,
          -6.922730319865922,
          -5.781303905049473,
          -5.069592521307809,
          -3.9998728300323916,
          -3.3633314641091316,
          -3.3894411246835454,
          -3.27570729912513,
          -3.484767833349467,
          -2.93619746918814,
          -3.3613667408750603,
          -3.473270503639081,
          -3.0233613238151213,
          -2.8848779043975092,
          -3.076962159110619,
          -3.0068221596717404,
          -2.625928603978922,
          -2.2454575714462854,
          -1.76129890330734,
          -2.372998004251925,
          -2.041201116732938,
          -1.1436912573648872,
          -1.8176316056767394,
          -1.478846889680252,
          -1.012357037715561,
          0.23551325117622257,
          0.5902274406922481,
          1.127033632865071,
          1.9627248877180148,
          2.0000146665896223,
          0.545323497245298,
          0.8952152199419361,
          1.3635661910398778,
          1.9094607264667385,
          2.3479099223322475,
          3.18940120091602,
          2.957297159358341,
          2.2519795818103483,
          2.6368953466212264,
          3.0703490837704295,
          3.073115641619173,
          3.626411904102922,
          3.0605696979602803,
          3.614875017815644,
          4.09825039043662,
          3.640933317265893,
          3.5134700202764213,
          3.31473387227752,
          2.979788518841331,
          2.50652688065629,
          1.7862321646503476,
          2.293019659646145,
          1.8213770579170951,
          1.218342785924087,
          1.6145690283632885,
          1.4650894724269392,
          1.5937978247774653,
          1.7743048855208166,
          1.2747098396108436,
          1.9076441556976853,
          1.2961933496943523,
          1.4175591680079203,
          1.5227497806525658,
          1.3086287248079698,
          1.8614263535970732,
          1.4463947967314317,
          1.4082597806148511,
          1.5371433043993021,
          1.3281959791987874,
          1.9346097609990953,
          1.323580079797193,
          1.5466359451525746,
          1.4307578930074505,
          1.214385400856699,
          0.5961559362249624,
          0.9099790068629932,
          0.9858754175181228,
          0.5946579264893059,
          0.40710163638987273,
          0.16802964502249385,
          0.1754894089209813,
          0.019778453210017588,
          0.25977920029405244,
          -0.1678339914331528,
          0.5142329802456325,
          -0.002447625646018192,
          0.060137611710830985,
          -0.1312347615866405,
          -0.07605125303787874,
          0.7045049516828494,
          0.4058313592517182,
          0.7237520464066005,
          1.0842175936841336,
          0.027941336816961204,
          0.0690563766985508,
          0.23998248543313228,
          0.18870841637793623,
          0.8336273892711854,
          0.5259770911780759,
          -0.011789852132704226,
          0.08184138765505722,
          0.594497293744567,
          0.15836192754596912,
          -0.2760182559200852,
          0.14184878136579426,
          0.170262819733924,
          -0.1467844258035922,
          -0.37843188043931164,
          -0.03199666198241413,
          0.655727146666929,
          0.9648672993219698,
          1.0366867869490148,
          2.1486356954403485,
          3.0021769933621822,
          2.976342034208135,
          2.871247627368101,
          2.980680179548756,
          2.7464339092303502,
          2.101860113565601,
          2.0659179804000005,
          1.5140078680404456,
          1.4236213753978988,
          1.7194525978050934,
          0.7146087815634306,
          1.089099665307225,
          0.9075455621844974,
          0.792049017986618,
          0.3723208852760451,
          0.4628376537359924,
          1.0401595015312792,
          0.9593261000799269,
          0.539379547822938,
          0.7009466575060075,
          0.7519814796587476,
          0.4659679076771561,
          0.08230465439547086,
          0.05846259884346727,
          -0.16167039817556184,
          -0.23153297114059113,
          -0.22509376187548336,
          -0.011693710365123788,
          -0.4550244736650555,
          -0.3047455818566469,
          -0.7880463882785627,
          -0.9480789498170994,
          -0.7173738631868654,
          -0.1470228708500887,
          0.24637394520932165,
          -0.4933902091889819,
          -1.127982889236212,
          -0.9144822208863035,
          -1.60363911523409,
          -1.5719268388522778,
          -1.8469902432980523,
          -1.8058506773204752,
          -1.3535015460364286,
          -1.2502274789920276,
          -1.5318469302523563,
          -2.336216436911931,
          -2.15486977350261,
          -1.882873225045012,
          -1.9820229692199653,
          -2.1795829628531105,
          -2.1626961420785684,
          -2.3268458466091158,
          -2.8116487779756616,
          -3.0127458427138265,
          -3.6475253254300344,
          -3.054389703970506,
          -2.9900311130450663,
          -3.878175940239892,
          -4.003191447888755,
          -3.6353195628558654,
          -4.070387774316153,
          -3.7575856358870063,
          -3.920113511307499,
          -3.551937544017436,
          -3.4265190895877096,
          -2.5722931670802307,
          -2.7717783054374223,
          -2.276827752901278,
          -2.104448252801805,
          -2.49778051455688,
          -2.0658745276754265,
          -1.9297712404029554,
          -2.6282402717963005,
          -1.8830628352066947,
          -1.6573590454606268,
          -1.6119268719097413,
          -1.5712087172943923,
          -1.10361380215247,
          -0.71827731578058,
          -0.6511264059330446,
          -0.14005798901480793,
          -1.1419317943462182,
          -1.047772469310071,
          -0.8835382115369383,
          -0.9788760064298185,
          -1.3673343125274906,
          -1.2182820598698685,
          -1.3596241545409837,
          -3.0421187331695743,
          -2.740603804503594,
          -2.6732954029398237,
          -3.219693139950197,
          -3.4735374609853653,
          -3.2157654521004497,
          -2.99765095115192,
          -3.164808988973733,
          -3.43163214298845,
          -3.6062974440346007,
          -3.2411440339581876,
          -3.0164821637163386,
          -2.2789894565984903,
          -2.2018452612399986,
          -1.7864155396330461,
          -1.4384722811490391,
          -1.7589197962915804,
          -1.4588120176466046,
          -1.768211652666185,
          -1.7524148919313642,
          -1.4653308850190783,
          -0.7251254062015322,
          0.34713738094602764,
          -0.530869679504542,
          -0.26926498714247016,
          0.24891716395430974,
          0.5950198653769778,
          1.2320498615383535,
          1.2293253381029157,
          1.5036015033225159,
          2.0923162936494766
         ]
        },
        {
         "line": {
          "color": "Maroon",
          "width": 2.5
         },
         "name": "РТС",
         "type": "scatter",
         "x": [
          "2022-08-30T00:00:00",
          "2022-08-31T00:00:00",
          "2022-09-01T00:00:00",
          "2022-09-02T00:00:00",
          "2022-09-05T00:00:00",
          "2022-09-06T00:00:00",
          "2022-09-07T00:00:00",
          "2022-09-08T00:00:00",
          "2022-09-09T00:00:00",
          "2022-09-12T00:00:00",
          "2022-09-13T00:00:00",
          "2022-09-14T00:00:00",
          "2022-09-15T00:00:00",
          "2022-09-16T00:00:00",
          "2022-09-19T00:00:00",
          "2022-09-20T00:00:00",
          "2022-09-21T00:00:00",
          "2022-09-22T00:00:00",
          "2022-09-23T00:00:00",
          "2022-09-26T00:00:00",
          "2022-09-27T00:00:00",
          "2022-09-28T00:00:00",
          "2022-09-29T00:00:00",
          "2022-09-30T00:00:00",
          "2022-10-03T00:00:00",
          "2022-10-04T00:00:00",
          "2022-10-05T00:00:00",
          "2022-10-06T00:00:00",
          "2022-10-07T00:00:00",
          "2022-10-10T00:00:00",
          "2022-10-11T00:00:00",
          "2022-10-12T00:00:00",
          "2022-10-13T00:00:00",
          "2022-10-14T00:00:00",
          "2022-10-17T00:00:00",
          "2022-10-18T00:00:00",
          "2022-10-19T00:00:00",
          "2022-10-20T00:00:00",
          "2022-10-21T00:00:00",
          "2022-10-24T00:00:00",
          "2022-10-25T00:00:00",
          "2022-10-26T00:00:00",
          "2022-10-27T00:00:00",
          "2022-10-28T00:00:00",
          "2022-10-31T00:00:00",
          "2022-11-01T00:00:00",
          "2022-11-02T00:00:00",
          "2022-11-03T00:00:00",
          "2022-11-07T00:00:00",
          "2022-11-08T00:00:00",
          "2022-11-09T00:00:00",
          "2022-11-10T00:00:00",
          "2022-11-11T00:00:00",
          "2022-11-14T00:00:00",
          "2022-11-15T00:00:00",
          "2022-11-16T00:00:00",
          "2022-11-17T00:00:00",
          "2022-11-18T00:00:00",
          "2022-11-21T00:00:00",
          "2022-11-22T00:00:00",
          "2022-11-23T00:00:00",
          "2022-11-24T00:00:00",
          "2022-11-25T00:00:00",
          "2022-11-28T00:00:00",
          "2022-11-29T00:00:00",
          "2022-11-30T00:00:00",
          "2022-12-01T00:00:00",
          "2022-12-02T00:00:00",
          "2022-12-05T00:00:00",
          "2022-12-06T00:00:00",
          "2022-12-07T00:00:00",
          "2022-12-08T00:00:00",
          "2022-12-09T00:00:00",
          "2022-12-12T00:00:00",
          "2022-12-13T00:00:00",
          "2022-12-14T00:00:00",
          "2022-12-15T00:00:00",
          "2022-12-16T00:00:00",
          "2022-12-19T00:00:00",
          "2022-12-20T00:00:00",
          "2022-12-21T00:00:00",
          "2022-12-22T00:00:00",
          "2022-12-23T00:00:00",
          "2022-12-26T00:00:00",
          "2022-12-27T00:00:00",
          "2022-12-28T00:00:00",
          "2022-12-29T00:00:00",
          "2023-01-03T00:00:00",
          "2023-01-04T00:00:00",
          "2023-01-05T00:00:00",
          "2023-01-06T00:00:00",
          "2023-01-09T00:00:00",
          "2023-01-10T00:00:00",
          "2023-01-11T00:00:00",
          "2023-01-12T00:00:00",
          "2023-01-13T00:00:00",
          "2023-01-16T00:00:00",
          "2023-01-17T00:00:00",
          "2023-01-18T00:00:00",
          "2023-01-19T00:00:00",
          "2023-01-20T00:00:00",
          "2023-01-23T00:00:00",
          "2023-01-24T00:00:00",
          "2023-01-25T00:00:00",
          "2023-01-26T00:00:00",
          "2023-01-27T00:00:00",
          "2023-01-30T00:00:00",
          "2023-01-31T00:00:00",
          "2023-02-01T00:00:00",
          "2023-02-02T00:00:00",
          "2023-02-03T00:00:00",
          "2023-02-06T00:00:00",
          "2023-02-07T00:00:00",
          "2023-02-08T00:00:00",
          "2023-02-09T00:00:00",
          "2023-02-10T00:00:00",
          "2023-02-13T00:00:00",
          "2023-02-14T00:00:00",
          "2023-02-15T00:00:00",
          "2023-02-16T00:00:00",
          "2023-02-17T00:00:00",
          "2023-02-20T00:00:00",
          "2023-02-21T00:00:00",
          "2023-02-22T00:00:00",
          "2023-02-24T00:00:00",
          "2023-02-27T00:00:00",
          "2023-02-28T00:00:00",
          "2023-03-01T00:00:00",
          "2023-03-02T00:00:00",
          "2023-03-03T00:00:00",
          "2023-03-06T00:00:00",
          "2023-03-07T00:00:00",
          "2023-03-09T00:00:00",
          "2023-03-10T00:00:00",
          "2023-03-13T00:00:00",
          "2023-03-14T00:00:00",
          "2023-03-15T00:00:00",
          "2023-03-16T00:00:00",
          "2023-03-17T00:00:00",
          "2023-03-20T00:00:00",
          "2023-03-21T00:00:00",
          "2023-03-22T00:00:00",
          "2023-03-23T00:00:00",
          "2023-03-24T00:00:00",
          "2023-03-27T00:00:00",
          "2023-03-28T00:00:00",
          "2023-03-29T00:00:00",
          "2023-03-30T00:00:00",
          "2023-03-31T00:00:00",
          "2023-04-03T00:00:00",
          "2023-04-04T00:00:00",
          "2023-04-05T00:00:00",
          "2023-04-06T00:00:00",
          "2023-04-07T00:00:00",
          "2023-04-10T00:00:00",
          "2023-04-11T00:00:00",
          "2023-04-12T00:00:00",
          "2023-04-13T00:00:00",
          "2023-04-14T00:00:00",
          "2023-04-17T00:00:00",
          "2023-04-18T00:00:00",
          "2023-04-19T00:00:00",
          "2023-04-20T00:00:00",
          "2023-04-21T00:00:00",
          "2023-04-24T00:00:00",
          "2023-04-25T00:00:00",
          "2023-04-26T00:00:00",
          "2023-04-27T00:00:00",
          "2023-04-28T00:00:00",
          "2023-05-02T00:00:00",
          "2023-05-03T00:00:00",
          "2023-05-04T00:00:00",
          "2023-05-05T00:00:00",
          "2023-05-08T00:00:00",
          "2023-05-10T00:00:00",
          "2023-05-11T00:00:00",
          "2023-05-12T00:00:00",
          "2023-05-15T00:00:00",
          "2023-05-16T00:00:00",
          "2023-05-17T00:00:00",
          "2023-05-18T00:00:00",
          "2023-05-19T00:00:00",
          "2023-05-22T00:00:00",
          "2023-05-23T00:00:00",
          "2023-05-24T00:00:00",
          "2023-05-25T00:00:00",
          "2023-05-26T00:00:00",
          "2023-05-29T00:00:00",
          "2023-05-30T00:00:00",
          "2023-05-31T00:00:00",
          "2023-06-01T00:00:00",
          "2023-06-02T00:00:00",
          "2023-06-05T00:00:00",
          "2023-06-06T00:00:00",
          "2023-06-07T00:00:00",
          "2023-06-08T00:00:00",
          "2023-06-09T00:00:00",
          "2023-06-13T00:00:00",
          "2023-06-14T00:00:00",
          "2023-06-15T00:00:00",
          "2023-06-16T00:00:00",
          "2023-06-19T00:00:00",
          "2023-06-20T00:00:00",
          "2023-06-21T00:00:00",
          "2023-06-22T00:00:00",
          "2023-06-23T00:00:00",
          "2023-06-26T00:00:00",
          "2023-06-27T00:00:00",
          "2023-06-28T00:00:00",
          "2023-06-29T00:00:00",
          "2023-06-30T00:00:00",
          "2023-07-03T00:00:00",
          "2023-07-04T00:00:00",
          "2023-07-05T00:00:00",
          "2023-07-06T00:00:00",
          "2023-07-07T00:00:00",
          "2023-07-10T00:00:00",
          "2023-07-11T00:00:00",
          "2023-07-12T00:00:00",
          "2023-07-13T00:00:00",
          "2023-07-14T00:00:00",
          "2023-07-17T00:00:00",
          "2023-07-18T00:00:00",
          "2023-07-19T00:00:00",
          "2023-07-20T00:00:00",
          "2023-07-21T00:00:00",
          "2023-07-24T00:00:00",
          "2023-07-25T00:00:00",
          "2023-07-26T00:00:00",
          "2023-07-27T00:00:00",
          "2023-07-28T00:00:00",
          "2023-07-31T00:00:00",
          "2023-08-01T00:00:00",
          "2023-08-02T00:00:00",
          "2023-08-03T00:00:00",
          "2023-08-04T00:00:00",
          "2023-08-07T00:00:00",
          "2023-08-08T00:00:00",
          "2023-08-09T00:00:00",
          "2023-08-10T00:00:00",
          "2023-08-11T00:00:00",
          "2023-08-14T00:00:00",
          "2023-08-15T00:00:00",
          "2023-08-16T00:00:00",
          "2023-08-17T00:00:00",
          "2023-08-18T00:00:00",
          "2023-08-21T00:00:00",
          "2023-08-22T00:00:00",
          "2023-08-23T00:00:00",
          "2023-08-24T00:00:00",
          "2023-08-25T00:00:00",
          "2023-08-28T00:00:00",
          "2023-08-29T00:00:00",
          "2023-08-30T00:00:00",
          "2023-08-31T00:00:00",
          "2023-09-01T00:00:00",
          "2023-09-04T00:00:00",
          "2023-09-05T00:00:00",
          "2023-09-06T00:00:00",
          "2023-09-07T00:00:00",
          "2023-09-08T00:00:00",
          "2023-09-11T00:00:00",
          "2023-09-12T00:00:00",
          "2023-09-13T00:00:00",
          "2023-09-14T00:00:00",
          "2023-09-15T00:00:00",
          "2023-09-18T00:00:00",
          "2023-09-19T00:00:00",
          "2023-09-20T00:00:00",
          "2023-09-21T00:00:00",
          "2023-09-22T00:00:00",
          "2023-09-25T00:00:00",
          "2023-09-26T00:00:00",
          "2023-09-27T00:00:00",
          "2023-09-28T00:00:00",
          "2023-09-29T00:00:00",
          "2023-10-02T00:00:00",
          "2023-10-03T00:00:00",
          "2023-10-04T00:00:00",
          "2023-10-05T00:00:00",
          "2023-10-06T00:00:00",
          "2023-10-09T00:00:00",
          "2023-10-10T00:00:00",
          "2023-10-11T00:00:00",
          "2023-10-12T00:00:00",
          "2023-10-13T00:00:00",
          "2023-10-16T00:00:00",
          "2023-10-17T00:00:00",
          "2023-10-18T00:00:00",
          "2023-10-19T00:00:00",
          "2023-10-20T00:00:00",
          "2023-10-23T00:00:00",
          "2023-10-24T00:00:00",
          "2023-10-25T00:00:00",
          "2023-10-26T00:00:00",
          "2023-10-27T00:00:00",
          "2023-10-30T00:00:00",
          "2023-10-31T00:00:00",
          "2023-11-01T00:00:00",
          "2023-11-02T00:00:00",
          "2023-11-03T00:00:00",
          "2023-11-06T00:00:00",
          "2023-11-07T00:00:00",
          "2023-11-08T00:00:00",
          "2023-11-09T00:00:00",
          "2023-11-10T00:00:00",
          "2023-11-13T00:00:00",
          "2023-11-14T00:00:00",
          "2023-11-15T00:00:00",
          "2023-11-16T00:00:00",
          "2023-11-17T00:00:00",
          "2023-11-20T00:00:00",
          "2023-11-21T00:00:00",
          "2023-11-22T00:00:00",
          "2023-11-23T00:00:00",
          "2023-11-24T00:00:00",
          "2023-11-27T00:00:00",
          "2023-11-28T00:00:00",
          "2023-11-29T00:00:00",
          "2023-11-30T00:00:00",
          "2023-12-01T00:00:00",
          "2023-12-04T00:00:00",
          "2023-12-05T00:00:00",
          "2023-12-06T00:00:00",
          "2023-12-07T00:00:00",
          "2023-12-08T00:00:00",
          "2023-12-11T00:00:00",
          "2023-12-12T00:00:00",
          "2023-12-13T00:00:00",
          "2023-12-14T00:00:00",
          "2023-12-15T00:00:00",
          "2023-12-18T00:00:00",
          "2023-12-19T00:00:00",
          "2023-12-20T00:00:00",
          "2023-12-21T00:00:00",
          "2023-12-22T00:00:00",
          "2023-12-26T00:00:00",
          "2023-12-27T00:00:00"
         ],
         "y": [
          1.177806158649064,
          5.001748077632651,
          6.670467534106894,
          7.067513139640513,
          7.320523968503978,
          4.578595999440949,
          3.8783796269929116,
          3.399968434583167,
          5.417338662819882,
          6.838873128101186,
          7.106701686590089,
          7.00546346526777,
          7.413165367356955,
          6.403872105554043,
          6.217994126212389,
          -3.092426567452844,
          -7.1949417948456995,
          -1.0701879956732885,
          -3.8626042019034412,
          -12.477872941886437,
          -11.517587731428714,
          -9.513714779441928,
          -9.728684488255679,
          -11.271220813400696,
          -7.847017426138924,
          -7.0896012502205235,
          -10.559159670058005,
          -12.174082878811554,
          -15.981437255642007,
          -20.076796644323046,
          -19.994836234313507,
          -21.0459728924453,
          -19.599187563539957,
          -17.29421203841448,
          -13.542167946596905,
          -12.381470165835484,
          -15.22058688507838,
          -12.120333479946932,
          -11.25528489897224,
          -10.104481049633296,
          -7.441352673671087,
          -7.658592535810859,
          -6.0859159541777235,
          -5.3587813528808255,
          -5.5446399387394045,
          -4.959039766027839,
          -5.808627045470516,
          -7.106555230986766,
          -2.8590910986647233,
          -2.6601044404133467,
          -5.207674537959372,
          -1.9372715503389704,
          -1.252268594742445,
          -0.2326180905291575,
          -1.1265969803201936,
          -0.7816474723044364,
          -1.8155167905350877,
          -2.208896206284161,
          -4.365770917494849,
          -2.557860306155535,
          -2.133382370256076,
          -2.2336063490608904,
          -2.68812008043543,
          -4.319045439966384,
          -3.762232725036674,
          -4.078523003318956,
          -4.21272852440967,
          -5.643804590374457,
          -4.999138435347583,
          -6.578052752332586,
          -6.410336338911615,
          -6.619630834466383,
          -6.39257157108678,
          -7.326045623055633,
          -7.3159433142188535,
          -9.908301230414896,
          -11.674049670183361,
          -11.998422756813998,
          -16.5476847654215,
          -18.982674375863507,
          -21.795833467712477,
          -18.639551221401174,
          -19.2778929765832,
          -17.847705433122307,
          -19.564698342084842,
          -22.349677155423585,
          -22.024111699631955,
          -22.798890187165433,
          -24.166377830974884,
          -25.120152399091854,
          -24.920333086767897,
          -21.20134673860884,
          -21.53679709093398,
          -18.65227050834376,
          -17.323751228856022,
          -17.86905902262338,
          -16.479510329036685,
          -18.58700320319232,
          -18.237997868396494,
          -19.55662458872243,
          -19.67746077513238,
          -18.99088578622242,
          -19.819971889017097,
          -20.162254378087276,
          -20.28079300952331,
          -19.619434790727354,
          -20.12126374565344,
          -18.71958862234857,
          -18.595740954979444,
          -18.435137645154718,
          -18.59050375144108,
          -18.128667578596648,
          -18.404693989756847,
          -20.64988251589761,
          -21.040992902730228,
          -21.657569928845277,
          -22.2841453699688,
          -23.631131475615575,
          -27.609722019772576,
          -28.50923455611376,
          -27.02254090544265,
          -26.879092269834803,
          -26.068466232135812,
          -26.020026007373186,
          -27.662968455970717,
          -24.25765647557341,
          -24.15821609219899,
          -23.14577725597524,
          -24.52680486606511,
          -24.229757306629086,
          -22.8705586520771,
          -23.588526635714114,
          -23.63582634771143,
          -24.49603687845502,
          -23.30271945602066,
          -22.89601086063281,
          -25.081044476534586,
          -26.110982039905107,
          -23.774089987710546,
          -20.522143140075734,
          -20.101662036210765,
          -20.501072575364187,
          -19.540888089333286,
          -20.721365738080543,
          -18.247318179911275,
          -18.457909632493262,
          -17.98482920882124,
          -17.798678058068663,
          -18.759499973154657,
          -19.558087396406,
          -20.098135940095307,
          -19.686324580202697,
          -21.752126445500263,
          -20.985926116685548,
          -20.027505560924762,
          -21.091681358294313,
          -20.879022506241164,
          -20.112204799723223,
          -20.112204799723223,
          -17.906576785805804,
          -17.284451006904323,
          -17.90569805152925,
          -16.511099259982455,
          -16.452194881423654,
          -16.28735971658849,
          -16.97402220385438,
          -17.251178052237314,
          -15.927814453637811,
          -15.036595836637312,
          -16.381449112177428,
          -17.477882271925182,
          -16.463494424747715,
          -14.994984922627397,
          -16.38709853612481,
          -13.134834705419118,
          -11.983225112473207,
          -14.448093226999392,
          -14.562701440266956,
          -15.184609976323193,
          -14.321102389099238,
          -14.919420940822048,
          -14.605880645087755,
          -14.683056026141195,
          -14.470659810655583,
          -13.897442084258671,
          -14.229833482314136,
          -12.77377474019511,
          -11.963831862482277,
          -13.521838966543632,
          -12.7763254117517,
          -12.162346010381608,
          -13.137964953963344,
          -13.438479442375472,
          -14.410464523978328,
          -14.627189947315323,
          -14.924507333625225,
          -14.978726242469676,
          -15.13856504745663,
          -14.638875534144535,
          -12.851833759267395,
          -13.499656959495033,
          -12.846654964211169,
          -13.927930869779725,
          -12.505948148356016,
          -12.65343240724761,
          -14.186315059825771,
          -15.975755342905417,
          -15.304115013155462,
          -16.622873279708028,
          -17.396516201614432,
          -19.769310019835974,
          -18.751953924855602,
          -19.30687164395244,
          -21.13991297346439,
          -20.974850507637488,
          -20.444431218914293,
          -18.69150113121657,
          -18.243449902347976,
          -17.507713564590855,
          -17.15148757004371,
          -16.55063090311263,
          -17.026671194058995,
          -15.522398028351258,
          -16.48339238921683,
          -16.34547901851555,
          -16.75471435834812,
          -15.671118439859821,
          -14.182854519755072,
          -14.166485859000378,
          -14.137604714536888,
          -14.654427935972048,
          -12.355821997906702,
          -12.51091500642737,
          -13.992270200168534,
          -13.375051529784464,
          -16.32086499663331,
          -16.19386399243933,
          -17.888012640955107,
          -17.39591422127117,
          -16.103016697582973,
          -17.755746846643117,
          -16.902506230791236,
          -16.827216215634166,
          -16.389674763036144,
          -14.978295021066312,
          -13.21918604377923,
          -12.26505865487919,
          -12.213971636658162,
          -12.82008381941846,
          -13.546906822795723,
          -13.51528278469355,
          -12.161627052014213,
          -11.971640568465524,
          -12.718824477595891,
          -12.04300750898193,
          -12.396114186852337,
          -11.640024251944281,
          -12.80796512141138,
          -13.988756565668703,
          -16.3506352846889,
          -16.51334915481364,
          -14.42919269491636,
          -12.866541509623652,
          -14.676668694875882,
          -15.873971367946293,
          -14.809462524863138,
          -15.259348352973722,
          -17.325681855491972,
          -17.406411411479418,
          -18.844758011116337,
          -17.64348691044031,
          -17.933489810469304,
          -17.793081221475326,
          -17.71997082477631,
          -16.537048145086153,
          -16.879270015635285,
          -18.407684632836908,
          -18.250455097873484,
          -18.490960662709355,
          -19.373595453651006,
          -18.9115559665759,
          -16.9077875041491,
          -17.93666765351548,
          -17.06567142649452,
          -14.958711894442478,
          -14.209505916382826,
          -12.96302343386161,
          -12.983080740451868,
          -12.564658707379328,
          -12.053799379202168,
          -9.711247275164459,
          -8.798448673494219,
          -7.771101629980914,
          -7.659523847566652,
          -9.364851864964251,
          -9.891225876284526,
          -8.473338250829276,
          -9.797387703939265,
          -9.006559093352918,
          -9.7966952540262,
          -8.507591514514058,
          -7.589640264674058,
          -7.2797959116326805,
          -6.75324244342459,
          -7.126996969358313,
          -7.255957081905306,
          -6.353876608019593,
          -6.395042497605519,
          -4.848895331611813,
          -5.291482438396978,
          -5.922006162737681,
          -4.103095192235928,
          -3.0632793481732756,
          -3.2755126488775432,
          -3.533338577311318,
          -4.0398792180591165,
          -5.010880399006512,
          -5.314753902827018,
          -5.367916642834636,
          -6.520388695387358,
          -8.289879551971602,
          -9.959772182166615,
          -10.968138090856561,
          -12.923809538053444,
          -12.356497430292846,
          -12.064453024322585,
          -12.664862782641052,
          -11.894787874487033,
          -11.265064952572668,
          -11.94448565702466,
          -11.45275227315996,
          -10.051711392182439,
          -10.153989402410236,
          -10.087906007026781,
          -12.249545281147567,
          -11.706702534420298,
          -11.764991289391302,
          -11.232561018002363
         ]
        }
       ],
       "layout": {
        "height": 600,
        "legend": {
         "orientation": "h",
         "x": 1,
         "xanchor": "right",
         "y": 1.02,
         "yanchor": "bottom"
        },
        "showlegend": true,
        "template": {
         "data": {
          "bar": [
           {
            "error_x": {
             "color": "#2a3f5f"
            },
            "error_y": {
             "color": "#2a3f5f"
            },
            "marker": {
             "line": {
              "color": "#E5ECF6",
              "width": 0.5
             },
             "pattern": {
              "fillmode": "overlay",
              "size": 10,
              "solidity": 0.2
             }
            },
            "type": "bar"
           }
          ],
          "barpolar": [
           {
            "marker": {
             "line": {
              "color": "#E5ECF6",
              "width": 0.5
             },
             "pattern": {
              "fillmode": "overlay",
              "size": 10,
              "solidity": 0.2
             }
            },
            "type": "barpolar"
           }
          ],
          "carpet": [
           {
            "aaxis": {
             "endlinecolor": "#2a3f5f",
             "gridcolor": "white",
             "linecolor": "white",
             "minorgridcolor": "white",
             "startlinecolor": "#2a3f5f"
            },
            "baxis": {
             "endlinecolor": "#2a3f5f",
             "gridcolor": "white",
             "linecolor": "white",
             "minorgridcolor": "white",
             "startlinecolor": "#2a3f5f"
            },
            "type": "carpet"
           }
          ],
          "choropleth": [
           {
            "colorbar": {
             "outlinewidth": 0,
             "ticks": ""
            },
            "type": "choropleth"
           }
          ],
          "contour": [
           {
            "colorbar": {
             "outlinewidth": 0,
             "ticks": ""
            },
            "colorscale": [
             [
              0,
              "#0d0887"
             ],
             [
              0.1111111111111111,
              "#46039f"
             ],
             [
              0.2222222222222222,
              "#7201a8"
             ],
             [
              0.3333333333333333,
              "#9c179e"
             ],
             [
              0.4444444444444444,
              "#bd3786"
             ],
             [
              0.5555555555555556,
              "#d8576b"
             ],
             [
              0.6666666666666666,
              "#ed7953"
             ],
             [
              0.7777777777777778,
              "#fb9f3a"
             ],
             [
              0.8888888888888888,
              "#fdca26"
             ],
             [
              1,
              "#f0f921"
             ]
            ],
            "type": "contour"
           }
          ],
          "contourcarpet": [
           {
            "colorbar": {
             "outlinewidth": 0,
             "ticks": ""
            },
            "type": "contourcarpet"
           }
          ],
          "heatmap": [
           {
            "colorbar": {
             "outlinewidth": 0,
             "ticks": ""
            },
            "colorscale": [
             [
              0,
              "#0d0887"
             ],
             [
              0.1111111111111111,
              "#46039f"
             ],
             [
              0.2222222222222222,
              "#7201a8"
             ],
             [
              0.3333333333333333,
              "#9c179e"
             ],
             [
              0.4444444444444444,
              "#bd3786"
             ],
             [
              0.5555555555555556,
              "#d8576b"
             ],
             [
              0.6666666666666666,
              "#ed7953"
             ],
             [
              0.7777777777777778,
              "#fb9f3a"
             ],
             [
              0.8888888888888888,
              "#fdca26"
             ],
             [
              1,
              "#f0f921"
             ]
            ],
            "type": "heatmap"
           }
          ],
          "heatmapgl": [
           {
            "colorbar": {
             "outlinewidth": 0,
             "ticks": ""
            },
            "colorscale": [
             [
              0,
              "#0d0887"
             ],
             [
              0.1111111111111111,
              "#46039f"
             ],
             [
              0.2222222222222222,
              "#7201a8"
             ],
             [
              0.3333333333333333,
              "#9c179e"
             ],
             [
              0.4444444444444444,
              "#bd3786"
             ],
             [
              0.5555555555555556,
              "#d8576b"
             ],
             [
              0.6666666666666666,
              "#ed7953"
             ],
             [
              0.7777777777777778,
              "#fb9f3a"
             ],
             [
              0.8888888888888888,
              "#fdca26"
             ],
             [
              1,
              "#f0f921"
             ]
            ],
            "type": "heatmapgl"
           }
          ],
          "histogram": [
           {
            "marker": {
             "pattern": {
              "fillmode": "overlay",
              "size": 10,
              "solidity": 0.2
             }
            },
            "type": "histogram"
           }
          ],
          "histogram2d": [
           {
            "colorbar": {
             "outlinewidth": 0,
             "ticks": ""
            },
            "colorscale": [
             [
              0,
              "#0d0887"
             ],
             [
              0.1111111111111111,
              "#46039f"
             ],
             [
              0.2222222222222222,
              "#7201a8"
             ],
             [
              0.3333333333333333,
              "#9c179e"
             ],
             [
              0.4444444444444444,
              "#bd3786"
             ],
             [
              0.5555555555555556,
              "#d8576b"
             ],
             [
              0.6666666666666666,
              "#ed7953"
             ],
             [
              0.7777777777777778,
              "#fb9f3a"
             ],
             [
              0.8888888888888888,
              "#fdca26"
             ],
             [
              1,
              "#f0f921"
             ]
            ],
            "type": "histogram2d"
           }
          ],
          "histogram2dcontour": [
           {
            "colorbar": {
             "outlinewidth": 0,
             "ticks": ""
            },
            "colorscale": [
             [
              0,
              "#0d0887"
             ],
             [
              0.1111111111111111,
              "#46039f"
             ],
             [
              0.2222222222222222,
              "#7201a8"
             ],
             [
              0.3333333333333333,
              "#9c179e"
             ],
             [
              0.4444444444444444,
              "#bd3786"
             ],
             [
              0.5555555555555556,
              "#d8576b"
             ],
             [
              0.6666666666666666,
              "#ed7953"
             ],
             [
              0.7777777777777778,
              "#fb9f3a"
             ],
             [
              0.8888888888888888,
              "#fdca26"
             ],
             [
              1,
              "#f0f921"
             ]
            ],
            "type": "histogram2dcontour"
           }
          ],
          "mesh3d": [
           {
            "colorbar": {
             "outlinewidth": 0,
             "ticks": ""
            },
            "type": "mesh3d"
           }
          ],
          "parcoords": [
           {
            "line": {
             "colorbar": {
              "outlinewidth": 0,
              "ticks": ""
             }
            },
            "type": "parcoords"
           }
          ],
          "pie": [
           {
            "automargin": true,
            "type": "pie"
           }
          ],
          "scatter": [
           {
            "fillpattern": {
             "fillmode": "overlay",
             "size": 10,
             "solidity": 0.2
            },
            "type": "scatter"
           }
          ],
          "scatter3d": [
           {
            "line": {
             "colorbar": {
              "outlinewidth": 0,
              "ticks": ""
             }
            },
            "marker": {
             "colorbar": {
              "outlinewidth": 0,
              "ticks": ""
             }
            },
            "type": "scatter3d"
           }
          ],
          "scattercarpet": [
           {
            "marker": {
             "colorbar": {
              "outlinewidth": 0,
              "ticks": ""
             }
            },
            "type": "scattercarpet"
           }
          ],
          "scattergeo": [
           {
            "marker": {
             "colorbar": {
              "outlinewidth": 0,
              "ticks": ""
             }
            },
            "type": "scattergeo"
           }
          ],
          "scattergl": [
           {
            "marker": {
             "colorbar": {
              "outlinewidth": 0,
              "ticks": ""
             }
            },
            "type": "scattergl"
           }
          ],
          "scattermapbox": [
           {
            "marker": {
             "colorbar": {
              "outlinewidth": 0,
              "ticks": ""
             }
            },
            "type": "scattermapbox"
           }
          ],
          "scatterpolar": [
           {
            "marker": {
             "colorbar": {
              "outlinewidth": 0,
              "ticks": ""
             }
            },
            "type": "scatterpolar"
           }
          ],
          "scatterpolargl": [
           {
            "marker": {
             "colorbar": {
              "outlinewidth": 0,
              "ticks": ""
             }
            },
            "type": "scatterpolargl"
           }
          ],
          "scatterternary": [
           {
            "marker": {
             "colorbar": {
              "outlinewidth": 0,
              "ticks": ""
             }
            },
            "type": "scatterternary"
           }
          ],
          "surface": [
           {
            "colorbar": {
             "outlinewidth": 0,
             "ticks": ""
            },
            "colorscale": [
             [
              0,
              "#0d0887"
             ],
             [
              0.1111111111111111,
              "#46039f"
             ],
             [
              0.2222222222222222,
              "#7201a8"
             ],
             [
              0.3333333333333333,
              "#9c179e"
             ],
             [
              0.4444444444444444,
              "#bd3786"
             ],
             [
              0.5555555555555556,
              "#d8576b"
             ],
             [
              0.6666666666666666,
              "#ed7953"
             ],
             [
              0.7777777777777778,
              "#fb9f3a"
             ],
             [
              0.8888888888888888,
              "#fdca26"
             ],
             [
              1,
              "#f0f921"
             ]
            ],
            "type": "surface"
           }
          ],
          "table": [
           {
            "cells": {
             "fill": {
              "color": "#EBF0F8"
             },
             "line": {
              "color": "white"
             }
            },
            "header": {
             "fill": {
              "color": "#C8D4E3"
             },
             "line": {
              "color": "white"
             }
            },
            "type": "table"
           }
          ]
         },
         "layout": {
          "annotationdefaults": {
           "arrowcolor": "#2a3f5f",
           "arrowhead": 0,
           "arrowwidth": 1
          },
          "autotypenumbers": "strict",
          "coloraxis": {
           "colorbar": {
            "outlinewidth": 0,
            "ticks": ""
           }
          },
          "colorscale": {
           "diverging": [
            [
             0,
             "#8e0152"
            ],
            [
             0.1,
             "#c51b7d"
            ],
            [
             0.2,
             "#de77ae"
            ],
            [
             0.3,
             "#f1b6da"
            ],
            [
             0.4,
             "#fde0ef"
            ],
            [
             0.5,
             "#f7f7f7"
            ],
            [
             0.6,
             "#e6f5d0"
            ],
            [
             0.7,
             "#b8e186"
            ],
            [
             0.8,
             "#7fbc41"
            ],
            [
             0.9,
             "#4d9221"
            ],
            [
             1,
             "#276419"
            ]
           ],
           "sequential": [
            [
             0,
             "#0d0887"
            ],
            [
             0.1111111111111111,
             "#46039f"
            ],
            [
             0.2222222222222222,
             "#7201a8"
            ],
            [
             0.3333333333333333,
             "#9c179e"
            ],
            [
             0.4444444444444444,
             "#bd3786"
            ],
            [
             0.5555555555555556,
             "#d8576b"
            ],
            [
             0.6666666666666666,
             "#ed7953"
            ],
            [
             0.7777777777777778,
             "#fb9f3a"
            ],
            [
             0.8888888888888888,
             "#fdca26"
            ],
            [
             1,
             "#f0f921"
            ]
           ],
           "sequentialminus": [
            [
             0,
             "#0d0887"
            ],
            [
             0.1111111111111111,
             "#46039f"
            ],
            [
             0.2222222222222222,
             "#7201a8"
            ],
            [
             0.3333333333333333,
             "#9c179e"
            ],
            [
             0.4444444444444444,
             "#bd3786"
            ],
            [
             0.5555555555555556,
             "#d8576b"
            ],
            [
             0.6666666666666666,
             "#ed7953"
            ],
            [
             0.7777777777777778,
             "#fb9f3a"
            ],
            [
             0.8888888888888888,
             "#fdca26"
            ],
            [
             1,
             "#f0f921"
            ]
           ]
          },
          "colorway": [
           "#636efa",
           "#EF553B",
           "#00cc96",
           "#ab63fa",
           "#FFA15A",
           "#19d3f3",
           "#FF6692",
           "#B6E880",
           "#FF97FF",
           "#FECB52"
          ],
          "font": {
           "color": "#2a3f5f"
          },
          "geo": {
           "bgcolor": "white",
           "lakecolor": "white",
           "landcolor": "#E5ECF6",
           "showlakes": true,
           "showland": true,
           "subunitcolor": "white"
          },
          "hoverlabel": {
           "align": "left"
          },
          "hovermode": "closest",
          "mapbox": {
           "style": "light"
          },
          "paper_bgcolor": "white",
          "plot_bgcolor": "#E5ECF6",
          "polar": {
           "angularaxis": {
            "gridcolor": "white",
            "linecolor": "white",
            "ticks": ""
           },
           "bgcolor": "#E5ECF6",
           "radialaxis": {
            "gridcolor": "white",
            "linecolor": "white",
            "ticks": ""
           }
          },
          "scene": {
           "xaxis": {
            "backgroundcolor": "#E5ECF6",
            "gridcolor": "white",
            "gridwidth": 2,
            "linecolor": "white",
            "showbackground": true,
            "ticks": "",
            "zerolinecolor": "white"
           },
           "yaxis": {
            "backgroundcolor": "#E5ECF6",
            "gridcolor": "white",
            "gridwidth": 2,
            "linecolor": "white",
            "showbackground": true,
            "ticks": "",
            "zerolinecolor": "white"
           },
           "zaxis": {
            "backgroundcolor": "#E5ECF6",
            "gridcolor": "white",
            "gridwidth": 2,
            "linecolor": "white",
            "showbackground": true,
            "ticks": "",
            "zerolinecolor": "white"
           }
          },
          "shapedefaults": {
           "line": {
            "color": "#2a3f5f"
           }
          },
          "ternary": {
           "aaxis": {
            "gridcolor": "white",
            "linecolor": "white",
            "ticks": ""
           },
           "baxis": {
            "gridcolor": "white",
            "linecolor": "white",
            "ticks": ""
           },
           "bgcolor": "#E5ECF6",
           "caxis": {
            "gridcolor": "white",
            "linecolor": "white",
            "ticks": ""
           }
          },
          "title": {
           "x": 0.05
          },
          "xaxis": {
           "automargin": true,
           "gridcolor": "white",
           "linecolor": "white",
           "ticks": "",
           "title": {
            "standoff": 15
           },
           "zerolinecolor": "white",
           "zerolinewidth": 2
          },
          "yaxis": {
           "automargin": true,
           "gridcolor": "white",
           "linecolor": "white",
           "ticks": "",
           "title": {
            "standoff": 15
           },
           "zerolinecolor": "white",
           "zerolinewidth": 2
          }
         }
        },
        "title": {
         "font": {
          "size": 15
         },
         "text": "ДОХОДНОСТЬ"
        },
        "width": 1200,
        "yaxis": {
         "title": {
          "font": {
           "size": 15
          },
          "text": "Доходность %"
         }
        }
       }
      }
     },
     "metadata": {},
     "output_type": "display_data"
    }
   ],
   "source": [
    "estimation.get_estimate(returns_predict)"
   ]
  },
  {
   "cell_type": "markdown",
   "metadata": {},
   "source": [
    "Бэктест показывает не очень хорошие результаты работы моделей. Отрицательный коэффициент Шарпа говорит о рисках потери денег при выборе данной стратегии. Также здесь применён бэктест портфеля без учёта кредитного плеча, стоп-лосса и тейк-профита. \n",
    "\n",
    "Далее, в файле 'Итоговый проект', будет применен алгоритм подбора нескольких инструментов с бектестом для создания инвестиционного портфеля, оптимизация весовых коэффициентов с помощью функции средней ассиметрии-эксцесса для снижения инвестиционных рисков, а также оптимизация и применение кредитного плеча, стоп-лосса и тейк-профита."
   ]
  }
 ],
 "metadata": {
  "kernelspec": {
   "display_name": "env",
   "language": "python",
   "name": "python3"
  },
  "language_info": {
   "codemirror_mode": {
    "name": "ipython",
    "version": 3
   },
   "file_extension": ".py",
   "mimetype": "text/x-python",
   "name": "python",
   "nbconvert_exporter": "python",
   "pygments_lexer": "ipython3",
   "version": "3.12.4"
  }
 },
 "nbformat": 4,
 "nbformat_minor": 2
}
