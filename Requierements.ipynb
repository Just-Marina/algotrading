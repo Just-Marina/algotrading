{
 "cells": [
  {
   "cell_type": "code",
   "execution_count": null,
   "id": "11f0e0f1",
   "metadata": {},
   "outputs": [],
   "source": [
    "# Использовалась версия Python 3.12.4\n",
    "\n",
    "%pip install numpy==1.26.4\n",
    "%pip install pandas==1.5.3\n",
    "%pip install nbformat==5.10.4\n",
    "%pip install MetaTrader5==5.0.4424\n",
    "%pip install scikit-learn==1.5.1\n",
    "%pip install xgboost==2.1.1\n",
    "%pip install tqdm==4.66.5\n",
    "%pip install statsmodels==0.14.2\n",
    "%pip install yfinance==0.2.43\n",
    "%pip install seaborn==0.13.2\n",
    "%pip install ta==0.11.0\n",
    "%pip install plotly==5.23.0\n",
    "%pip install pandas-datareader==0.10.0 "
   ]
  }
 ],
 "metadata": {
  "kernelspec": {
   "display_name": "Python 3 (ipykernel)",
   "language": "python",
   "name": "python3"
  },
  "language_info": {
   "codemirror_mode": {
    "name": "ipython",
    "version": 3
   },
   "file_extension": ".py",
   "mimetype": "text/x-python",
   "name": "python",
   "nbconvert_exporter": "python",
   "pygments_lexer": "ipython3",
   "version": "3.12.4"
  }
 },
 "nbformat": 4,
 "nbformat_minor": 5
}
